{
 "cells": [
  {
   "cell_type": "code",
   "execution_count": null,
   "metadata": {},
   "outputs": [],
   "source": [
    "#kisinin VKI degerini yazdiran bir python kodu yazdirin.Kisi bilgilerini kullanicidan alin.\n",
    "#VKI=VucutAgirlig/boyun karesi"
   ]
  },
  {
   "cell_type": "code",
   "execution_count": 3,
   "metadata": {},
   "outputs": [
    {
     "name": "stdout",
     "output_type": "stream",
     "text": [
      "Normal\n"
     ]
    }
   ],
   "source": [
    "body_weight = float(input(\"Enter your weight(kg)\"))\n",
    "body_height =float(input(\"Enter your height(m)\"))\n",
    "VKI =body_weight/(body_height**2)\n",
    "print(VKI)\n",
    "if VKI <= 18.5 :\n",
    "    print('Weak')\n",
    "elif 18.5 < VKI and VKI < 24.9 :\n",
    "    print('Normal')\n",
    "elif 25.0 < VKI and VKI < 29.9 :\n",
    "    print('Fat')\n",
    "elif 30.0 < VKI and VKI < 34.5 :\n",
    "    print(\"1st Degree Obesity\")\n",
    "elif 35.0 < VKI and VKI <39.9 :\n",
    "    print(\"2nd Degree Obesity\")\n",
    "else :\n",
    "    print(\"3rd Degree Obesity\")"
   ]
  }
 ],
 "metadata": {
  "kernelspec": {
   "display_name": "Python 3",
   "language": "python",
   "name": "python3"
  },
  "language_info": {
   "codemirror_mode": {
    "name": "ipython",
    "version": 3
   },
   "file_extension": ".py",
   "mimetype": "text/x-python",
   "name": "python",
   "nbconvert_exporter": "python",
   "pygments_lexer": "ipython3",
   "version": "3.11.1"
  },
  "orig_nbformat": 4,
  "vscode": {
   "interpreter": {
    "hash": "74cc819deff76c29e4928f7ff26e3eddcbba8fed33adfaaa19de16534a73accc"
   }
  }
 },
 "nbformat": 4,
 "nbformat_minor": 2
}
