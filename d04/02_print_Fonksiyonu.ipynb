{
 "cells": [
  {
   "attachments": {},
   "cell_type": "markdown",
   "metadata": {},
   "source": [
    "# print() Function "
   ]
  },
  {
   "cell_type": "code",
   "execution_count": 1,
   "metadata": {},
   "outputs": [
    {
     "name": "stdout",
     "output_type": "stream",
     "text": [
      "Hello World python Hanife\n"
     ]
    }
   ],
   "source": [
    "print(\"Hello World\",\"python\",\"Hanife\") #print() fonksiyonunda , koydugumuzda default olarak \n",
    "                                 #icinde  sep=' ' key=valuesu var bu yuzden otomatik bosluk koyuyor"
   ]
  },
  {
   "cell_type": "code",
   "execution_count": 2,
   "metadata": {},
   "outputs": [
    {
     "name": "stdout",
     "output_type": "stream",
     "text": [
      "Hello World*python*Hanife\n"
     ]
    }
   ],
   "source": [
    "print(\"Hello World\",\"python\",\"Hanife\",sep='*') #print() fonksiyonunda sep='*' gibi virgullerin oldugu yere\n",
    "                                          #gelmesini istedigimiz karakteri biz de olusturabiliyoruz"
   ]
  },
  {
   "cell_type": "code",
   "execution_count": 3,
   "metadata": {},
   "outputs": [
    {
     "name": "stdout",
     "output_type": "stream",
     "text": [
      "orange banana\n"
     ]
    }
   ],
   "source": [
    "x = 'orange'\n",
    "y = 'banana'\n",
    "print(x,y)"
   ]
  },
  {
   "cell_type": "code",
   "execution_count": 4,
   "metadata": {},
   "outputs": [
    {
     "name": "stdout",
     "output_type": "stream",
     "text": [
      "orange&banana\n"
     ]
    }
   ],
   "source": [
    "print(x,y,sep='&')"
   ]
  },
  {
   "cell_type": "code",
   "execution_count": 5,
   "metadata": {},
   "outputs": [
    {
     "name": "stdout",
     "output_type": "stream",
     "text": [
      "orange banana*"
     ]
    }
   ],
   "source": [
    "print(x,y,end='*') # end='' parametresi tirnak icine yazilan ifadeyi sona ekler"
   ]
  },
  {
   "cell_type": "code",
   "execution_count": 7,
   "metadata": {},
   "outputs": [],
   "source": [
    "x = 'elma'\n",
    "y ='portakal'\n",
    "z = 'armut'\n",
    "t = False\n",
    "k =3.14"
   ]
  },
  {
   "cell_type": "code",
   "execution_count": 13,
   "metadata": {},
   "outputs": [
    {
     "name": "stdout",
     "output_type": "stream",
     "text": [
      "elma\n",
      "portakal\n",
      "armut\n",
      "False\n",
      "3.14\n"
     ]
    }
   ],
   "source": [
    "print(x, y, z, t, k,sep='\\n') #sep=' ' parametresi her variable veya value nun arasina istenilen islemi yapar"
   ]
  },
  {
   "cell_type": "code",
   "execution_count": 10,
   "metadata": {},
   "outputs": [
    {
     "name": "stdout",
     "output_type": "stream",
     "text": [
      "elma\n",
      "portakal\n",
      "armut\n"
     ]
    }
   ],
   "source": [
    "print(x)\n",
    "print(y)\n",
    "print(z)"
   ]
  },
  {
   "cell_type": "code",
   "execution_count": 11,
   "metadata": {},
   "outputs": [
    {
     "name": "stdout",
     "output_type": "stream",
     "text": [
      "elmaportakal\n",
      "armut\n"
     ]
    }
   ],
   "source": [
    "print(x,end='')\n",
    "print(y)\n",
    "print(z)"
   ]
  },
  {
   "cell_type": "code",
   "execution_count": 12,
   "metadata": {},
   "outputs": [
    {
     "name": "stdout",
     "output_type": "stream",
     "text": [
      "elma\n",
      "portakalarmut\n"
     ]
    }
   ],
   "source": [
    "print(x)\n",
    "print(y,end='') #end=\"\" parametresi print() icindeki son valunun veya variablein sonuna istedigimiz iskemi yapar\n",
    "print(z)        #!!!end= ve sep= parametreleri hep codun sonunda yazilir"
   ]
  },
  {
   "cell_type": "code",
   "execution_count": 14,
   "metadata": {},
   "outputs": [
    {
     "name": "stdout",
     "output_type": "stream",
     "text": [
      "elma\n",
      "portakal-armut\n",
      "3.14*"
     ]
    }
   ],
   "source": [
    "#task\n",
    "print(x)\n",
    "print(y, z, sep=\"-\")\n",
    "print(k, end=\"*\")"
   ]
  },
  {
   "cell_type": "code",
   "execution_count": 1,
   "metadata": {},
   "outputs": [
    {
     "name": "stdout",
     "output_type": "stream",
     "text": [
      "l i n u x\n"
     ]
    }
   ],
   "source": [
    "print(*'linux') "
   ]
  },
  {
   "cell_type": "code",
   "execution_count": 2,
   "metadata": {},
   "outputs": [
    {
     "name": "stdout",
     "output_type": "stream",
     "text": [
      "2 3 a\n"
     ]
    }
   ],
   "source": [
    "print(2,3,'a')"
   ]
  },
  {
   "cell_type": "code",
   "execution_count": 4,
   "metadata": {},
   "outputs": [
    {
     "name": "stdout",
     "output_type": "stream",
     "text": [
      "ayse*ali*can."
     ]
    }
   ],
   "source": [
    "print('ayse','ali','can',sep='*',end='.')"
   ]
  }
 ],
 "metadata": {
  "kernelspec": {
   "display_name": "Python 3",
   "language": "python",
   "name": "python3"
  },
  "language_info": {
   "codemirror_mode": {
    "name": "ipython",
    "version": 3
   },
   "file_extension": ".py",
   "mimetype": "text/x-python",
   "name": "python",
   "nbconvert_exporter": "python",
   "pygments_lexer": "ipython3",
   "version": "3.11.1"
  },
  "orig_nbformat": 4,
  "vscode": {
   "interpreter": {
    "hash": "74cc819deff76c29e4928f7ff26e3eddcbba8fed33adfaaa19de16534a73accc"
   }
  }
 },
 "nbformat": 4,
 "nbformat_minor": 2
}
