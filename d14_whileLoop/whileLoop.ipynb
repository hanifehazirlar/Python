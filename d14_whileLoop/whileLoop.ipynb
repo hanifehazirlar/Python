{
 "cells": [
  {
   "attachments": {},
   "cell_type": "markdown",
   "metadata": {},
   "source": [
    "## while LOOP"
   ]
  },
  {
   "cell_type": "code",
   "execution_count": 1,
   "metadata": {},
   "outputs": [
    {
     "name": "stdout",
     "output_type": "stream",
     "text": [
      "1\n",
      "4\n",
      "9\n",
      "16\n",
      "25\n"
     ]
    }
   ],
   "source": [
    "liste = [1, 2, 3, 4, 5]\n",
    "i = 0\n",
    "while i < len(liste) : \n",
    "    print(liste[i]**2)\n",
    "    i +=1"
   ]
  },
  {
   "cell_type": "code",
   "execution_count": 3,
   "metadata": {},
   "outputs": [
    {
     "name": "stdout",
     "output_type": "stream",
     "text": [
      "1\n",
      "4\n",
      "9\n",
      "16\n",
      "25\n"
     ]
    },
    {
     "ename": "IndexError",
     "evalue": "list index out of range",
     "output_type": "error",
     "traceback": [
      "\u001b[1;31m---------------------------------------------------------------------------\u001b[0m",
      "\u001b[1;31mIndexError\u001b[0m                                Traceback (most recent call last)",
      "Cell \u001b[1;32mIn[3], line 4\u001b[0m\n\u001b[0;32m      2\u001b[0m i \u001b[39m=\u001b[39m \u001b[39m0\u001b[39m\n\u001b[0;32m      3\u001b[0m \u001b[39mwhile\u001b[39;00m i \u001b[39m<\u001b[39m\u001b[39m=\u001b[39m \u001b[39mlen\u001b[39m(liste) : \u001b[39m# = koyarsak listenin son elemanını gecer\u001b[39;00m\n\u001b[1;32m----> 4\u001b[0m     \u001b[39mprint\u001b[39m(liste[i]\u001b[39m*\u001b[39m\u001b[39m*\u001b[39m\u001b[39m2\u001b[39m)\n\u001b[0;32m      5\u001b[0m     i \u001b[39m+\u001b[39m\u001b[39m=\u001b[39m\u001b[39m1\u001b[39m\n",
      "\u001b[1;31mIndexError\u001b[0m: list index out of range"
     ]
    }
   ],
   "source": [
    "liste = [1, 2, 3, 4, 5]\n",
    "i = 0\n",
    "while i <= len(liste) : # = koyarsak listenin son elemanını gecer\n",
    "    print(liste[i]**2)\n",
    "    i +=1"
   ]
  },
  {
   "cell_type": "code",
   "execution_count": 4,
   "metadata": {},
   "outputs": [
    {
     "name": "stdout",
     "output_type": "stream",
     "text": [
      "sanki bunu yazdırmaz\n"
     ]
    }
   ],
   "source": [
    "while []: # burada boş liste False anlamına gelir False durumunda while dan cıkılır\n",
    "    print(\"empty list\")\n",
    "print(\"sanki bunu yazdırmaz\")"
   ]
  },
  {
   "cell_type": "code",
   "execution_count": null,
   "metadata": {},
   "outputs": [],
   "source": [
    "'''\n",
    "while [1]: # burada listenin icine eleman yazdigimizda True anlamına gelir \n",
    "           # True durumunda while dan cikilmaz ve sonsuz donguye girer\n",
    "    print(\"empty list\")\n",
    "print(\"sanki bunu yazdırmaz\")\n",
    "'''"
   ]
  },
  {
   "cell_type": "code",
   "execution_count": 7,
   "metadata": {},
   "outputs": [
    {
     "name": "stdout",
     "output_type": "stream",
     "text": [
      "Girgiginiz sayi : 12.Tahmini artir\n",
      "Girgiginiz sayi : 15.Tahmini artir\n",
      "Girgiginiz sayi : 85. Tahminini azalt\n",
      "Girgiginiz sayi : 50. Tahminini azalt\n",
      "Girgiginiz sayi : 48.Bravo. Dogru tahmin\n",
      "5 denemede bildin\n"
     ]
    }
   ],
   "source": [
    "num = 48\n",
    "count = 0\n",
    "while True :\n",
    "    tahmin = int(input(\"Enter a number\"))\n",
    "    count +=1\n",
    "    if num < tahmin :\n",
    "        print(f\"Girgiginiz sayi : {tahmin}. Tahminini azalt\")\n",
    "    elif num > tahmin:\n",
    "        print(f\"Girgiginiz sayi : {tahmin}. Tahmini artir\")\n",
    "    else :\n",
    "        print(f\"Girgiginiz sayi : {tahmin}.  Bravo. Dogru tahmin\")\n",
    "        break # break True yu alt eder ve donguyu kirar\n",
    "print(f\"{count} denemede bildin\")\n",
    "       "
   ]
  },
  {
   "attachments": {},
   "cell_type": "markdown",
   "metadata": {},
   "source": [
    "### random modulu"
   ]
  },
  {
   "cell_type": "code",
   "execution_count": 8,
   "metadata": {},
   "outputs": [],
   "source": [
    "import random  # random kutuphanesini kullanabilmek icin import yaptık. \n",
    "               # (import random as rd )  ismini kullanmak istedigimiz bir isme cevirebiliriz"
   ]
  },
  {
   "cell_type": "code",
   "execution_count": 9,
   "metadata": {},
   "outputs": [
    {
     "data": {
      "text/plain": [
       "0.33658971770374624"
      ]
     },
     "execution_count": 9,
     "metadata": {},
     "output_type": "execute_result"
    }
   ],
   "source": [
    "random.random() # default olarak 0(dahil)ile 1(dahil değil) arasında bir sayı uretir"
   ]
  },
  {
   "cell_type": "code",
   "execution_count": 12,
   "metadata": {},
   "outputs": [
    {
     "data": {
      "text/plain": [
       "0.5811521325045647"
      ]
     },
     "execution_count": 12,
     "metadata": {},
     "output_type": "execute_result"
    }
   ],
   "source": [
    "random.seed(101) # seed içine yazılan numarayla eşleştirilmiş bir sayıyı getiriyor.\n",
    "                 # Bu sayiyi yazan herkeste aynı sayıyı getirir.\n",
    "random.random()"
   ]
  },
  {
   "cell_type": "code",
   "execution_count": 13,
   "metadata": {},
   "outputs": [
    {
     "data": {
      "text/plain": [
       "1"
      ]
     },
     "execution_count": 13,
     "metadata": {},
     "output_type": "execute_result"
    }
   ],
   "source": [
    "random.randint(0,4) # randint() methodu icine girilen sayilar arasindaki \n",
    "                    # int sayilari random olarak getirir."
   ]
  },
  {
   "cell_type": "code",
   "execution_count": 15,
   "metadata": {},
   "outputs": [
    {
     "name": "stdout",
     "output_type": "stream",
     "text": [
      "Girgiginiz sayi : 50. Tahminini azalt\n",
      "Girgiginiz sayi : 25. Tahmini artir\n",
      "Girgiginiz sayi : 38. Tahmini artir\n",
      "Girgiginiz sayi : 42. Tahmini artir\n",
      "Girgiginiz sayi : 46. Tahminini azalt\n",
      "Girgiginiz sayi : 44. Tahmini artir\n",
      "Girgiginiz sayi : 45.  Bravo. Dogru tahmin\n",
      "7 denemede bildin\n"
     ]
    }
   ],
   "source": [
    "import random\n",
    "num = random.randint(0,100)\n",
    "count = 0\n",
    "while True :\n",
    "    tahmin = int(input(\"Enter a number\"))\n",
    "    count +=1\n",
    "    if num < tahmin :\n",
    "        print(f\"Girgiginiz sayi : {tahmin}. Tahminini azalt\")\n",
    "    elif num > tahmin:\n",
    "        print(f\"Girgiginiz sayi : {tahmin}. Tahmini artir\")\n",
    "    else :\n",
    "        print(f\"Girgiginiz sayi : {tahmin}.  Bravo. Dogru tahmin\")\n",
    "        break # break True yu alt eder ve donguyu kirar\n",
    "print(f\"{count} denemede bildin\")"
   ]
  },
  {
   "cell_type": "code",
   "execution_count": 16,
   "metadata": {},
   "outputs": [
    {
     "name": "stdout",
     "output_type": "stream",
     "text": [
      "Girgiginiz sayi : 50. Tahmini artir\n",
      "Girgiginiz sayi : 75. Tahminini azalt\n",
      "Girgiginiz sayi : 63. Tahminini azalt\n",
      "Girgiginiz sayi : 56. Tahmini artir\n",
      "Girgiginiz sayi : 59.  Bravo. Dogru tahmin\n"
     ]
    }
   ],
   "source": [
    "import random\n",
    "num = random.randint(0,100)\n",
    "count = 0\n",
    "import time\n",
    "while count < 5 : # buraya count ile deneme sayisi siniri koyduk\n",
    "    tahmin = int(input(\"Enter a number\"))\n",
    "    count +=1\n",
    "    if num < tahmin :\n",
    "        print(f\"Girgiginiz sayi : {tahmin}. Tahminini azalt\")\n",
    "    elif num > tahmin:\n",
    "        print(f\"Girgiginiz sayi : {tahmin}. Tahmini artir\")\n",
    "    else :\n",
    "        print(f\"Girgiginiz sayi : {tahmin}.  Bravo. Dogru tahmin\")\n",
    "        break "
   ]
  },
  {
   "attachments": {},
   "cell_type": "markdown",
   "metadata": {},
   "source": [
    "### max(), min() "
   ]
  },
  {
   "cell_type": "code",
   "execution_count": 17,
   "metadata": {},
   "outputs": [
    {
     "data": {
      "text/plain": [
       "6"
      ]
     },
     "execution_count": 17,
     "metadata": {},
     "output_type": "execute_result"
    }
   ],
   "source": [
    "max([1, 2, -5, 6])"
   ]
  },
  {
   "cell_type": "code",
   "execution_count": 18,
   "metadata": {},
   "outputs": [
    {
     "data": {
      "text/plain": [
       "-5"
      ]
     },
     "execution_count": 18,
     "metadata": {},
     "output_type": "execute_result"
    }
   ],
   "source": [
    "min([1, 2, -5, 6])"
   ]
  },
  {
   "cell_type": "code",
   "execution_count": 21,
   "metadata": {},
   "outputs": [
    {
     "data": {
      "text/plain": [
       "'hello'"
      ]
     },
     "execution_count": 21,
     "metadata": {},
     "output_type": "execute_result"
    }
   ],
   "source": [
    "max([\"hello\",\"Hanife\",\"ayse\"]) # ascii sırasına gore en sondaki elemani getirir"
   ]
  },
  {
   "cell_type": "code",
   "execution_count": 24,
   "metadata": {},
   "outputs": [
    {
     "data": {
      "text/plain": [
       "'Hello'"
      ]
     },
     "execution_count": 24,
     "metadata": {},
     "output_type": "execute_result"
    }
   ],
   "source": [
    "max([\"Hello\",\"Hanife\",\"Ayse\"],key=str.lower)# hepsini kücük harf dusunur ve ona gore en sondakini dondurur"
   ]
  },
  {
   "cell_type": "code",
   "execution_count": 23,
   "metadata": {},
   "outputs": [
    {
     "data": {
      "text/plain": [
       "'hello'"
      ]
     },
     "execution_count": 23,
     "metadata": {},
     "output_type": "execute_result"
    }
   ],
   "source": [
    "max([\"hello\",\"Hanife\",\"Ayse\"],key=str.upper)# hepsini buyuk harf dusunur ve ona gore en sondakini dondurur"
   ]
  },
  {
   "cell_type": "code",
   "execution_count": 25,
   "metadata": {},
   "outputs": [
    {
     "name": "stdout",
     "output_type": "stream",
     "text": [
      "Number Listesinin Max Degeri :325\n"
     ]
    }
   ],
   "source": [
    "number_list = [1,4,56,18,47,96,325,1,5,4,7,8,-8,-400,0,47]\n",
    "i = 0 \n",
    "max_num = 0\n",
    "while i< len(number_list) :\n",
    "    if number_list[i] > max_num :\n",
    "        max_num = number_list[i]\n",
    "    i +=1\n",
    "print(f\"Number Listesinin Max Degeri :{max_num}\")"
   ]
  },
  {
   "cell_type": "code",
   "execution_count": 31,
   "metadata": {},
   "outputs": [
    {
     "name": "stdout",
     "output_type": "stream",
     "text": [
      "Even Numbers : [22, 58, 46, 48, 50, 40] 6 even number\n",
      "Odd Numbers : [1, 45, 69, 55, 47, 45, 49] 7 odd number\n"
     ]
    }
   ],
   "source": [
    "liste_1 = [1,45,22,69,58,55,47,45,46,48,49,50,40]\n",
    "odd_numbers =[]\n",
    "even_numbers =[]\n",
    "evens_count=0\n",
    "odds_count=0\n",
    "i = 0\n",
    "while i< len(liste_1) :\n",
    "  if liste_1[i]%2==0 :\n",
    "    even_numbers.append(liste_1[i])\n",
    "    evens_count +=1\n",
    "  else :\n",
    "    odd_numbers.append(liste_1[i])\n",
    "    odds_count +=1\n",
    "  i +=1  \n",
    "print(f\"Even Numbers : {even_numbers}\" +f\" {evens_count} even number\")\n",
    "print(f\"Odd Numbers : {odd_numbers}\"f\" {odds_count} odd number\")    \n"
   ]
  },
  {
   "cell_type": "code",
   "execution_count": null,
   "metadata": {},
   "outputs": [],
   "source": []
  }
 ],
 "metadata": {
  "kernelspec": {
   "display_name": "Python 3",
   "language": "python",
   "name": "python3"
  },
  "language_info": {
   "codemirror_mode": {
    "name": "ipython",
    "version": 3
   },
   "file_extension": ".py",
   "mimetype": "text/x-python",
   "name": "python",
   "nbconvert_exporter": "python",
   "pygments_lexer": "ipython3",
   "version": "3.11.1"
  },
  "orig_nbformat": 4,
  "vscode": {
   "interpreter": {
    "hash": "74cc819deff76c29e4928f7ff26e3eddcbba8fed33adfaaa19de16534a73accc"
   }
  }
 },
 "nbformat": 4,
 "nbformat_minor": 2
}
