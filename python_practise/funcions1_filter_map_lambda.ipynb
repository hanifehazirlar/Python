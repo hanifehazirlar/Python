{
 "cells": [
  {
   "attachments": {},
   "cell_type": "markdown",
   "metadata": {},
   "source": [
    "# Functions 1"
   ]
  },
  {
   "attachments": {},
   "cell_type": "markdown",
   "metadata": {},
   "source": [
    " ## **filter():**\n",
    " * Adından da anlaşılabileceği gibi bir filtreleme yapan fonksiyondur.\n",
    "\n",
    " * **filter(None, iterable(string, list, set, tuple))** ---> iterable in icinden degeri True olanlari yazdirir\n",
    "\n",
    " * filter() fonksiyonunun icine None yazdigimizda None yani degeri False olanlari eliyor degeri True olanlari yazdiriyor.\n",
    "\n",
    " * **filter(fonksiyon, iterable(string, list, set, tuple))** ---> fonksiyonumuzun icerigi ne ise iterable in \n",
    "                                                          icinden istenileni(degeri True olani) dondurur"
   ]
  },
  {
   "cell_type": "code",
   "execution_count": 1,
   "metadata": {},
   "outputs": [
    {
     "data": {
      "text/plain": [
       "<filter at 0x139ea1d1060>"
      ]
     },
     "execution_count": 1,
     "metadata": {},
     "output_type": "execute_result"
    }
   ],
   "source": [
    "filter(None, \"hello\") # filter() fonksiyonunun sonucunu gorebilmemiz icin bir gostergec \n",
    "                    # yani list, tuple gibi konteynerlarin icine yazmamiz gerek"
   ]
  },
  {
   "cell_type": "code",
   "execution_count": 8,
   "metadata": {},
   "outputs": [
    {
     "data": {
      "text/plain": [
       "[' ', 3, 'Ali']"
      ]
     },
     "execution_count": 8,
     "metadata": {},
     "output_type": "execute_result"
    }
   ],
   "source": [
    "list(filter(None, (\" \",\"\",{},[],3 ,\"Ali\",0,None)))"
   ]
  },
  {
   "cell_type": "code",
   "execution_count": 3,
   "metadata": {},
   "outputs": [
    {
     "data": {
      "text/plain": [
       "['h', 'e', 'l', 'l', 'o']"
      ]
     },
     "execution_count": 3,
     "metadata": {},
     "output_type": "execute_result"
    }
   ],
   "source": [
    "# Tek bir eleman yazdigimizda o elemani karakterlerine ayiriyor\n",
    "list(filter(None, \"hello\")) "
   ]
  },
  {
   "cell_type": "code",
   "execution_count": 12,
   "metadata": {},
   "outputs": [
    {
     "name": "stdout",
     "output_type": "stream",
     "text": [
      "[18, 24, 32]\n"
     ]
    }
   ],
   "source": [
    "# verilen yas listesinden 18 yasindan kucuk olanlari eleyen bir fonksiyon olusturunuz--> filter() kullanarak cozunuz\n",
    "ages = [5, 12, 17, 18, 24, 32]\n",
    "def myFunc(x):\n",
    "  if x < 18:\n",
    "    return False\n",
    "  else:\n",
    "    return True\n",
    "\n",
    "adults = filter(myFunc, ages)\n",
    "print(list(adults))"
   ]
  },
  {
   "attachments": {},
   "cell_type": "markdown",
   "metadata": {},
   "source": [
    "## **lambda():**\n",
    "*  Lambda fonksiyonları fonksiyon tanımlama işlemini tek satırda yapmamızı sağlayan fonksiyon yapılarıdır. \n",
    "\n",
    "* Lambda Fonksiyonu Syntax'i:===> **(lambda değişkenler:dönüş değeri (yapmasini istedigim islem))(degiskenlerin degeri)**"
   ]
  },
  {
   "cell_type": "code",
   "execution_count": 15,
   "metadata": {},
   "outputs": [
    {
     "data": {
      "text/plain": [
       "25"
      ]
     },
     "execution_count": 15,
     "metadata": {},
     "output_type": "execute_result"
    }
   ],
   "source": [
    "# Standart fonksiyon ile karesini alma fonksiyonu olusturalim:\n",
    "def karesini_al(x):\n",
    "    return x ** 2\n",
    "karesini_al(5)"
   ]
  },
  {
   "cell_type": "code",
   "execution_count": 23,
   "metadata": {},
   "outputs": [
    {
     "data": {
      "text/plain": [
       "function"
      ]
     },
     "execution_count": 23,
     "metadata": {},
     "output_type": "execute_result"
    }
   ],
   "source": [
    "# lambda ile karesini alma bir fonksiyonu olusturalim ve type ina bakalim\n",
    "type(lambda x: x**2) #lambda bize bir fonksiyon dondurur"
   ]
  },
  {
   "cell_type": "code",
   "execution_count": 20,
   "metadata": {},
   "outputs": [
    {
     "data": {
      "text/plain": [
       "25"
      ]
     },
     "execution_count": 20,
     "metadata": {},
     "output_type": "execute_result"
    }
   ],
   "source": [
    "(lambda x: x**2)(5)"
   ]
  },
  {
   "cell_type": "code",
   "execution_count": 29,
   "metadata": {},
   "outputs": [],
   "source": [
    "# lambda ile verilen uc sayinin  ortalamasini hesaplayan bir fonksiyon olusturunuz\n",
    "(lambda x, y, z : round((x+y+z)/3,2))(12,15,5)"
   ]
  },
  {
   "cell_type": "code",
   "execution_count": 32,
   "metadata": {},
   "outputs": [],
   "source": [
    "ortalama = lambda x, y, z : round((x+y+z)/3,2) #lambda ile fonksiyonu olusturup bir variable atayip o isimle fonksiyonumuzu kullanabiliriz"
   ]
  },
  {
   "cell_type": "code",
   "execution_count": 31,
   "metadata": {},
   "outputs": [
    {
     "data": {
      "text/plain": [
       "33.33"
      ]
     },
     "execution_count": 31,
     "metadata": {},
     "output_type": "execute_result"
    }
   ],
   "source": [
    "ortalama(12,34,54)"
   ]
  },
  {
   "cell_type": "code",
   "execution_count": 41,
   "metadata": {},
   "outputs": [
    {
     "data": {
      "text/plain": [
       "'esya'"
      ]
     },
     "execution_count": 41,
     "metadata": {},
     "output_type": "execute_result"
    }
   ],
   "source": [
    "# lambda ile verilen kelimeyi tersten yazdiran bir fonksiyon yazdirin\n",
    "(lambda str1:str1[::-1])(\"ayse\")"
   ]
  },
  {
   "cell_type": "code",
   "execution_count": 40,
   "metadata": {},
   "outputs": [
    {
     "data": {
      "text/plain": [
       "'elak'"
      ]
     },
     "execution_count": 40,
     "metadata": {},
     "output_type": "execute_result"
    }
   ],
   "source": [
    "reverse_str = lambda str1:str1[::-1] # lambda li yazim bize bir fonksiyon dondurur ve atama yapabiliriz\n",
    "reverse_str(\"kale\")"
   ]
  },
  {
   "cell_type": "code",
   "execution_count": 39,
   "metadata": {},
   "outputs": [
    {
     "data": {
      "text/plain": [
       "'The word is not palindrome'"
      ]
     },
     "execution_count": 39,
     "metadata": {},
     "output_type": "execute_result"
    }
   ],
   "source": [
    "# odev :Bir fonksiyon olusturun icine bir kelime alsin icine alinan kelime palindron kelime mi kontrol etsin\n",
    "word = \"ayse\" \n",
    "\"The word is palindrome\" if (lambda item : item[::-1])(word) == word else \"The word is not palindrome\""
   ]
  },
  {
   "attachments": {},
   "cell_type": "markdown",
   "metadata": {},
   "source": [
    "## **map():**\n",
    "* map() fonksiyonunun kullanimi map(fonksiyon, iterable )---> object dondurur\n",
    "\n",
    "* map() fonksiyonu icerisine verilen iterable elemanlarin hepsine fonksiyonu uygular\n",
    "\n",
    "* **map(func, iter1,iter2..)** şeklinde kullanılır. Yani elinizdeki bir fonksiyona, elinizdeki bir datanın elemanlarını sırasıyla gönderir ve sonucu tek bir obje olarak geri döner. "
   ]
  },
  {
   "cell_type": "code",
   "execution_count": 62,
   "metadata": {},
   "outputs": [
    {
     "data": {
      "text/plain": [
       "<map at 0x139ea303550>"
      ]
     },
     "execution_count": 62,
     "metadata": {},
     "output_type": "execute_result"
    }
   ],
   "source": [
    "# verilen bir listedeki elemanlarin herbirinin karesini aliniz\n",
    "list_1 =[1,-2,3,4,6,7,8]\n",
    "squares = lambda x : x ** 2\n",
    "map(squares, list_1) # map okutabilmek icin bir gostergec gerek, filter gibi list_1 yerine [*range(1,6)] bu sekilde de yazilabilir"
   ]
  },
  {
   "cell_type": "code",
   "execution_count": 64,
   "metadata": {},
   "outputs": [
    {
     "data": {
      "text/plain": [
       "[1, 4, 9, 16, 36, 49, 64]"
      ]
     },
     "execution_count": 64,
     "metadata": {},
     "output_type": "execute_result"
    }
   ],
   "source": [
    "list(map(squares, list_1))"
   ]
  },
  {
   "cell_type": "code",
   "execution_count": 46,
   "metadata": {},
   "outputs": [
    {
     "name": "stdout",
     "output_type": "stream",
     "text": [
      "[2, 8, 18, 32]\n"
     ]
    }
   ],
   "source": [
    "# uzun ve kisa kenarlari verilen dikdortgenlerin alanlarini map() func ile hesaplayiniz\n",
    "long_sides = [1, 2, 3, 4, 5]\n",
    "short_sides = [2, 4, 6, 8]\n",
    "def  area_calculation(x, y):\n",
    "    return x * y\n",
    "result_list = map(area_calculation, long_sides, short_sides) #Map fonksiyonu birden fazla list veya tuple alabilir.\n",
    "print(list(result_list)) \n"
   ]
  },
  {
   "cell_type": "code",
   "execution_count": 79,
   "metadata": {},
   "outputs": [
    {
     "data": {
      "text/plain": [
       "['Adem', 'Asli']"
      ]
     },
     "execution_count": 79,
     "metadata": {},
     "output_type": "execute_result"
    }
   ],
   "source": [
    "# Verilen bir listede istenilen harf ile baslayan verileri yazdir\n",
    "students = [\"Erhan\", \"Adem\", \"Elif\", \"Asli\"]\n",
    "\n",
    "letter = \"A\"\n",
    "list(filter((lambda  x : x[0:1]==letter),students))"
   ]
  }
 ],
 "metadata": {
  "kernelspec": {
   "display_name": "Python 3",
   "language": "python",
   "name": "python3"
  },
  "language_info": {
   "codemirror_mode": {
    "name": "ipython",
    "version": 3
   },
   "file_extension": ".py",
   "mimetype": "text/x-python",
   "name": "python",
   "nbconvert_exporter": "python",
   "pygments_lexer": "ipython3",
   "version": "3.11.1"
  },
  "orig_nbformat": 4
 },
 "nbformat": 4,
 "nbformat_minor": 2
}
