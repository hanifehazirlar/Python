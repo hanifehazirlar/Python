{
 "cells": [
  {
   "cell_type": "code",
   "execution_count": 47,
   "metadata": {},
   "outputs": [
    {
     "data": {
      "text/plain": [
       "'book'"
      ]
     },
     "execution_count": 47,
     "metadata": {},
     "output_type": "execute_result"
    }
   ],
   "source": [
    "# kelimenin karsılıgını bulan bir sozluk programi yazalim\n",
    "sözlük = {\"kitap\" : \"book\",\n",
    "    \"bilgisayar\" : \"computer\",\n",
    "    \"programlama\": \"programming\"}\n",
    "                                            \n",
    "def sozluk(aranacak_kelime , aranacak_yer) :\n",
    "\n",
    "    for i in aranacak_yer : \n",
    "       if i == aranacak_kelime :\n",
    "           return aranacak_yer[i]\n",
    "       else : \n",
    "           return \"boyle bir sonuc yok\"\n",
    "\n",
    "#----\n",
    "sozluk(\"kitap\", sözlük)  # burda yazdıgımız sozluk variable'nı dict olarak python  kendisi tanımladi\n",
    "\n",
    "# sözlük = {\"kitap\" : \"book\",\n",
    "# \"bilgisayar\" : \"computer\",\n",
    "# \"programlama\": \"programming\"}\n",
    "# karşilik_bul(\"kitap\", \"bilgisayar\", \"programlama\", \"fonksiyon\", **sözlük)"
   ]
  },
  {
   "cell_type": "code",
   "execution_count": 48,
   "metadata": {},
   "outputs": [
    {
     "data": {
      "text/plain": [
       "'böyle bir sözcük yok'"
      ]
     },
     "execution_count": 48,
     "metadata": {},
     "output_type": "execute_result"
    }
   ],
   "source": [
    "def sozluk(args, kwargs):\n",
    "    return kwargs.get(args, 'böyle bir sözcük yok') # dict'in get metodunda 2. parametre olarak \" \" isaretli kullanım, bize eleman bulunmadiğinda gosterilcek hata msji\n",
    "\n",
    "#--\n",
    "sozluk(\"xxx\",sözlük)"
   ]
  },
  {
   "cell_type": "code",
   "execution_count": 49,
   "metadata": {},
   "outputs": [
    {
     "name": "stdout",
     "output_type": "stream",
     "text": [
      "kitap book\n",
      "bilgisayar computer\n",
      "programlama programming\n"
     ]
    }
   ],
   "source": [
    "for i in sözlük.items() :\n",
    "    print(*i)\n",
    "\n",
    "    # sözlük = {\"kitap\" : \"book\",\n",
    "    # \"bilgisayar\" : \"computer\",\n",
    "    # \"programlama\": \"programming\"}"
   ]
  },
  {
   "cell_type": "code",
   "execution_count": 33,
   "metadata": {},
   "outputs": [
    {
     "name": "stdout",
     "output_type": "stream",
     "text": [
      "kitap = book \n",
      "bilgisayar = computer \n",
      "programlama kelimesi sözlükte yok!\n",
      "fonksiyon kelimesi sözlükte yok!\n"
     ]
    }
   ],
   "source": [
    "# 1.yol --> *args ve **kwargs kullanımı\n",
    "# kelimenin karsılıgını bulan bir sozluk programi yazalim\n",
    "sözlük = {\"kitap\" : \"book\",\n",
    "    \"bilgisayar\" : \"computer\",\n",
    "    \"programlama\": \"programming\"\n",
    "    }\n",
    "\n",
    "sözlük2 = {}\n",
    "\n",
    "def karşilik_bul(*args , **kwargs) :  \n",
    "\n",
    "   for i in args:\n",
    "        if i in kwargs:\n",
    "            print(\"{} = {} \".format(i, kwargs[i]))\n",
    "        else:\n",
    "            print(\"{} kelimesi sözlükte yok!\".format(i))\n",
    "\n",
    "#----\n",
    "# sözlük = {\"kitap\" : \"book\",\n",
    "# \"bilgisayar\" : \"computer\",\n",
    "# \"programlama\": \"programming\"}\n",
    "karşilik_bul(\"kitap\", \"bilgisayar\", \"programlama\", \"fonksiyon\", **sözlük)"
   ]
  },
  {
   "cell_type": "code",
   "execution_count": 45,
   "metadata": {},
   "outputs": [
    {
     "name": "stdout",
     "output_type": "stream",
     "text": [
      "kitap = book\n",
      "bilgisayar = computer\n",
      "programlama = programming\n",
      "fonksiyon = sozcuk yok\n"
     ]
    }
   ],
   "source": [
    "# 2.yol --> *args , **kwargs ama get metodu ile\n",
    "# kelimenin karsılıgını bulan bir sozluk programi yazalim\n",
    "sözlük = {\"kitap\" : \"book\",\n",
    "    \"bilgisayar\" : \"computer\",\n",
    "    \"programlama\": \"programming\"\n",
    "    }\n",
    "\n",
    "sözlük2 = {}\n",
    "\n",
    "def karşilik_bul(*args , **kwargs) :\n",
    "\n",
    "   for i in args:\n",
    "        print(i, \"=\", kwargs.get(i, \"sozcuk yok\"))\n",
    "\n",
    "#----\n",
    "\n",
    "# sözlük = {\"kitap\" : \"book\",\n",
    "# \"bilgisayar\" : \"computer\",\n",
    "# \"programlama\": \"programming\"}\n",
    "karşilik_bul(\"kitap\", \"bilgisayar\", \"programlama\", \"fonksiyon\", **sözlük)"
   ]
  },
  {
   "cell_type": "code",
   "execution_count": 40,
   "metadata": {},
   "outputs": [
    {
     "data": {
      "text/plain": [
       "'sozcuk yok'"
      ]
     },
     "execution_count": 40,
     "metadata": {},
     "output_type": "execute_result"
    }
   ],
   "source": [
    "sözlük.get(\"asd\",\"sozcuk yok\")\n",
    "\n",
    "#get fucntion for dict\n",
    "#get icine bir key yaziyorsun, dict icinde o key varsa, get func o key'in value'sunu donduruyor\n",
    "#Eger key yoksa dict icinde, bos dondurur\n",
    "\n",
    " # sözlük = {\"kitap\" : \"book\",\n",
    "# \"bilgisayar\" : \"computer\",\n",
    "# \"programlama\": \"programming\"}\n",
    "\n",
    "# sözlük.get(\"kitap\") #bu book veriyor yani"
   ]
  },
  {
   "attachments": {},
   "cell_type": "markdown",
   "metadata": {},
   "source": [
    "## dict in For ile Kullanimi\n",
    "* for dongusune dict koydugumuzda hep keyleri arasinda islem yapar\n",
    "\n",
    "  **for i in dict:** --> burasi dict in keysleri arasinda doner\n",
    "* for dongusune dict.keys() koydugumuzda hep keyleri arasinda islem yapar.yukaridakiyle ayni isi yapar\n",
    "\n",
    "  **for i in dict.keys():** --> burasi dict in keysleri arasinda doner\n",
    "* for dongusunde key value lari isleme sokmak istersek dict.items() kullaniriz.\n",
    "\n",
    "  **for i in dict.items():** -->burasi dict in key value lari arasinda doner\n",
    "* for dongusunde sadece value lari isleme sokmak istersek dict.values() kullaniriz\n",
    "\n",
    "  **for i in dict.values():** -->burasi dict in valuelari arasinda doner"
   ]
  },
  {
   "cell_type": "code",
   "execution_count": null,
   "metadata": {},
   "outputs": [],
   "source": [
    "sozluk = {\"kitap\" : \"book\",\n",
    "          \"bilgisayar\" : \"computer\",\n",
    "          \"programlama\": \"programming\"}\n",
    "kelime = input(\"Bir kelime girin: \")\n",
    "if kelime in sozluk:\n",
    "    print(kelime, \" kelimesinin karşılığı: \", sozluk[kelime])\n",
    "else:\n",
    "    print(\"Aradığınız kelime sözlükte bulunamadı.\")"
   ]
  },
  {
   "attachments": {},
   "cell_type": "markdown",
   "metadata": {},
   "source": []
  }
 ],
 "metadata": {
  "kernelspec": {
   "display_name": "Python 3",
   "language": "python",
   "name": "python3"
  },
  "language_info": {
   "codemirror_mode": {
    "name": "ipython",
    "version": 3
   },
   "file_extension": ".py",
   "mimetype": "text/x-python",
   "name": "python",
   "nbconvert_exporter": "python",
   "pygments_lexer": "ipython3",
   "version": "3.11.2"
  },
  "orig_nbformat": 4
 },
 "nbformat": 4,
 "nbformat_minor": 2
}
