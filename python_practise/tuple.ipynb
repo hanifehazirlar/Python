{
 "cells": [
  {
   "attachments": {},
   "cell_type": "markdown",
   "metadata": {},
   "source": [
    "t = ('foo', 'bar', 'baz')\n",
    "İkinci eleman olan “bar”ı, “qux” ile değiştirmek istiyoruz. Hangi seçenek ile yapabiliriz?\n",
    " t[1] = 'qux'\n",
    " t(1) = 'qux'\n",
    " t[1:1] = 'qux'\n",
    " Hileli soru. Tuple'ı değiştiremezsin."
   ]
  },
  {
   "cell_type": "code",
   "execution_count": null,
   "metadata": {},
   "outputs": [],
   "source": []
  },
  {
   "attachments": {},
   "cell_type": "markdown",
   "metadata": {},
   "source": [
    "x ve y’nin değeri nedir?\n",
    "x = 5\n",
    "y = -5\n",
    "x, y = (y, x)[::-1]\n",
    "1. Değişmez\n",
    "2. İkiside 5\n",
    "3. İkiside -5\n",
    "4. x -5 ve y 5"
   ]
  },
  {
   "cell_type": "code",
   "execution_count": null,
   "metadata": {},
   "outputs": [],
   "source": []
  },
  {
   "attachments": {},
   "cell_type": "markdown",
   "metadata": {},
   "source": [
    "b’nin değeri nedir?\n",
    "a, b, c = (1, 2, 3, 4, 5, 6, 7, 8, 9)[1::3]\n"
   ]
  },
  {
   "cell_type": "code",
   "execution_count": null,
   "metadata": {},
   "outputs": [],
   "source": []
  },
  {
   "attachments": {},
   "cell_type": "markdown",
   "metadata": {},
   "source": [
    "Kullanicidan aldigimiz bir degerin verilen tuple icinde olup olmadigini sorgulayan varsa kacinci indexte oldugunu f veya format ile yazdiran bir kod yaziniz.\n",
    "tuple_2 = (\"Python\",\"Java\",\"Ruby\",\"JavaScript\",\"Python\",\"Java\",\"python\")"
   ]
  }
 ],
 "metadata": {
  "language_info": {
   "name": "python"
  },
  "orig_nbformat": 4
 },
 "nbformat": 4,
 "nbformat_minor": 2
}
