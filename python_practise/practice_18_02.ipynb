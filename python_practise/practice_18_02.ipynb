{
 "cells": [
  {
   "attachments": {},
   "cell_type": "markdown",
   "metadata": {},
   "source": [
    "<img src=\"18.02-2.png\">"
   ]
  },
  {
   "attachments": {},
   "cell_type": "markdown",
   "metadata": {},
   "source": [
    "Soru1\n",
    "'Kullanicidan aldiğiniz i̇ki̇ sayinin toplamını format yöntemlerinden biri ile yazdırın.\n",
    " output >> toplam : 9.0"
   ]
  },
  {
   "cell_type": "code",
   "execution_count": 2,
   "metadata": {},
   "outputs": [
    {
     "name": "stdout",
     "output_type": "stream",
     "text": [
      "toplam : 9.0\n"
     ]
    }
   ],
   "source": [
    "num_1 = input(\"bir sayi girin\")\n",
    "num_2 = input(\"bir sayi girin\")\n",
    "toplam = float(num_1) + float(num_2)\n",
    "print(f\"toplam : {toplam}\")"
   ]
  },
  {
   "cell_type": "code",
   "execution_count": 5,
   "metadata": {},
   "outputs": [
    {
     "name": "stdout",
     "output_type": "stream",
     "text": [
      "toplam : 9.0\n"
     ]
    }
   ],
   "source": [
    "num_1 = float(input(\"bir sayi girin\"))\n",
    "num_2 = float(input(\"bir sayi girin\"))\n",
    "\n",
    "print(\"toplam : {}\".format(num_1 + num_2))"
   ]
  },
  {
   "cell_type": "code",
   "execution_count": 6,
   "metadata": {},
   "outputs": [
    {
     "name": "stdout",
     "output_type": "stream",
     "text": [
      "Girilen sayilar : 5.0 ve 4.0 dir \n"
     ]
    }
   ],
   "source": [
    "num_1 = float(input(\"bir sayi girin\"))\n",
    "num_2 = float(input(\"bir sayi girin\"))\n",
    "\n",
    "print(\"Girilen sayilar : {} ve {} dir \".format(num_1,num_2))"
   ]
  },
  {
   "cell_type": "code",
   "execution_count": 8,
   "metadata": {},
   "outputs": [
    {
     "name": "stdout",
     "output_type": "stream",
     "text": [
      "Girilen sayilar : 5.5 ve 10.5 dir \n"
     ]
    }
   ],
   "source": [
    "num_1 = float(input(\"bir sayi girin\"))\n",
    "num_2 = float(input(\"bir sayi girin\"))\n",
    "\n",
    "print(\"Girilen sayilar : {1} ve {0} dir \".format(num_1,num_2))\n"
   ]
  },
  {
   "cell_type": "code",
   "execution_count": 9,
   "metadata": {},
   "outputs": [
    {
     "name": "stdout",
     "output_type": "stream",
     "text": [
      "sayilar 15 25\n"
     ]
    }
   ],
   "source": [
    "sayi1 = 15\n",
    "sayi2 = 25\n",
    "\n",
    "print(\"sayilar {} {}\".format(sayi1,sayi2))"
   ]
  },
  {
   "cell_type": "code",
   "execution_count": 10,
   "metadata": {},
   "outputs": [
    {
     "name": "stdout",
     "output_type": "stream",
     "text": [
      "sayilar 25 15\n"
     ]
    }
   ],
   "source": [
    "sayi1 = 15\n",
    "sayi2 = 25\n",
    "\n",
    "print(\"sayilar {1} {0}\".format(sayi1,sayi2))"
   ]
  },
  {
   "attachments": {},
   "cell_type": "markdown",
   "metadata": {},
   "source": [
    "soru2\n",
    "'Kullanicidan aldiğiniz i̇ki̇ sayinin farki i̇le toplaminin çarpimini bulan bi̇r python kodu yazin'"
   ]
  },
  {
   "cell_type": "code",
   "execution_count": 12,
   "metadata": {},
   "outputs": [
    {
     "name": "stdout",
     "output_type": "stream",
     "text": [
      "-27.0\n"
     ]
    }
   ],
   "source": [
    "num_1 = float(input(\"bir sayi girin\"))\n",
    "num_2 = float(input(\"bir sayi girin\"))\n",
    "\n",
    "toplam = num_1 + num_2\n",
    "fark = num_1 - num_2\n",
    "carpim = toplam * fark\n",
    "\n",
    "print(carpim)"
   ]
  },
  {
   "cell_type": "code",
   "execution_count": 15,
   "metadata": {},
   "outputs": [
    {
     "name": "stdout",
     "output_type": "stream",
     "text": [
      "-27.0\n"
     ]
    }
   ],
   "source": [
    "num_1 = float(input(\"bir sayi girin\"))\n",
    "num_2 = float(input(\"bir sayi girin\"))\n",
    "\n",
    "print(num_1 ** 2 - num_2 ** 2)"
   ]
  },
  {
   "cell_type": "code",
   "execution_count": 13,
   "metadata": {},
   "outputs": [
    {
     "data": {
      "text/plain": [
       "-3"
      ]
     },
     "execution_count": 13,
     "metadata": {},
     "output_type": "execute_result"
    }
   ],
   "source": [
    "9 - 12"
   ]
  },
  {
   "cell_type": "code",
   "execution_count": 14,
   "metadata": {},
   "outputs": [
    {
     "data": {
      "text/plain": [
       "3"
      ]
     },
     "execution_count": 14,
     "metadata": {},
     "output_type": "execute_result"
    }
   ],
   "source": [
    "abs(9 - 12)"
   ]
  },
  {
   "attachments": {},
   "cell_type": "markdown",
   "metadata": {},
   "source": [
    "soru3\n",
    "200 birim paranız var. fiyatını bilmediğiniz üründen 11 tane alabileceğinizi söyledi satıcı. Ürünün fiyatı nedir?\n",
    "200 birim paranızdan geriye ne kadar kalır?"
   ]
  },
  {
   "cell_type": "code",
   "execution_count": 16,
   "metadata": {},
   "outputs": [
    {
     "data": {
      "text/plain": [
       "18"
      ]
     },
     "execution_count": 16,
     "metadata": {},
     "output_type": "execute_result"
    }
   ],
   "source": [
    "200 // 11"
   ]
  },
  {
   "cell_type": "code",
   "execution_count": 17,
   "metadata": {},
   "outputs": [
    {
     "data": {
      "text/plain": [
       "2"
      ]
     },
     "execution_count": 17,
     "metadata": {},
     "output_type": "execute_result"
    }
   ],
   "source": [
    "200 % 11"
   ]
  },
  {
   "attachments": {},
   "cell_type": "markdown",
   "metadata": {},
   "source": [
    "soru4\n",
    "Kullanıcıdan iki sayı isteyin ve bu sayıları değişkenlere atayın ve bu değişkenlerin değerlerini birbiriyle değiştirin."
   ]
  },
  {
   "cell_type": "code",
   "execution_count": 19,
   "metadata": {},
   "outputs": [
    {
     "name": "stdout",
     "output_type": "stream",
     "text": [
      "10 5\n"
     ]
    }
   ],
   "source": [
    "num_1 = int(input(\"bir sayi girin\"))\n",
    "num_2 = int(input(\"bir sayi girin\"))\n",
    "\n",
    "ara_değer = num_1\n",
    "num_1 = num_2\n",
    "num_2 = ara_değer\n",
    "\n",
    "print(num_1,num_2)\n",
    "\n",
    "\n"
   ]
  },
  {
   "cell_type": "code",
   "execution_count": 21,
   "metadata": {},
   "outputs": [
    {
     "name": "stdout",
     "output_type": "stream",
     "text": [
      "Değiştirilmeden Önce Değerler\n",
      "x: 3 y: 6\n",
      "\n",
      "Değiştirildikten Sonraki Değerler\n",
      "x: 6 y: 3\n",
      "\n"
     ]
    }
   ],
   "source": [
    "x = int(input(\"bir sayi girin\"))\n",
    "y = int(input(\"bir sayi girin\"))\n",
    "\n",
    "print(\"Değiştirilmeden Önce Değerler\\nx: {} y: {}\\n\".format(x,y))\n",
    "x, y = y, x\n",
    "print(\"Değiştirildikten Sonraki Değerler\\nx: {} y: {}\\n\".format(x,y))"
   ]
  },
  {
   "attachments": {},
   "cell_type": "markdown",
   "metadata": {},
   "source": [
    "soru5\n",
    "Kullanıcıdan bir string ve bir tamsayı girdisi alın ve örnekteki gibi çıktıyı alın.\n",
    "\n",
    "Ör: kelime = \"TechPro\" sayı = 3 Output >> ProProPro\n",
    "Ör: kelime = \"sedat\" sayı = 2 Output >> atat"
   ]
  },
  {
   "cell_type": "code",
   "execution_count": 26,
   "metadata": {},
   "outputs": [
    {
     "name": "stdout",
     "output_type": "stream",
     "text": [
      "sedatsedatsedatsedatsedatsedatsedat\n"
     ]
    }
   ],
   "source": [
    "a = input(\"str giriniz: \")\n",
    "b = int(input(\"bir sayi giriniz: \"))\n",
    "\n",
    "print(a[-b:] * b)"
   ]
  },
  {
   "cell_type": "code",
   "execution_count": 22,
   "metadata": {},
   "outputs": [
    {
     "data": {
      "text/plain": [
       "'Pro'"
      ]
     },
     "execution_count": 22,
     "metadata": {},
     "output_type": "execute_result"
    }
   ],
   "source": [
    "\"TechPro\"[-3:]"
   ]
  },
  {
   "cell_type": "code",
   "execution_count": 23,
   "metadata": {},
   "outputs": [
    {
     "data": {
      "text/plain": [
       "'at'"
      ]
     },
     "execution_count": 23,
     "metadata": {},
     "output_type": "execute_result"
    }
   ],
   "source": [
    "\"sedat\"[-2:]"
   ]
  },
  {
   "cell_type": "code",
   "execution_count": 29,
   "metadata": {},
   "outputs": [
    {
     "name": "stdout",
     "output_type": "stream",
     "text": [
      "\n"
     ]
    }
   ],
   "source": [
    "kelime = input(\"Bir kelime girin: \")\n",
    "sayi = int(input(\"Bir tam sayi girin: \"))\n",
    "if sayi > len(kelime):\n",
    "    print(\"Hata: Sayi kelime uzunluğundan büyük olamaz.\")\n",
    "else:\n",
    "    sonuc = kelime[-sayi:] * sayi\n",
    "    print(sonuc)"
   ]
  },
  {
   "attachments": {},
   "cell_type": "markdown",
   "metadata": {},
   "source": [
    "Soru6\n",
    "Kullanıcıdan kelime, sep ve tekrar_sayısı değerlerini alın ve verilen değerlere göre kelimeyi yazdırın. Ör: kelime = TechPro sep = :) tekrar_sayısı = 3 ----> TechPro:)TechPro:)TechPro"
   ]
  },
  {
   "cell_type": "code",
   "execution_count": 42,
   "metadata": {},
   "outputs": [
    {
     "data": {
      "text/plain": [
       "'techpro'"
      ]
     },
     "execution_count": 42,
     "metadata": {},
     "output_type": "execute_result"
    }
   ],
   "source": [
    "\"techpro:)\".strip(\":)\")"
   ]
  },
  {
   "cell_type": "code",
   "execution_count": 31,
   "metadata": {},
   "outputs": [
    {
     "data": {
      "text/plain": [
       "'TechPro:)TechPro:)TechPro'"
      ]
     },
     "execution_count": 31,
     "metadata": {},
     "output_type": "execute_result"
    }
   ],
   "source": [
    "word = input(\"enter a word\")\n",
    "sep = input(\"enter a seperator\")\n",
    "num = int(input(\"enter a number\"))\n",
    "\n",
    "result = ((word + sep) * num ).strip(sep)\n",
    "print(result)"
   ]
  },
  {
   "cell_type": "code",
   "execution_count": 35,
   "metadata": {},
   "outputs": [
    {
     "name": "stdout",
     "output_type": "stream",
     "text": [
      "sedat!sedat!sedat!sedat!sedat\n"
     ]
    }
   ],
   "source": [
    "word = input(\"enter a word\")\n",
    "a = input(\"Enter a sep\")\n",
    "num = int(input(\"Enter a number\"))\n",
    "print(a.join([word]*num))"
   ]
  },
  {
   "cell_type": "code",
   "execution_count": 34,
   "metadata": {},
   "outputs": [
    {
     "data": {
      "text/plain": [
       "'TechPro:)TechPro:)TechPro'"
      ]
     },
     "execution_count": 34,
     "metadata": {},
     "output_type": "execute_result"
    }
   ],
   "source": [
    "\":)\".join([\"TechPro\"] * 3)"
   ]
  },
  {
   "cell_type": "code",
   "execution_count": 37,
   "metadata": {},
   "outputs": [
    {
     "name": "stdout",
     "output_type": "stream",
     "text": [
      "TechproTechproTechpro\n"
     ]
    }
   ],
   "source": [
    "kelime = input(\"Bir kelime girin: \")\n",
    "sayi = int(input(\"Bir tam sayi girin: \"))\n",
    "ayraç =  input(\"Bir ayraç girin: \")\n",
    "sonuç = kelime*sayi\n",
    "print(sonuç, sep = ayraç)"
   ]
  },
  {
   "attachments": {},
   "cell_type": "markdown",
   "metadata": {},
   "source": [
    "soru7\n",
    "0, and, not ve \"bunu yazdır\" ifadelerini kullanarak çıktı olarak \"bunu yazdır\" döndürün."
   ]
  },
  {
   "cell_type": "code",
   "execution_count": 43,
   "metadata": {},
   "outputs": [
    {
     "data": {
      "text/plain": [
       "'bunu yazdır'"
      ]
     },
     "execution_count": 43,
     "metadata": {},
     "output_type": "execute_result"
    }
   ],
   "source": [
    "not 0 and \"bunu yazdır\""
   ]
  },
  {
   "cell_type": "code",
   "execution_count": 44,
   "metadata": {},
   "outputs": [
    {
     "data": {
      "text/plain": [
       "True"
      ]
     },
     "execution_count": 44,
     "metadata": {},
     "output_type": "execute_result"
    }
   ],
   "source": [
    "not 1 and \"\" or 14 and not 0"
   ]
  },
  {
   "attachments": {},
   "cell_type": "markdown",
   "metadata": {},
   "source": [
    "soru8\n",
    "kullanıcıdan iki sayı alın. sayılar eşitse veya sayıların farkı 5 in katı ise sonuç olarak True döndüren bir algoritma yazın. değilse Flase döndürsün."
   ]
  },
  {
   "cell_type": "code",
   "execution_count": 48,
   "metadata": {},
   "outputs": [
    {
     "name": "stdout",
     "output_type": "stream",
     "text": [
      "False\n"
     ]
    }
   ],
   "source": [
    "x = int(input(\"bir sayi girin\"))\n",
    "y = int(input(\"bir sayi girin\"))\n",
    "\n",
    "if x == y or (x - y) % 5 == 0:\n",
    "    print(True)\n",
    "else:\n",
    "    print(False)"
   ]
  },
  {
   "cell_type": "code",
   "execution_count": 51,
   "metadata": {},
   "outputs": [
    {
     "data": {
      "text/plain": [
       "'false'"
      ]
     },
     "execution_count": 51,
     "metadata": {},
     "output_type": "execute_result"
    }
   ],
   "source": [
    "x = int(input(\"bir sayi girin\"))\n",
    "y = int(input(\"bir sayi girin\"))\n",
    "\n",
    "'True' if x == y or abs(x-y) % 5 == 0 else 'false'"
   ]
  },
  {
   "cell_type": "code",
   "execution_count": 53,
   "metadata": {},
   "outputs": [
    {
     "name": "stdout",
     "output_type": "stream",
     "text": [
      "False\n"
     ]
    }
   ],
   "source": [
    "x = int(input(\"bir sayi girin\"))\n",
    "y = int(input(\"bir sayi girin\"))\n",
    "\n",
    "print(x == y or abs(x-y) % 5 == 0)"
   ]
  },
  {
   "cell_type": "code",
   "execution_count": null,
   "metadata": {},
   "outputs": [],
   "source": [
    "x == y or abs(x-y) % 5 == 0"
   ]
  },
  {
   "cell_type": "code",
   "execution_count": 57,
   "metadata": {},
   "outputs": [
    {
     "data": {
      "text/plain": [
       "10"
      ]
     },
     "execution_count": 57,
     "metadata": {},
     "output_type": "execute_result"
    }
   ],
   "source": [
    "x = int(input(\"bir sayi girin\"))\n",
    "y = int(input(\"bir sayi girin\"))\n",
    "\n",
    "abs(x-y)"
   ]
  },
  {
   "cell_type": "code",
   "execution_count": 58,
   "metadata": {},
   "outputs": [
    {
     "data": {
      "text/plain": [
       "0"
      ]
     },
     "execution_count": 58,
     "metadata": {},
     "output_type": "execute_result"
    }
   ],
   "source": [
    "-5 % 5"
   ]
  },
  {
   "cell_type": "code",
   "execution_count": 59,
   "metadata": {},
   "outputs": [
    {
     "data": {
      "text/plain": [
       "0"
      ]
     },
     "execution_count": 59,
     "metadata": {},
     "output_type": "execute_result"
    }
   ],
   "source": [
    "5 % 5"
   ]
  },
  {
   "cell_type": "code",
   "execution_count": 60,
   "metadata": {},
   "outputs": [
    {
     "data": {
      "text/plain": [
       "3"
      ]
     },
     "execution_count": 60,
     "metadata": {},
     "output_type": "execute_result"
    }
   ],
   "source": [
    "3 % 5"
   ]
  },
  {
   "cell_type": "code",
   "execution_count": 61,
   "metadata": {},
   "outputs": [
    {
     "data": {
      "text/plain": [
       "2"
      ]
     },
     "execution_count": 61,
     "metadata": {},
     "output_type": "execute_result"
    }
   ],
   "source": [
    "-3 % 5"
   ]
  },
  {
   "cell_type": "code",
   "execution_count": null,
   "metadata": {},
   "outputs": [],
   "source": []
  }
 ],
 "metadata": {
  "kernelspec": {
   "display_name": "Python 3",
   "language": "python",
   "name": "python3"
  },
  "language_info": {
   "codemirror_mode": {
    "name": "ipython",
    "version": 3
   },
   "file_extension": ".py",
   "mimetype": "text/x-python",
   "name": "python",
   "nbconvert_exporter": "python",
   "pygments_lexer": "ipython3",
   "version": "3.11.2"
  },
  "orig_nbformat": 4,
  "vscode": {
   "interpreter": {
    "hash": "562b4dc50e94c0c24759cc517e955833adbe31bddbf34cfe5098f5955523ff4d"
   }
  }
 },
 "nbformat": 4,
 "nbformat_minor": 2
}
