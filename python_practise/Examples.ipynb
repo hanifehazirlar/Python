{
 "cells": [
  {
   "cell_type": "code",
   "execution_count": 1,
   "metadata": {},
   "outputs": [
    {
     "name": "stdout",
     "output_type": "stream",
     "text": [
      "15\n"
     ]
    }
   ],
   "source": [
    "# 1-) Kullanıcın girdiği 5 basamaklı bir sayının, basamaklarının toplamını ekrana yazdıran \n",
    "#     python kodlarını yazınız?\n",
    "x = input(\"5 basamakli bir sayi giriniz\") #12345\n",
    "\n",
    "sum = 0\n",
    "for i in x :\n",
    "   sum += int(i)\n",
    "print(sum)\n"
   ]
  },
  {
   "cell_type": "code",
   "execution_count": 10,
   "metadata": {},
   "outputs": [
    {
     "name": "stdout",
     "output_type": "stream",
     "text": [
      "Lutfen 5 basamakli bir sayi giriniz\n"
     ]
    }
   ],
   "source": [
    "# 2.cozum 1-) Kullanıcın girdiği 5 basamaklı bir sayının, basamaklarının toplamını ekrana yazdıran \n",
    "#              python kodlarını yazınız?\n",
    "x = int(input(\"5 basamakli bir sayi giriniz\")) #12345\n",
    "temp = x\n",
    "basamak_toplam = 0\n",
    "if len(str(x))==5 : \n",
    "    while x>0 :\n",
    "     basamak_toplam +=x%10\n",
    "     x//=10\n",
    "    print(f\"{temp} sayisinin basamaklari toplami : {basamak_toplam}\")\n",
    "    print(temp,\"sayisinin basamaklari toplami :\", basamak_toplam)\n",
    "else :\n",
    "   print(\"Lutfen 5 basamakli bir sayi giriniz\")\n"
   ]
  },
  {
   "cell_type": "code",
   "execution_count": null,
   "metadata": {},
   "outputs": [],
   "source": []
  }
 ],
 "metadata": {
  "kernelspec": {
   "display_name": "Python 3",
   "language": "python",
   "name": "python3"
  },
  "language_info": {
   "codemirror_mode": {
    "name": "ipython",
    "version": 3
   },
   "file_extension": ".py",
   "mimetype": "text/x-python",
   "name": "python",
   "nbconvert_exporter": "python",
   "pygments_lexer": "ipython3",
   "version": "3.11.1"
  },
  "orig_nbformat": 4
 },
 "nbformat": 4,
 "nbformat_minor": 2
}
