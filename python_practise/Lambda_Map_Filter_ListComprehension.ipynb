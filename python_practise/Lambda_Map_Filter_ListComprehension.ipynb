{
 "cells": [
  {
   "cell_type": "markdown",
   "id": "f1878eea-4192-4bb9-b34c-aa9bf61e47e2",
   "metadata": {},
   "source": [
    "## Lambda"
   ]
  },
  {
   "cell_type": "markdown",
   "id": "5d26109f-a265-4edf-9457-6791d22ac50b",
   "metadata": {},
   "source": [
    "etiket = lambda parametre1,parametre2.... :  İşlem"
   ]
  },
  {
   "cell_type": "code",
   "execution_count": 1,
   "id": "e4132bd9-cb93-47a5-a852-7e4b8b5cd524",
   "metadata": {},
   "outputs": [
    {
     "name": "stdout",
     "output_type": "stream",
     "text": [
      "4\n"
     ]
    }
   ],
   "source": [
    "def ikiyleçarp(x):                    # Klasik fonksiyon tanımlama\n",
    "    return x * 2\n",
    "\n",
    "print(ikiyleçarp(2))"
   ]
  },
  {
   "cell_type": "code",
   "execution_count": 2,
   "id": "391a4b42-7188-4c89-bfea-b8adaaf1b758",
   "metadata": {
    "tags": []
   },
   "outputs": [
    {
     "data": {
      "text/plain": [
       "6"
      ]
     },
     "execution_count": 2,
     "metadata": {},
     "output_type": "execute_result"
    }
   ],
   "source": [
    "ikiyleçarp = lambda x : x * 2         # lambda tanınmlama\n",
    "\n",
    "ikiyleçarp(3)                         # Buradaki 3 argümanı lambda ifadesindeki x'in yerine geçiyor."
   ]
  },
  {
   "cell_type": "code",
   "execution_count": null,
   "id": "76453726-2c4c-4ccb-869f-b7e1590740be",
   "metadata": {},
   "outputs": [],
   "source": []
  },
  {
   "cell_type": "code",
   "execution_count": 3,
   "id": "3f12b940-7f05-4f2c-aea6-aee36b9b95ba",
   "metadata": {
    "tags": []
   },
   "outputs": [
    {
     "name": "stdout",
     "output_type": "stream",
     "text": [
      "12\n"
     ]
    }
   ],
   "source": [
    "def toplama(a,b,c):\n",
    "    return a + b + c\n",
    "\n",
    "print(toplama(3,4,5))"
   ]
  },
  {
   "cell_type": "code",
   "execution_count": 4,
   "id": "eda7e875-5dcd-428a-99f9-e36b96183435",
   "metadata": {
    "tags": []
   },
   "outputs": [
    {
     "name": "stdout",
     "output_type": "stream",
     "text": [
      "12\n"
     ]
    }
   ],
   "source": [
    "topla = lambda x,y,z : x + y + z\n",
    "\n",
    "print(topla(3,4,5))"
   ]
  },
  {
   "cell_type": "code",
   "execution_count": null,
   "id": "569b8f99-b82b-4803-b1bb-d9ab7482099d",
   "metadata": {},
   "outputs": [],
   "source": []
  },
  {
   "cell_type": "code",
   "execution_count": 5,
   "id": "f0009936-1d4f-46b3-aa8a-8e24d11cc098",
   "metadata": {
    "tags": []
   },
   "outputs": [],
   "source": [
    "# kelimeyi tersten yazdırma \n",
    "ters =  lambda s : s[::-1]"
   ]
  },
  {
   "cell_type": "code",
   "execution_count": 6,
   "id": "a2a2cb82-d777-4d24-b065-b9f6de39ce39",
   "metadata": {},
   "outputs": [
    {
     "name": "stdout",
     "output_type": "stream",
     "text": [
      "amalmargorP nohtyP\n"
     ]
    }
   ],
   "source": [
    "print(ters(\"Python Programlama\"))"
   ]
  },
  {
   "cell_type": "code",
   "execution_count": null,
   "id": "e53f2455-8af8-4b4d-b4f3-a5bb297bd442",
   "metadata": {},
   "outputs": [],
   "source": []
  },
  {
   "cell_type": "code",
   "execution_count": 7,
   "id": "c7044537-a98c-4778-b408-39f104a301d5",
   "metadata": {},
   "outputs": [
    {
     "data": {
      "text/plain": [
       "'MERHABA'"
      ]
     },
     "execution_count": 7,
     "metadata": {},
     "output_type": "execute_result"
    }
   ],
   "source": [
    "buyuk_harf = lambda s: s.strip().upper()        # boşlukları atıp, büyük harf dönüşümü\n",
    "buyuk_harf(\" Merhaba \")"
   ]
  },
  {
   "cell_type": "markdown",
   "id": "449c43f5-51cf-42f0-98e9-533524752e36",
   "metadata": {},
   "source": [
    "## Map"
   ]
  },
  {
   "cell_type": "markdown",
   "id": "c0656f50-a0f3-4988-af55-c316647f61b1",
   "metadata": {},
   "source": [
    "-map bizden parametre olarak bir liste(liste,tuple) ve bir fonksiyon alıyor sonra listedeki elemanları teker teker fonksiyonda yerine koyup elde ettiği sonuçlardan tekrar geriye liste döndürüyor \n",
    "\n",
    "-map(fonksiyon,iterasyon yapılabilecek veritipi(liste,demet vb),....)\n",
    "\n",
    "-map içine dışardan tanımlanmış fonksiyon alırken lambda kendisi bir fonksiyon oluşturur"
   ]
  },
  {
   "cell_type": "code",
   "execution_count": 8,
   "id": "88d80ca6-a4a5-46d3-8bf7-4523e08020cd",
   "metadata": {
    "tags": []
   },
   "outputs": [],
   "source": [
    "def double(x):              # map de kullanılacak fonksiyon\n",
    "    return x * 2"
   ]
  },
  {
   "cell_type": "code",
   "execution_count": 9,
   "id": "57c0a1f5-ed9c-43cd-b89a-009da49d89a4",
   "metadata": {},
   "outputs": [
    {
     "data": {
      "text/plain": [
       "<map at 0x1f0086d2550>"
      ]
     },
     "execution_count": 9,
     "metadata": {},
     "output_type": "execute_result"
    }
   ],
   "source": [
    "map(double,[1,2,3,4,5,6,7])  "
   ]
  },
  {
   "cell_type": "code",
   "execution_count": 10,
   "id": "cef258a7-ec9b-4cbf-b644-84db9d38484a",
   "metadata": {},
   "outputs": [
    {
     "data": {
      "text/plain": [
       "[2, 4, 6, 8, 10, 12, 14]"
      ]
     },
     "execution_count": 10,
     "metadata": {},
     "output_type": "execute_result"
    }
   ],
   "source": [
    "list(map(double,[1,2,3,4,5,6,7]))       # veri tipi liste, sonuç liste"
   ]
  },
  {
   "cell_type": "code",
   "execution_count": 11,
   "id": "5dff19c0-1e8c-4b36-8a8f-bf80ddcb075c",
   "metadata": {},
   "outputs": [
    {
     "data": {
      "text/plain": [
       "[2, 4, 6, 8, 10, 12, 14]"
      ]
     },
     "execution_count": 11,
     "metadata": {},
     "output_type": "execute_result"
    }
   ],
   "source": [
    "list(map(double,(1,2,3,4,5,6,7)))       # veri tipi tuple, sonuç liste"
   ]
  },
  {
   "cell_type": "code",
   "execution_count": null,
   "id": "c686bd98-b440-409d-a58e-36bd53be1a3a",
   "metadata": {},
   "outputs": [],
   "source": []
  },
  {
   "cell_type": "code",
   "execution_count": 12,
   "id": "1b7e0cd3-bdce-41d1-aa17-092d869523ea",
   "metadata": {},
   "outputs": [],
   "source": [
    "def square(x):\n",
    "    return x ** 2"
   ]
  },
  {
   "cell_type": "code",
   "execution_count": 13,
   "id": "d69ab4e4-2676-4d7e-9da2-995d22c3582a",
   "metadata": {},
   "outputs": [
    {
     "data": {
      "text/plain": [
       "[1, 4, 9, 16, 25, 36, 49, 64, 81]"
      ]
     },
     "execution_count": 13,
     "metadata": {},
     "output_type": "execute_result"
    }
   ],
   "source": [
    "list(map(square,[1,2,3,4,5,6,7,8,9]))"
   ]
  },
  {
   "cell_type": "markdown",
   "id": "e15e86eb-a071-4ac6-8c5e-14a75d55d77c",
   "metadata": {},
   "source": [
    "Buradaki fonksiyonları **lambda ifadeleriyle** de yazabiliriz."
   ]
  },
  {
   "cell_type": "code",
   "execution_count": 14,
   "id": "8b659688-15a5-4746-a93d-fbcae80acbd4",
   "metadata": {},
   "outputs": [
    {
     "data": {
      "text/plain": [
       "<map at 0x1f0086d2580>"
      ]
     },
     "execution_count": 14,
     "metadata": {},
     "output_type": "execute_result"
    }
   ],
   "source": [
    "map(lambda x : x ** 2, [1,2,3,4,5,6,7,8,9])       # dışarıdan bir fonksiyon yerine lambda"
   ]
  },
  {
   "cell_type": "code",
   "execution_count": 15,
   "id": "59072757-f078-4b12-921c-50a5274f3884",
   "metadata": {},
   "outputs": [
    {
     "data": {
      "text/plain": [
       "[1, 4, 9, 16, 25, 36, 49, 64, 81]"
      ]
     },
     "execution_count": 15,
     "metadata": {},
     "output_type": "execute_result"
    }
   ],
   "source": [
    "list(map(lambda x : x ** 2, [1,2,3,4,5,6,7,8,9]))"
   ]
  },
  {
   "cell_type": "code",
   "execution_count": null,
   "id": "9146e3ca-5a76-4fbb-9478-ec1a5a35ca37",
   "metadata": {},
   "outputs": [],
   "source": []
  },
  {
   "cell_type": "markdown",
   "id": "4111b5c3-d07d-443c-8e17-97f4bced3705",
   "metadata": {},
   "source": [
    "Map fonksiyonu birden fazla liste veya demet alabilir."
   ]
  },
  {
   "cell_type": "code",
   "execution_count": 16,
   "id": "d51545ac-ae5c-45a1-90cf-40f1720183aa",
   "metadata": {},
   "outputs": [
    {
     "data": {
      "text/plain": [
       "<map at 0x1f008ab7910>"
      ]
     },
     "execution_count": 16,
     "metadata": {},
     "output_type": "execute_result"
    }
   ],
   "source": [
    "liste1 = [1,2,3,4]\n",
    "liste2 = [5,6,7,8]\n",
    "liste3 = [9,10,11,12,13]\n",
    "\n",
    "map(lambda x,y : x * y , liste1,liste2)"
   ]
  },
  {
   "cell_type": "code",
   "execution_count": 17,
   "id": "4d8b4a7a-46a4-4636-bffd-bd156912c291",
   "metadata": {},
   "outputs": [
    {
     "data": {
      "text/plain": [
       "[5, 12, 21, 32]"
      ]
     },
     "execution_count": 17,
     "metadata": {},
     "output_type": "execute_result"
    }
   ],
   "source": [
    "list(map(lambda x,y : x * y , liste1,liste2))"
   ]
  },
  {
   "cell_type": "code",
   "execution_count": 18,
   "id": "85047b3e-188e-441c-ad28-f7a6145b4a7d",
   "metadata": {},
   "outputs": [
    {
     "data": {
      "text/plain": [
       "[45, 120, 231, 384]"
      ]
     },
     "execution_count": 18,
     "metadata": {},
     "output_type": "execute_result"
    }
   ],
   "source": [
    "list(map(lambda x,y,z : x * y * z , liste1,liste2,liste3))"
   ]
  },
  {
   "cell_type": "code",
   "execution_count": null,
   "id": "7469caa4-3331-4a38-ba6d-3318f894e782",
   "metadata": {},
   "outputs": [],
   "source": []
  },
  {
   "cell_type": "markdown",
   "id": "c0483694-ee10-45ad-9457-137cb0a3e1bc",
   "metadata": {},
   "source": [
    "## Filter"
   ]
  },
  {
   "cell_type": "markdown",
   "id": "4b2da31b-419d-462c-9a88-c9f7b3df1bc7",
   "metadata": {},
   "source": [
    "-map gibi paremtere olarak liste ve fonksiyon alıyor ancak burda fonksiyonun True veya False dödüren fonksiyon olması gerekir\n",
    "sonrasında da sadece true değerleri döndürür\n",
    "\n",
    "-filter(fonksiyon,iterasyon yapılabilen bir veritipi(liste vb.))\n",
    "\n",
    "-**filter** sadece **True** sonuç çıkaran değerleri alarak bir tane filter objesi döner"
   ]
  },
  {
   "cell_type": "code",
   "execution_count": 20,
   "id": "26be0dd0-c23f-4b17-8023-cbecc659e670",
   "metadata": {},
   "outputs": [
    {
     "data": {
      "text/plain": [
       "[False, True, False, True, False, True, False, True, False, True]"
      ]
     },
     "execution_count": 20,
     "metadata": {},
     "output_type": "execute_result"
    }
   ],
   "source": [
    "list(map(lambda x : x % 2 == 0, [1,2,3,4,5,6,7,8,9,10]))         # lambda ile çıkan sonuç"
   ]
  },
  {
   "cell_type": "code",
   "execution_count": 21,
   "id": "94bf844a-0ba5-4304-b169-2015834a7dcb",
   "metadata": {},
   "outputs": [
    {
     "name": "stdout",
     "output_type": "stream",
     "text": [
      "2 4 6 8 10\n"
     ]
    }
   ],
   "source": [
    "print(*filter(lambda x : x % 2 == 0, [1,2,3,4,5,6,7,8,9,10]))      "
   ]
  },
  {
   "cell_type": "code",
   "execution_count": null,
   "id": "b6845db7-bf23-429b-9d88-4fae50f79ec8",
   "metadata": {},
   "outputs": [],
   "source": []
  },
  {
   "cell_type": "code",
   "execution_count": 22,
   "id": "822156f0-a744-4901-9aea-cc858a846f03",
   "metadata": {},
   "outputs": [
    {
     "data": {
      "text/plain": [
       "['armut', 'ayva']"
      ]
     },
     "execution_count": 22,
     "metadata": {},
     "output_type": "execute_result"
    }
   ],
   "source": [
    "alist = [\"elma\",\"armut\",\"havuç\",\"ayva\",\"kiraz\"]       # a harfi ile başlayan meyveler\n",
    "\n",
    "list(filter(lambda x: x.startswith(\"a\"), alist))"
   ]
  },
  {
   "cell_type": "code",
   "execution_count": null,
   "id": "c79f8407-5942-48f6-a296-b3bd46f5bbd3",
   "metadata": {},
   "outputs": [],
   "source": []
  },
  {
   "cell_type": "code",
   "execution_count": 23,
   "id": "173c45bc-64d6-43df-893f-5b0995ddb41c",
   "metadata": {},
   "outputs": [],
   "source": [
    "num = [48, 10, 11, 21, 36, 5, 6, 52, 28, 29,      \n",
    "       53, 54, 45, 19, 20, 47, 55, 39, 41, 7,\n",
    "       9, 17, 26, 27, 42, 22, 37, 51, 46, 18,          # sadece 3'e bölünenleri yazdır\n",
    "       44, 30, 34, 13, 15, 35, 33, 16, 50, 24]"
   ]
  },
  {
   "cell_type": "code",
   "execution_count": 24,
   "id": "e75809f0-816e-4437-92b1-0135c4dd7828",
   "metadata": {},
   "outputs": [
    {
     "name": "stdout",
     "output_type": "stream",
     "text": [
      "10 11 5 52 28 29 53 19 20 47 55 41 7 17 26 22 37 46 44 34 13 35 16 50\n"
     ]
    }
   ],
   "source": [
    "print(*[x for x in num if x % 3 != 0])          # list compre"
   ]
  },
  {
   "cell_type": "code",
   "execution_count": 25,
   "id": "d1c6c4d4-70a0-4d33-b34d-1b3633e16b1e",
   "metadata": {
    "tags": []
   },
   "outputs": [
    {
     "name": "stdout",
     "output_type": "stream",
     "text": [
      "10 11 5 52 28 29 53 19 20 47 55 41 7 17 26 22 37 46 44 34 13 35 16 50\n"
     ]
    }
   ],
   "source": [
    "print(*list(filter(lambda x: x % 3 != 0,num)))      # filter-lambda"
   ]
  },
  {
   "cell_type": "code",
   "execution_count": 26,
   "id": "4e96a482-43c1-4539-92b2-a29f64ea5014",
   "metadata": {},
   "outputs": [
    {
     "name": "stdout",
     "output_type": "stream",
     "text": [
      "False True True False False True False True True True True False False True True True True False True True False True True False False True True False True False True False True True False True False True True False\n"
     ]
    }
   ],
   "source": [
    "print(*list(map(lambda x: x % 3 != 0,num)))          # map-lambda "
   ]
  },
  {
   "cell_type": "code",
   "execution_count": null,
   "id": "c9a61291-d197-4f54-914a-bfdfe2e76b42",
   "metadata": {},
   "outputs": [],
   "source": []
  },
  {
   "cell_type": "code",
   "execution_count": 27,
   "id": "2b4e74e5-d717-4197-b72d-1c43c129dc89",
   "metadata": {},
   "outputs": [],
   "source": [
    "def asal_mi(x):                         # sayının asal olup olmadığını döndüren fonksiyon\n",
    "    i = 2\n",
    "    if (x == 1):\n",
    "        return False    # Asal değil\n",
    "    elif(x == 2):\n",
    "        return True     # Asal sayı\n",
    "    else:\n",
    "        while(i < x):\n",
    "            if (x % i == 0):\n",
    "                return False   # Asal Değil\n",
    "            i += 1\n",
    "    return True"
   ]
  },
  {
   "cell_type": "code",
   "execution_count": 28,
   "id": "0ededfd2-997e-4c01-9b1c-68b8bc4f1a54",
   "metadata": {},
   "outputs": [
    {
     "name": "stdout",
     "output_type": "stream",
     "text": [
      "False\n",
      "True\n",
      "True\n",
      "False\n",
      "True\n",
      "False\n",
      "True\n",
      "False\n",
      "False\n",
      "False\n",
      "True\n",
      "False\n",
      "True\n",
      "False\n",
      "False\n",
      "False\n",
      "True\n",
      "False\n",
      "True\n"
     ]
    }
   ],
   "source": [
    "for i in range(1,20):                   # klasik şekilde fonksiyonun çağrılması\n",
    "    print(asal_mi(i))"
   ]
  },
  {
   "cell_type": "code",
   "execution_count": 29,
   "id": "d05a4b3d-39c5-4ae5-90a7-774461cfceeb",
   "metadata": {},
   "outputs": [
    {
     "data": {
      "text/plain": [
       "[2, 3, 5, 7, 11, 13, 17, 19]"
      ]
     },
     "execution_count": 29,
     "metadata": {},
     "output_type": "execute_result"
    }
   ],
   "source": [
    "list(filter(asal_mi,range(1,20)))         # filter ile fonksiyonun çağrılması ve çıkan sonuç (sadece True'lar)"
   ]
  },
  {
   "cell_type": "code",
   "execution_count": 30,
   "id": "791bf460-e98d-4940-a00b-d5adb50f3d40",
   "metadata": {},
   "outputs": [
    {
     "data": {
      "text/plain": [
       "[False,\n",
       " True,\n",
       " True,\n",
       " False,\n",
       " True,\n",
       " False,\n",
       " True,\n",
       " False,\n",
       " False,\n",
       " False,\n",
       " True,\n",
       " False,\n",
       " True,\n",
       " False,\n",
       " False,\n",
       " False,\n",
       " True,\n",
       " False,\n",
       " True]"
      ]
     },
     "execution_count": 30,
     "metadata": {},
     "output_type": "execute_result"
    }
   ],
   "source": [
    "list(map(asal_mi,range(1,20)))            # map ile fonksiyonun çağrılması ve çıkan sonuç"
   ]
  },
  {
   "cell_type": "code",
   "execution_count": null,
   "id": "a5ea7f74-b641-4b9d-9347-8dc221c8869a",
   "metadata": {},
   "outputs": [],
   "source": []
  },
  {
   "cell_type": "markdown",
   "id": "c2be058c-a5ee-4fb5-ba9d-b252ed0ae4bc",
   "metadata": {},
   "source": [
    "## List comprehension"
   ]
  },
  {
   "cell_type": "code",
   "execution_count": 31,
   "id": "d2a952e0-6e1d-49c6-a13a-8fb192aab2c7",
   "metadata": {},
   "outputs": [
    {
     "name": "stdout",
     "output_type": "stream",
     "text": [
      "[0, 2, 4, 6, 8, 10, 12, 14, 16, 18]\n"
     ]
    }
   ],
   "source": [
    "liste = []\n",
    "for i in range(20):\n",
    "    if i % 2 == 0:\n",
    "        liste += [i]\n",
    "        \n",
    "print(liste)"
   ]
  },
  {
   "cell_type": "code",
   "execution_count": 32,
   "id": "128a1168-ce8a-4b18-af05-9efd3a830304",
   "metadata": {},
   "outputs": [
    {
     "name": "stdout",
     "output_type": "stream",
     "text": [
      "[0, 2, 4, 6, 8, 10, 12, 14, 16, 18]\n"
     ]
    }
   ],
   "source": [
    "liste = [i for i in range(20) if i % 2 == 0]     # List comprehension ile daha pratik\n",
    "print(liste)"
   ]
  },
  {
   "cell_type": "code",
   "execution_count": null,
   "id": "43d66cb9-609e-4438-8a1b-2ec5831f646d",
   "metadata": {},
   "outputs": [],
   "source": []
  },
  {
   "cell_type": "code",
   "execution_count": 2,
   "id": "58ca318f-0191-4918-89c7-06ea27fc2826",
   "metadata": {},
   "outputs": [
    {
     "name": "stdout",
     "output_type": "stream",
     "text": [
      "[1, 2, 3, 5, 6, 7, 8]\n"
     ]
    }
   ],
   "source": [
    "liste1 = [1,2,3,4,5,6,7,8,9,10] # Örnek 4\n",
    "\n",
    "liste2 = [i for i in range(1,10) if not (i == 4 or i == 9)] # List Comprehension\n",
    "\n",
    "print(liste2)"
   ]
  },
  {
   "cell_type": "code",
   "execution_count": null,
   "id": "23771f39-1be0-4213-ac3f-6a2dba5b7a7e",
   "metadata": {},
   "outputs": [],
   "source": []
  },
  {
   "cell_type": "code",
   "execution_count": 26,
   "id": "46d704c9-36c3-47f3-a76a-ef24ae4f347f",
   "metadata": {
    "tags": []
   },
   "outputs": [],
   "source": [
    "liste = [[1,2,3],[4,5,6,7,8],[9,10,11,12,13,14,15]]\n",
    "\n",
    "# yeni_liste = [1,2,3,4,5,6,7,8,9,10,11,12,13,14,15]"
   ]
  },
  {
   "cell_type": "code",
   "execution_count": 30,
   "id": "49b57da4-0512-4a7d-a2c6-ed2ee3ec35b9",
   "metadata": {},
   "outputs": [
    {
     "name": "stdout",
     "output_type": "stream",
     "text": [
      "x: 1\n",
      "x: 2\n",
      "x: 3\n",
      "x: 4\n",
      "x: 5\n",
      "x: 6\n",
      "x: 7\n",
      "x: 8\n",
      "x: 9\n",
      "x: 10\n",
      "x: 11\n",
      "x: 12\n",
      "x: 13\n",
      "x: 14\n",
      "x: 15\n",
      "[1, 2, 3, 4, 5, 6, 7, 8, 9, 10, 11, 12, 13, 14, 15]\n"
     ]
    }
   ],
   "source": [
    "liste = [[1,2,3],[4,5,6,7,8],[9,10,11,12,13,14,15]]\n",
    "liste2 = list()\n",
    "for i in liste:\n",
    "    for x in i:\n",
    "        print(\"x:\",x)\n",
    "        liste2.append(x)\n",
    "print(liste2)\n",
    "    "
   ]
  },
  {
   "cell_type": "code",
   "execution_count": null,
   "id": "e4faf74c-0291-4b36-89af-0ee70e376ede",
   "metadata": {},
   "outputs": [],
   "source": []
  },
  {
   "cell_type": "code",
   "execution_count": 33,
   "id": "01f0a78b-fcd3-4ab4-b6e9-5ab29c660d0d",
   "metadata": {},
   "outputs": [
    {
     "name": "stdout",
     "output_type": "stream",
     "text": [
      "[1, 2, 3, 4, 5, 6, 7, 8, 9, 10, 11, 12, 13, 14, 15]\n"
     ]
    }
   ],
   "source": [
    "# List Comprehension \n",
    "\n",
    "liste = [[1,2,3],[4,5,6,7,8],[9,10,11,12,13,14,15]]\n",
    "liste2 = [x for i in liste for x in i] # Biraz karmaşık\n",
    "print(liste2)"
   ]
  },
  {
   "cell_type": "code",
   "execution_count": null,
   "id": "559680b2-4b8c-44b0-8f5c-f1cf9c3624ec",
   "metadata": {},
   "outputs": [],
   "source": []
  },
  {
   "cell_type": "code",
   "execution_count": 33,
   "id": "7e7dae81-88c0-46e2-934e-04d4297878f8",
   "metadata": {},
   "outputs": [
    {
     "name": "stdout",
     "output_type": "stream",
     "text": [
      "[(0, 0), (0, 1), (0, 2), (1, 0), (1, 1), (1, 2), (2, 0), (2, 1), (2, 2)]\n"
     ]
    }
   ],
   "source": [
    "sonuc = []\n",
    "\n",
    "for x in range(3):\n",
    "    for y in range(3):\n",
    "        sonuc.append((x,y))\n",
    "print(sonuc)"
   ]
  },
  {
   "cell_type": "code",
   "execution_count": 34,
   "id": "4cb5037d-50ee-49c7-b1ad-c726709c21b4",
   "metadata": {},
   "outputs": [
    {
     "name": "stdout",
     "output_type": "stream",
     "text": [
      "[(0, 0), (0, 1), (0, 2), (1, 0), (1, 1), (1, 2), (2, 0), (2, 1), (2, 2)]\n"
     ]
    }
   ],
   "source": [
    "x_y_sayi = [(x,y) for x in range(3) for y in range(3)]\n",
    "print(x_y_sayi)"
   ]
  },
  {
   "cell_type": "code",
   "execution_count": null,
   "id": "e3baecbf-b659-4b0a-9212-392cb4eafb18",
   "metadata": {},
   "outputs": [],
   "source": []
  },
  {
   "cell_type": "code",
   "execution_count": 35,
   "id": "5d1b9976-3cb1-45f0-927c-201b3051275b",
   "metadata": {},
   "outputs": [
    {
     "name": "stdout",
     "output_type": "stream",
     "text": [
      "[0, 10, 20, 30, 40, 50, 60, 70, 80, 90]\n"
     ]
    }
   ],
   "source": [
    "# hem 2'ye hem 5' bölünebilme\n",
    "sayi_list = [i for i in range(100) if i % 2 == 0 if i % 5 == 0]    \n",
    "print(sayi_list)"
   ]
  },
  {
   "cell_type": "code",
   "execution_count": null,
   "id": "a1e9782a-d975-455d-96c2-00971bf4735e",
   "metadata": {},
   "outputs": [],
   "source": []
  },
  {
   "cell_type": "code",
   "execution_count": 36,
   "id": "12817abd-194d-4c4f-9c2a-3ee4c946d608",
   "metadata": {},
   "outputs": [
    {
     "name": "stdout",
     "output_type": "stream",
     "text": [
      "['Çift', 'Tek', 'Çift', 'Tek', 'Çift', 'Tek', 'Çift', 'Tek', 'Çift', 'Tek', 'Çift', 'Tek', 'Çift', 'Tek', 'Çift']\n"
     ]
    }
   ],
   "source": [
    "# istenilen aralıkta tek-çift döndürme yazıyla\n",
    "sayilar = [\"Çift\" if i%2==0 else \"Tek\" for i in range(15)]\n",
    "print(sayilar)"
   ]
  },
  {
   "cell_type": "code",
   "execution_count": null,
   "id": "560b836c-bcb0-449b-9112-7e0492bb1871",
   "metadata": {},
   "outputs": [],
   "source": []
  },
  {
   "cell_type": "code",
   "execution_count": 37,
   "id": "7c7486c6-59f1-460a-97d4-8d5e20779693",
   "metadata": {},
   "outputs": [
    {
     "data": {
      "text/plain": [
       "['*',\n",
       " '*',\n",
       " '*',\n",
       " '*',\n",
       " 'ooo',\n",
       " '*',\n",
       " '*',\n",
       " '*',\n",
       " 'ooo',\n",
       " '*',\n",
       " '*',\n",
       " 'aaa',\n",
       " '*',\n",
       " '*',\n",
       " 'aaa',\n",
       " '*',\n",
       " 'aaa']"
      ]
     },
     "execution_count": 37,
     "metadata": {},
     "output_type": "execute_result"
    }
   ],
   "source": [
    "kelime = \"PythonProgramlama\"\n",
    "[x*3 if x in 'aeiou' else '*' for x in kelime]"
   ]
  },
  {
   "cell_type": "code",
   "execution_count": null,
   "id": "cce10212-2a67-4dee-8528-97efa5c7d7d0",
   "metadata": {},
   "outputs": [],
   "source": []
  },
  {
   "cell_type": "code",
   "execution_count": 38,
   "id": "a90cdd82-37e9-4844-980c-ee6a4b138ca9",
   "metadata": {},
   "outputs": [
    {
     "data": {
      "text/plain": [
       "[0, None, 2, None, 4, None, 6, None, 8, None]"
      ]
     },
     "execution_count": 38,
     "metadata": {},
     "output_type": "execute_result"
    }
   ],
   "source": [
    "[x if x % 2 == 0 else None for x in range(10)]"
   ]
  },
  {
   "cell_type": "code",
   "execution_count": null,
   "id": "80fd5078-477e-4178-933f-70e9fe53eb8c",
   "metadata": {},
   "outputs": [],
   "source": []
  },
  {
   "cell_type": "code",
   "execution_count": 39,
   "id": "c1aae0b7-3ccc-4841-9723-60fd58e7ebac",
   "metadata": {},
   "outputs": [
    {
     "data": {
      "text/plain": [
       "[1, -1, 5, -1, 9, -1, 13, -1, 17, -1]"
      ]
     },
     "execution_count": 39,
     "metadata": {},
     "output_type": "execute_result"
    }
   ],
   "source": [
    "[2 * (x if x % 2 == 0 else -1) + 1 for x in range(10)]"
   ]
  },
  {
   "cell_type": "code",
   "execution_count": null,
   "id": "ffbd34cd-140e-498c-b2ce-a73cd18924f2",
   "metadata": {},
   "outputs": [],
   "source": []
  },
  {
   "cell_type": "code",
   "execution_count": 40,
   "id": "1c0d624a-7f1d-41cd-bff4-cdf6ba016d06",
   "metadata": {},
   "outputs": [
    {
     "data": {
      "text/plain": [
       "['*', '*', '*', '*', 4, '*', 6, '*', 8, '*']"
      ]
     },
     "execution_count": 40,
     "metadata": {},
     "output_type": "execute_result"
    }
   ],
   "source": [
    "[x if (x > 2 and x % 2 == 0) else '*' for x in range(10)]"
   ]
  },
  {
   "cell_type": "code",
   "execution_count": null,
   "id": "5e305304-9234-42bf-b928-9cd4ab9f7098",
   "metadata": {},
   "outputs": [],
   "source": []
  },
  {
   "cell_type": "markdown",
   "id": "de843db2-e578-41f5-97fc-6c2a42ce83a3",
   "metadata": {},
   "source": [
    "**Önemli:** yukarıdaki örneklerde gördüğümüz üzere işlemimizde if/else durumu varsa list comrehension if/else ile başlayıp for ile biter ama sadece if durumu varsa for ile başlayıp if ile sonlanır \n",
    "\n",
    "[if/else..........for]  /  [for ........... if if not]"
   ]
  },
  {
   "cell_type": "code",
   "execution_count": 41,
   "id": "71bd498b-7d0c-4aba-b2b4-822ccef72df1",
   "metadata": {},
   "outputs": [
    {
     "data": {
      "text/plain": [
       "[5, 6, 7, 8, 9, 10, 1, 2, 3, 4]"
      ]
     },
     "execution_count": 41,
     "metadata": {},
     "output_type": "execute_result"
    }
   ],
   "source": [
    "[x+5 if x <= 5 else x-5 for x in range(10)]"
   ]
  },
  {
   "cell_type": "code",
   "execution_count": 42,
   "id": "39670835-7b49-4591-9f15-96c62e6fe729",
   "metadata": {},
   "outputs": [
    {
     "name": "stdout",
     "output_type": "stream",
     "text": [
      "[4, 5, 6, 7]\n"
     ]
    }
   ],
   "source": [
    "liste1 = [i for i in range(10) if i > 3 if i < 8] \n",
    "\n",
    "print(liste1)"
   ]
  },
  {
   "cell_type": "markdown",
   "id": "f42bb814-8e5c-4073-aca8-f910add66521",
   "metadata": {
    "tags": []
   },
   "source": [
    "## Dict Comprehension"
   ]
  },
  {
   "cell_type": "code",
   "execution_count": 43,
   "id": "9d0f4a07-4672-4b52-9fd7-dd0357b04298",
   "metadata": {},
   "outputs": [
    {
     "data": {
      "text/plain": [
       "{1: 1, 2: 4, 3: 9, 4: 16}"
      ]
     },
     "execution_count": 43,
     "metadata": {},
     "output_type": "execute_result"
    }
   ],
   "source": [
    "{x: x * x for x in (1, 2, 3, 4)}      # {key: value for i in liste}"
   ]
  },
  {
   "cell_type": "code",
   "execution_count": null,
   "id": "8f9b2d62-5e20-4b76-946b-2999f2dc45d5",
   "metadata": {},
   "outputs": [],
   "source": []
  },
  {
   "cell_type": "code",
   "execution_count": 44,
   "id": "e00e0239-8edb-458a-a3ef-fd0079036168",
   "metadata": {},
   "outputs": [
    {
     "data": {
      "text/plain": [
       "{'Portakal': 8, 'Mandaline': 9}"
      ]
     },
     "execution_count": 44,
     "metadata": {},
     "output_type": "execute_result"
    }
   ],
   "source": [
    "{isim: len(isim) for isim in ('Portakal', 'Elma', 'Mandaline', 'Kiraz') if len(isim) > 6}"
   ]
  },
  {
   "cell_type": "code",
   "execution_count": null,
   "id": "6bb618ef-fcf0-4ce7-8ac0-a80b1c5c478f",
   "metadata": {},
   "outputs": [],
   "source": []
  },
  {
   "cell_type": "code",
   "execution_count": 45,
   "id": "5a468cd0-0113-41e0-bd46-5282c5accdf5",
   "metadata": {},
   "outputs": [
    {
     "name": "stdout",
     "output_type": "stream",
     "text": [
      "{'ahmet': 5, 'mehmet': 6, 'fırat': 5, 'zeynep': 6, 'selma': 5, 'abdullah': 8, 'cem': 3}\n"
     ]
    }
   ],
   "source": [
    "# girilen kelimelerin harf sayılarını dict formatında yazdırma \n",
    "isimler = [\"ahmet\", \"mehmet\", \"fırat\", \"zeynep\", \"selma\", \"abdullah\", \"cem\"]\n",
    "\n",
    "sözlük = {}\n",
    "for i in isimler:\n",
    "    sözlük[i] = len(i)\n",
    "print(sözlük)\n"
   ]
  },
  {
   "cell_type": "code",
   "execution_count": 46,
   "id": "65fa7e3b-1f88-420d-aa17-b8f19df7bf2d",
   "metadata": {},
   "outputs": [
    {
     "data": {
      "text/plain": [
       "{'ahmet': 5,\n",
       " 'mehmet': 6,\n",
       " 'fırat': 5,\n",
       " 'zeynep': 6,\n",
       " 'selma': 5,\n",
       " 'abdullah': 8,\n",
       " 'cem': 3}"
      ]
     },
     "execution_count": 46,
     "metadata": {},
     "output_type": "execute_result"
    }
   ],
   "source": [
    "sözlük = {i: len(i) for i in isimler}           # dict comprehension ile daha pratik\n",
    "sözlük"
   ]
  },
  {
   "cell_type": "code",
   "execution_count": null,
   "id": "f87002ae-105d-44e7-bda9-4d6b75f90bda",
   "metadata": {},
   "outputs": [],
   "source": []
  },
  {
   "cell_type": "code",
   "execution_count": 47,
   "id": "93d8c02a-d764-49cf-a081-dd666f226cce",
   "metadata": {},
   "outputs": [
    {
     "name": "stdout",
     "output_type": "stream",
     "text": [
      "{1: 1, 2: 4, 3: 9, 4: 16, 5: 25, 6: 36, 7: 49, 8: 64, 9: 81, 10: 100}\n"
     ]
    }
   ],
   "source": [
    "kare_dict = {sayı: sayı * sayı for sayı in range(1, 11)}\n",
    "print(kare_dict)"
   ]
  },
  {
   "cell_type": "code",
   "execution_count": 49,
   "id": "a34d82e8-c7f0-408a-8c67-1a051b7e4202",
   "metadata": {},
   "outputs": [
    {
     "name": "stdout",
     "output_type": "stream",
     "text": [
      " 10\n"
     ]
    },
    {
     "name": "stdout",
     "output_type": "stream",
     "text": [
      "{1: 1, 2: 4, 3: 9, 4: 16, 5: 25, 6: 36, 7: 49, 8: 64, 9: 81, 10: 100}\n"
     ]
    }
   ],
   "source": [
    "n = int(input())\n",
    "ans={i : i*i for i in range(1,n+1)}\n",
    "print(ans)"
   ]
  },
  {
   "cell_type": "code",
   "execution_count": null,
   "id": "e5d38ff3-06b2-431f-9994-a495ad3c8bbd",
   "metadata": {},
   "outputs": [],
   "source": []
  },
  {
   "cell_type": "code",
   "execution_count": 50,
   "id": "59178c32-298c-49a2-be49-0dc8dfebec61",
   "metadata": {},
   "outputs": [
    {
     "name": "stdout",
     "output_type": "stream",
     "text": [
      "{'süt': 1.5, 'kahve': 4.375, 'ekmek': 3.125}\n"
     ]
    }
   ],
   "source": [
    "fiyat = {'süt': 1.20, 'kahve': 3.5, 'ekmek': 2.5}\n",
    "\n",
    "zam_oranı = 1.25 \n",
    "yeni_fiyat = {item: value*zam_oranı for (item, value) in fiyat.items()}\n",
    "print(yeni_fiyat)"
   ]
  },
  {
   "cell_type": "code",
   "execution_count": null,
   "id": "2455bf1a-f2ce-4bdc-a2f7-ce006032bad2",
   "metadata": {},
   "outputs": [],
   "source": []
  },
  {
   "cell_type": "markdown",
   "id": "232a8359-8f06-4856-bdc4-c854236fca03",
   "metadata": {},
   "source": [
    "# Alıştırmalar"
   ]
  },
  {
   "cell_type": "markdown",
   "id": "1dae89a5-7e25-40ce-93a9-727c42b6ca98",
   "metadata": {
    "tags": []
   },
   "source": [
    "# 1"
   ]
  },
  {
   "cell_type": "code",
   "execution_count": 51,
   "id": "57c8ca0a-4dae-4f45-a255-f30d6465b333",
   "metadata": {},
   "outputs": [],
   "source": [
    "sayılar = [1, 2, 3, 4, 5]\n",
    "# elemanların karelerini aldıralım "
   ]
  },
  {
   "cell_type": "code",
   "execution_count": 52,
   "id": "92ef501e-e171-4c70-ae90-7db37e79018f",
   "metadata": {},
   "outputs": [
    {
     "data": {
      "text/plain": [
       "[1, 4, 9, 16, 25]"
      ]
     },
     "execution_count": 52,
     "metadata": {},
     "output_type": "execute_result"
    }
   ],
   "source": [
    "kareleri1 = []\n",
    "for n in sayılar:\n",
    "    kareleri1.append(n**2)                            # uzun yol\n",
    "\n",
    "kareleri1"
   ]
  },
  {
   "cell_type": "code",
   "execution_count": 53,
   "id": "1f866400-5433-4178-b165-b906dd8e9212",
   "metadata": {},
   "outputs": [
    {
     "data": {
      "text/plain": [
       "[1, 4, 9, 16, 25]"
      ]
     },
     "execution_count": 53,
     "metadata": {},
     "output_type": "execute_result"
    }
   ],
   "source": [
    "kareleri2 = [n**2 for n in sayılar]                   # list comprehension ile tek satır işlem\n",
    "kareleri2"
   ]
  },
  {
   "cell_type": "code",
   "execution_count": 54,
   "id": "8d541628-e678-4f8e-b57a-a99c53788baa",
   "metadata": {
    "tags": []
   },
   "outputs": [
    {
     "data": {
      "text/plain": [
       "[1, 4, 9, 16, 25]"
      ]
     },
     "execution_count": 54,
     "metadata": {},
     "output_type": "execute_result"
    }
   ],
   "source": [
    "kareleri3 = list(map(lambda n : n**2, sayılar))      # lambda ve map fonksiyonu ile tek satır\n",
    "kareleri3"
   ]
  },
  {
   "cell_type": "markdown",
   "id": "31cb7298-4725-4652-b3e6-50b5a0fd369d",
   "metadata": {},
   "source": [
    "# 2"
   ]
  },
  {
   "cell_type": "code",
   "execution_count": 55,
   "id": "a9316acc-4d4f-43da-b5a3-53020a892732",
   "metadata": {},
   "outputs": [],
   "source": [
    "# Tek sayıları döndürme"
   ]
  },
  {
   "cell_type": "code",
   "execution_count": 56,
   "id": "1efc8a0b-1b37-4f97-af6b-b3572317be2f",
   "metadata": {},
   "outputs": [],
   "source": [
    "l = [400, 176, 64, 175, 355, 13, 207, 298, 397, 386, 31, 120, 120, 236, 241, 123, 249, 364, 292, 153]\n",
    "\n",
    "def tek_sayi(sayı):\n",
    "    return sayı % 2 == 1        # fonksiyon oluşturduk"
   ]
  },
  {
   "cell_type": "code",
   "execution_count": 57,
   "id": "f516340d-7981-4fab-a463-0a1c5365c8a4",
   "metadata": {},
   "outputs": [
    {
     "name": "stdout",
     "output_type": "stream",
     "text": [
      "175\n",
      "355\n",
      "13\n",
      "207\n",
      "397\n",
      "31\n",
      "241\n",
      "123\n",
      "249\n",
      "153\n"
     ]
    }
   ],
   "source": [
    "for i in l:                 \n",
    "    if i % 2 == 1:              # fonksiyonsuz tek sayıları bulma\n",
    "        print(i)"
   ]
  },
  {
   "cell_type": "code",
   "execution_count": 58,
   "id": "2968249a-7363-4453-9e00-826c639e9f8b",
   "metadata": {},
   "outputs": [
    {
     "data": {
      "text/plain": [
       "[175, 355, 13, 207, 397, 31, 241, 123, 249, 153]"
      ]
     },
     "execution_count": 58,
     "metadata": {},
     "output_type": "execute_result"
    }
   ],
   "source": [
    "[i for i in l if i % 2 == 1]       # fonksiyonsuz list comprehension ile tek satır işlem"
   ]
  },
  {
   "cell_type": "code",
   "execution_count": 59,
   "id": "508ba80d-591c-4a26-aa18-255044cc8e72",
   "metadata": {},
   "outputs": [
    {
     "data": {
      "text/plain": [
       "[175, 355, 13, 207, 397, 31, 241, 123, 249, 153]"
      ]
     },
     "execution_count": 59,
     "metadata": {},
     "output_type": "execute_result"
    }
   ],
   "source": [
    "list(filter(tek_sayi,l))           # filter ile fonksiyon çağrıldı"
   ]
  },
  {
   "cell_type": "code",
   "execution_count": 60,
   "id": "acc16275-25b7-4abb-82ec-06480eae38d6",
   "metadata": {},
   "outputs": [
    {
     "name": "stdout",
     "output_type": "stream",
     "text": [
      "175 355 13 207 397 31 241 123 249 153\n"
     ]
    }
   ],
   "source": [
    "print(*filter(tek_sayi,l))         # print ile filter kullanımı"
   ]
  },
  {
   "cell_type": "code",
   "execution_count": 61,
   "id": "700bc982-5a45-4d7f-92d7-5e4978e283a5",
   "metadata": {},
   "outputs": [
    {
     "data": {
      "text/plain": [
       "[False,\n",
       " False,\n",
       " False,\n",
       " True,\n",
       " True,\n",
       " True,\n",
       " True,\n",
       " False,\n",
       " True,\n",
       " False,\n",
       " True,\n",
       " False,\n",
       " False,\n",
       " False,\n",
       " True,\n",
       " True,\n",
       " True,\n",
       " False,\n",
       " False,\n",
       " True]"
      ]
     },
     "execution_count": 61,
     "metadata": {},
     "output_type": "execute_result"
    }
   ],
   "source": [
    "list(map(tek_sayi,l))              # map ile fonksiyon çağrıldı fakat tüm elemanları True-False olarak döndürdü"
   ]
  },
  {
   "cell_type": "markdown",
   "id": "cc94592d-666b-4f79-9fc9-8fd913619e31",
   "metadata": {},
   "source": [
    "# 3"
   ]
  },
  {
   "cell_type": "code",
   "execution_count": 62,
   "id": "29814be1-37a4-485b-b8f5-766a2546e80c",
   "metadata": {},
   "outputs": [
    {
     "data": {
      "text/plain": [
       "[6, 7, 8, 9]"
      ]
     },
     "execution_count": 62,
     "metadata": {},
     "output_type": "execute_result"
    }
   ],
   "source": [
    "liste3 = [1,2,3,4,5,6,7,8,9]                     # sadece 5'in üzeri sayıları yazdırma\n",
    "\n",
    "[i for i in filter(lambda x: x > 5, liste3)]     # list comprehension, filter, lambda kullanımı"
   ]
  },
  {
   "cell_type": "code",
   "execution_count": 63,
   "id": "aedeea7f-f4cc-49a7-b0ad-eb89565753d6",
   "metadata": {},
   "outputs": [
    {
     "data": {
      "text/plain": [
       "[False, False, False, False, False, True, True, True, True]"
      ]
     },
     "execution_count": 63,
     "metadata": {},
     "output_type": "execute_result"
    }
   ],
   "source": [
    "[i for i in map(lambda x: x > 5, liste3)]        # map kullandığımızda çıkan sonuç"
   ]
  },
  {
   "cell_type": "code",
   "execution_count": 64,
   "id": "98dfd410-9a14-4443-aef0-fe72c11d3882",
   "metadata": {},
   "outputs": [
    {
     "data": {
      "text/plain": [
       "[6, 7, 8, 9]"
      ]
     },
     "execution_count": 64,
     "metadata": {},
     "output_type": "execute_result"
    }
   ],
   "source": [
    "[i for i in liste3 if i > 5]                     # sadece list comprehension işlemi"
   ]
  },
  {
   "cell_type": "markdown",
   "id": "96b0c808-c936-4119-b44e-e1367a553f04",
   "metadata": {},
   "source": [
    "# 4"
   ]
  },
  {
   "cell_type": "code",
   "execution_count": 65,
   "id": "f416b309-27f9-43b9-8786-77a62b157d88",
   "metadata": {},
   "outputs": [],
   "source": [
    "# ilk adım 1'den 10'a sayıların karelerini yazdır\n",
    "# ikinci adım 5'ten büyük ve 50'den küçük olan sonuçları yazdır"
   ]
  },
  {
   "cell_type": "code",
   "execution_count": 66,
   "id": "3adcb241-7e5b-4c2c-a02f-f737ba4c4cd5",
   "metadata": {},
   "outputs": [
    {
     "name": "stdout",
     "output_type": "stream",
     "text": [
      "[0, 1, 4, 9, 16, 25, 36, 49, 64, 81]\n",
      "[9, 16, 25, 36, 49]\n"
     ]
    }
   ],
   "source": [
    "kareleri_al = []\n",
    "kosul = []\n",
    "for i in range(10):\n",
    "    kareleri_al.append(i**2)            # uzun yol \n",
    "    \n",
    "for x in kareleri_al:\n",
    "    if x > 5 and x < 50:\n",
    "        kosul.append(x)\n",
    "print(kareleri_al)\n",
    "print(kosul)"
   ]
  },
  {
   "cell_type": "code",
   "execution_count": 67,
   "id": "cddd7a66-4a4d-4d9f-b9fd-6989b29ae123",
   "metadata": {},
   "outputs": [
    {
     "name": "stdout",
     "output_type": "stream",
     "text": [
      "[0, 1, 4, 9, 16, 25, 36, 49, 64, 81]\n"
     ]
    },
    {
     "data": {
      "text/plain": [
       "[False, False, False, True, True, True, True, True, False, False]"
      ]
     },
     "execution_count": 67,
     "metadata": {},
     "output_type": "execute_result"
    }
   ],
   "source": [
    "kare_al = list(map(lambda x: x**2, range(10)))       \n",
    "print(kare_al)\n",
    "list(map(lambda x: x > 5 and x < 50, kare_al))             # map ile (sonucu True-False şeklinde verdi)"
   ]
  },
  {
   "cell_type": "code",
   "execution_count": 68,
   "id": "71d088a2-0078-4f7b-9d14-e9d57646cec1",
   "metadata": {},
   "outputs": [
    {
     "name": "stdout",
     "output_type": "stream",
     "text": [
      "[0, 1, 4, 9, 16, 25, 36, 49, 64, 81]\n"
     ]
    },
    {
     "data": {
      "text/plain": [
       "[9, 16, 25, 36, 49]"
      ]
     },
     "execution_count": 68,
     "metadata": {},
     "output_type": "execute_result"
    }
   ],
   "source": [
    "kare_al = list(map(lambda x: x**2, range(10)))               \n",
    "print(kare_al)\n",
    "\n",
    "list(filter(lambda x: x > 5 and x < 50, kare_al))           # filter ile "
   ]
  },
  {
   "cell_type": "code",
   "execution_count": 69,
   "id": "790c4b62-5d0f-4a58-91a6-973630dff95b",
   "metadata": {},
   "outputs": [
    {
     "data": {
      "text/plain": [
       "[9, 16, 25, 36, 49]"
      ]
     },
     "execution_count": 69,
     "metadata": {},
     "output_type": "execute_result"
    }
   ],
   "source": [
    "[x for x in (i**2 for i in range(10)) if x > 5 and x < 50]     # sadece 2. adım list comp. ile tek satır "
   ]
  },
  {
   "cell_type": "code",
   "execution_count": 70,
   "id": "34741f4e-19b2-4021-8645-cb72db498f9b",
   "metadata": {},
   "outputs": [
    {
     "name": "stdout",
     "output_type": "stream",
     "text": [
      "[0, 1, 4, 9, 16, 25, 36, 49, 64, 81]\n",
      "[9, 16, 25, 36, 49]\n"
     ]
    }
   ],
   "source": [
    "print([i**2 for i in range(10)],[x for x in (i**2 for i in range(10)) if x > 5 and x < 50],sep = \"\\n\")  # her iki adım tek satır işlem"
   ]
  },
  {
   "cell_type": "markdown",
   "id": "babd4e26-df9d-4faa-9069-81d5accadbd6",
   "metadata": {},
   "source": [
    "# 5"
   ]
  },
  {
   "cell_type": "code",
   "execution_count": 71,
   "id": "5a9662c5-de1f-41ee-832a-a61d07dea916",
   "metadata": {},
   "outputs": [],
   "source": [
    "# demet içinde verilen 3 kenar uzunluğuna göre bu kenarların bir üçgen olup olmadığını dönen bir fonksiyon"
   ]
  },
  {
   "cell_type": "code",
   "execution_count": 72,
   "id": "c1be191c-0424-42b7-858f-828a83f06dce",
   "metadata": {},
   "outputs": [],
   "source": [
    "def üçgen_mi(demet):\n",
    "    \n",
    "    if (abs(demet[0]+demet[1]) > demet[2] and abs(demet[0]+demet[2]) > demet[1] and abs(demet[1]+demet[2]) > demet[0]):  \n",
    "        return True\n",
    "    else:\n",
    "        return False\n"
   ]
  },
  {
   "cell_type": "code",
   "execution_count": 73,
   "id": "e029aaee-12af-4c2a-a77f-8e863ff843f3",
   "metadata": {},
   "outputs": [
    {
     "name": "stdout",
     "output_type": "stream",
     "text": [
      "[(3, 4, 5), (6, 8, 10)]\n"
     ]
    }
   ],
   "source": [
    "deneme = [(3,4,5),(6,8,10),(3,10,7)]\n",
    "\n",
    "print(list(filter(üçgen_mi,deneme)))"
   ]
  },
  {
   "cell_type": "code",
   "execution_count": 74,
   "id": "076cf729-112d-4dea-90a4-f0a751416c54",
   "metadata": {},
   "outputs": [
    {
     "name": "stdout",
     "output_type": "stream",
     "text": [
      "(3, 4, 5) (6, 8, 10)\n"
     ]
    }
   ],
   "source": [
    "print(*filter(üçgen_mi,deneme))"
   ]
  },
  {
   "cell_type": "code",
   "execution_count": 75,
   "id": "3420beee-1af5-4084-82e1-36fb12aff158",
   "metadata": {},
   "outputs": [
    {
     "name": "stdout",
     "output_type": "stream",
     "text": [
      "[True, True, False]\n"
     ]
    }
   ],
   "source": [
    "print(list(map(üçgen_mi,deneme)))"
   ]
  },
  {
   "cell_type": "markdown",
   "id": "51258a21-be06-45c4-866a-48d40426addd",
   "metadata": {},
   "source": [
    "# 6"
   ]
  },
  {
   "cell_type": "code",
   "execution_count": 76,
   "id": "d66405fd-cd01-4891-b2bb-39bd6ef0d7f6",
   "metadata": {},
   "outputs": [],
   "source": [
    "# 2'li tuple ile liste içerisinde verilen dikdörtgenin kenarlarınından alan hesabı"
   ]
  },
  {
   "cell_type": "code",
   "execution_count": 77,
   "id": "70950f0a-7f1b-4ff1-8d82-33b2cfb9e45a",
   "metadata": {},
   "outputs": [
    {
     "name": "stdout",
     "output_type": "stream",
     "text": [
      "[12, 30, 30, 9]\n"
     ]
    }
   ],
   "source": [
    "def alan_hesapla(demet):\n",
    "    return demet[0] * demet[1]\n",
    "\n",
    "liste = [(3,4),(10,3),(5,6),(1,9)]        \n",
    "\n",
    "print(list(map(alan_hesapla,liste)))        # fonksiyon ile map kullanımı"
   ]
  },
  {
   "cell_type": "code",
   "execution_count": 78,
   "id": "7b5f1251-7d16-431c-9e3b-e48584bfae7a",
   "metadata": {},
   "outputs": [
    {
     "data": {
      "text/plain": [
       "[12, 30, 30, 9]"
      ]
     },
     "execution_count": 78,
     "metadata": {},
     "output_type": "execute_result"
    }
   ],
   "source": [
    "liste = [(3,4),(10,3),(5,6),(1,9)]           \n",
    "\n",
    "list(map(lambda x: x[0] * x[1], liste))        # lambda ile map kullanımı"
   ]
  },
  {
   "cell_type": "code",
   "execution_count": 79,
   "id": "ec547c50-d2b2-4513-b96b-c8fa569e5c1d",
   "metadata": {},
   "outputs": [
    {
     "data": {
      "text/plain": [
       "[12, 30, 30, 9]"
      ]
     },
     "execution_count": 79,
     "metadata": {},
     "output_type": "execute_result"
    }
   ],
   "source": [
    "[x*y for x,y in liste]                        # list comp. ile"
   ]
  },
  {
   "cell_type": "markdown",
   "id": "a4f335bd-19cd-43f2-a210-87316930e95f",
   "metadata": {},
   "source": [
    "# 7"
   ]
  },
  {
   "cell_type": "code",
   "execution_count": 80,
   "id": "e38a41b1-6426-410c-9c85-be2150ee4a44",
   "metadata": {},
   "outputs": [],
   "source": [
    "# List Comprehension ile Birden fazla if kullanımı\n",
    "# Not: for ile başlayıp if ile devam eder"
   ]
  },
  {
   "cell_type": "code",
   "execution_count": 81,
   "id": "57161a68-a0cd-4ecc-9d96-3add8143044d",
   "metadata": {},
   "outputs": [
    {
     "data": {
      "text/plain": [
       "[0, 6, 12, 18, 24]"
      ]
     },
     "execution_count": 81,
     "metadata": {},
     "output_type": "execute_result"
    }
   ],
   "source": [
    "yeni_list = []\n",
    "for x in range(30):\n",
    "    if x % 2 == 0 and x % 3 == 0:\n",
    "        yeni_list.append(x)\n",
    "yeni_list"
   ]
  },
  {
   "cell_type": "code",
   "execution_count": 82,
   "id": "f9dc4928-c5e6-4746-a223-2e8e5bfc1127",
   "metadata": {},
   "outputs": [
    {
     "data": {
      "text/plain": [
       "[0, 6, 12, 18, 24]"
      ]
     },
     "execution_count": 82,
     "metadata": {},
     "output_type": "execute_result"
    }
   ],
   "source": [
    "yeni_list = [x for x in range(30) if x % 2 == 0 if x % 3 == 0]     # iki if\n",
    "yeni_list"
   ]
  },
  {
   "cell_type": "code",
   "execution_count": 83,
   "id": "df562188-f5dd-4a16-b21f-193b001a1960",
   "metadata": {},
   "outputs": [
    {
     "data": {
      "text/plain": [
       "[0, 6, 12, 18, 24]"
      ]
     },
     "execution_count": 83,
     "metadata": {},
     "output_type": "execute_result"
    }
   ],
   "source": [
    "yeni_list = [x for x in range(30) if x % 2 == 0 and x % 3 == 0]     # tek if \n",
    "yeni_list"
   ]
  },
  {
   "cell_type": "code",
   "execution_count": 84,
   "id": "a46749b3-4cc2-4816-9c0c-aff21c11ea88",
   "metadata": {},
   "outputs": [
    {
     "data": {
      "text/plain": [
       "[8, 16, 24]"
      ]
     },
     "execution_count": 84,
     "metadata": {},
     "output_type": "execute_result"
    }
   ],
   "source": [
    "yeni_list = [x for x in range(30) if x >= 2 if x <= 25 if x % 4 == 0 if x % 8 == 0]     # birden fazla if\n",
    "yeni_list"
   ]
  },
  {
   "cell_type": "code",
   "execution_count": null,
   "id": "b23b42eb-ba93-4ada-a014-d98ef80e7130",
   "metadata": {},
   "outputs": [],
   "source": []
  },
  {
   "cell_type": "code",
   "execution_count": 85,
   "id": "d3067916-a6bc-432b-898f-3d5ca97dbedb",
   "metadata": {},
   "outputs": [],
   "source": [
    "# List Comprehension ile if/else kullanımı\n",
    "# Not: if / else ile başlayıp for ile biter, yukarıda ki alıştırmada ise tam tersiydi"
   ]
  },
  {
   "cell_type": "code",
   "execution_count": 86,
   "id": "f2a0148c-881a-49e4-bd36-6567bb27aefd",
   "metadata": {},
   "outputs": [
    {
     "name": "stdout",
     "output_type": "stream",
     "text": [
      "['portakal', 'portakal', 'mango', 'portakal', 'portakal', 'mango', 'portakal', 'portakal', 'mango']\n"
     ]
    }
   ],
   "source": [
    "meyveler = [\"mango\" if i % 3 == 0 else \"portakal\" for i in range(1,10)]\n",
    "print(meyveler)"
   ]
  },
  {
   "cell_type": "markdown",
   "id": "92b43793-0b68-4cac-8ecd-a4a722175b34",
   "metadata": {},
   "source": [
    "# 8"
   ]
  },
  {
   "cell_type": "code",
   "execution_count": 87,
   "id": "6de622d5-4a7d-4815-b2a2-8b146f9a36fa",
   "metadata": {},
   "outputs": [],
   "source": [
    "# kelime arasını doldurma (örnek: m-e-r-h-a-b-a)"
   ]
  },
  {
   "cell_type": "code",
   "execution_count": 88,
   "id": "47b545f0-5fd2-47a7-96d1-dc740df6bcac",
   "metadata": {},
   "outputs": [
    {
     "name": "stdout",
     "output_type": "stream",
     "text": [
      "t-e-c-h-p-r-o\n"
     ]
    }
   ],
   "source": [
    "empty_str = \"\"\n",
    "for i in \"techpro\":\n",
    "    empty_str += i + \"-\"\n",
    "print(empty_str.rstrip(\"-\"))                                    # uzun yol"
   ]
  },
  {
   "cell_type": "code",
   "execution_count": 89,
   "id": "7c38bca2-7dfd-4d98-9584-7694281de5c0",
   "metadata": {},
   "outputs": [
    {
     "name": "stdout",
     "output_type": "stream",
     "text": [
      "t-e-c-h-p-r-o\n"
     ]
    }
   ],
   "source": [
    "for i in \"techpro\":    \n",
    "    print(i,end='-')\n",
    "    \n",
    "print(\"\\b\")               # \\b kaçış dizisinin görevi, imleci o anki konumundan sola kaydırmaktır"
   ]
  },
  {
   "cell_type": "code",
   "execution_count": 90,
   "id": "63f256ad-58ac-4eab-9ef2-33bc72852577",
   "metadata": {},
   "outputs": [
    {
     "name": "stdout",
     "output_type": "stream",
     "text": [
      "t - e - c - h - p - r - o\n"
     ]
    }
   ],
   "source": [
    "print(*[i + \" -\" for i in \"techpro\"[:-1]],\"techpro\"[-1])        # kısa yol ancak elemanlar \"t-\" şeklinde tek bir elemanmış gibi oldu"
   ]
  },
  {
   "cell_type": "code",
   "execution_count": 91,
   "id": "75b4e2e6-ea4a-4a89-b246-80c914f32c0f",
   "metadata": {},
   "outputs": [
    {
     "name": "stdout",
     "output_type": "stream",
     "text": [
      "t- e- c- h- p- r- o-\n"
     ]
    }
   ],
   "source": [
    "print(*list(map(lambda x,y : x + y,\"techpro\",\"-\"*len(\"techpr0\"))))   # sondaki \"-\"yı atmak için alternatif bulamadım"
   ]
  },
  {
   "cell_type": "markdown",
   "id": "0bfaeb16-ef1a-4d2a-92c5-ac1bf18921ec",
   "metadata": {},
   "source": [
    "# 9"
   ]
  },
  {
   "cell_type": "code",
   "execution_count": 92,
   "id": "b18a5231-6b8f-4256-866c-1baff2b1c9c8",
   "metadata": {},
   "outputs": [],
   "source": [
    "# 0-100 arası 7'ye bölünebilen ama 5'e bölünmeyen sayıları virgül ile ayrırarak yazınız"
   ]
  },
  {
   "cell_type": "code",
   "execution_count": 2,
   "id": "5c4922c6-f25a-4bb6-a075-16ebed09cbf6",
   "metadata": {},
   "outputs": [
    {
     "name": "stdout",
     "output_type": "stream",
     "text": [
      "7,14,21,28,42,49,56,63,77,84,91,98\n"
     ]
    }
   ],
   "source": [
    "print(*[i for i in range(0,100) if i%7 == 0 and i%5 != 0], sep=\",\")      # list comprehension"
   ]
  },
  {
   "cell_type": "code",
   "execution_count": 6,
   "id": "bf252621-42e5-465c-9e1c-a2f376d27372",
   "metadata": {},
   "outputs": [
    {
     "name": "stdout",
     "output_type": "stream",
     "text": [
      "7,14,21,28,42,49,56,63,77,84,91,98\n"
     ]
    }
   ],
   "source": [
    "liste = []\n",
    "for i in range(0,100):\n",
    "    if i % 7 == 0 and i % 5 != 0:             # uzun yol \n",
    "        liste.append(i)\n",
    "\n",
    "print(*liste,sep = \",\")"
   ]
  },
  {
   "cell_type": "code",
   "execution_count": 95,
   "id": "bf2f0e22-f2eb-4a2a-99b1-398c2327bf15",
   "metadata": {},
   "outputs": [
    {
     "name": "stdout",
     "output_type": "stream",
     "text": [
      "7,14,21,28,42,49,56,63,77,84,91,98\n"
     ]
    }
   ],
   "source": [
    "for i in range(0,100):\n",
    "    if i%7 == 0 and i%5!=0:\n",
    "        print(i,end=',')\n",
    "print(\"\\b\")               # \\b kaçış dizisinin görevi, imleci o anki konumundan sola kaydırmaktır"
   ]
  },
  {
   "cell_type": "markdown",
   "id": "93843a33-7b30-46f4-bb02-a1d4247051e7",
   "metadata": {},
   "source": [
    "# 10"
   ]
  },
  {
   "cell_type": "code",
   "execution_count": 96,
   "id": "20c58fc3-0182-426b-a57a-cade240d003b",
   "metadata": {},
   "outputs": [],
   "source": [
    "# konsoldan veri girin, çıktıda da yinelenen verileri otamatik kaldırın ve verileri sıralayın"
   ]
  },
  {
   "cell_type": "code",
   "execution_count": 97,
   "id": "8de1c372-1252-4867-b24f-79ec530dcc99",
   "metadata": {},
   "outputs": [
    {
     "name": "stdout",
     "output_type": "stream",
     "text": [
      " mert ali veli can\n"
     ]
    },
    {
     "name": "stdout",
     "output_type": "stream",
     "text": [
      "ali can mert veli\n"
     ]
    }
   ],
   "source": [
    "kelime = input().split()                    # uzun yol\n",
    "\n",
    "for i in kelime:\n",
    "    if kelime.count(i) > 1:    # tekrarlayan kelime kontrolü\n",
    "        kelime.remove(i)       # tekrarlayan kelimenin atılması\n",
    "\n",
    "kelime.sort()\n",
    "print(\" \".join(kelime))"
   ]
  },
  {
   "cell_type": "code",
   "execution_count": null,
   "id": "aaec78d8-0303-4359-97ac-2efd0bb2dd99",
   "metadata": {},
   "outputs": [],
   "source": []
  },
  {
   "cell_type": "code",
   "execution_count": 99,
   "id": "85ba2a4d-473a-47cb-a89d-c11477616276",
   "metadata": {},
   "outputs": [
    {
     "name": "stdout",
     "output_type": "stream",
     "text": [
      " mert ali veli can\n"
     ]
    },
    {
     "name": "stdout",
     "output_type": "stream",
     "text": [
      "ali can mert veli\n"
     ]
    }
   ],
   "source": [
    "kelime = sorted(list(set(input().split())))                 # set tekrarlayan girdileri elemek için       \n",
    "                                                      \n",
    "print(\" \".join(kelime))"
   ]
  },
  {
   "cell_type": "code",
   "execution_count": null,
   "id": "58178c65-0db2-4f07-9bfb-388e524e5b79",
   "metadata": {},
   "outputs": [],
   "source": []
  },
  {
   "cell_type": "code",
   "execution_count": 100,
   "id": "42455b7d-323d-48ad-ac3f-50a2c300d46c",
   "metadata": {},
   "outputs": [
    {
     "name": "stdout",
     "output_type": "stream",
     "text": [
      " mert ali veli can veli\n"
     ]
    },
    {
     "name": "stdout",
     "output_type": "stream",
     "text": [
      "ali can mert veli\n"
     ]
    }
   ],
   "source": [
    "s = input()\n",
    "kelimeler = [kelime for kelime in s.split(\" \")]\n",
    "print(\" \".join(sorted(list(set(kelimeler)))))"
   ]
  },
  {
   "cell_type": "code",
   "execution_count": null,
   "id": "7efdd67a-641f-44e5-8669-493e28142624",
   "metadata": {},
   "outputs": [],
   "source": []
  },
  {
   "cell_type": "code",
   "execution_count": 101,
   "id": "34484937-7edb-46aa-82a7-fb3c44bb3ffb",
   "metadata": {},
   "outputs": [
    {
     "name": "stdout",
     "output_type": "stream",
     "text": [
      " mert ali veli can mert\n"
     ]
    },
    {
     "name": "stdout",
     "output_type": "stream",
     "text": [
      "ali can mert veli\n"
     ]
    }
   ],
   "source": [
    "kelime = input().split()\n",
    "[kelime.remove(i) for i in kelime if kelime.count(i) > 1 ]      # tekrarlayan verilerin atılması\n",
    "kelime.sort()\n",
    "print(\" \".join(kelime))"
   ]
  },
  {
   "cell_type": "markdown",
   "id": "233613cc-56ae-45a2-8d91-00b5078b309f",
   "metadata": {},
   "source": [
    "# 11"
   ]
  },
  {
   "cell_type": "code",
   "execution_count": 102,
   "id": "f6282c7b-cfab-481e-a7fc-78b9312121c2",
   "metadata": {},
   "outputs": [],
   "source": [
    "# istenilen aralıktaki sayılardan sadece tüm basamakları çift olanları yazdırma"
   ]
  },
  {
   "cell_type": "code",
   "execution_count": 103,
   "id": "b1683abf-faf0-44f4-b944-8b8ae074f93c",
   "metadata": {},
   "outputs": [
    {
     "name": "stdout",
     "output_type": "stream",
     "text": [
      "200,202,204,206,208,220,222,224,226,228,240,242,244,246,248,260,262,264,266,268,280,282,284,286,288,400,402,404,406,408,420,422,424,426,428,440,442,444,446,448,460,462,464,466,468,480,482,484,486,488,600,602,604,606,608,620,622,624,626,628,640,642,644,646,648,660,662,664,666,668,680,682,684,686,688,800,802,804,806,808,820,822,824,826,828,840,842,844,846,848,860,862,864,866,868,880,882,884,886,888\n"
     ]
    }
   ],
   "source": [
    "ciftler = []\n",
    "for i in range(100,999):             # bu kod sadece 3 basamaklı girilen aralıklar içiçn çalışır (if'teki koşullardan dolayı)\n",
    "    s = str(i)                       \n",
    "    if (int(s[0])%2 == 0) and (int(s[1])%2 == 0) and (int(s[2])%2 == 0):\n",
    "        ciftler.append(s)\n",
    "print(\",\".join(ciftler))"
   ]
  },
  {
   "cell_type": "code",
   "execution_count": null,
   "id": "e38e20a2-50c0-4d2e-ba19-27ca35fb8417",
   "metadata": {},
   "outputs": [],
   "source": []
  },
  {
   "cell_type": "code",
   "execution_count": 104,
   "id": "b5748df3-f3ba-41ba-b66b-d4c1e7abb36a",
   "metadata": {},
   "outputs": [
    {
     "name": "stdout",
     "output_type": "stream",
     "text": [
      "0,2,4,6,8,20,22,24,26,28,40,42,44,46,48,60,62,64,66,68,80,82,84,86,88\n"
     ]
    }
   ],
   "source": [
    "# kısa yol (lamda, filter)\n",
    "\n",
    "lst = [str(i) for i in range(0,100)]                              # sayıların basamaklarına erişim için str'e dönüştürüldü\n",
    "lst = list(filter(lambda i:all(ord(j)%2 == 0 for j in i), lst))   # her bir basamağın çift olup olmadığı kontrol edildi\n",
    "print(\",\".join(lst))                                              # filter ile sadece çiftleri yazdırdık\n",
    "\n",
    "# ord() ile basamaktaki her sayı seçilip çift tek kontrolü yapıldı\n",
    "# 0-9 arası tüm rakamların teklik çiftlik durumu, rakamların strigteki karşılık gelen sayılarla(ascii) durumu aynı "
   ]
  },
  {
   "cell_type": "code",
   "execution_count": null,
   "id": "134bf169-892b-4680-acb8-14e4d536d031",
   "metadata": {},
   "outputs": [],
   "source": []
  },
  {
   "cell_type": "code",
   "execution_count": 105,
   "id": "800bc0cc-6d79-480e-9cc2-5c4fa8e2198b",
   "metadata": {},
   "outputs": [
    {
     "name": "stdout",
     "output_type": "stream",
     "text": [
      "0,2,4,6,8,20,22,24,26,28,40,42,44,46,48,60,62,64,66,68,80,82,84,86,88\n"
     ]
    }
   ],
   "source": [
    "lst = []                         # uzun yol\n",
    "\n",
    "for i in range(0,100):\n",
    "    kontrol = 1\n",
    "    for j in str(i):            # her sayı str'ye çevrildi\n",
    "        if ord(j)%2 != 0:       # ord ile her bir basamağın ascii değerini tek mi çift mi karşılaştırılması\n",
    "            kontrol = 0         # rakam tek ise kontrol 0 yapıldı ve bir sonrak aşama olan append'e gitmedi o rakam\n",
    "    if kontrol == 1:\n",
    "        lst.append(str(i))      # kontrol 1 rakamın çift olması durumunda devam eder ve listeye append ile eklenir \n",
    "\n",
    "print(\",\".join(lst))"
   ]
  },
  {
   "cell_type": "markdown",
   "id": "a9bf5147-5212-4fbe-b675-e031db52791d",
   "metadata": {},
   "source": [
    "# 12"
   ]
  },
  {
   "cell_type": "code",
   "execution_count": 106,
   "id": "0e2c0992-0a57-4cbe-ad5c-0e1379abc4e4",
   "metadata": {},
   "outputs": [],
   "source": [
    "# Bir cümleyi kabul eden ve büyük harf ve küçük harf sayısını hesaplayan bir program yazın."
   ]
  },
  {
   "cell_type": "code",
   "execution_count": 107,
   "id": "b2ef638f-7c26-4c7a-bc05-b488dac4f614",
   "metadata": {},
   "outputs": [
    {
     "name": "stdout",
     "output_type": "stream",
     "text": [
      " mert Ali Veli Can OSMAN\n"
     ]
    },
    {
     "name": "stdout",
     "output_type": "stream",
     "text": [
      "Büyük Harf 8\n",
      "Küçük Harf 11\n"
     ]
    }
   ],
   "source": [
    "cumle = input()\n",
    "upper = sum(1 for i in cumle if i.isupper())           # koşul doğruysa sum 1 arttırır\n",
    "lower = sum(1 for i in cumle if i.islower())\n",
    "\n",
    "print(\"Büyük Harf {0}\\nKüçük Harf {1}\".format(upper,lower))"
   ]
  },
  {
   "cell_type": "code",
   "execution_count": 108,
   "id": "112b6283-3d33-4382-8e75-ad995299f510",
   "metadata": {},
   "outputs": [
    {
     "name": "stdout",
     "output_type": "stream",
     "text": [
      " mert Ali Veli Can OSMAN\n"
     ]
    },
    {
     "name": "stdout",
     "output_type": "stream",
     "text": [
      "Büyük Harf 8\n",
      "Küçük Harf 11\n"
     ]
    }
   ],
   "source": [
    "kelimeler = input()\n",
    "upper,lower = 0,0\n",
    "\n",
    "for i in kelimeler:\n",
    "        lower+=i.islower()\n",
    "        upper+=i.isupper()\n",
    "\n",
    "print(\"Büyük Harf {0}\\nKüçük Harf {1}\".format(upper,lower))"
   ]
  },
  {
   "cell_type": "markdown",
   "id": "21a3103e-c327-491d-a60e-a42ca6db913b",
   "metadata": {},
   "source": [
    "# 13"
   ]
  },
  {
   "cell_type": "code",
   "execution_count": 109,
   "id": "910fb20e-1651-4094-9fef-aa1854072a5c",
   "metadata": {},
   "outputs": [],
   "source": [
    "# Bir cümleyi kabul eden ve harf ve rakam sayısını hesaplayan bir program yazın."
   ]
  },
  {
   "cell_type": "code",
   "execution_count": 110,
   "id": "74f796ff-73b8-483a-90bb-78f04218a2da",
   "metadata": {},
   "outputs": [
    {
     "name": "stdout",
     "output_type": "stream",
     "text": [
      " mert 123\n"
     ]
    },
    {
     "name": "stdout",
     "output_type": "stream",
     "text": [
      "Rakam 3\n",
      "Harf 4\n"
     ]
    }
   ],
   "source": [
    "cumle = input()\n",
    "rakam = sum(1 for i in cumle if i.isnumeric())           # koşul doğruysa sum 1 arttırır\n",
    "harf = sum(1 for i in cumle if i.isalpha())\n",
    "\n",
    "print(\"Rakam {0}\\nHarf {1}\".format(rakam,harf))"
   ]
  },
  {
   "cell_type": "code",
   "execution_count": 111,
   "id": "de9d40b1-580a-4075-8643-dfebcdd3393c",
   "metadata": {},
   "outputs": [
    {
     "name": "stdout",
     "output_type": "stream",
     "text": [
      " mert 123\n"
     ]
    },
    {
     "name": "stdout",
     "output_type": "stream",
     "text": [
      "Harf 4\n",
      "Rakam 3\n"
     ]
    }
   ],
   "source": [
    "cumle = input()\n",
    "harf, rakam = 0,0\n",
    "\n",
    "for i in cumle:\n",
    "    if i.isalpha():       \n",
    "        harf += 1\n",
    "    elif i.isnumeric():        \n",
    "        rakam += 1\n",
    "print(f\"Harf {harf}\\nRakam {rakam}\") "
   ]
  },
  {
   "cell_type": "markdown",
   "id": "d8b18c92-54de-4738-af23-ca57e2a5d8b8",
   "metadata": {},
   "source": [
    "# 14"
   ]
  },
  {
   "cell_type": "code",
   "execution_count": 112,
   "id": "198d48a0-51e6-44d3-a181-cf657bde90be",
   "metadata": {},
   "outputs": [],
   "source": [
    "# kelime temizliği"
   ]
  },
  {
   "cell_type": "code",
   "execution_count": 114,
   "id": "df0ab0fc-cc4b-444c-8341-6a89e7a2352b",
   "metadata": {},
   "outputs": [
    {
     "data": {
      "text/plain": [
       "['renault', 'fiat', 'ford']"
      ]
     },
     "execution_count": 114,
     "metadata": {},
     "output_type": "execute_result"
    }
   ],
   "source": [
    "liste_1 = [\"renault*\",\"fiat?!\",\"ford?!\"]\n",
    "[i.replace(\"?\",\"\").replace(\"!\",\"\").replace(\"*\",\"\") for i in liste_1]      # list compre."
   ]
  },
  {
   "cell_type": "code",
   "execution_count": null,
   "id": "3cfee012",
   "metadata": {},
   "outputs": [],
   "source": [
    "liste_1 = [\"renault*\",\"fiat?!\",\"ford?!\"]\n",
    "liste_2=[]\n",
    "for i in liste_1 :\n",
    "    str_1 =\"\"\n",
    "    for j in i:\n",
    "        if j.isalpha() :\n",
    "           str_1 +=j\n",
    "    liste_2.append(str_1)\n",
    "print(liste_2)  "
   ]
  },
  {
   "cell_type": "markdown",
   "id": "1e8237f1-64aa-4ea3-ab14-da5e53393f77",
   "metadata": {},
   "source": [
    "# 15"
   ]
  },
  {
   "cell_type": "code",
   "execution_count": 115,
   "id": "202c870a-223a-4020-a14b-6a2d80579e22",
   "metadata": {},
   "outputs": [],
   "source": [
    "# fonksiyona 5 sayı gönderip tek olanları yazdır"
   ]
  },
  {
   "cell_type": "code",
   "execution_count": 116,
   "id": "28037fab-400c-48bf-8f71-ba02420818f6",
   "metadata": {},
   "outputs": [],
   "source": [
    "def number(a,b,c,d,e):\n",
    "    tek = []\n",
    "    for i in [a,b,c,d,e]:       # uzun yol\n",
    "        if i % 2:\n",
    "            tek.append(i)\n",
    "    return tek"
   ]
  },
  {
   "cell_type": "code",
   "execution_count": 117,
   "id": "0c016d35-6e89-4dfb-9d04-3f214bf58237",
   "metadata": {},
   "outputs": [
    {
     "data": {
      "text/plain": [
       "[1, 3, 5]"
      ]
     },
     "execution_count": 117,
     "metadata": {},
     "output_type": "execute_result"
    }
   ],
   "source": [
    "number(1,2,3,4,5)"
   ]
  },
  {
   "cell_type": "code",
   "execution_count": 118,
   "id": "002b12ca-ad5b-4f49-a064-e3c2a002e236",
   "metadata": {},
   "outputs": [],
   "source": [
    "def number(a,b,c,d,e):\n",
    "    return list(i for i in [a,b,c,d,e] if i % 2)      # list compre."
   ]
  },
  {
   "cell_type": "code",
   "execution_count": 119,
   "id": "f6aeae15-fab3-46b5-b35f-07387d1f6e8c",
   "metadata": {},
   "outputs": [
    {
     "data": {
      "text/plain": [
       "[1, 3, 5]"
      ]
     },
     "execution_count": 119,
     "metadata": {},
     "output_type": "execute_result"
    }
   ],
   "source": [
    "number(1,2,3,4,5)"
   ]
  },
  {
   "cell_type": "code",
   "execution_count": 120,
   "id": "2bce5cac-a85b-4e84-8b68-1930167e67a8",
   "metadata": {},
   "outputs": [],
   "source": [
    "def number(a,b,c,d,e):\n",
    "    return list(map(lambda x: x % 2 == 1, [a,b,c,d,e]))     # map lambda"
   ]
  },
  {
   "cell_type": "code",
   "execution_count": 121,
   "id": "fc9b02c3-35ff-4dd9-908c-817434c06989",
   "metadata": {},
   "outputs": [
    {
     "data": {
      "text/plain": [
       "[True, False, True, False, True]"
      ]
     },
     "execution_count": 121,
     "metadata": {},
     "output_type": "execute_result"
    }
   ],
   "source": [
    "number(1,2,3,4,5)"
   ]
  },
  {
   "cell_type": "code",
   "execution_count": 122,
   "id": "2bbe01e2-d92b-482b-87ae-57dd9e501a87",
   "metadata": {},
   "outputs": [],
   "source": [
    "def number(a,b,c,d,e):\n",
    "    return list(filter(lambda x: x % 2 == 1, [a,b,c,d,e]))     # filter lambda"
   ]
  },
  {
   "cell_type": "code",
   "execution_count": 123,
   "id": "af147ba0-6c4e-4c29-b189-be20c0f2cc49",
   "metadata": {},
   "outputs": [
    {
     "data": {
      "text/plain": [
       "[1, 3, 5]"
      ]
     },
     "execution_count": 123,
     "metadata": {},
     "output_type": "execute_result"
    }
   ],
   "source": [
    "number(1,2,3,4,5)"
   ]
  },
  {
   "cell_type": "markdown",
   "id": "759cad85-aa83-434c-8ff1-b8c43f1c0cb3",
   "metadata": {},
   "source": [
    "# 16"
   ]
  },
  {
   "cell_type": "code",
   "execution_count": 124,
   "id": "df62fc5e-3b81-4c6d-8c2a-ca8d79137cb6",
   "metadata": {},
   "outputs": [],
   "source": [
    "# Kelimelerin Palindrom kontrolü:"
   ]
  },
  {
   "cell_type": "code",
   "execution_count": 125,
   "id": "c3c19310-b9ab-4404-a5f9-67adab9ec5c1",
   "metadata": {},
   "outputs": [],
   "source": [
    "# 1. yol\n",
    "def kelime(x):\n",
    "    y = x[::-1]                     # fonksiyon \n",
    "    if y == x:\n",
    "        return True\n",
    "    else:\n",
    "        return False"
   ]
  },
  {
   "cell_type": "code",
   "execution_count": 126,
   "id": "e6b3b00f-1dd0-4a25-9b2c-2859e4cabf01",
   "metadata": {},
   "outputs": [
    {
     "data": {
      "text/plain": [
       "True"
      ]
     },
     "execution_count": 126,
     "metadata": {},
     "output_type": "execute_result"
    }
   ],
   "source": [
    "kelime(\"nazan\")"
   ]
  },
  {
   "cell_type": "code",
   "execution_count": 127,
   "id": "20df3dfc-af71-47fb-b122-af18bf86f5aa",
   "metadata": {},
   "outputs": [
    {
     "data": {
      "text/plain": [
       "True"
      ]
     },
     "execution_count": 127,
     "metadata": {},
     "output_type": "execute_result"
    }
   ],
   "source": [
    "# 2. yol\n",
    "(lambda x: True if x == x[::-1] else False)(\"nazan\")      # lambda "
   ]
  },
  {
   "cell_type": "code",
   "execution_count": 128,
   "id": "af206f58-3262-4e9e-a53f-fb62e3750aa4",
   "metadata": {},
   "outputs": [
    {
     "name": "stdout",
     "output_type": "stream",
     "text": [
      "True\n"
     ]
    }
   ],
   "source": [
    "# 3. yol\n",
    "x = \"nazan\"\n",
    "print(True) if x == x[::-1] else print(False)          # ortaya karışık :)"
   ]
  },
  {
   "cell_type": "code",
   "execution_count": 129,
   "id": "65bc5021-e550-4684-b17e-6a65b54ec9ef",
   "metadata": {
    "tags": []
   },
   "outputs": [
    {
     "name": "stdout",
     "output_type": "stream",
     "text": [
      " nazan\n"
     ]
    },
    {
     "data": {
      "text/plain": [
       "[True]"
      ]
     },
     "execution_count": 129,
     "metadata": {},
     "output_type": "execute_result"
    }
   ],
   "source": [
    "# 4.yol\n",
    "list(True if x == x[::-1] else False for x in input().split())    # list comprehension"
   ]
  },
  {
   "cell_type": "markdown",
   "id": "4fc4a415-783d-4452-bb80-f7015fc65e8e",
   "metadata": {},
   "source": [
    "# 17"
   ]
  },
  {
   "cell_type": "markdown",
   "id": "9c72a30d-9c77-4a71-ab88-3284537d000e",
   "metadata": {},
   "source": [
    "Amaç: çift sayıların karesi alınarak bir sözlüğe eklenmek istemektedir.\n",
    "\n",
    "Key'ler orjinal değerler value'lar ise değiştirilmiş değerler olacak.\n"
   ]
  },
  {
   "cell_type": "code",
   "execution_count": 133,
   "id": "16f2e822-53c4-47c6-a7b8-081a0a82dad7",
   "metadata": {},
   "outputs": [
    {
     "name": "stdout",
     "output_type": "stream",
     "text": [
      "{0: 0, 2: 4, 4: 16, 6: 36, 8: 64}\n"
     ]
    }
   ],
   "source": [
    "numbers = range(10)\n",
    "new_dict = {}\n",
    "\n",
    "for n in numbers:                                # uzun yol\n",
    "    if n % 2 == 0:\n",
    "        new_dict[n] = n ** 2  \n",
    "\n",
    "print(new_dict)   "
   ]
  },
  {
   "cell_type": "code",
   "execution_count": 134,
   "id": "77b965d8-f55a-467b-946a-fd0a507f69a4",
   "metadata": {},
   "outputs": [
    {
     "data": {
      "text/plain": [
       "{0: 0, 2: 4, 4: 16, 6: 36, 8: 64}"
      ]
     },
     "execution_count": 134,
     "metadata": {},
     "output_type": "execute_result"
    }
   ],
   "source": [
    "{n: n ** 2 for n in numbers if n % 2 == 0}      # dict comprehension ile kısa yol"
   ]
  },
  {
   "cell_type": "markdown",
   "id": "c55c64c5-4cad-4638-8708-0ca44c648a44",
   "metadata": {},
   "source": [
    "# 18"
   ]
  },
  {
   "cell_type": "markdown",
   "id": "e3359c77-7f7e-4ecd-bd4d-79e52de91ce2",
   "metadata": {},
   "source": [
    "divide_students fonksiyonu yazınız.\n",
    "\n",
    "Çift indexte yer alan öğrencileri bir listeye alınız.\n",
    "\n",
    "Tek indexte yer alan öğrencileri başka bir listeye alınız.\n",
    "\n",
    "Fakat bu iki liste tek bir liste olarak return olsun."
   ]
  },
  {
   "cell_type": "code",
   "execution_count": 136,
   "id": "8f67e8dd-9859-479f-9d1e-bd9cf752e0dc",
   "metadata": {},
   "outputs": [
    {
     "name": "stdout",
     "output_type": "stream",
     "text": [
      "[['Emma', 'Justin'], ['Adam', 'Paul']]\n",
      "['Emma', 'Justin']\n",
      "['Adam', 'Paul']\n"
     ]
    }
   ],
   "source": [
    "def divide_students(students):\n",
    "    groups = [[], []]\n",
    "    for index, student in enumerate(students):        # Enumerate ile listenin elemanlarını indexledik \n",
    "        if index % 2 == 0:\n",
    "            groups[0].append(student)\n",
    "        else:\n",
    "            groups[1].append(student)\n",
    "    print(groups)\n",
    "    return groups\n",
    "\n",
    "students = [\"Emma\", \"Adam\", \"Justin\", \"Paul\"]\n",
    "st = divide_students(students)\n",
    "\n",
    "print(st[0])       # çift index\n",
    "print(st[1])       # tek index"
   ]
  },
  {
   "cell_type": "code",
   "execution_count": 137,
   "id": "4e10e10e-fa6b-43ae-8986-4e152b7e5c9d",
   "metadata": {},
   "outputs": [
    {
     "name": "stdout",
     "output_type": "stream",
     "text": [
      "(0, 'Emma') (1, 'Adam') (2, 'Justin') (3, 'Paul')\n"
     ]
    }
   ],
   "source": [
    "print(*enumerate(students))           # enumerate çalışma mantığı"
   ]
  },
  {
   "cell_type": "markdown",
   "id": "9708a21e-7259-4fd5-b20e-acd64f711678",
   "metadata": {},
   "source": [
    "# 19"
   ]
  },
  {
   "cell_type": "markdown",
   "id": "de0bfb0e-0390-44f2-abbe-30431101b63a",
   "metadata": {},
   "source": [
    " Amaç: Aşağıdaki şekilde string değiştiren fonksiyon yazmak istiyoruz.\n",
    "    \n",
    "before: \"merhabalar data science bootcamp eğitimine hoşgeldiniz\"\n",
    "\n",
    "after: \"MeRhAbAlAr dAtA ScIeNcE BoOtCaMp eĞiTiMiNe hOşGeLdInIz\""
   ]
  },
  {
   "cell_type": "code",
   "execution_count": 140,
   "id": "9cdca030-f55c-4d94-8536-6116d6bc7227",
   "metadata": {},
   "outputs": [
    {
     "name": "stdout",
     "output_type": "stream",
     "text": [
      "MeRhAbAlAr dAtA ScIeNcE BoOtCaMp eĞiTiMiNe hOşGeLdInIz\n"
     ]
    }
   ],
   "source": [
    "# yukarıdaki açıklamayı incelediğimizde çift indexlere büyük harf, tek indexlere küçük harf dönüşümü uygulanmıştır\n",
    "\n",
    "def alternating(string):\n",
    "    yeni_string = \"\"\n",
    "    # girilen string'in index'lerinde gez.\n",
    "    for string_index in range(len(string)):\n",
    "        # index çift ise büyük harfe çevir.\n",
    "        if string_index % 2 == 0:\n",
    "            yeni_string += string[string_index].upper()\n",
    "        # index tek ise küçük harfe çevir.\n",
    "        else:\n",
    "            yeni_string += string[string_index].lower()\n",
    "    print(yeni_string)\n",
    "\n",
    "alternating(\"merhabalar data science bootcamp eğitimine hoşgeldiniz\")"
   ]
  },
  {
   "cell_type": "markdown",
   "id": "f8e20efb-1e96-401a-ace8-35d41106eb08",
   "metadata": {},
   "source": [
    "# 20"
   ]
  },
  {
   "cell_type": "code",
   "execution_count": 1,
   "id": "8b957698-51a0-40a5-b5a6-890feaf07cf4",
   "metadata": {},
   "outputs": [],
   "source": [
    "# Kullanicidan aldigimiz bir degerin verilen tuple icinde olup olmadigini sorgulayan varsa kacinci indexte oldugunu f veya \n",
    "# format ile yazdiran bir kod yaziniz.\n",
    "\n",
    "# tuple_2 = (\"Python\",\"Java\",\"Ruby\",\"JavaScript\",\"Python\",\"Java\",\"python\")"
   ]
  },
  {
   "cell_type": "code",
   "execution_count": 24,
   "id": "82090a01-234b-4159-8193-bfb89e633118",
   "metadata": {},
   "outputs": [
    {
     "name": "stdout",
     "output_type": "stream",
     "text": [
      "Bir programlama dili giriniz Java\n"
     ]
    },
    {
     "name": "stdout",
     "output_type": "stream",
     "text": [
      "Aradiginiz eleman [1, 5] .indexte var\n"
     ]
    }
   ],
   "source": [
    "tuple_2 = (\"Python\",\"Java\",\"Ruby\",\"JavaScript\",\"Python\",\"Java\",\"python\")\n",
    "eleman = input(\"Bir programlama dili giriniz\")\n",
    "if eleman in tuple_2:\n",
    "    index = 0\n",
    "    liste =[]\n",
    "    for i in tuple_2:\n",
    "        if i == eleman:\n",
    "            liste.append(index)\n",
    "        index +=1\n",
    "    print(f\"Aradiginiz eleman {liste} .indexte var\")\n",
    "else :\n",
    "    print(\"Aradiginiz eleman listede yoktur\")"
   ]
  }
 ],
 "metadata": {
  "kernelspec": {
   "display_name": "Python 3 (ipykernel)",
   "language": "python",
   "name": "python3"
  },
  "language_info": {
   "codemirror_mode": {
    "name": "ipython",
    "version": 3
   },
   "file_extension": ".py",
   "mimetype": "text/x-python",
   "name": "python",
   "nbconvert_exporter": "python",
   "pygments_lexer": "ipython3",
   "version": "3.11.1"
  }
 },
 "nbformat": 4,
 "nbformat_minor": 5
}
