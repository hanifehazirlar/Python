{
 "cells": [
  {
   "attachments": {},
   "cell_type": "markdown",
   "metadata": {},
   "source": [
    "## Functions\n",
    "\n",
    "* def fonc_name(parametreler):\n",
    "\n",
    "    islem satiri"
   ]
  },
  {
   "cell_type": "code",
   "execution_count": 16,
   "metadata": {},
   "outputs": [],
   "source": [
    "def kareler_toplami(x,y):\n",
    "    '''Bu fonksiyon iki parametreli bir fonksiyondur\n",
    "       ve bu iki parametrenin karelerini alir ve sonuclarini toplar'''\n",
    "    print(x**2+y**2)"
   ]
  },
  {
   "cell_type": "code",
   "execution_count": 9,
   "metadata": {},
   "outputs": [
    {
     "name": "stdout",
     "output_type": "stream",
     "text": [
      "41\n"
     ]
    }
   ],
   "source": [
    "a = kareler_toplami(4,5)"
   ]
  },
  {
   "cell_type": "code",
   "execution_count": 13,
   "metadata": {},
   "outputs": [
    {
     "name": "stdout",
     "output_type": "stream",
     "text": [
      "None\n"
     ]
    }
   ],
   "source": [
    "print(a) # return yapmadigimiz icin None dondu"
   ]
  },
  {
   "cell_type": "code",
   "execution_count": 10,
   "metadata": {},
   "outputs": [],
   "source": [
    "a # kareler_toplami() fonksiyonu return olmadigi icin, \n",
    "  # sadece print() ile yazdirdigimiz icin geriye bir deger dondurmedi.Bu yuzden deger atamasi bos dondu"
   ]
  },
  {
   "cell_type": "code",
   "execution_count": 5,
   "metadata": {},
   "outputs": [],
   "source": [
    "def multiply(a,b):\n",
    "    return a*b"
   ]
  },
  {
   "cell_type": "code",
   "execution_count": 7,
   "metadata": {},
   "outputs": [
    {
     "data": {
      "text/plain": [
       "30"
      ]
     },
     "execution_count": 7,
     "metadata": {},
     "output_type": "execute_result"
    }
   ],
   "source": [
    "b = multiply(6,5) #multiply() fonksiyonu return old. icin deger atamasi dolu dondu.Sonucu bir islemde \n",
    "                  # kullanacaksak return yapmaliyiz"
   ]
  },
  {
   "cell_type": "code",
   "execution_count": 15,
   "metadata": {},
   "outputs": [
    {
     "name": "stdout",
     "output_type": "stream",
     "text": [
      "30\n"
     ]
    }
   ],
   "source": [
    "print(b)"
   ]
  },
  {
   "cell_type": "code",
   "execution_count": 11,
   "metadata": {},
   "outputs": [
    {
     "data": {
      "text/plain": [
       "30"
      ]
     },
     "execution_count": 11,
     "metadata": {},
     "output_type": "execute_result"
    }
   ],
   "source": [
    "b"
   ]
  },
  {
   "cell_type": "code",
   "execution_count": 17,
   "metadata": {},
   "outputs": [
    {
     "data": {
      "text/plain": [
       "'appleappleapple'"
      ]
     },
     "execution_count": 17,
     "metadata": {},
     "output_type": "execute_result"
    }
   ],
   "source": [
    "multiply(\"apple\",3)"
   ]
  },
  {
   "cell_type": "code",
   "execution_count": 18,
   "metadata": {},
   "outputs": [
    {
     "ename": "TypeError",
     "evalue": "unsupported operand type(s) for ** or pow(): 'str' and 'int'",
     "output_type": "error",
     "traceback": [
      "\u001b[1;31m---------------------------------------------------------------------------\u001b[0m",
      "\u001b[1;31mTypeError\u001b[0m                                 Traceback (most recent call last)",
      "Cell \u001b[1;32mIn[18], line 1\u001b[0m\n\u001b[1;32m----> 1\u001b[0m kareler_toplami(\u001b[39m\"\u001b[39;49m\u001b[39mapple\u001b[39;49m\u001b[39m\"\u001b[39;49m,\u001b[39m3\u001b[39;49m)\n",
      "Cell \u001b[1;32mIn[16], line 4\u001b[0m, in \u001b[0;36mkareler_toplami\u001b[1;34m(x, y)\u001b[0m\n\u001b[0;32m      1\u001b[0m \u001b[39mdef\u001b[39;00m \u001b[39mkareler_toplami\u001b[39m(x,y):\n\u001b[0;32m      2\u001b[0m \u001b[39m    \u001b[39m\u001b[39m'''Bu fonksiyon iki parametreli bir fonksiyondur\u001b[39;00m\n\u001b[0;32m      3\u001b[0m \u001b[39m       ve bu iki parametrenin karelerini alir ve sonuclarini toplar'''\u001b[39;00m\n\u001b[1;32m----> 4\u001b[0m     \u001b[39mprint\u001b[39m(x\u001b[39m*\u001b[39;49m\u001b[39m*\u001b[39;49m\u001b[39m2\u001b[39;49m\u001b[39m+\u001b[39my\u001b[39m*\u001b[39m\u001b[39m*\u001b[39m\u001b[39m2\u001b[39m)\n",
      "\u001b[1;31mTypeError\u001b[0m: unsupported operand type(s) for ** or pow(): 'str' and 'int'"
     ]
    }
   ],
   "source": [
    "kareler_toplami(\"apple\",3) # yazdigimiz parametreler isleme uygun olmali"
   ]
  },
  {
   "cell_type": "code",
   "execution_count": 1,
   "metadata": {},
   "outputs": [],
   "source": [
    "# 4 islem yapan hesap makinesi fonksiyonu olusturalim\n",
    "def hesap_makinesi(a,opr,b):\n",
    "    '''Bu fonksiyon basit 4 islem yapmak icin olusturuldu'''\n",
    "    if opr == \"+\":\n",
    "        return a+b\n",
    "    elif opr == \"-\":\n",
    "        return a-b\n",
    "    elif opr == \"*\":\n",
    "        return a*b\n",
    "    elif opr == \"/\":\n",
    "        return a/b\n",
    "    else :\n",
    "        \"Hatali giris yaptiniz\"\n",
    "       "
   ]
  },
  {
   "cell_type": "code",
   "execution_count": 2,
   "metadata": {},
   "outputs": [
    {
     "name": "stdout",
     "output_type": "stream",
     "text": [
      "Help on function hesap_makinesi in module __main__:\n",
      "\n",
      "hesap_makinesi(a, opr, b)\n",
      "    Bu fonksiyon basit 4 islem yapmak icin olusturuldu\n",
      "\n"
     ]
    }
   ],
   "source": [
    "help(hesap_makinesi)"
   ]
  },
  {
   "cell_type": "code",
   "execution_count": 3,
   "metadata": {},
   "outputs": [
    {
     "data": {
      "text/plain": [
       "10"
      ]
     },
     "execution_count": 3,
     "metadata": {},
     "output_type": "execute_result"
    }
   ],
   "source": [
    "hesap_makinesi(5,\"*\",2)"
   ]
  },
  {
   "cell_type": "code",
   "execution_count": 9,
   "metadata": {},
   "outputs": [],
   "source": [
    "def my_len(iter):\n",
    "    '''girilen iterable degerin eleman sayisini verir'''\n",
    "    count = 0\n",
    "    for i in iter: #for dongusu iterable elemanla calisir\n",
    "        count +=1\n",
    "    return count\n"
   ]
  },
  {
   "cell_type": "code",
   "execution_count": 7,
   "metadata": {},
   "outputs": [
    {
     "data": {
      "text/plain": [
       "7"
      ]
     },
     "execution_count": 7,
     "metadata": {},
     "output_type": "execute_result"
    }
   ],
   "source": [
    "my_len(\"techpro\")"
   ]
  },
  {
   "cell_type": "code",
   "execution_count": 8,
   "metadata": {},
   "outputs": [
    {
     "data": {
      "text/plain": [
       "4"
      ]
     },
     "execution_count": 8,
     "metadata": {},
     "output_type": "execute_result"
    }
   ],
   "source": [
    "my_len([1, 2, \"a\",(2,\"e\")])"
   ]
  },
  {
   "cell_type": "code",
   "execution_count": 12,
   "metadata": {},
   "outputs": [],
   "source": [
    "def my_len_1(deger):\n",
    "    '''girilen degerin eleman sayisini verir'''\n",
    "    count = 0\n",
    "    str1 = str(deger)\n",
    "    for i in str1: #for dongusu iterable elemanla calisir ama \n",
    "                    # bu fonksiyonda girilen parametreyi str a cevirdigimiz icin iterable olmayan degerlerin len ini hesaplar\n",
    "        count +=1\n",
    "    return count"
   ]
  },
  {
   "cell_type": "code",
   "execution_count": 13,
   "metadata": {},
   "outputs": [
    {
     "data": {
      "text/plain": [
       "7"
      ]
     },
     "execution_count": 13,
     "metadata": {},
     "output_type": "execute_result"
    }
   ],
   "source": [
    "my_len_1(1239059)"
   ]
  },
  {
   "cell_type": "code",
   "execution_count": 14,
   "metadata": {},
   "outputs": [],
   "source": [
    "def my_name(first_name, last_name):\n",
    "    print(f\"My name is {first_name} {last_name}\")"
   ]
  },
  {
   "cell_type": "code",
   "execution_count": 15,
   "metadata": {},
   "outputs": [
    {
     "name": "stdout",
     "output_type": "stream",
     "text": [
      "My name is hanife hazirlar\n"
     ]
    }
   ],
   "source": [
    "my_name(\"hanife\",\"hazirlar\")"
   ]
  },
  {
   "cell_type": "code",
   "execution_count": 16,
   "metadata": {},
   "outputs": [
    {
     "name": "stdout",
     "output_type": "stream",
     "text": [
      "My name is Hanife hazirlar\n"
     ]
    }
   ],
   "source": [
    "my_name(last_name=\"hazirlar\", first_name=\"Hanife\")"
   ]
  },
  {
   "cell_type": "code",
   "execution_count": 22,
   "metadata": {},
   "outputs": [
    {
     "ename": "TypeError",
     "evalue": "my_name() missing 1 required positional argument: 'last_name'",
     "output_type": "error",
     "traceback": [
      "\u001b[1;31m---------------------------------------------------------------------------\u001b[0m",
      "\u001b[1;31mTypeError\u001b[0m                                 Traceback (most recent call last)",
      "Cell \u001b[1;32mIn[22], line 1\u001b[0m\n\u001b[1;32m----> 1\u001b[0m my_name(\u001b[39m\"\u001b[39;49m\u001b[39mayse\u001b[39;49m\u001b[39m\"\u001b[39;49m)\n",
      "\u001b[1;31mTypeError\u001b[0m: my_name() missing 1 required positional argument: 'last_name'"
     ]
    }
   ],
   "source": [
    "my_name(\"ayse\") # 2 parametreli fonk.old. icin error verdi"
   ]
  },
  {
   "cell_type": "code",
   "execution_count": 18,
   "metadata": {},
   "outputs": [],
   "source": [
    "def my_name2(first_name, last_name=\"techpro\"): # burada default olarak lastname e techpro degeri verdik\n",
    "    print(f\"My name is {first_name} {last_name}\")"
   ]
  },
  {
   "cell_type": "code",
   "execution_count": 20,
   "metadata": {},
   "outputs": [
    {
     "name": "stdout",
     "output_type": "stream",
     "text": [
      "My name is ayse techpro\n"
     ]
    }
   ],
   "source": [
    "my_name2(\"ayse\") #default lastname i yazdirdi"
   ]
  },
  {
   "cell_type": "code",
   "execution_count": 21,
   "metadata": {},
   "outputs": [
    {
     "name": "stdout",
     "output_type": "stream",
     "text": [
      "My name is ayse gul\n"
     ]
    }
   ],
   "source": [
    "my_name2(\"ayse\",\"gul\") #burada defaultu kullanmadi bizim verdigimiz degeri yazdirdi"
   ]
  },
  {
   "cell_type": "code",
   "execution_count": 24,
   "metadata": {},
   "outputs": [
    {
     "ename": "SyntaxError",
     "evalue": "non-default argument follows default argument (2533048365.py, line 1)",
     "output_type": "error",
     "traceback": [
      "\u001b[1;36m  Cell \u001b[1;32mIn[24], line 1\u001b[1;36m\u001b[0m\n\u001b[1;33m    def my_name3(first_name, second_name = \"Ali\",last_name): #default degerli yazim(positinal) sonda olmali\u001b[0m\n\u001b[1;37m                                                 ^\u001b[0m\n\u001b[1;31mSyntaxError\u001b[0m\u001b[1;31m:\u001b[0m non-default argument follows default argument\n"
     ]
    }
   ],
   "source": [
    "def my_name3(first_name, second_name = \"Ali\",last_name): #default degerli yazim(positinal) sonda olmali\n",
    "    print(f\"My name is {first_name} {second_name} {last_name}\")"
   ]
  },
  {
   "cell_type": "code",
   "execution_count": 27,
   "metadata": {},
   "outputs": [],
   "source": [
    "def my_name4(first_name,last_name , second_name = \"Ali\"):\n",
    "     print(f\"My name is {first_name} {second_name} {last_name}\")"
   ]
  },
  {
   "cell_type": "code",
   "execution_count": 29,
   "metadata": {},
   "outputs": [
    {
     "name": "stdout",
     "output_type": "stream",
     "text": [
      "My name is Ayse Ali Gul\n"
     ]
    }
   ],
   "source": [
    "my_name4(\"Ayse\",\"Gul\") #default olarak Ali yazdirdi"
   ]
  },
  {
   "cell_type": "code",
   "execution_count": 32,
   "metadata": {},
   "outputs": [],
   "source": [
    "def my_name5(first_name,last_name =\"gul\" , second_name = \"Ali\"):\n",
    "     print(f\"My name is {first_name} {second_name} {last_name}\")"
   ]
  },
  {
   "cell_type": "code",
   "execution_count": 33,
   "metadata": {},
   "outputs": [
    {
     "name": "stdout",
     "output_type": "stream",
     "text": [
      "My name is ayse Ali gul\n"
     ]
    }
   ],
   "source": [
    "my_name5(\"ayse\") #birden fazla default deger kullanabiliriz"
   ]
  },
  {
   "cell_type": "code",
   "execution_count": 39,
   "metadata": {},
   "outputs": [],
   "source": [
    "a = \"Adana\"\n",
    "b = \"I\"\n",
    "c = \"\\U00002764\""
   ]
  },
  {
   "cell_type": "code",
   "execution_count": 34,
   "metadata": {},
   "outputs": [
    {
     "data": {
      "text/plain": [
       "'❤'"
      ]
     },
     "execution_count": 34,
     "metadata": {},
     "output_type": "execute_result"
    }
   ],
   "source": [
    "\"\\U00002764\""
   ]
  },
  {
   "cell_type": "code",
   "execution_count": 37,
   "metadata": {},
   "outputs": [],
   "source": [
    "def lover(pos1, pos2, pos3):\n",
    "    print(pos2,pos3,pos1) #hangi sirada yazarsak o siraya gore cagirir, print icindeki siraya gore yazdirir"
   ]
  },
  {
   "cell_type": "code",
   "execution_count": 40,
   "metadata": {},
   "outputs": [
    {
     "name": "stdout",
     "output_type": "stream",
     "text": [
      "I ❤ Adana\n"
     ]
    }
   ],
   "source": [
    "lover(a, b, c)"
   ]
  },
  {
   "cell_type": "code",
   "execution_count": 41,
   "metadata": {},
   "outputs": [
    {
     "name": "stdout",
     "output_type": "stream",
     "text": [
      "I love Adana\n"
     ]
    }
   ],
   "source": [
    "lover(a, b, pos3=\"love\") # bu sekilde fonksiyonlar icinde degisiklikler yapabiliyoruz"
   ]
  },
  {
   "cell_type": "code",
   "execution_count": 42,
   "metadata": {},
   "outputs": [
    {
     "name": "stdout",
     "output_type": "stream",
     "text": [
      "seviyorum seni Ben\n"
     ]
    }
   ],
   "source": [
    "lover(\"Ben\", \"seviyorum\", \"seni\")"
   ]
  },
  {
   "cell_type": "code",
   "execution_count": 48,
   "metadata": {},
   "outputs": [],
   "source": [
    "def odd_num(a, b, c, d,e):\n",
    "    list1= [a, b,c,d,e]\n",
    "    odd_num = []\n",
    "    for i in list1:\n",
    "        if i %2  :\n",
    "         odd_num.append(i)\n",
    "    return odd_num  \n",
    "        \n",
    "  "
   ]
  },
  {
   "cell_type": "code",
   "execution_count": 49,
   "metadata": {},
   "outputs": [
    {
     "data": {
      "text/plain": [
       "[5, 95]"
      ]
     },
     "execution_count": 49,
     "metadata": {},
     "output_type": "execute_result"
    }
   ],
   "source": [
    "odd_num(2,5,8,95,64)"
   ]
  },
  {
   "cell_type": "code",
   "execution_count": null,
   "metadata": {},
   "outputs": [],
   "source": [
    "def odd_num1(a, b, c, d,e):\n",
    "    odd_num = []\n",
    "    for i in a, b, c, d,e:\n",
    "        if i %2  :\n",
    "         odd_num.append(i)\n",
    "    return odd_num  "
   ]
  },
  {
   "cell_type": "code",
   "execution_count": null,
   "metadata": {},
   "outputs": [],
   "source": [
    "odd_num1(1,3,6,0,2)"
   ]
  }
 ],
 "metadata": {
  "kernelspec": {
   "display_name": "Python 3",
   "language": "python",
   "name": "python3"
  },
  "language_info": {
   "codemirror_mode": {
    "name": "ipython",
    "version": 3
   },
   "file_extension": ".py",
   "mimetype": "text/x-python",
   "name": "python",
   "nbconvert_exporter": "python",
   "pygments_lexer": "ipython3",
   "version": "3.11.1"
  },
  "orig_nbformat": 4,
  "vscode": {
   "interpreter": {
    "hash": "74cc819deff76c29e4928f7ff26e3eddcbba8fed33adfaaa19de16534a73accc"
   }
  }
 },
 "nbformat": 4,
 "nbformat_minor": 2
}
