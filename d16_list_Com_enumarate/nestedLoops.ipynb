{
 "cells": [
  {
   "attachments": {},
   "cell_type": "markdown",
   "metadata": {},
   "source": [
    "## Nested Loops"
   ]
  },
  {
   "cell_type": "code",
   "execution_count": 1,
   "metadata": {},
   "outputs": [
    {
     "name": "stdout",
     "output_type": "stream",
     "text": [
      "Murat 1\n",
      "Murat 2\n",
      "Murat 3\n",
      "Murat 4\n",
      "Murat 5\n",
      "Filiz 1\n",
      "Filiz 2\n",
      "Filiz 3\n",
      "Filiz 4\n",
      "Filiz 5\n",
      "Techpro 1\n",
      "Techpro 2\n",
      "Techpro 3\n",
      "Techpro 4\n",
      "Techpro 5\n"
     ]
    }
   ],
   "source": [
    "for i in [\"Murat\", \"Filiz\", \"Techpro\"] : # matematikteki dagilma mantigi ile calisiyor\n",
    "    for j in [1, 2, 3, 4, 5]:\n",
    "        print(i,j)"
   ]
  },
  {
   "cell_type": "code",
   "execution_count": 2,
   "metadata": {},
   "outputs": [
    {
     "name": "stdout",
     "output_type": "stream",
     "text": [
      "1 a x\n",
      "1 a y\n",
      "1 b x\n",
      "1 b y\n",
      "1 c x\n",
      "1 c y\n",
      "2 a x\n",
      "2 a y\n",
      "2 b x\n",
      "2 b y\n",
      "2 c x\n",
      "2 c y\n",
      "3 a x\n",
      "3 a y\n",
      "3 b x\n",
      "3 b y\n",
      "3 c x\n",
      "3 c y\n",
      "4 a x\n",
      "4 a y\n",
      "4 b x\n",
      "4 b y\n",
      "4 c x\n",
      "4 c y\n"
     ]
    }
   ],
   "source": [
    "for i in [1, 2, 3, 4] :\n",
    "    for j in ['a', 'b', 'c']:\n",
    "        for k in ['x', 'y']:\n",
    "            print(i, j, k)"
   ]
  },
  {
   "cell_type": "code",
   "execution_count": 4,
   "metadata": {},
   "outputs": [
    {
     "name": "stdout",
     "output_type": "stream",
     "text": [
      "0 x 0 = 0\n",
      "0 x 1 = 0\n",
      "0 x 2 = 0\n",
      "0 x 3 = 0\n",
      "0 x 4 = 0\n",
      "0 x 5 = 0\n",
      "0 x 6 = 0\n",
      "0 x 7 = 0\n",
      "0 x 8 = 0\n",
      "0 x 9 = 0\n",
      "0 x 10 = 0\n",
      "1 x 0 = 0\n",
      "1 x 1 = 1\n",
      "1 x 2 = 2\n",
      "1 x 3 = 3\n",
      "1 x 4 = 4\n",
      "1 x 5 = 5\n",
      "1 x 6 = 6\n",
      "1 x 7 = 7\n",
      "1 x 8 = 8\n",
      "1 x 9 = 9\n",
      "1 x 10 = 10\n",
      "2 x 0 = 0\n",
      "2 x 1 = 2\n",
      "2 x 2 = 4\n",
      "2 x 3 = 6\n",
      "2 x 4 = 8\n",
      "2 x 5 = 10\n",
      "2 x 6 = 12\n",
      "2 x 7 = 14\n",
      "2 x 8 = 16\n",
      "2 x 9 = 18\n",
      "2 x 10 = 20\n",
      "3 x 0 = 0\n",
      "3 x 1 = 3\n",
      "3 x 2 = 6\n",
      "3 x 3 = 9\n",
      "3 x 4 = 12\n",
      "3 x 5 = 15\n",
      "3 x 6 = 18\n",
      "3 x 7 = 21\n",
      "3 x 8 = 24\n",
      "3 x 9 = 27\n",
      "3 x 10 = 30\n",
      "4 x 0 = 0\n",
      "4 x 1 = 4\n",
      "4 x 2 = 8\n",
      "4 x 3 = 12\n",
      "4 x 4 = 16\n",
      "4 x 5 = 20\n",
      "4 x 6 = 24\n",
      "4 x 7 = 28\n",
      "4 x 8 = 32\n",
      "4 x 9 = 36\n",
      "4 x 10 = 40\n",
      "5 x 0 = 0\n",
      "5 x 1 = 5\n",
      "5 x 2 = 10\n",
      "5 x 3 = 15\n",
      "5 x 4 = 20\n",
      "5 x 5 = 25\n",
      "5 x 6 = 30\n",
      "5 x 7 = 35\n",
      "5 x 8 = 40\n",
      "5 x 9 = 45\n",
      "5 x 10 = 50\n",
      "6 x 0 = 0\n",
      "6 x 1 = 6\n",
      "6 x 2 = 12\n",
      "6 x 3 = 18\n",
      "6 x 4 = 24\n",
      "6 x 5 = 30\n",
      "6 x 6 = 36\n",
      "6 x 7 = 42\n",
      "6 x 8 = 48\n",
      "6 x 9 = 54\n",
      "6 x 10 = 60\n",
      "7 x 0 = 0\n",
      "7 x 1 = 7\n",
      "7 x 2 = 14\n",
      "7 x 3 = 21\n",
      "7 x 4 = 28\n",
      "7 x 5 = 35\n",
      "7 x 6 = 42\n",
      "7 x 7 = 49\n",
      "7 x 8 = 56\n",
      "7 x 9 = 63\n",
      "7 x 10 = 70\n",
      "8 x 0 = 0\n",
      "8 x 1 = 8\n",
      "8 x 2 = 16\n",
      "8 x 3 = 24\n",
      "8 x 4 = 32\n",
      "8 x 5 = 40\n",
      "8 x 6 = 48\n",
      "8 x 7 = 56\n",
      "8 x 8 = 64\n",
      "8 x 9 = 72\n",
      "8 x 10 = 80\n",
      "9 x 0 = 0\n",
      "9 x 1 = 9\n",
      "9 x 2 = 18\n",
      "9 x 3 = 27\n",
      "9 x 4 = 36\n",
      "9 x 5 = 45\n",
      "9 x 6 = 54\n",
      "9 x 7 = 63\n",
      "9 x 8 = 72\n",
      "9 x 9 = 81\n",
      "9 x 10 = 90\n",
      "10 x 0 = 0\n",
      "10 x 1 = 10\n",
      "10 x 2 = 20\n",
      "10 x 3 = 30\n",
      "10 x 4 = 40\n",
      "10 x 5 = 50\n",
      "10 x 6 = 60\n",
      "10 x 7 = 70\n",
      "10 x 8 = 80\n",
      "10 x 9 = 90\n",
      "10 x 10 = 100\n"
     ]
    }
   ],
   "source": [
    "for i in range(11):\n",
    "    for j in range(11):\n",
    "        print(f\"{i} x {j} = {i*j}\")"
   ]
  },
  {
   "cell_type": "code",
   "execution_count": 9,
   "metadata": {},
   "outputs": [
    {
     "name": "stdout",
     "output_type": "stream",
     "text": [
      "152\n",
      "girilenSayi amstrong sayi degildir \n"
     ]
    }
   ],
   "source": [
    "# Kullanicidan aldigimiz bir sayinin amstrong bir sayi olup olmadigini kontrol ediniz\n",
    "num = int(input(\"Enter a number\")) # 407\n",
    "num1=num\n",
    "sayininKuplerToplami=0\n",
    "while(num>0) :\n",
    "    basamak = num % 10\n",
    "    sayininKuplerToplami +=(basamak*basamak*basamak)\n",
    "    num = num//10\n",
    "print(sayininKuplerToplami)\n",
    "if(num1==sayininKuplerToplami):\n",
    "    print(\"girilenSayi amstrong sayidir\")\n",
    "else :\n",
    "    print(\"girilenSayi amstrong sayi degildir \")"
   ]
  },
  {
   "cell_type": "code",
   "execution_count": null,
   "metadata": {},
   "outputs": [],
   "source": [
    "x = input(\"bir sayı giriniz\")\n",
    "uzunluk = len(x)\n",
    "\n",
    "toplam = 0\n",
    "\n",
    "for i in x:\n",
    "    toplam += int(i) ** uzunluk\n",
    "    \n",
    "if toplam == int(x):\n",
    "    print(\"Girdiğiniz sayi Armstrong bir sayidir\")\n",
    "else:\n",
    "    print(\"girdiğiniz sayi Armstrong değildir\")"
   ]
  },
  {
   "cell_type": "code",
   "execution_count": 15,
   "metadata": {},
   "outputs": [
    {
     "name": "stdout",
     "output_type": "stream",
     "text": [
      "[153, 370, 371, 407]\n"
     ]
    }
   ],
   "source": [
    "# 10 ile 10000 arasindaki amstrong sayilari bulun\n",
    "\n",
    "empty_List =[]\n",
    "for i in range(10, 10001): \n",
    " num =i  \n",
    " sayininKuplerToplami=0\n",
    " while(i>0) :\n",
    "    basamak = i % 10\n",
    "    sayininKuplerToplami +=(basamak*basamak*basamak)\n",
    "    i = i//10\n",
    " if(num==sayininKuplerToplami):\n",
    "    empty_List.append(num)\n",
    "print(empty_List)"
   ]
  },
  {
   "cell_type": "code",
   "execution_count": 16,
   "metadata": {},
   "outputs": [
    {
     "data": {
      "text/plain": [
       "[153, 370, 371, 407, 1634, 8208, 9474]"
      ]
     },
     "execution_count": 16,
     "metadata": {},
     "output_type": "execute_result"
    }
   ],
   "source": [
    "empty_list_1 =[]\n",
    "for x in range(10,10001):\n",
    "    uzunluk = len(str(x))\n",
    "\n",
    "    toplam = 0\n",
    "\n",
    "    toplam = sum([int(i) ** uzunluk for i in str(x)])\n",
    "        \n",
    "        \n",
    "    if toplam == int(x):\n",
    "        empty_list_1.append(x)\n",
    "\n",
    "empty_list_1"
   ]
  }
 ],
 "metadata": {
  "kernelspec": {
   "display_name": "Python 3",
   "language": "python",
   "name": "python3"
  },
  "language_info": {
   "codemirror_mode": {
    "name": "ipython",
    "version": 3
   },
   "file_extension": ".py",
   "mimetype": "text/x-python",
   "name": "python",
   "nbconvert_exporter": "python",
   "pygments_lexer": "ipython3",
   "version": "3.11.1"
  },
  "orig_nbformat": 4,
  "vscode": {
   "interpreter": {
    "hash": "74cc819deff76c29e4928f7ff26e3eddcbba8fed33adfaaa19de16534a73accc"
   }
  }
 },
 "nbformat": 4,
 "nbformat_minor": 2
}
