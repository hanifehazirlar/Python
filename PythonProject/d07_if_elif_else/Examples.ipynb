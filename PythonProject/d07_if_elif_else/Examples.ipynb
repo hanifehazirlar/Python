{
 "cells": [
  {
   "cell_type": "code",
   "execution_count": 16,
   "metadata": {},
   "outputs": [
    {
     "name": "stdout",
     "output_type": "stream",
     "text": [
      "8765  sec = 2 hr 146 min 5 sec\n"
     ]
    }
   ],
   "source": [
    "#Write the code that gives how many hours, how many minutes, how many seconds are 8765 seconds\n",
    "time = 8765\n",
    "hour = time//3600\n",
    "minute = time//60\n",
    "second =time%60\n",
    "print(time,\" sec =\",hour,\"hr\",minute, \"min\",second,\"sec\")\n"
   ]
  },
  {
   "cell_type": "code",
   "execution_count": 14,
   "metadata": {},
   "outputs": [
    {
     "name": "stdout",
     "output_type": "stream",
     "text": [
      "8765 sn = 2 sa 146 dk 5 sn \n"
     ]
    }
   ],
   "source": [
    "print(f\"{time} sec = {hour} hr {minute} dk {second} sec \")"
   ]
  },
  {
   "cell_type": "code",
   "execution_count": 18,
   "metadata": {},
   "outputs": [
    {
     "name": "stdout",
     "output_type": "stream",
     "text": [
      "8765 sec = 2 hr 146 min 5 sec\n"
     ]
    }
   ],
   "source": [
    "print(\"{} sec = {} hr {} min {} sec\".format(time,hour,minute,second))"
   ]
  },
  {
   "cell_type": "code",
   "execution_count": 19,
   "metadata": {},
   "outputs": [
    {
     "data": {
      "text/plain": [
       "7"
      ]
     },
     "execution_count": 19,
     "metadata": {},
     "output_type": "execute_result"
    }
   ],
   "source": [
    "len(\"Techpro\")"
   ]
  }
 ],
 "metadata": {
  "kernelspec": {
   "display_name": "Python 3",
   "language": "python",
   "name": "python3"
  },
  "language_info": {
   "codemirror_mode": {
    "name": "ipython",
    "version": 3
   },
   "file_extension": ".py",
   "mimetype": "text/x-python",
   "name": "python",
   "nbconvert_exporter": "python",
   "pygments_lexer": "ipython3",
   "version": "3.11.1"
  },
  "orig_nbformat": 4,
  "vscode": {
   "interpreter": {
    "hash": "74cc819deff76c29e4928f7ff26e3eddcbba8fed33adfaaa19de16534a73accc"
   }
  }
 },
 "nbformat": 4,
 "nbformat_minor": 2
}
