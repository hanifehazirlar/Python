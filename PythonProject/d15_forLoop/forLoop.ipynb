{
 "cells": [
  {
   "attachments": {},
   "cell_type": "markdown",
   "metadata": {},
   "source": [
    "## for loops\n",
    "\n",
    "    for degiskeni in iterable :\n",
    "\n",
    "      islem satiri/lari"
   ]
  },
  {
   "cell_type": "code",
   "execution_count": 1,
   "metadata": {},
   "outputs": [
    {
     "name": "stdout",
     "output_type": "stream",
     "text": [
      "t\n",
      "e\n",
      "c\n",
      "h\n",
      "p\n",
      "r\n",
      "o\n"
     ]
    }
   ],
   "source": [
    "for i in \"techpro\":\n",
    " print(i)"
   ]
  },
  {
   "cell_type": "code",
   "execution_count": null,
   "metadata": {},
   "outputs": [],
   "source": [
    "for i in \"False\":\n",
    "    print(i)"
   ]
  },
  {
   "cell_type": "code",
   "execution_count": null,
   "metadata": {},
   "outputs": [],
   "source": []
  },
  {
   "cell_type": "code",
   "execution_count": null,
   "metadata": {},
   "outputs": [
    {
     "ename": "TypeError",
     "evalue": "'int' object is not iterable",
     "output_type": "error",
     "traceback": [
      "\u001b[1;31m---------------------------------------------------------------------------\u001b[0m",
      "\u001b[1;31mTypeError\u001b[0m                                 Traceback (most recent call last)",
      "Cell \u001b[1;32mIn[2], line 1\u001b[0m\n\u001b[1;32m----> 1\u001b[0m \u001b[39mfor\u001b[39;00m i \u001b[39min\u001b[39;00m \u001b[39m1453\u001b[39m :\n\u001b[0;32m      2\u001b[0m     \u001b[39mprint\u001b[39m(i)\n",
      "\u001b[1;31mTypeError\u001b[0m: 'int' object is not iterable"
     ]
    }
   ],
   "source": [
    "for i in 1453 : # 1453 int iterable olmadigi icin error verdi. \n",
    "                # icinde aradigimiz iterable(Lists, tuples, string, and sets) olmali\n",
    "    print(i)"
   ]
  },
  {
   "cell_type": "code",
   "execution_count": 3,
   "metadata": {},
   "outputs": [
    {
     "name": "stdout",
     "output_type": "stream",
     "text": [
      "ahmet\n",
      "Ali\n",
      "Ayse\n"
     ]
    }
   ],
   "source": [
    "for i in [\"ahmet\",\"Ali\",\"Ayse\"]:\n",
    "    print(i)"
   ]
  },
  {
   "cell_type": "code",
   "execution_count": 13,
   "metadata": {},
   "outputs": [
    {
     "data": {
      "text/plain": [
       "[1, 5, 3, 9, 0]"
      ]
     },
     "execution_count": 13,
     "metadata": {},
     "output_type": "execute_result"
    }
   ],
   "source": [
    "list_1 = [1,5,3,9,0]\n",
    "list_1"
   ]
  },
  {
   "cell_type": "code",
   "execution_count": 5,
   "metadata": {},
   "outputs": [
    {
     "name": "stdout",
     "output_type": "stream",
     "text": [
      "1\n",
      "25\n",
      "9\n",
      "81\n",
      "0\n"
     ]
    }
   ],
   "source": [
    "for i in list_1 :\n",
    "    print(i**2)"
   ]
  },
  {
   "cell_type": "code",
   "execution_count": 21,
   "metadata": {},
   "outputs": [
    {
     "name": "stdout",
     "output_type": "stream",
     "text": [
      "1-25-9-81-0\n"
     ]
    }
   ],
   "source": [
    "empty_str =\"\"\n",
    "for i in list_1 :\n",
    "    empty_str +=str(i**2) + \"-\"\n",
    "print(empty_str.rstrip(\"-\")) #rstrip() methodu string bir ifadenin sondaki elemani siler"
   ]
  },
  {
   "cell_type": "code",
   "execution_count": 15,
   "metadata": {},
   "outputs": [
    {
     "name": "stdout",
     "output_type": "stream",
     "text": [
      "t-e-c-h-p-r-o\n"
     ]
    }
   ],
   "source": [
    "empty_str = \"\"\n",
    "for i in \"techpro\":\n",
    "    empty_str += i + \"-\"\n",
    "print(empty_str.rstrip(\"-\"))"
   ]
  },
  {
   "cell_type": "code",
   "execution_count": 22,
   "metadata": {},
   "outputs": [
    {
     "name": "stdout",
     "output_type": "stream",
     "text": [
      "['t', '-', 'e', '-', 'c', '-', 'p', '-', 'r', '-', 'o', '-']\n"
     ]
    }
   ],
   "source": [
    "empty_list = []\n",
    "for i in \"tecpro\" :\n",
    "    empty_list.append(i)\n",
    "    empty_list.append(\"-\")\n",
    "print(empty_list)\n"
   ]
  },
  {
   "cell_type": "code",
   "execution_count": null,
   "metadata": {},
   "outputs": [],
   "source": [
    "empty_list = []\n",
    "for i in \"tecpro\" :\n",
    "    empty_list.append(i)\n",
    "    empty_list.append(\"-\")\n",
    "empty_list.pop()\n",
    "print(empty_list)"
   ]
  },
  {
   "cell_type": "code",
   "execution_count": 23,
   "metadata": {},
   "outputs": [
    {
     "name": "stdout",
     "output_type": "stream",
     "text": [
      "t-e-c-p-r-o\n"
     ]
    }
   ],
   "source": [
    "empty_list = []\n",
    "for i in \"tecpro\" :\n",
    "    empty_list.append(i)\n",
    "    empty_list.append(\"-\")\n",
    "empty_list.pop()\n",
    "print(\"\".join(empty_list))"
   ]
  },
  {
   "cell_type": "code",
   "execution_count": 25,
   "metadata": {},
   "outputs": [
    {
     "data": {
      "text/plain": [
       "('1', '2', '3', '4', '5')"
      ]
     },
     "execution_count": 25,
     "metadata": {},
     "output_type": "execute_result"
    }
   ],
   "source": [
    "a = tuple(\"12345\")\n",
    "a"
   ]
  },
  {
   "cell_type": "code",
   "execution_count": 26,
   "metadata": {},
   "outputs": [
    {
     "name": "stdout",
     "output_type": "stream",
     "text": [
      "1\n",
      "2\n",
      "3\n",
      "4\n",
      "5\n"
     ]
    }
   ],
   "source": [
    "for i in a:\n",
    "    print(i)"
   ]
  },
  {
   "cell_type": "code",
   "execution_count": 27,
   "metadata": {},
   "outputs": [
    {
     "name": "stdout",
     "output_type": "stream",
     "text": [
      "{'n', 't', 'h', 'i', 's', 'a', 'b'}\n"
     ]
    }
   ],
   "source": [
    "b = set(\"sabahattin\")\n",
    "print(b)"
   ]
  },
  {
   "cell_type": "code",
   "execution_count": 28,
   "metadata": {},
   "outputs": [
    {
     "name": "stdout",
     "output_type": "stream",
     "text": [
      "n\n",
      "t\n",
      "h\n",
      "i\n",
      "s\n",
      "a\n",
      "b\n"
     ]
    }
   ],
   "source": [
    "for i in b :\n",
    "    print(i)"
   ]
  },
  {
   "cell_type": "code",
   "execution_count": 29,
   "metadata": {},
   "outputs": [
    {
     "data": {
      "text/plain": [
       "{'name': 'ismet', 'job': 'data scientist', 'age': '25'}"
      ]
     },
     "execution_count": 29,
     "metadata": {},
     "output_type": "execute_result"
    }
   ],
   "source": [
    "dict_1 = {\"name\": \"ismet\",\"job\" : \"data scientist\",\"age\": \"25\"}\n",
    "dict_1"
   ]
  },
  {
   "cell_type": "code",
   "execution_count": 30,
   "metadata": {},
   "outputs": [
    {
     "name": "stdout",
     "output_type": "stream",
     "text": [
      "name\n",
      "job\n",
      "age\n"
     ]
    }
   ],
   "source": [
    "for i in dict_1:\n",
    "    print(i)"
   ]
  },
  {
   "cell_type": "code",
   "execution_count": 32,
   "metadata": {},
   "outputs": [
    {
     "name": "stdout",
     "output_type": "stream",
     "text": [
      "name\n",
      "job\n",
      "age\n"
     ]
    }
   ],
   "source": [
    "for i in dict_1.keys():\n",
    "    print(i)"
   ]
  },
  {
   "cell_type": "code",
   "execution_count": 33,
   "metadata": {},
   "outputs": [
    {
     "name": "stdout",
     "output_type": "stream",
     "text": [
      "ismet\n",
      "data scientist\n",
      "25\n"
     ]
    }
   ],
   "source": [
    "for i in dict_1.values():\n",
    "    print(i)"
   ]
  },
  {
   "cell_type": "code",
   "execution_count": 34,
   "metadata": {},
   "outputs": [
    {
     "data": {
      "text/plain": [
       "dict_items([('name', 'ismet'), ('job', 'data scientist'), ('age', '25')])"
      ]
     },
     "execution_count": 34,
     "metadata": {},
     "output_type": "execute_result"
    }
   ],
   "source": [
    "dict_1.items()"
   ]
  },
  {
   "cell_type": "code",
   "execution_count": 35,
   "metadata": {},
   "outputs": [
    {
     "name": "stdout",
     "output_type": "stream",
     "text": [
      "name ismet\n",
      "job data scientist\n",
      "age 25\n"
     ]
    }
   ],
   "source": [
    "for i, j in dict_1.items():\n",
    "    print(i, j)"
   ]
  },
  {
   "cell_type": "code",
   "execution_count": 37,
   "metadata": {},
   "outputs": [
    {
     "name": "stdout",
     "output_type": "stream",
     "text": [
      "key : name      , value : ismet     \n",
      "key : surname   , value : yılmaz    \n",
      "key : age       , value : 25        \n"
     ]
    }
   ],
   "source": [
    "dict_2 = {\"name\" : \"ismet\", \"surname\" : \"yılmaz\", \"age\" : 25}\n",
    "for i, j in dict_2.items():\n",
    "    print(f\"key : {i:<10}, value : {j:<10}\") # burada :<10 ile 10 karakter icinde sola yaslama yapar \n",
    "                                             # boylece daha duzgun bir goruntu elde ederiz"
   ]
  },
  {
   "cell_type": "code",
   "execution_count": null,
   "metadata": {},
   "outputs": [],
   "source": [
    "#calistirma sonsuz dongu\n",
    "'''aa = [1, 2, 3]\n",
    "for i in aa :\n",
    "    print(i)\n",
    "    aa.append(i\n",
    "    )'''"
   ]
  },
  {
   "cell_type": "code",
   "execution_count": 42,
   "metadata": {},
   "outputs": [
    {
     "name": "stdout",
     "output_type": "stream",
     "text": [
      "1.Bu yaziyi 50 defa yazdirdik\n",
      "2.Bu yaziyi 50 defa yazdirdik\n",
      "3.Bu yaziyi 50 defa yazdirdik\n",
      "4.Bu yaziyi 50 defa yazdirdik\n",
      "5.Bu yaziyi 50 defa yazdirdik\n",
      "6.Bu yaziyi 50 defa yazdirdik\n",
      "7.Bu yaziyi 50 defa yazdirdik\n",
      "8.Bu yaziyi 50 defa yazdirdik\n",
      "9.Bu yaziyi 50 defa yazdirdik\n",
      "10.Bu yaziyi 50 defa yazdirdik\n",
      "11.Bu yaziyi 50 defa yazdirdik\n",
      "12.Bu yaziyi 50 defa yazdirdik\n",
      "13.Bu yaziyi 50 defa yazdirdik\n",
      "14.Bu yaziyi 50 defa yazdirdik\n",
      "15.Bu yaziyi 50 defa yazdirdik\n",
      "16.Bu yaziyi 50 defa yazdirdik\n",
      "17.Bu yaziyi 50 defa yazdirdik\n",
      "18.Bu yaziyi 50 defa yazdirdik\n",
      "19.Bu yaziyi 50 defa yazdirdik\n",
      "20.Bu yaziyi 50 defa yazdirdik\n",
      "21.Bu yaziyi 50 defa yazdirdik\n",
      "22.Bu yaziyi 50 defa yazdirdik\n",
      "23.Bu yaziyi 50 defa yazdirdik\n",
      "24.Bu yaziyi 50 defa yazdirdik\n",
      "25.Bu yaziyi 50 defa yazdirdik\n",
      "26.Bu yaziyi 50 defa yazdirdik\n",
      "27.Bu yaziyi 50 defa yazdirdik\n",
      "28.Bu yaziyi 50 defa yazdirdik\n",
      "29.Bu yaziyi 50 defa yazdirdik\n",
      "30.Bu yaziyi 50 defa yazdirdik\n",
      "31.Bu yaziyi 50 defa yazdirdik\n",
      "32.Bu yaziyi 50 defa yazdirdik\n",
      "33.Bu yaziyi 50 defa yazdirdik\n",
      "34.Bu yaziyi 50 defa yazdirdik\n",
      "35.Bu yaziyi 50 defa yazdirdik\n",
      "36.Bu yaziyi 50 defa yazdirdik\n",
      "37.Bu yaziyi 50 defa yazdirdik\n",
      "38.Bu yaziyi 50 defa yazdirdik\n",
      "39.Bu yaziyi 50 defa yazdirdik\n",
      "40.Bu yaziyi 50 defa yazdirdik\n",
      "41.Bu yaziyi 50 defa yazdirdik\n",
      "42.Bu yaziyi 50 defa yazdirdik\n",
      "43.Bu yaziyi 50 defa yazdirdik\n",
      "44.Bu yaziyi 50 defa yazdirdik\n",
      "45.Bu yaziyi 50 defa yazdirdik\n",
      "46.Bu yaziyi 50 defa yazdirdik\n",
      "47.Bu yaziyi 50 defa yazdirdik\n",
      "48.Bu yaziyi 50 defa yazdirdik\n",
      "49.Bu yaziyi 50 defa yazdirdik\n",
      "50.Bu yaziyi 50 defa yazdirdik\n"
     ]
    }
   ],
   "source": [
    "string = \"\"\n",
    "for i in range(1,51):\n",
    "\n",
    "    print(f\"{i}.Bu yaziyi 50 defa yazdirdik\")\n",
    "  \n"
   ]
  },
  {
   "cell_type": "code",
   "execution_count": 9,
   "metadata": {},
   "outputs": [
    {
     "name": "stdout",
     "output_type": "stream",
     "text": [
      "1  x  9 = 9\n",
      "2  x  9 = 18\n",
      "3  x  9 = 27\n",
      "4  x  9 = 36\n",
      "5  x  9 = 45\n",
      "6  x  9 = 54\n",
      "7  x  9 = 63\n",
      "8  x  9 = 72\n",
      "9  x  9 = 81\n",
      "10 x  9 = 90\n"
     ]
    }
   ],
   "source": [
    "num =int(input(\"Enter a number between 0 and 10\"))\n",
    "if num>0 and num<10 :\n",
    " for i in [1,2,3,4,5,6,7,8,9,10]: # burayi range(1,11) yazabilirdim\n",
    "    print(f\"{i:<2} x  {num} = {i*num}\") # daha duzgun bir goruntu icin :<2 kullandik\n",
    "else :\n",
    "  print(\"Enter a number between 0 and 10\")  "
   ]
  },
  {
   "cell_type": "code",
   "execution_count": 11,
   "metadata": {},
   "outputs": [
    {
     "name": "stdout",
     "output_type": "stream",
     "text": [
      "Enter a number between 0 and 10\n",
      "Enter a number between 0 and 10\n",
      "Enter a number between 0 and 10\n",
      "1  x  5 = 5\n",
      "2  x  5 = 10\n",
      "3  x  5 = 15\n",
      "4  x  5 = 20\n",
      "5  x  5 = 25\n",
      "6  x  5 = 30\n",
      "7  x  5 = 35\n",
      "8  x  5 = 40\n",
      "9  x  5 = 45\n",
      "10 x  5 = 50\n"
     ]
    }
   ],
   "source": [
    "while True :\n",
    " num =int(input(\"Enter a number between 0 and 10\"))\n",
    " if num>0 and num<10 :\n",
    "  for i in [1,2,3,4,5,6,7,8,9,10]: # burayi range(1,11) yazabilirdim\n",
    "    print(f\"{i:<2} x  {num} = {i*num}\") # daha duzgun bir goruntu icin :<2 kullandik\n",
    "  break\n",
    " else :\n",
    "  print(\"Enter a number between 0 and 10\")  \n",
    " "
   ]
  },
  {
   "cell_type": "code",
   "execution_count": 40,
   "metadata": {},
   "outputs": [
    {
     "name": "stdout",
     "output_type": "stream",
     "text": [
      "1  x  9 = 9\n",
      "2  x  9 = 18\n",
      "3  x  9 = 27\n",
      "4  x  9 = 36\n",
      "5  x  9 = 45\n",
      "6  x  9 = 54\n",
      "7  x  9 = 63\n",
      "8  x  9 = 72\n",
      "9  x  9 = 81\n",
      "10 x  9 = 90\n"
     ]
    }
   ],
   "source": [
    "entry_right = 3\n",
    "while True :\n",
    " num =int(input(\"Enter a number between 0 and 10\"))\n",
    " entry_right -=1\n",
    " if num>0 and num<10 :\n",
    "  for i in [1,2,3,4,5,6,7,8,9,10]: # burayi range(1,11) yazabilirdim\n",
    "    print(f\"{i:<2} x  {num} = {i*num}\") # daha duzgun bir goruntu icin :<2 kullandik\n",
    "  break\n",
    "   \n",
    " if entry_right == 0 :\n",
    "  print(\"Your login right has expired\")\n",
    "  break\n",
    " else :\n",
    "  print(\"Enter a number between 0 and 10\")\n",
    " "
   ]
  },
  {
   "cell_type": "code",
   "execution_count": 39,
   "metadata": {},
   "outputs": [
    {
     "name": "stdout",
     "output_type": "stream",
     "text": [
      "1'den 5'ye kadarki(dahil) sayilarin toplami : 15\n"
     ]
    }
   ],
   "source": [
    "# Question 2: 1 den kendisine kadar olan sayilarin toplamini bulun\n",
    "num = int(input(\"Enter a number\"))\n",
    "sum_1 = 0\n",
    "for i in range(1,num+1) :\n",
    "   sum_1 +=i\n",
    "print(f\"1'den {num}'ye kadarki(dahil) sayilarin toplami : {sum_1}\")  "
   ]
  },
  {
   "cell_type": "code",
   "execution_count": 38,
   "metadata": {},
   "outputs": [
    {
     "name": "stdout",
     "output_type": "stream",
     "text": [
      "20 ile 50 arasindaki sayilarin toplami : 1085\n"
     ]
    }
   ],
   "source": [
    "# Question 3: 20 den 50 ye kadar(sinirlar dahil) sayilarin toplamini bulun\n",
    "sum_1 = 0\n",
    "for i in range(20,51):\n",
    "  sum_1 +=i\n",
    "print(f\"20 ile 50 arasindaki sayilarin toplami : {sum_1}\")\n"
   ]
  },
  {
   "cell_type": "code",
   "execution_count": 37,
   "metadata": {},
   "outputs": [
    {
     "name": "stdout",
     "output_type": "stream",
     "text": [
      "650\n"
     ]
    }
   ],
   "source": [
    "# cift sayilarin toplami\n",
    "sum_1 = 0 \n",
    "for i in range(0, 51 , 2):\n",
    "    sum_1 += i\n",
    "print(sum_1)\n",
    " "
   ]
  },
  {
   "cell_type": "code",
   "execution_count": 36,
   "metadata": {},
   "outputs": [
    {
     "name": "stdout",
     "output_type": "stream",
     "text": [
      "625\n"
     ]
    }
   ],
   "source": [
    "# tek sayilarin toplami\n",
    "sum_1 = 0 \n",
    "for i in range(1, 51 , 2):\n",
    "    sum_1 += i\n",
    "print(sum_1)"
   ]
  },
  {
   "attachments": {},
   "cell_type": "markdown",
   "metadata": {},
   "source": [
    "### sum() fonksiyonu"
   ]
  },
  {
   "cell_type": "code",
   "execution_count": 1,
   "metadata": {},
   "outputs": [
    {
     "data": {
      "text/plain": [
       "1275"
      ]
     },
     "execution_count": 1,
     "metadata": {},
     "output_type": "execute_result"
    }
   ],
   "source": [
    "sum(range(51))"
   ]
  },
  {
   "cell_type": "code",
   "execution_count": 2,
   "metadata": {},
   "outputs": [
    {
     "data": {
      "text/plain": [
       "1275"
      ]
     },
     "execution_count": 2,
     "metadata": {},
     "output_type": "execute_result"
    }
   ],
   "source": [
    "sum(list(range(51)))"
   ]
  },
  {
   "cell_type": "code",
   "execution_count": 3,
   "metadata": {},
   "outputs": [
    {
     "data": {
      "text/plain": [
       "18"
      ]
     },
     "execution_count": 3,
     "metadata": {},
     "output_type": "execute_result"
    }
   ],
   "source": [
    "sum((2,5,3,8))"
   ]
  },
  {
   "cell_type": "code",
   "execution_count": 4,
   "metadata": {},
   "outputs": [
    {
     "data": {
      "text/plain": [
       "22"
      ]
     },
     "execution_count": 4,
     "metadata": {},
     "output_type": "execute_result"
    }
   ],
   "source": [
    "sum({2,5,5,6,9})"
   ]
  },
  {
   "cell_type": "code",
   "execution_count": 5,
   "metadata": {},
   "outputs": [
    {
     "data": {
      "text/plain": [
       "19"
      ]
     },
     "execution_count": 5,
     "metadata": {},
     "output_type": "execute_result"
    }
   ],
   "source": [
    "sum([2,9,8])"
   ]
  },
  {
   "cell_type": "code",
   "execution_count": 8,
   "metadata": {},
   "outputs": [
    {
     "data": {
      "text/plain": [
       "20"
      ]
     },
     "execution_count": 8,
     "metadata": {},
     "output_type": "execute_result"
    }
   ],
   "source": [
    "sum((2,6,5,7))"
   ]
  },
  {
   "cell_type": "code",
   "execution_count": 9,
   "metadata": {},
   "outputs": [
    {
     "data": {
      "text/plain": [
       "26"
      ]
     },
     "execution_count": 9,
     "metadata": {},
     "output_type": "execute_result"
    }
   ],
   "source": [
    "sum((2,6,5,7),6)"
   ]
  },
  {
   "cell_type": "code",
   "execution_count": 10,
   "metadata": {},
   "outputs": [
    {
     "data": {
      "text/plain": [
       "120"
      ]
     },
     "execution_count": 10,
     "metadata": {},
     "output_type": "execute_result"
    }
   ],
   "source": [
    "sum((2,6,5,7),100)"
   ]
  },
  {
   "cell_type": "code",
   "execution_count": 11,
   "metadata": {},
   "outputs": [
    {
     "data": {
      "text/plain": [
       "21"
      ]
     },
     "execution_count": 11,
     "metadata": {},
     "output_type": "execute_result"
    }
   ],
   "source": [
    "sum((2,6,5,7),True) #True degeri 1 old. icin toplayabildi"
   ]
  },
  {
   "cell_type": "code",
   "execution_count": 14,
   "metadata": {},
   "outputs": [
    {
     "data": {
      "text/plain": [
       "15"
      ]
     },
     "execution_count": 14,
     "metadata": {},
     "output_type": "execute_result"
    }
   ],
   "source": [
    "sum((5,8),2) # default degeri int 0 dir"
   ]
  },
  {
   "cell_type": "code",
   "execution_count": 15,
   "metadata": {},
   "outputs": [
    {
     "ename": "TypeError",
     "evalue": "sum() can't sum strings [use ''.join(seq) instead]",
     "output_type": "error",
     "traceback": [
      "\u001b[1;31m---------------------------------------------------------------------------\u001b[0m",
      "\u001b[1;31mTypeError\u001b[0m                                 Traceback (most recent call last)",
      "Cell \u001b[1;32mIn[15], line 1\u001b[0m\n\u001b[1;32m----> 1\u001b[0m \u001b[39msum\u001b[39;49m(\u001b[39m\"\u001b[39;49m\u001b[39mabc\u001b[39;49m\u001b[39m\"\u001b[39;49m,\u001b[39m\"\u001b[39;49m\u001b[39mklm\u001b[39;49m\u001b[39m\"\u001b[39;49m)\n",
      "\u001b[1;31mTypeError\u001b[0m: sum() can't sum strings [use ''.join(seq) instead]"
     ]
    }
   ],
   "source": [
    "sum(\"abc\",\"klm\") #sum() str ile islem yapmaz"
   ]
  },
  {
   "cell_type": "code",
   "execution_count": null,
   "metadata": {},
   "outputs": [],
   "source": []
  },
  {
   "cell_type": "code",
   "execution_count": null,
   "metadata": {},
   "outputs": [],
   "source": []
  }
 ],
 "metadata": {
  "kernelspec": {
   "display_name": "Python 3",
   "language": "python",
   "name": "python3"
  },
  "language_info": {
   "codemirror_mode": {
    "name": "ipython",
    "version": 3
   },
   "file_extension": ".py",
   "mimetype": "text/x-python",
   "name": "python",
   "nbconvert_exporter": "python",
   "pygments_lexer": "ipython3",
   "version": "3.11.1"
  },
  "orig_nbformat": 4,
  "vscode": {
   "interpreter": {
    "hash": "74cc819deff76c29e4928f7ff26e3eddcbba8fed33adfaaa19de16534a73accc"
   }
  }
 },
 "nbformat": 4,
 "nbformat_minor": 2
}
