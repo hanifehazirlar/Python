{
 "cells": [
  {
   "attachments": {},
   "cell_type": "markdown",
   "metadata": {},
   "source": [
    "### zip()"
   ]
  },
  {
   "attachments": {},
   "cell_type": "markdown",
   "metadata": {},
   "source": [
    "* Kelimenin çevirisine baktığımızda zip, fermuar anlamına geliyor ve tam olarak da bu anlamda kullanılıyor. 2 listeyi birbiri indisleri üzerine birleştiriyor. Bunu yaparken de en kısa elemanlı listenin uzunluğunu baz alıyor."
   ]
  },
  {
   "cell_type": "code",
   "execution_count": 1,
   "metadata": {},
   "outputs": [
    {
     "name": "stdout",
     "output_type": "stream",
     "text": [
      "[('Sinan', 30), ('Erdinc', 24), ('Mehmet', 29)]\n"
     ]
    }
   ],
   "source": [
    "isim = [\"Sinan\",\"Erdinc\",\"Mehmet\"]\n",
    "yas = [30,24,29,40,39]\n",
    "sonuc = list(zip(isim,yas))\n",
    "print(sonuc)  # [('Sinan', 30), ('Erdinc', 24), ('Mehmet', 29)]"
   ]
  },
  {
   "cell_type": "code",
   "execution_count": 9,
   "metadata": {},
   "outputs": [
    {
     "name": "stdout",
     "output_type": "stream",
     "text": [
      "(('kalem', 0), ('tarak', 24), ('pet şişe', 29))\n"
     ]
    }
   ],
   "source": [
    "eşya = [\"kalem\",\"tarak\",\"pet şişe\"]\n",
    "g = [0,24,29,40,39]\n",
    "sonuc = tuple(zip(eşya,g))\n",
    "print(sonuc)\n",
    "#çıktı:\n",
    "#(('kalem', 30), ('tarak', 24), ('pet şişe', 29))"
   ]
  },
  {
   "cell_type": "code",
   "execution_count": 10,
   "metadata": {},
   "outputs": [
    {
     "name": "stdout",
     "output_type": "stream",
     "text": [
      "[(23, 'Ahmet'), (56, 'Mehmet'), (87, 'Ayşe'), (47, 'Zeynep'), (12, 'Elif'), (36, 'Kemal'), (45, 'Fatma'), (47, 'Can')]\n"
     ]
    }
   ],
   "source": [
    "no = [23,56,87,47,12,36,45,47]\n",
    "isim=[\"Ahmet\",\"Mehmet\",\"Ayşe\",\"Zeynep\",\"Elif\",\"Kemal\",\"Fatma\",\"Can\"]\n",
    "\n",
    "zip1 =zip(no,isim)\n",
    "print(list(zip1))#Zip() fonksiyonu da diğer fonksiyonlar gibi bir object değer döndürür bu yüzden tür değiştirme yaptık."
   ]
  },
  {
   "cell_type": "code",
   "execution_count": 11,
   "metadata": {},
   "outputs": [
    {
     "name": "stdout",
     "output_type": "stream",
     "text": [
      "3'ün katlari [6, 9, 36, 69, 21]\n",
      "5'in katlari [5, 25, 60, 20, 30]\n"
     ]
    }
   ],
   "source": [
    "liste1 = [1,6,8,9,25,36,14,52,69,21]\n",
    "liste2 = [3,5,25,14,41,36,58,60,20,30]\n",
    "\n",
    "for i,j in zip(liste1,liste2):\n",
    "    filter1 = filter(lambda i:i%3==0,liste1)\n",
    "    filter2 = filter(lambda j:j%5==0,liste2)\n",
    "\n",
    "print(\"3'ün katlari\",list(filter1))\n",
    "print(\"5'in katlari\",list(filter2))"
   ]
  }
 ],
 "metadata": {
  "kernelspec": {
   "display_name": "Python 3",
   "language": "python",
   "name": "python3"
  },
  "language_info": {
   "codemirror_mode": {
    "name": "ipython",
    "version": 3
   },
   "file_extension": ".py",
   "mimetype": "text/x-python",
   "name": "python",
   "nbconvert_exporter": "python",
   "pygments_lexer": "ipython3",
   "version": "3.11.1"
  },
  "orig_nbformat": 4
 },
 "nbformat": 4,
 "nbformat_minor": 2
}
