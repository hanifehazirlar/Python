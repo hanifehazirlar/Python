{
 "cells": [
  {
   "cell_type": "markdown",
   "id": "e013f805-a54c-44fb-a4b1-9a220bb4a182",
   "metadata": {
    "tags": []
   },
   "source": [
    "help(print)"
   ]
  },
  {
   "cell_type": "code",
   "execution_count": 1,
   "id": "329aee69",
   "metadata": {},
   "outputs": [
    {
     "name": "stdout",
     "output_type": "stream",
     "text": [
      "Help on built-in function print in module builtins:\n",
      "\n",
      "print(*args, sep=' ', end='\\n', file=None, flush=False)\n",
      "    Prints the values to a stream, or to sys.stdout by default.\n",
      "    \n",
      "    sep\n",
      "      string inserted between values, default a space.\n",
      "    end\n",
      "      string appended after the last value, default a newline.\n",
      "    file\n",
      "      a file-like object (stream); defaults to the current sys.stdout.\n",
      "    flush\n",
      "      whether to forcibly flush the stream.\n",
      "\n"
     ]
    }
   ],
   "source": [
    "help(print)"
   ]
  },
  {
   "cell_type": "code",
   "execution_count": 2,
   "id": "fe5a34eb",
   "metadata": {
    "scrolled": true
   },
   "outputs": [
    {
     "name": "stdout",
     "output_type": "stream",
     "text": [
      "Ali Veli Hasan\tAli         Veli         Hasan\n",
      "Benim adım\t Ahmet, Yaşım 35\n",
      "Benim adım\t 35, Yaşım Ahmet\n",
      "Benim adım\t Ahmet, Yaşım 35\n",
      "Benim adım: Ahmet,\n",
      "Yaşım: 35\n"
     ]
    }
   ],
   "source": [
    "print(\"Ali\",\"Veli\",\"Hasan\",end='\\t')\n",
    "print(\"Ali\",\"Veli\",\"Hasan\",sep=\"         \",end=\"\\n\")\n",
    "print(\"Benim adım\\t {}, Yaşım {}\".format(\"Ahmet\",35))\n",
    "print(\"Benim adım\\t {1}, Yaşım {0}\".format(\"Ahmet\",35))\n",
    "print(\"Benim adım\\t {ad}, Yaşım {yas}\".format(ad=\"Ahmet\",yas=35))\n",
    "print(\"Benim adım: {ad},\\nYaşım: {yas}\".format(ad=\"Ahmet\",yas=35))\n"
   ]
  },
  {
   "cell_type": "code",
   "execution_count": 8,
   "id": "c01672e8-a5be-450d-be5e-05050207a43f",
   "metadata": {},
   "outputs": [
    {
     "name": "stdout",
     "output_type": "stream",
     "text": [
      "                       merhaba\n",
      "                        sezzai\n",
      "           merhaba            \n",
      "***********merhaba************\n",
      "----##----\n",
      "100 1234567898765420\n"
     ]
    }
   ],
   "source": [
    "print(\"{0:>30}\".format(\"merhaba\",\"sezzai\")) # 0:>30 merhaba için; > sağda yazar, < solda yazar\n",
    "print(\"{1:>30}\".format(\"merhaba\",\"sezzai\")) # 1:>30 sezai için; > sağda yazar, < solda yazar\n",
    "print(\"{:^30}\".format(\"merhaba\"))  # ortalar\n",
    "print(\"{:*^30}\".format(\"merhaba\"))  # * lar arasında ortalar \n",
    "print((\"#\"*2).center(10,\"-\"))    # 10 - arasında 2# yi ortalar\n",
    "print(\"{0:3} {1:15}\".format(100, 1234567898765420))  # 0:ilk süsülü 100 iin"
   ]
  },
  {
   "cell_type": "code",
   "execution_count": 9,
   "id": "9a644ca1",
   "metadata": {},
   "outputs": [
    {
     "name": "stdout",
     "output_type": "stream",
     "text": [
      "Hello,Hello,Hello,Hello,Hello,Hello,Hello,Hello,Hello,Hello,Hello,Hello,Hello,Hello,Hello,\n"
     ]
    }
   ],
   "source": [
    "print(\"Hello,\"*15)"
   ]
  },
  {
   "cell_type": "code",
   "execution_count": 10,
   "id": "5e896a7b",
   "metadata": {},
   "outputs": [
    {
     "name": "stdout",
     "output_type": "stream",
     "text": [
      "1212121212\n"
     ]
    }
   ],
   "source": [
    "sayi=\"12\"\n",
    "print(sayi*5)"
   ]
  },
  {
   "cell_type": "code",
   "execution_count": 11,
   "id": "f53b411f",
   "metadata": {},
   "outputs": [
    {
     "data": {
      "text/plain": [
       "3"
      ]
     },
     "execution_count": 11,
     "metadata": {},
     "output_type": "execute_result"
    }
   ],
   "source": [
    "sayi0=1; sayi3=3\n",
    "sayi3"
   ]
  },
  {
   "cell_type": "code",
   "execution_count": 12,
   "id": "2d49b79f",
   "metadata": {},
   "outputs": [
    {
     "data": {
      "text/plain": [
       "1"
      ]
     },
     "execution_count": 12,
     "metadata": {},
     "output_type": "execute_result"
    }
   ],
   "source": [
    "sayi0"
   ]
  },
  {
   "cell_type": "code",
   "execution_count": 13,
   "id": "b5601740",
   "metadata": {},
   "outputs": [
    {
     "data": {
      "text/plain": [
       "'Python'"
      ]
     },
     "execution_count": 13,
     "metadata": {},
     "output_type": "execute_result"
    }
   ],
   "source": [
    "st='Python'\n",
    "st"
   ]
  },
  {
   "cell_type": "code",
   "execution_count": 14,
   "id": "a622ac7c",
   "metadata": {},
   "outputs": [
    {
     "name": "stdout",
     "output_type": "stream",
     "text": [
      "PYTHON\n"
     ]
    }
   ],
   "source": [
    "print(st.upper())"
   ]
  },
  {
   "cell_type": "code",
   "execution_count": 15,
   "id": "4cf54836",
   "metadata": {},
   "outputs": [],
   "source": [
    "st=st.upper()"
   ]
  },
  {
   "cell_type": "code",
   "execution_count": 16,
   "id": "c7ef8c3e-d9e9-461a-806c-46dea4104e50",
   "metadata": {},
   "outputs": [
    {
     "data": {
      "text/plain": [
       "'PYTHON'"
      ]
     },
     "execution_count": 16,
     "metadata": {},
     "output_type": "execute_result"
    }
   ],
   "source": [
    "st"
   ]
  },
  {
   "cell_type": "code",
   "execution_count": 17,
   "id": "026ddb99-5b68-4bc8-b18c-c6c5126dc190",
   "metadata": {},
   "outputs": [
    {
     "data": {
      "text/plain": [
       "'python'"
      ]
     },
     "execution_count": 17,
     "metadata": {},
     "output_type": "execute_result"
    }
   ],
   "source": [
    "st.lower()"
   ]
  },
  {
   "cell_type": "code",
   "execution_count": 18,
   "id": "a6691938-ac5e-4a09-9a9b-c24da21cbb28",
   "metadata": {},
   "outputs": [
    {
     "data": {
      "text/plain": [
       "'PYTHON'"
      ]
     },
     "execution_count": 18,
     "metadata": {},
     "output_type": "execute_result"
    }
   ],
   "source": [
    "st"
   ]
  },
  {
   "cell_type": "code",
   "execution_count": 19,
   "id": "819ce2b8",
   "metadata": {},
   "outputs": [
    {
     "data": {
      "text/plain": [
       "['PYTHON', 'ders']"
      ]
     },
     "execution_count": 19,
     "metadata": {},
     "output_type": "execute_result"
    }
   ],
   "source": [
    "st=st + \"   ders\"\n",
    "st.split()"
   ]
  },
  {
   "cell_type": "code",
   "execution_count": 20,
   "id": "669ed8b7-7b25-416d-825e-6ce104bc5f27",
   "metadata": {},
   "outputs": [
    {
     "data": {
      "text/plain": [
       "'PYTHON   ders'"
      ]
     },
     "execution_count": 20,
     "metadata": {},
     "output_type": "execute_result"
    }
   ],
   "source": [
    "st"
   ]
  },
  {
   "cell_type": "code",
   "execution_count": 21,
   "id": "643e5011",
   "metadata": {},
   "outputs": [
    {
     "data": {
      "text/plain": [
       "'ALI VELI selLAMI HASAN HÜSEYIN'"
      ]
     },
     "execution_count": 21,
     "metadata": {},
     "output_type": "execute_result"
    }
   ],
   "source": [
    "a=\"ali veli SELlami hasan hüseyin\"\n",
    "a.swapcase()"
   ]
  },
  {
   "cell_type": "code",
   "execution_count": 22,
   "id": "83d4600d-bf55-4b3b-a777-93fe98f6343c",
   "metadata": {},
   "outputs": [
    {
     "data": {
      "text/plain": [
       "'ali veli SELlami hasan hüseyin'"
      ]
     },
     "execution_count": 22,
     "metadata": {},
     "output_type": "execute_result"
    }
   ],
   "source": [
    "a"
   ]
  },
  {
   "cell_type": "code",
   "execution_count": 23,
   "id": "84b54910",
   "metadata": {},
   "outputs": [
    {
     "name": "stdout",
     "output_type": "stream",
     "text": [
      "['Pyt', 'on']\n"
     ]
    }
   ],
   "source": [
    "# h harfinden parçalayalım\n",
    "st=\"Python\"  \n",
    "print(st.split(\"h\"))"
   ]
  },
  {
   "cell_type": "code",
   "execution_count": 24,
   "id": "9e023b73",
   "metadata": {},
   "outputs": [
    {
     "name": "stdout",
     "output_type": "stream",
     "text": [
      "['Py', 'hon']\n"
     ]
    },
    {
     "data": {
      "text/plain": [
       "'PythonS'"
      ]
     },
     "execution_count": 24,
     "metadata": {},
     "output_type": "execute_result"
    }
   ],
   "source": [
    "st = 'Python'\n",
    "d = st.split('t')\n",
    "print(d)\n",
    "#st[0]='A'  #\"immutable\"    \n",
    "f = st[0:6]+'S'\n",
    "f"
   ]
  },
  {
   "cell_type": "code",
   "execution_count": 25,
   "id": "b0373c0e",
   "metadata": {},
   "outputs": [
    {
     "name": "stdout",
     "output_type": "stream",
     "text": [
      "PYTON ÖĞREYNMEK ÇOYK ZEVYKLI\n",
      "pyton öğreynmek çoyk zevykli\n",
      "['P', 'ton Öğre', 'nmek Çoyk Zevykli']\n",
      "['P', 'ton Öğre', 'nmek Ço', 'k Zevykli']\n"
     ]
    }
   ],
   "source": [
    "st=\"Pyton Öğreynmek Çoyk Zevykli\"\n",
    "print(st.upper())\n",
    "print(st.lower())\n",
    "print(st.split(sep=\"y\",maxsplit=2)) # max 2 adet y den ayır  \n",
    "print(st.split(\"y\",3)) # max 2 adet y den ayır  bu da yukarıdakiyle aynı"
   ]
  },
  {
   "cell_type": "code",
   "execution_count": 26,
   "id": "32eac0a4",
   "metadata": {},
   "outputs": [
    {
     "name": "stdout",
     "output_type": "stream",
     "text": [
      "True False False\n",
      "<class 'bool'>-<class 'bool'>-<class 'str'>\n"
     ]
    }
   ],
   "source": [
    "a = True\n",
    "x = False\n",
    "zz = \"False\"\n",
    "print(a,x,zz)\n",
    "print(type(a),type(x),type(zz),sep=\"-\")"
   ]
  },
  {
   "cell_type": "code",
   "execution_count": 27,
   "id": "9f177515",
   "metadata": {},
   "outputs": [
    {
     "name": "stdout",
     "output_type": "stream",
     "text": [
      "False\n",
      "True\n",
      "True\n"
     ]
    }
   ],
   "source": [
    "x = 10; y = 20\n",
    "x,y = 10,20\n",
    "#x=y=z=t=k=l=30\n",
    "print(x == y)\n",
    "x = 10; y = 20\n",
    "print(x!= y)\n",
    "print(not x == y)"
   ]
  },
  {
   "cell_type": "code",
   "execution_count": 28,
   "id": "8212bb53",
   "metadata": {},
   "outputs": [
    {
     "name": "stdout",
     "output_type": "stream",
     "text": [
      "['2', '5', 'a', 5, 's', 'c', 'h', 'h', 5]\n",
      "['a', 'b', '2', '5', 3, 'a', 5, 's', 'c', 'h', 'h', 5, 3]\n",
      "['a', 'b', 'a', 's', 'c', 'h', 5, 3]\n"
     ]
    }
   ],
   "source": [
    "Liste = [\"2\",\"5\",\"a\",5,\"s\",\"c\",\"h\",\"h\",5]\n",
    "print(Liste)\n",
    "Liste = [\"a\",\"b\"]+Liste\n",
    "Liste.insert(4,3)    # 4. indexin yerine yazılır. Harf sağa kayar\n",
    "Liste.append(3)     # listenin sonuna ekler\n",
    "print(Liste)\n",
    "del Liste[2:5]\n",
    "del Liste[3],Liste[5]\n",
    "print(Liste)"
   ]
  },
  {
   "cell_type": "code",
   "execution_count": 29,
   "id": "d325acef",
   "metadata": {},
   "outputs": [
    {
     "name": "stdout",
     "output_type": "stream",
     "text": [
      "['2', '5', 'a', 5, 's', 'c', 'h', 'h', 3]\n"
     ]
    }
   ],
   "source": [
    "Liste=[\"2\",\"5\",\"a\",5,\"s\",\"c\",\"h\",\"h\"]\n",
    "Liste.append(3)\n",
    "print(Liste)"
   ]
  },
  {
   "cell_type": "code",
   "execution_count": 30,
   "id": "0ba24c9b",
   "metadata": {},
   "outputs": [
    {
     "data": {
      "text/plain": [
       "['2', '5', 'a', 5, 's', 'c', 'h', 'h']"
      ]
     },
     "execution_count": 30,
     "metadata": {},
     "output_type": "execute_result"
    }
   ],
   "source": [
    "a=Liste.pop()  # değer yazılmazsa son elemanı siler \n",
    "Liste"
   ]
  },
  {
   "cell_type": "code",
   "execution_count": 31,
   "id": "fbcae1fe",
   "metadata": {
    "scrolled": true
   },
   "outputs": [
    {
     "data": {
      "text/plain": [
       "'a'"
      ]
     },
     "execution_count": 31,
     "metadata": {},
     "output_type": "execute_result"
    }
   ],
   "source": [
    "Liste.pop(2)  "
   ]
  },
  {
   "cell_type": "code",
   "execution_count": 32,
   "id": "e8315b0f",
   "metadata": {},
   "outputs": [
    {
     "data": {
      "text/plain": [
       "['1', '5', '50', 'aaa', 'c', 'h']"
      ]
     },
     "execution_count": 32,
     "metadata": {},
     "output_type": "execute_result"
    }
   ],
   "source": [
    "Liste=['5',\"50\",'1','aaa', 'c', 'h']\n",
    "Liste.sort()\n",
    "Liste"
   ]
  },
  {
   "cell_type": "code",
   "execution_count": 33,
   "id": "b28cc157",
   "metadata": {},
   "outputs": [
    {
     "name": "stdout",
     "output_type": "stream",
     "text": [
      "['1', '5', '50', 'c', 'h']\n",
      "aaa\n"
     ]
    }
   ],
   "source": [
    "a=Liste.pop(3)\n",
    "print(Liste)\n",
    "print(a)"
   ]
  },
  {
   "cell_type": "code",
   "execution_count": 34,
   "id": "731e3256",
   "metadata": {},
   "outputs": [
    {
     "data": {
      "text/plain": [
       "[2, 4, 4, 5, 5, 6, 25, 78]"
      ]
     },
     "execution_count": 34,
     "metadata": {},
     "output_type": "execute_result"
    }
   ],
   "source": [
    "Liste=[2, 5,6,25, 5,4,78,4] # List de tekrarlayan eleman olabilir.\n",
    "Liste.sort()    # sort: set ve tuple de kullanılmaz\n",
    "Liste"
   ]
  },
  {
   "cell_type": "code",
   "execution_count": 35,
   "id": "ae542d6c",
   "metadata": {},
   "outputs": [
    {
     "data": {
      "text/plain": [
       "[78, 25, 6, 5, 5, 4, 4, 2]"
      ]
     },
     "execution_count": 35,
     "metadata": {},
     "output_type": "execute_result"
    }
   ],
   "source": [
    "Liste.reverse()  # veya sort(reverse=True)\n",
    "Liste"
   ]
  },
  {
   "cell_type": "code",
   "execution_count": 36,
   "id": "1084a00a",
   "metadata": {},
   "outputs": [
    {
     "data": {
      "text/plain": [
       "set"
      ]
     },
     "execution_count": 36,
     "metadata": {},
     "output_type": "execute_result"
    }
   ],
   "source": [
    "A = set(Liste) \n",
    "type(A)"
   ]
  },
  {
   "cell_type": "code",
   "execution_count": 37,
   "id": "bb080f91-bad5-4269-8840-5c491d7faed9",
   "metadata": {},
   "outputs": [
    {
     "data": {
      "text/plain": [
       "{2, 4, 5, 6, 25, 78}"
      ]
     },
     "execution_count": 37,
     "metadata": {},
     "output_type": "execute_result"
    }
   ],
   "source": [
    "A"
   ]
  },
  {
   "cell_type": "code",
   "execution_count": 38,
   "id": "4d1dcff3-0654-4e2b-a594-5ed7cf25fcda",
   "metadata": {},
   "outputs": [
    {
     "data": {
      "text/plain": [
       "{3, 5, 6, 8, 10}"
      ]
     },
     "execution_count": 38,
     "metadata": {},
     "output_type": "execute_result"
    }
   ],
   "source": [
    "b = {3,5,6,6,8,10,10}  \n",
    "b                      # Tekrarlayan elemanlar çıkarıldı"
   ]
  },
  {
   "cell_type": "code",
   "execution_count": 39,
   "id": "77434d7e",
   "metadata": {},
   "outputs": [
    {
     "data": {
      "text/plain": [
       "set"
      ]
     },
     "execution_count": 39,
     "metadata": {},
     "output_type": "execute_result"
    }
   ],
   "source": [
    "a = type(set())\n",
    "a"
   ]
  },
  {
   "cell_type": "code",
   "execution_count": 40,
   "id": "850461e8",
   "metadata": {},
   "outputs": [
    {
     "data": {
      "text/plain": [
       "[1, 2, 3, 4, 55, 6, 7, 8, 9, 10, 1]"
      ]
     },
     "execution_count": 40,
     "metadata": {},
     "output_type": "execute_result"
    }
   ],
   "source": [
    "Liste=[1,2,3,4,5,6,7,8,9,10,1]\n",
    "Tuple=(1,2,3,4,5,6,7,8,9,10,1)\n",
    "Liste[4]=55\n",
    "Liste"
   ]
  },
  {
   "cell_type": "code",
   "execution_count": 41,
   "id": "211ace63-e0ad-4962-83d0-54fdfef20a55",
   "metadata": {},
   "outputs": [
    {
     "data": {
      "text/plain": [
       "tuple"
      ]
     },
     "execution_count": 41,
     "metadata": {},
     "output_type": "execute_result"
    }
   ],
   "source": [
    "T = 1,5,6,8,10\n",
    "type(T)"
   ]
  },
  {
   "cell_type": "code",
   "execution_count": 42,
   "id": "c5766de1",
   "metadata": {},
   "outputs": [
    {
     "data": {
      "text/plain": [
       "(1, 5, 6, 8, 10)"
      ]
     },
     "execution_count": 42,
     "metadata": {},
     "output_type": "execute_result"
    }
   ],
   "source": [
    "T"
   ]
  },
  {
   "cell_type": "code",
   "execution_count": 43,
   "id": "f8f82364",
   "metadata": {},
   "outputs": [
    {
     "data": {
      "text/plain": [
       "tuple"
      ]
     },
     "execution_count": 43,
     "metadata": {},
     "output_type": "execute_result"
    }
   ],
   "source": [
    "Liste = [1,2,3,4,5,6,7,8,9,10,10]\n",
    "Tuple = (1,2,3,4,5,6,7,8,9,10,10)\n",
    "#Tuple[4]=55\n",
    "type(Tuple)"
   ]
  },
  {
   "cell_type": "code",
   "execution_count": 44,
   "id": "b25c7309-4d5c-40ef-ba95-cdeae3859d5b",
   "metadata": {},
   "outputs": [
    {
     "data": {
      "text/plain": [
       "[1, 2, 3, 3, 2, 4, 5, 6, 1]"
      ]
     },
     "execution_count": 44,
     "metadata": {},
     "output_type": "execute_result"
    }
   ],
   "source": [
    "l1 = [1,2,3,3]\n",
    "l2 = [2,4,5,6,1]\n",
    "l1.extend(l2)\n",
    "l1"
   ]
  },
  {
   "cell_type": "code",
   "execution_count": 78,
   "id": "b0cf66a6",
   "metadata": {},
   "outputs": [
    {
     "data": {
      "text/plain": [
       "[1, 2, 3, 3, [2, 4, 5, 6, 1]]"
      ]
     },
     "execution_count": 78,
     "metadata": {},
     "output_type": "execute_result"
    }
   ],
   "source": [
    "l1 = [1,2,3,3]\n",
    "l2 = [2,4,5,6,1]\n",
    "l1.append(l2) # append ile list, dict, tuple, set eklenebilir\n",
    "l1"
   ]
  },
  {
   "cell_type": "code",
   "execution_count": 79,
   "id": "0499a084",
   "metadata": {},
   "outputs": [
    {
     "data": {
      "text/plain": [
       "[1, 2, 3, 3, {'key': 'value'}]"
      ]
     },
     "execution_count": 79,
     "metadata": {},
     "output_type": "execute_result"
    }
   ],
   "source": [
    "l1 = [1,2,3,3]\n",
    "l1.append({'key':'value'})\n",
    "l1"
   ]
  },
  {
   "cell_type": "code",
   "execution_count": 80,
   "id": "759b46c1",
   "metadata": {},
   "outputs": [
    {
     "data": {
      "text/plain": [
       "[1, 2, 3, 3, {2, False, 'a'}]"
      ]
     },
     "execution_count": 80,
     "metadata": {},
     "output_type": "execute_result"
    }
   ],
   "source": [
    "l1 = [1,2,3,3]\n",
    "l1.append({2,'a',False})\n",
    "l1"
   ]
  },
  {
   "cell_type": "markdown",
   "id": "badc8dd1-1997-41d7-aa2d-12dc84ad2504",
   "metadata": {},
   "source": [
    "# count"
   ]
  },
  {
   "cell_type": "code",
   "execution_count": 45,
   "id": "e6ba7bf1-0897-4861-8794-1932ac03446c",
   "metadata": {},
   "outputs": [
    {
     "data": {
      "text/plain": [
       "3"
      ]
     },
     "execution_count": 45,
     "metadata": {},
     "output_type": "execute_result"
    }
   ],
   "source": [
    "ali = (1,5,\"a\",4,\"a\",5,'a')\n",
    "ali.count(\"a\")"
   ]
  },
  {
   "cell_type": "code",
   "execution_count": 46,
   "id": "bf6caaf3",
   "metadata": {},
   "outputs": [
    {
     "data": {
      "text/plain": [
       "4"
      ]
     },
     "execution_count": 46,
     "metadata": {},
     "output_type": "execute_result"
    }
   ],
   "source": [
    "ali.index(\"a\",3,6)  #ilk bulduğu değerin indexini döndürür"
   ]
  },
  {
   "cell_type": "code",
   "execution_count": 47,
   "id": "025b18ea",
   "metadata": {},
   "outputs": [
    {
     "ename": "ValueError",
     "evalue": "tuple.index(x): x not in tuple",
     "output_type": "error",
     "traceback": [
      "\u001b[1;31m---------------------------------------------------------------------------\u001b[0m",
      "\u001b[1;31mValueError\u001b[0m                                Traceback (most recent call last)",
      "Cell \u001b[1;32mIn[47], line 1\u001b[0m\n\u001b[1;32m----> 1\u001b[0m ali\u001b[39m.\u001b[39;49mindex(\u001b[39m\"\u001b[39;49m\u001b[39mf\u001b[39;49m\u001b[39m\"\u001b[39;49m)  \u001b[39m# yoksa hata döndürür\u001b[39;00m\n",
      "\u001b[1;31mValueError\u001b[0m: tuple.index(x): x not in tuple"
     ]
    }
   ],
   "source": [
    "ali.index(\"f\")  # yoksa hata döndürür"
   ]
  },
  {
   "cell_type": "code",
   "execution_count": 48,
   "id": "02543fa3",
   "metadata": {},
   "outputs": [
    {
     "data": {
      "text/plain": [
       "{'ad': 'Ahmet', 'Soyad': 'Ağa', 'Yas': 35}"
      ]
     },
     "execution_count": 48,
     "metadata": {},
     "output_type": "execute_result"
    }
   ],
   "source": [
    "dicti={'ad':'Ahmet','Soyad':'Ağa','Yas':35}\n",
    "dicti"
   ]
  },
  {
   "cell_type": "code",
   "execution_count": 49,
   "id": "81012dd9",
   "metadata": {},
   "outputs": [],
   "source": [
    "dicti={\n",
    "    'ad':'Ahmet',\n",
    "    'Soyad':'Ağa',\n",
    "    'Yas':35}"
   ]
  },
  {
   "cell_type": "code",
   "execution_count": 50,
   "id": "9d77671f",
   "metadata": {},
   "outputs": [
    {
     "data": {
      "text/plain": [
       "'Ahmet'"
      ]
     },
     "execution_count": 50,
     "metadata": {},
     "output_type": "execute_result"
    }
   ],
   "source": [
    "dicti['ad']   # [ ] yerine get komutu da kullanılır."
   ]
  },
  {
   "cell_type": "code",
   "execution_count": 51,
   "id": "b51c470c-7c73-479f-bf71-2450fe705c2a",
   "metadata": {},
   "outputs": [
    {
     "data": {
      "text/plain": [
       "'Ahmet'"
      ]
     },
     "execution_count": 51,
     "metadata": {},
     "output_type": "execute_result"
    }
   ],
   "source": [
    "dicti.get('ad')"
   ]
  },
  {
   "cell_type": "code",
   "execution_count": 52,
   "id": "2eaf78bc-7ffb-4217-9974-7948031d9222",
   "metadata": {},
   "outputs": [
    {
     "data": {
      "text/plain": [
       "dict"
      ]
     },
     "execution_count": 52,
     "metadata": {},
     "output_type": "execute_result"
    }
   ],
   "source": [
    "type(dicti)"
   ]
  },
  {
   "cell_type": "code",
   "execution_count": 53,
   "id": "ba347cc4",
   "metadata": {},
   "outputs": [
    {
     "data": {
      "text/plain": [
       "{'name': 'John', 'country': 'ABD', 'favorite_number': [7, 42, 92, 8]}"
      ]
     },
     "execution_count": 53,
     "metadata": {},
     "output_type": "execute_result"
    }
   ],
   "source": [
    "participant={\n",
    "    'name':'John',\n",
    "    'country':'ABD',\n",
    "    'favorite_number':[7,42,92,8]\n",
    "}\n",
    "participant"
   ]
  },
  {
   "cell_type": "code",
   "execution_count": 54,
   "id": "0d4974a5",
   "metadata": {},
   "outputs": [
    {
     "name": "stdout",
     "output_type": "stream",
     "text": [
      "[7, 42, 92, 8]\n"
     ]
    }
   ],
   "source": [
    "print(participant['favorite_number'])"
   ]
  },
  {
   "cell_type": "code",
   "execution_count": 55,
   "id": "64d07ba9-16d7-4c2f-97ee-42604c25be24",
   "metadata": {},
   "outputs": [
    {
     "data": {
      "text/plain": [
       "'John'"
      ]
     },
     "execution_count": 55,
     "metadata": {},
     "output_type": "execute_result"
    }
   ],
   "source": [
    "participant.get(\"name\")"
   ]
  },
  {
   "cell_type": "code",
   "execution_count": 56,
   "id": "3883cad6",
   "metadata": {},
   "outputs": [],
   "source": [
    "participant['favorite_language']='Python'"
   ]
  },
  {
   "cell_type": "code",
   "execution_count": 57,
   "id": "63b7f129",
   "metadata": {},
   "outputs": [
    {
     "data": {
      "text/plain": [
       "4"
      ]
     },
     "execution_count": 57,
     "metadata": {},
     "output_type": "execute_result"
    }
   ],
   "source": [
    "len(participant)"
   ]
  },
  {
   "cell_type": "code",
   "execution_count": 58,
   "id": "8c9ed7c0-14f0-4599-8952-499599127c59",
   "metadata": {},
   "outputs": [
    {
     "data": {
      "text/plain": [
       "{'name': 'John',\n",
       " 'country': 'ABD',\n",
       " 'favorite_number': [7, 42, 92, 8],\n",
       " 'favorite_language': 'Python'}"
      ]
     },
     "execution_count": 58,
     "metadata": {},
     "output_type": "execute_result"
    }
   ],
   "source": [
    "participant"
   ]
  },
  {
   "cell_type": "code",
   "execution_count": 59,
   "id": "d4c6ad6a",
   "metadata": {},
   "outputs": [],
   "source": [
    "del participant['name']  #bunu calıştırdıktan sonra tekrar run edersen hata verir."
   ]
  },
  {
   "cell_type": "code",
   "execution_count": 60,
   "id": "b08e7239",
   "metadata": {},
   "outputs": [
    {
     "data": {
      "text/plain": [
       "{'country': 'ABD',\n",
       " 'favorite_number': [7, 42, 92, 8],\n",
       " 'favorite_language': 'Python'}"
      ]
     },
     "execution_count": 60,
     "metadata": {},
     "output_type": "execute_result"
    }
   ],
   "source": [
    "participant"
   ]
  },
  {
   "cell_type": "code",
   "execution_count": 61,
   "id": "be235475-a85c-4ea0-b27e-48b80955248d",
   "metadata": {},
   "outputs": [],
   "source": [
    "set1 = {1,2,3,4,5,6}"
   ]
  },
  {
   "cell_type": "code",
   "execution_count": 62,
   "id": "35535e75-8d50-4eed-b11a-dddb3e120dfe",
   "metadata": {},
   "outputs": [],
   "source": [
    "set2 = {1,2,7,8,9,9}"
   ]
  },
  {
   "cell_type": "code",
   "execution_count": 63,
   "id": "1d2bf944-a248-481e-9f03-1f5b1996c01d",
   "metadata": {},
   "outputs": [],
   "source": [
    "t = set1.union(set2)"
   ]
  },
  {
   "cell_type": "code",
   "execution_count": 64,
   "id": "0ea7fe64-efd5-41bc-aaf6-afb731c92a2a",
   "metadata": {},
   "outputs": [
    {
     "data": {
      "text/plain": [
       "{1, 2, 3, 4, 5, 6, 7, 8, 9}"
      ]
     },
     "execution_count": 64,
     "metadata": {},
     "output_type": "execute_result"
    }
   ],
   "source": [
    "t"
   ]
  },
  {
   "cell_type": "code",
   "execution_count": 65,
   "id": "ab317360-b31b-4a62-9baa-7ca71d004ee5",
   "metadata": {},
   "outputs": [],
   "source": [
    "set1.update(set2)"
   ]
  },
  {
   "cell_type": "code",
   "execution_count": 66,
   "id": "6e15bd27-48d4-4f9e-b886-a4792503a5b7",
   "metadata": {},
   "outputs": [
    {
     "data": {
      "text/plain": [
       "{1, 2, 3, 4, 5, 6, 7, 8, 9}"
      ]
     },
     "execution_count": 66,
     "metadata": {},
     "output_type": "execute_result"
    }
   ],
   "source": [
    "set1"
   ]
  },
  {
   "cell_type": "code",
   "execution_count": 67,
   "id": "b3d3fe49-7828-499d-b2b0-6789ff2eff1c",
   "metadata": {},
   "outputs": [],
   "source": [
    "set1.add(99)"
   ]
  },
  {
   "cell_type": "code",
   "execution_count": 68,
   "id": "5b9ce6d0-8ac2-402c-b4ce-19aa4895ba7d",
   "metadata": {},
   "outputs": [
    {
     "data": {
      "text/plain": [
       "{1, 2, 3, 4, 5, 6, 7, 8, 9, 99}"
      ]
     },
     "execution_count": 68,
     "metadata": {},
     "output_type": "execute_result"
    }
   ],
   "source": [
    "set1"
   ]
  },
  {
   "cell_type": "code",
   "execution_count": 69,
   "id": "cd08f4ec-a0b1-48ed-ad8a-e8e019b4406c",
   "metadata": {},
   "outputs": [
    {
     "ename": "AttributeError",
     "evalue": "'set' object has no attribute 'sort'",
     "output_type": "error",
     "traceback": [
      "\u001b[1;31m---------------------------------------------------------------------------\u001b[0m",
      "\u001b[1;31mAttributeError\u001b[0m                            Traceback (most recent call last)",
      "Cell \u001b[1;32mIn[69], line 1\u001b[0m\n\u001b[1;32m----> 1\u001b[0m set1\u001b[39m.\u001b[39;49msort()  \u001b[39m# sıralama yok, indexlenmez\u001b[39;00m\n",
      "\u001b[1;31mAttributeError\u001b[0m: 'set' object has no attribute 'sort'"
     ]
    }
   ],
   "source": [
    "set1.sort()  # sıralama yok, indexlenmez"
   ]
  },
  {
   "cell_type": "code",
   "execution_count": 70,
   "id": "4467de5f-0323-4de6-b82f-e05f7fe7ea46",
   "metadata": {},
   "outputs": [
    {
     "data": {
      "text/plain": [
       "str"
      ]
     },
     "execution_count": 70,
     "metadata": {},
     "output_type": "execute_result"
    }
   ],
   "source": [
    "type((\"hello\"))"
   ]
  },
  {
   "cell_type": "code",
   "execution_count": 71,
   "id": "55bbeecf",
   "metadata": {},
   "outputs": [
    {
     "data": {
      "text/plain": [
       "tuple"
      ]
     },
     "execution_count": 71,
     "metadata": {},
     "output_type": "execute_result"
    }
   ],
   "source": [
    "type((\"hello\",))"
   ]
  },
  {
   "cell_type": "code",
   "execution_count": 74,
   "id": "d3f630a5",
   "metadata": {},
   "outputs": [
    {
     "data": {
      "text/plain": [
       "list"
      ]
     },
     "execution_count": 74,
     "metadata": {},
     "output_type": "execute_result"
    }
   ],
   "source": [
    "type(([1,2,'a']))"
   ]
  },
  {
   "cell_type": "code",
   "execution_count": 75,
   "id": "c0a23e18",
   "metadata": {},
   "outputs": [
    {
     "data": {
      "text/plain": [
       "tuple"
      ]
     },
     "execution_count": 75,
     "metadata": {},
     "output_type": "execute_result"
    }
   ],
   "source": [
    "type(([1,2,'a'],))"
   ]
  },
  {
   "cell_type": "code",
   "execution_count": 76,
   "id": "ab0b165f",
   "metadata": {},
   "outputs": [
    {
     "data": {
      "text/plain": [
       "int"
      ]
     },
     "execution_count": 76,
     "metadata": {},
     "output_type": "execute_result"
    }
   ],
   "source": [
    "type((5))"
   ]
  },
  {
   "cell_type": "code",
   "execution_count": 77,
   "id": "5167134e",
   "metadata": {},
   "outputs": [
    {
     "data": {
      "text/plain": [
       "tuple"
      ]
     },
     "execution_count": 77,
     "metadata": {},
     "output_type": "execute_result"
    }
   ],
   "source": [
    "type((5,))"
   ]
  }
 ],
 "metadata": {
  "kernelspec": {
   "display_name": "Python 3",
   "language": "python",
   "name": "python3"
  },
  "language_info": {
   "codemirror_mode": {
    "name": "ipython",
    "version": 3
   },
   "file_extension": ".py",
   "mimetype": "text/x-python",
   "name": "python",
   "nbconvert_exporter": "python",
   "pygments_lexer": "ipython3",
   "version": "3.11.1"
  },
  "vscode": {
   "interpreter": {
    "hash": "74cc819deff76c29e4928f7ff26e3eddcbba8fed33adfaaa19de16534a73accc"
   }
  }
 },
 "nbformat": 4,
 "nbformat_minor": 5
}
