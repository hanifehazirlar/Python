{
 "cells": [
  {
   "attachments": {},
   "cell_type": "markdown",
   "metadata": {},
   "source": [
    "### EXCEPTION HANDLING\n",
    "### TRY EXCEPT\n",
    "* hata alsan da yine de sunu yap demek istedigimiz zaman kullanabiliriz.\n",
    "* yanlislikla yazdigim bir seyde mesela, hatayi ortadan kaldirmak ya da hataya ragmen kodu calistirmak icin kullanilir.\n",
    "* hata varsa except calisir. \n",
    "* except'e bir sey yazmazsam tum hatalari kontrol eder.\n",
    "* except ile ozel bir hata belirteceksek oncelikle onu belirtmemiz gerekir.\n",
    "* ama hata TypeError iken, except'e, TypeError yerine NameError yazarsam calismaz.\n",
    "* hatayi onlemek icin hatanin neler olabilecegini ongorerek girmem lazim kodu\n",
    "* except ile birden fazla olasi hata tanimlayabilirim (TypeError, ValueError, ZeroDivisionError)\n",
    "* boylelikle hatalari kisisellestirmis oluyorum.\n",
    "\n",
    "### try-except-else\n",
    "* try dogru ise else calisir.  yani tyr'i dene, olursa else'i calistir demek\n",
    "* yani except'lere yazdiginiz hatalar yoksa, else'i calistirir.\n",
    "\n",
    "### try-except-else-finally\n",
    "* python satir satir gider, hata aldigi yere kadar calisir. \n",
    "* hata aldigi yerde except'ler calisir.\n",
    "* finally ise her halukarda calisir sonunda.\n",
    "* artik finally dan sonra, except ve else yazamayiz. anlami yok.\n"
   ]
  },
  {
   "cell_type": "code",
   "execution_count": null,
   "metadata": {},
   "outputs": [],
   "source": [
    "#try:\n",
    "#hata verebilecegini bildigimiz kodlar\n",
    "#except:\n",
    "#hata durumunda yapilacak islem"
   ]
  },
  {
   "cell_type": "code",
   "execution_count": null,
   "metadata": {},
   "outputs": [],
   "source": [
    "\"4\" + 5"
   ]
  },
  {
   "cell_type": "code",
   "execution_count": 2,
   "metadata": {},
   "outputs": [
    {
     "name": "stdout",
     "output_type": "stream",
     "text": [
      "Oops\n"
     ]
    }
   ],
   "source": [
    "try:\n",
    "    \"4\" + 5\n",
    "except:\n",
    "    print(\"Oops\")    "
   ]
  },
  {
   "cell_type": "code",
   "execution_count": null,
   "metadata": {},
   "outputs": [],
   "source": []
  },
  {
   "attachments": {},
   "cell_type": "markdown",
   "metadata": {},
   "source": [
    " ## except'e bir sey yazmazsam tum hatalari kontrol eder.\n",
    "#yazacaksam specific olarak hatayi/hatalari yazmam gerek"
   ]
  },
  {
   "cell_type": "code",
   "execution_count": 22,
   "metadata": {},
   "outputs": [
    {
     "ename": "ValueError",
     "evalue": "invalid literal for int() with base 10: '3,5'",
     "output_type": "error",
     "traceback": [
      "\u001b[0;31m---------------------------------------------------------------------------\u001b[0m",
      "\u001b[0;31mValueError\u001b[0m                                Traceback (most recent call last)",
      "Cell \u001b[0;32mIn[22], line 1\u001b[0m\n\u001b[0;32m----> 1\u001b[0m x\u001b[39m=\u001b[39m \u001b[39mint\u001b[39;49m(\u001b[39minput\u001b[39;49m(\u001b[39m\"\u001b[39;49m\u001b[39mBir sayi girin\u001b[39;49m\u001b[39m\"\u001b[39;49m))  \n\u001b[1;32m      2\u001b[0m y\u001b[39m=\u001b[39m \u001b[39mint\u001b[39m(\u001b[39minput\u001b[39m(\u001b[39m\"\u001b[39m\u001b[39mBir sayi girin\u001b[39m\u001b[39m\"\u001b[39m))\n\u001b[1;32m      4\u001b[0m \u001b[39mtry\u001b[39;00m:\n",
      "\u001b[0;31mValueError\u001b[0m: invalid literal for int() with base 10: '3,5'"
     ]
    }
   ],
   "source": [
    "x= int(input(\"Bir sayi girin\"))   \n",
    "y= int(input(\"Bir sayi girin\"))\n",
    "\n",
    "try:\n",
    "    print(x/y)\n",
    "except ValueError:\n",
    "    print(\"bu yaziyi goruyorsaniz girdiginiz sayilarda hata vardir\") "
   ]
  },
  {
   "cell_type": "code",
   "execution_count": 4,
   "metadata": {},
   "outputs": [
    {
     "name": "stdout",
     "output_type": "stream",
     "text": [
      "4.0\n"
     ]
    }
   ],
   "source": [
    "x= int(input(\"Bir sayi girin\"))   \n",
    "y= int(input(\"Bir sayi girin\"))\n",
    "\n",
    "try:\n",
    "    a=int(x)/int(y)\n",
    "    print(a)\n",
    "except :\n",
    "    print(\"bu yaziyi goruyorsaniz girdiginiz sayilarda hata vardir\") "
   ]
  },
  {
   "cell_type": "code",
   "execution_count": null,
   "metadata": {},
   "outputs": [],
   "source": [
    "x= int(input(\"Bir sayi girin\"))    #Bolene 0 dene\n",
    "y= int(input(\"Bir sayi girin\"))\n",
    "\n",
    "try:\n",
    "    a=int(x)/int(y)\n",
    "    print(a)\n",
    "except : #burada except e specific bir tanimlama yapmadigimiz icin her hata da print yazar\n",
    "    print(\"bu yaziyi goruyorsaniz girdiginiz sayilarda hata vardir\") "
   ]
  },
  {
   "cell_type": "code",
   "execution_count": 1,
   "metadata": {},
   "outputs": [
    {
     "ename": "ZeroDivisionError",
     "evalue": "division by zero",
     "output_type": "error",
     "traceback": [
      "\u001b[1;31m---------------------------------------------------------------------------\u001b[0m",
      "\u001b[1;31mZeroDivisionError\u001b[0m                         Traceback (most recent call last)",
      "Cell \u001b[1;32mIn[1], line 5\u001b[0m\n\u001b[0;32m      2\u001b[0m y\u001b[39m=\u001b[39m \u001b[39mint\u001b[39m(\u001b[39minput\u001b[39m(\u001b[39m\"\u001b[39m\u001b[39mBir sayi girin\u001b[39m\u001b[39m\"\u001b[39m))\n\u001b[0;32m      4\u001b[0m \u001b[39mtry\u001b[39;00m:\n\u001b[1;32m----> 5\u001b[0m     \u001b[39mprint\u001b[39m(\u001b[39mint\u001b[39;49m(x)\u001b[39m/\u001b[39;49m\u001b[39mint\u001b[39;49m(y)) \n\u001b[0;32m      6\u001b[0m \u001b[39mexcept\u001b[39;00m \u001b[39mValueError\u001b[39;00m:\n\u001b[0;32m      7\u001b[0m     \u001b[39mprint\u001b[39m (\u001b[39m\"\u001b[39m\u001b[39molmadi\u001b[39m\u001b[39m\"\u001b[39m)\n",
      "\u001b[1;31mZeroDivisionError\u001b[0m: division by zero"
     ]
    }
   ],
   "source": [
    "x= int(input(\"Bir sayi girin\"))   #Bolene 0 dene\n",
    "y= int(input(\"Bir sayi girin\"))\n",
    "\n",
    "try:\n",
    "    print(int(x)/int(y)) \n",
    "except ValueError: #burada ValueError yerine ZeroDivisionError yazmaliydi bu yuzden except calismadi\n",
    "    print (\"olmadi\")"
   ]
  },
  {
   "cell_type": "code",
   "execution_count": null,
   "metadata": {},
   "outputs": [],
   "source": [
    "x= int(input(\"Bir sayi girin\"))   #Bolene 0 dene\n",
    "y= int(input(\"Bir sayi girin\"))\n",
    "\n",
    "try:\n",
    "    print(int(x)/int(y)) \n",
    "except ZeroDivisionError:\n",
    "    print (\"olmadi\")"
   ]
  },
  {
   "cell_type": "code",
   "execution_count": null,
   "metadata": {},
   "outputs": [],
   "source": [
    "x= (input(\"Bir sayi girin\"))   # try dogru ise except'ler calismaz, else calisir.\n",
    "y= (input(\"Bir sayi girin\"))\n",
    "\n",
    "try:\n",
    "    a= int(x)/int(y)\n",
    "except ValueError:\n",
    "    print(\"bu yaziyi goruyorsaniz girdiginiz sayilarda hata vardir\")   \n",
    "except ZeroDivisionError:\n",
    "    print(\"bu yaziyi goruyorsaniz girdiginiz sayi 0'dir, bir sayi sifira bolunemez\") \n",
    "else :\n",
    "    print(a**2)  "
   ]
  },
  {
   "cell_type": "code",
   "execution_count": 3,
   "metadata": {},
   "outputs": [
    {
     "name": "stdout",
     "output_type": "stream",
     "text": [
      "Odulunuz sadece 100 Tl kazandiniz\n",
      "Gule gule harcayin\n"
     ]
    }
   ],
   "source": [
    "# iki sayinin carpimi kadar odul kazanacak kullanici diyelim. \n",
    "# sayilari dogru giremezse 100 tl odul kazansin\n",
    "x= (input(\"Bir sayi girin\"))   \n",
    "y= (input(\"Bir sayi girin\"))\n",
    "\n",
    "try:\n",
    "    odul=int(x)*int(y)\n",
    "except:\n",
    "    print(\"Odulunuz sadece 100 Tl kazandiniz\")\n",
    "else:\n",
    "    print(f\"Tebrikler...{odul} tl odul kazandiniz\")\n",
    "finally:\n",
    "    print(\"Gule gule harcayin\")"
   ]
  },
  {
   "cell_type": "code",
   "execution_count": 6,
   "metadata": {},
   "outputs": [
    {
     "name": "stdout",
     "output_type": "stream",
     "text": [
      "15\n"
     ]
    },
    {
     "ename": "ValueError",
     "evalue": "invalid literal for int() with base 10: 'aa15'",
     "output_type": "error",
     "traceback": [
      "\u001b[1;31m---------------------------------------------------------------------------\u001b[0m",
      "\u001b[1;31mValueError\u001b[0m                                Traceback (most recent call last)",
      "Cell \u001b[1;32mIn[6], line 6\u001b[0m\n\u001b[0;32m      1\u001b[0m liste \u001b[39m=\u001b[39m [\u001b[39m\"\u001b[39m\u001b[39m15\u001b[39m\u001b[39m\"\u001b[39m, \u001b[39m\"\u001b[39m\u001b[39maa15\u001b[39m\u001b[39m\"\u001b[39m, \u001b[39m\"\u001b[39m\u001b[39m45\u001b[39m\u001b[39m\"\u001b[39m, \u001b[39m\"\u001b[39m\u001b[39masdeddcds48\u001b[39m\u001b[39m\"\u001b[39m, \u001b[39m\"\u001b[39m\u001b[39m48\u001b[39m\u001b[39m\"\u001b[39m ]\n\u001b[0;32m      2\u001b[0m \u001b[39mfor\u001b[39;00m i \u001b[39min\u001b[39;00m liste :      \u001b[39m# if else ile yapmaya calistim, sadece 15'i yazdirdi sadece, \u001b[39;00m\n\u001b[0;32m      3\u001b[0m                       \u001b[39m#aa15 icin value error verdi.\u001b[39;00m\n\u001b[1;32m----> 6\u001b[0m     \u001b[39mif\u001b[39;00m \u001b[39mtype\u001b[39m(\u001b[39mint\u001b[39;49m(i))\u001b[39m==\u001b[39m\u001b[39mint\u001b[39m :\n\u001b[0;32m      7\u001b[0m         \u001b[39mprint\u001b[39m(i)\n\u001b[0;32m      8\u001b[0m     \u001b[39melse\u001b[39;00m :\n",
      "\u001b[1;31mValueError\u001b[0m: invalid literal for int() with base 10: 'aa15'"
     ]
    }
   ],
   "source": [
    "liste = [\"15\", \"aa15\", \"45\", \"asdeddcds48\", \"48\" ]\n",
    "for i in liste :      # if else ile yapmaya calistim, sadece 15'i yazdirdi sadece, \n",
    "                      #aa15 icin value error verdi.\n",
    "\n",
    "\n",
    "    if type(int(i))==int :\n",
    "        print(i)\n",
    "    else :\n",
    "        continue  "
   ]
  },
  {
   "cell_type": "code",
   "execution_count": 7,
   "metadata": {},
   "outputs": [
    {
     "name": "stdout",
     "output_type": "stream",
     "text": [
      "15\n",
      "45\n",
      "48\n"
     ]
    }
   ],
   "source": [
    "liste = [\"15\", \"aa15\", \"45\", \"asdeddcds48\", \"48\" ]\n",
    "for i in liste :     \n",
    "    try :\n",
    "      type(int(i))==int \n",
    "      print(i)\n",
    "    except :\n",
    "        continue  "
   ]
  },
  {
   "cell_type": "code",
   "execution_count": 8,
   "metadata": {},
   "outputs": [
    {
     "data": {
      "text/plain": [
       "True"
      ]
     },
     "execution_count": 8,
     "metadata": {},
     "output_type": "execute_result"
    }
   ],
   "source": [
    "\"5\".isnumeric()"
   ]
  },
  {
   "cell_type": "code",
   "execution_count": 12,
   "metadata": {},
   "outputs": [
    {
     "data": {
      "text/plain": [
       "False"
      ]
     },
     "execution_count": 12,
     "metadata": {},
     "output_type": "execute_result"
    }
   ],
   "source": [
    "\"3.5\".isnumeric()"
   ]
  },
  {
   "attachments": {},
   "cell_type": "markdown",
   "metadata": {},
   "source": [
    "Kullanicidan aldiğimiz veri türünü farkli bir türe değiştirmek istediğimizde ya da sorgulamak istediğimizde “123” gibi  string.isnumeric() bize True döner. \n",
    "isinstance(veri,dataturu) ise bize datanin türünün parametre olarak verdiğimiz data türünün doğru olup olmadiığını kontrol eder."
   ]
  },
  {
   "cell_type": "code",
   "execution_count": 13,
   "metadata": {},
   "outputs": [
    {
     "data": {
      "text/plain": [
       "True"
      ]
     },
     "execution_count": 13,
     "metadata": {},
     "output_type": "execute_result"
    }
   ],
   "source": [
    "isinstance(5,int)"
   ]
  },
  {
   "cell_type": "code",
   "execution_count": 14,
   "metadata": {},
   "outputs": [
    {
     "data": {
      "text/plain": [
       "True"
      ]
     },
     "execution_count": 14,
     "metadata": {},
     "output_type": "execute_result"
    }
   ],
   "source": [
    "isinstance(\"ali\",str)"
   ]
  },
  {
   "cell_type": "code",
   "execution_count": 8,
   "metadata": {},
   "outputs": [
    {
     "name": "stdout",
     "output_type": "stream",
     "text": [
      "Sayilari dogru girdiginizden emin olun\n",
      "Girilen iki sayinin bolumu: 0.0\n"
     ]
    }
   ],
   "source": [
    "while True:\n",
    "\n",
    "    x= (input(\"Bir sayi girin\"))   # Kullanici dogru girene kadar sayi ister, sonra break\n",
    "    y= (input(\"Bir sayi girin\"))\n",
    "\n",
    "    try:\n",
    "        a= int(x)/int(y)\n",
    "        print(\"Girilen iki sayinin bolumu:\",a)\n",
    "        break\n",
    "\n",
    "    except (ValueError, ZeroDivisionError):\n",
    "        print(\"Sayilari dogru girdiginizden emin olun\")"
   ]
  },
  {
   "cell_type": "code",
   "execution_count": null,
   "metadata": {},
   "outputs": [],
   "source": [
    "#FINALLY    #istersek iki try except de kullanabiliriz her hata icin\n",
    "\n",
    "x= (input(\"Bir sayi girin\"))   # try dogru ise except'ler calismaz, else calisir.\n",
    "y= (input(\"Bir sayi girin\"))\n",
    "\n",
    "try:\n",
    "    \n",
    "    a= int(x)/int(y)\n",
    "except ValueError:\n",
    "    print(\"bu yaziyi goruyorsaniz girdiginiz sayilarda hata vardir\")   \n",
    "except ZeroDivisionError:\n",
    "    print(\"bu yaziyi goruyorsaniz girdiginiz sayi 0'dir, bir sayi sifira bolunemez\") \n",
    "else :\n",
    "    print(a**2) "
   ]
  },
  {
   "cell_type": "code",
   "execution_count": null,
   "metadata": {},
   "outputs": [],
   "source": [
    "def menuSecim():\n",
    "    while True:\n",
    "        try:\n",
    "            secim = int(input(\"1-Çalışan Ekle\\n2-Çalışan Çıkar\\n3-Verilecek Maaş Göster\\n4-Maaşları Ver\\n5-Masraf Gir\\n6-Gelir Gir\\n\\nSeçiminizi giriniz: \"))\n",
    "            if secim < 1 or secim > 6:\n",
    "                print((\"Lütfen 1 ile 6 arasında değer giriniz: \"))\n",
    "            else:\n",
    "                break\n",
    "        except ValueError:\n",
    "            print(\"lütfen sayı değeri giriniz.\")\n",
    "\n",
    "    return f\"seçiminiz: {secim}\"\n",
    "\n",
    "menuSecim()"
   ]
  }
 ],
 "metadata": {
  "kernelspec": {
   "display_name": "Python 3",
   "language": "python",
   "name": "python3"
  },
  "language_info": {
   "codemirror_mode": {
    "name": "ipython",
    "version": 3
   },
   "file_extension": ".py",
   "mimetype": "text/x-python",
   "name": "python",
   "nbconvert_exporter": "python",
   "pygments_lexer": "ipython3",
   "version": "3.11.1"
  },
  "orig_nbformat": 4,
  "vscode": {
   "interpreter": {
    "hash": "aee8b7b246df8f9039afb4144a1f6fd8d2ca17a180786b69acc140d282b71a49"
   }
  }
 },
 "nbformat": 4,
 "nbformat_minor": 2
}
