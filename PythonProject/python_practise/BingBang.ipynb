{
 "cells": [
  {
   "attachments": {},
   "cell_type": "markdown",
   "metadata": {},
   "source": [
    "# 1'den 50 ye kadar tamsayilari yineleyen bir Python programi yaziniz.3'un katlari icin sayi yerine \"Bing\", 7'nin katlari yerine \"Bang\". Hem 3'un hem 7'nin kati olan sayilar icin \"BingBang\" yazdirin"
   ]
  },
  {
   "cell_type": "code",
   "execution_count": 1,
   "metadata": {},
   "outputs": [
    {
     "name": "stdout",
     "output_type": "stream",
     "text": [
      "1\n",
      "2\n",
      "Bing\n",
      "4\n",
      "5\n",
      "Bing\n",
      "Bang\n",
      "8\n",
      "Bing\n",
      "10\n",
      "11\n",
      "Bing\n",
      "13\n",
      "Bang\n",
      "Bing\n",
      "16\n",
      "17\n",
      "Bing\n",
      "19\n",
      "20\n",
      "BingBang\n",
      "22\n",
      "23\n",
      "Bing\n",
      "25\n",
      "26\n",
      "Bing\n",
      "Bang\n",
      "29\n",
      "Bing\n",
      "31\n",
      "32\n",
      "Bing\n",
      "34\n",
      "Bang\n",
      "Bing\n",
      "37\n",
      "38\n",
      "Bing\n",
      "40\n",
      "41\n",
      "BingBang\n",
      "43\n",
      "44\n",
      "Bing\n",
      "46\n",
      "47\n",
      "Bing\n",
      "Bang\n",
      "50\n"
     ]
    }
   ],
   "source": [
    "num =list(range(1,51))\n",
    "for i in num :\n",
    "    if i % 3 == 0 and i % 7 == 0:\n",
    "        print(\"BingBang\")\n",
    "    elif i % 3 == 0 :\n",
    "        print(\"Bing\")\n",
    "    elif i % 7 == 0 :\n",
    "        print(\"Bang\")\n",
    "    else :\n",
    "        print(i)"
   ]
  }
 ],
 "metadata": {
  "kernelspec": {
   "display_name": "Python 3",
   "language": "python",
   "name": "python3"
  },
  "language_info": {
   "codemirror_mode": {
    "name": "ipython",
    "version": 3
   },
   "file_extension": ".py",
   "mimetype": "text/x-python",
   "name": "python",
   "nbconvert_exporter": "python",
   "pygments_lexer": "ipython3",
   "version": "3.11.1"
  },
  "orig_nbformat": 4,
  "vscode": {
   "interpreter": {
    "hash": "74cc819deff76c29e4928f7ff26e3eddcbba8fed33adfaaa19de16534a73accc"
   }
  }
 },
 "nbformat": 4,
 "nbformat_minor": 2
}
