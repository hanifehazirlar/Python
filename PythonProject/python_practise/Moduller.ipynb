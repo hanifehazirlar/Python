{
 "cells": [
  {
   "cell_type": "markdown",
   "id": "2ffa8784-c2a4-4179-94f2-0074b3260cab",
   "metadata": {},
   "source": [
    "# Modüller"
   ]
  },
  {
   "cell_type": "markdown",
   "id": "eb4c53ad-fc6e-4761-b9d0-4f526ca49487",
   "metadata": {},
   "source": [
    "## math Modülü"
   ]
  },
  {
   "cell_type": "code",
   "execution_count": 1,
   "id": "312c2c89-2b1e-40d3-871b-622799fa0fba",
   "metadata": {},
   "outputs": [],
   "source": [
    "import math"
   ]
  },
  {
   "cell_type": "code",
   "execution_count": 2,
   "id": "b4bf9f88-c2d9-4772-9042-1755060fadee",
   "metadata": {
    "tags": []
   },
   "outputs": [
    {
     "data": {
      "text/plain": [
       "['__doc__',\n",
       " '__loader__',\n",
       " '__name__',\n",
       " '__package__',\n",
       " '__spec__',\n",
       " 'acos',\n",
       " 'acosh',\n",
       " 'asin',\n",
       " 'asinh',\n",
       " 'atan',\n",
       " 'atan2',\n",
       " 'atanh',\n",
       " 'cbrt',\n",
       " 'ceil',\n",
       " 'comb',\n",
       " 'copysign',\n",
       " 'cos',\n",
       " 'cosh',\n",
       " 'degrees',\n",
       " 'dist',\n",
       " 'e',\n",
       " 'erf',\n",
       " 'erfc',\n",
       " 'exp',\n",
       " 'exp2',\n",
       " 'expm1',\n",
       " 'fabs',\n",
       " 'factorial',\n",
       " 'floor',\n",
       " 'fmod',\n",
       " 'frexp',\n",
       " 'fsum',\n",
       " 'gamma',\n",
       " 'gcd',\n",
       " 'hypot',\n",
       " 'inf',\n",
       " 'isclose',\n",
       " 'isfinite',\n",
       " 'isinf',\n",
       " 'isnan',\n",
       " 'isqrt',\n",
       " 'lcm',\n",
       " 'ldexp',\n",
       " 'lgamma',\n",
       " 'log',\n",
       " 'log10',\n",
       " 'log1p',\n",
       " 'log2',\n",
       " 'modf',\n",
       " 'nan',\n",
       " 'nextafter',\n",
       " 'perm',\n",
       " 'pi',\n",
       " 'pow',\n",
       " 'prod',\n",
       " 'radians',\n",
       " 'remainder',\n",
       " 'sin',\n",
       " 'sinh',\n",
       " 'sqrt',\n",
       " 'tan',\n",
       " 'tanh',\n",
       " 'tau',\n",
       " 'trunc',\n",
       " 'ulp']"
      ]
     },
     "execution_count": 2,
     "metadata": {},
     "output_type": "execute_result"
    }
   ],
   "source": [
    "dir(math)      # Math modülünün içindekileri görmek için dir fonksiyonunu kullanabiliriz."
   ]
  },
  {
   "cell_type": "code",
   "execution_count": 3,
   "id": "a5c82f88-6e32-4968-8e1c-b97383f38e68",
   "metadata": {
    "tags": []
   },
   "outputs": [
    {
     "name": "stdout",
     "output_type": "stream",
     "text": [
      "Help on built-in module math:\n",
      "\n",
      "NAME\n",
      "    math\n",
      "\n",
      "DESCRIPTION\n",
      "    This module provides access to the mathematical functions\n",
      "    defined by the C standard.\n",
      "\n",
      "FUNCTIONS\n",
      "    acos(x, /)\n",
      "        Return the arc cosine (measured in radians) of x.\n",
      "        \n",
      "        The result is between 0 and pi.\n",
      "    \n",
      "    acosh(x, /)\n",
      "        Return the inverse hyperbolic cosine of x.\n",
      "    \n",
      "    asin(x, /)\n",
      "        Return the arc sine (measured in radians) of x.\n",
      "        \n",
      "        The result is between -pi/2 and pi/2.\n",
      "    \n",
      "    asinh(x, /)\n",
      "        Return the inverse hyperbolic sine of x.\n",
      "    \n",
      "    atan(x, /)\n",
      "        Return the arc tangent (measured in radians) of x.\n",
      "        \n",
      "        The result is between -pi/2 and pi/2.\n",
      "    \n",
      "    atan2(y, x, /)\n",
      "        Return the arc tangent (measured in radians) of y/x.\n",
      "        \n",
      "        Unlike atan(y/x), the signs of both x and y are considered.\n",
      "    \n",
      "    atanh(x, /)\n",
      "        Return the inverse hyperbolic tangent of x.\n",
      "    \n",
      "    cbrt(x, /)\n",
      "        Return the cube root of x.\n",
      "    \n",
      "    ceil(x, /)\n",
      "        Return the ceiling of x as an Integral.\n",
      "        \n",
      "        This is the smallest integer >= x.\n",
      "    \n",
      "    comb(n, k, /)\n",
      "        Number of ways to choose k items from n items without repetition and without order.\n",
      "        \n",
      "        Evaluates to n! / (k! * (n - k)!) when k <= n and evaluates\n",
      "        to zero when k > n.\n",
      "        \n",
      "        Also called the binomial coefficient because it is equivalent\n",
      "        to the coefficient of k-th term in polynomial expansion of the\n",
      "        expression (1 + x)**n.\n",
      "        \n",
      "        Raises TypeError if either of the arguments are not integers.\n",
      "        Raises ValueError if either of the arguments are negative.\n",
      "    \n",
      "    copysign(x, y, /)\n",
      "        Return a float with the magnitude (absolute value) of x but the sign of y.\n",
      "        \n",
      "        On platforms that support signed zeros, copysign(1.0, -0.0)\n",
      "        returns -1.0.\n",
      "    \n",
      "    cos(x, /)\n",
      "        Return the cosine of x (measured in radians).\n",
      "    \n",
      "    cosh(x, /)\n",
      "        Return the hyperbolic cosine of x.\n",
      "    \n",
      "    degrees(x, /)\n",
      "        Convert angle x from radians to degrees.\n",
      "    \n",
      "    dist(p, q, /)\n",
      "        Return the Euclidean distance between two points p and q.\n",
      "        \n",
      "        The points should be specified as sequences (or iterables) of\n",
      "        coordinates.  Both inputs must have the same dimension.\n",
      "        \n",
      "        Roughly equivalent to:\n",
      "            sqrt(sum((px - qx) ** 2.0 for px, qx in zip(p, q)))\n",
      "    \n",
      "    erf(x, /)\n",
      "        Error function at x.\n",
      "    \n",
      "    erfc(x, /)\n",
      "        Complementary error function at x.\n",
      "    \n",
      "    exp(x, /)\n",
      "        Return e raised to the power of x.\n",
      "    \n",
      "    exp2(x, /)\n",
      "        Return 2 raised to the power of x.\n",
      "    \n",
      "    expm1(x, /)\n",
      "        Return exp(x)-1.\n",
      "        \n",
      "        This function avoids the loss of precision involved in the direct evaluation of exp(x)-1 for small x.\n",
      "    \n",
      "    fabs(x, /)\n",
      "        Return the absolute value of the float x.\n",
      "    \n",
      "    factorial(n, /)\n",
      "        Find n!.\n",
      "        \n",
      "        Raise a ValueError if x is negative or non-integral.\n",
      "    \n",
      "    floor(x, /)\n",
      "        Return the floor of x as an Integral.\n",
      "        \n",
      "        This is the largest integer <= x.\n",
      "    \n",
      "    fmod(x, y, /)\n",
      "        Return fmod(x, y), according to platform C.\n",
      "        \n",
      "        x % y may differ.\n",
      "    \n",
      "    frexp(x, /)\n",
      "        Return the mantissa and exponent of x, as pair (m, e).\n",
      "        \n",
      "        m is a float and e is an int, such that x = m * 2.**e.\n",
      "        If x is 0, m and e are both 0.  Else 0.5 <= abs(m) < 1.0.\n",
      "    \n",
      "    fsum(seq, /)\n",
      "        Return an accurate floating point sum of values in the iterable seq.\n",
      "        \n",
      "        Assumes IEEE-754 floating point arithmetic.\n",
      "    \n",
      "    gamma(x, /)\n",
      "        Gamma function at x.\n",
      "    \n",
      "    gcd(*integers)\n",
      "        Greatest Common Divisor.\n",
      "    \n",
      "    hypot(...)\n",
      "        hypot(*coordinates) -> value\n",
      "        \n",
      "        Multidimensional Euclidean distance from the origin to a point.\n",
      "        \n",
      "        Roughly equivalent to:\n",
      "            sqrt(sum(x**2 for x in coordinates))\n",
      "        \n",
      "        For a two dimensional point (x, y), gives the hypotenuse\n",
      "        using the Pythagorean theorem:  sqrt(x*x + y*y).\n",
      "        \n",
      "        For example, the hypotenuse of a 3/4/5 right triangle is:\n",
      "        \n",
      "            >>> hypot(3.0, 4.0)\n",
      "            5.0\n",
      "    \n",
      "    isclose(a, b, *, rel_tol=1e-09, abs_tol=0.0)\n",
      "        Determine whether two floating point numbers are close in value.\n",
      "        \n",
      "          rel_tol\n",
      "            maximum difference for being considered \"close\", relative to the\n",
      "            magnitude of the input values\n",
      "          abs_tol\n",
      "            maximum difference for being considered \"close\", regardless of the\n",
      "            magnitude of the input values\n",
      "        \n",
      "        Return True if a is close in value to b, and False otherwise.\n",
      "        \n",
      "        For the values to be considered close, the difference between them\n",
      "        must be smaller than at least one of the tolerances.\n",
      "        \n",
      "        -inf, inf and NaN behave similarly to the IEEE 754 Standard.  That\n",
      "        is, NaN is not close to anything, even itself.  inf and -inf are\n",
      "        only close to themselves.\n",
      "    \n",
      "    isfinite(x, /)\n",
      "        Return True if x is neither an infinity nor a NaN, and False otherwise.\n",
      "    \n",
      "    isinf(x, /)\n",
      "        Return True if x is a positive or negative infinity, and False otherwise.\n",
      "    \n",
      "    isnan(x, /)\n",
      "        Return True if x is a NaN (not a number), and False otherwise.\n",
      "    \n",
      "    isqrt(n, /)\n",
      "        Return the integer part of the square root of the input.\n",
      "    \n",
      "    lcm(*integers)\n",
      "        Least Common Multiple.\n",
      "    \n",
      "    ldexp(x, i, /)\n",
      "        Return x * (2**i).\n",
      "        \n",
      "        This is essentially the inverse of frexp().\n",
      "    \n",
      "    lgamma(x, /)\n",
      "        Natural logarithm of absolute value of Gamma function at x.\n",
      "    \n",
      "    log(...)\n",
      "        log(x, [base=math.e])\n",
      "        Return the logarithm of x to the given base.\n",
      "        \n",
      "        If the base not specified, returns the natural logarithm (base e) of x.\n",
      "    \n",
      "    log10(x, /)\n",
      "        Return the base 10 logarithm of x.\n",
      "    \n",
      "    log1p(x, /)\n",
      "        Return the natural logarithm of 1+x (base e).\n",
      "        \n",
      "        The result is computed in a way which is accurate for x near zero.\n",
      "    \n",
      "    log2(x, /)\n",
      "        Return the base 2 logarithm of x.\n",
      "    \n",
      "    modf(x, /)\n",
      "        Return the fractional and integer parts of x.\n",
      "        \n",
      "        Both results carry the sign of x and are floats.\n",
      "    \n",
      "    nextafter(x, y, /)\n",
      "        Return the next floating-point value after x towards y.\n",
      "    \n",
      "    perm(n, k=None, /)\n",
      "        Number of ways to choose k items from n items without repetition and with order.\n",
      "        \n",
      "        Evaluates to n! / (n - k)! when k <= n and evaluates\n",
      "        to zero when k > n.\n",
      "        \n",
      "        If k is not specified or is None, then k defaults to n\n",
      "        and the function returns n!.\n",
      "        \n",
      "        Raises TypeError if either of the arguments are not integers.\n",
      "        Raises ValueError if either of the arguments are negative.\n",
      "    \n",
      "    pow(x, y, /)\n",
      "        Return x**y (x to the power of y).\n",
      "    \n",
      "    prod(iterable, /, *, start=1)\n",
      "        Calculate the product of all the elements in the input iterable.\n",
      "        \n",
      "        The default start value for the product is 1.\n",
      "        \n",
      "        When the iterable is empty, return the start value.  This function is\n",
      "        intended specifically for use with numeric values and may reject\n",
      "        non-numeric types.\n",
      "    \n",
      "    radians(x, /)\n",
      "        Convert angle x from degrees to radians.\n",
      "    \n",
      "    remainder(x, y, /)\n",
      "        Difference between x and the closest integer multiple of y.\n",
      "        \n",
      "        Return x - n*y where n*y is the closest integer multiple of y.\n",
      "        In the case where x is exactly halfway between two multiples of\n",
      "        y, the nearest even value of n is used. The result is always exact.\n",
      "    \n",
      "    sin(x, /)\n",
      "        Return the sine of x (measured in radians).\n",
      "    \n",
      "    sinh(x, /)\n",
      "        Return the hyperbolic sine of x.\n",
      "    \n",
      "    sqrt(x, /)\n",
      "        Return the square root of x.\n",
      "    \n",
      "    tan(x, /)\n",
      "        Return the tangent of x (measured in radians).\n",
      "    \n",
      "    tanh(x, /)\n",
      "        Return the hyperbolic tangent of x.\n",
      "    \n",
      "    trunc(x, /)\n",
      "        Truncates the Real x to the nearest Integral toward 0.\n",
      "        \n",
      "        Uses the __trunc__ magic method.\n",
      "    \n",
      "    ulp(x, /)\n",
      "        Return the value of the least significant bit of the float x.\n",
      "\n",
      "DATA\n",
      "    e = 2.718281828459045\n",
      "    inf = inf\n",
      "    nan = nan\n",
      "    pi = 3.141592653589793\n",
      "    tau = 6.283185307179586\n",
      "\n",
      "FILE\n",
      "    (built-in)\n",
      "\n",
      "\n"
     ]
    }
   ],
   "source": [
    "help(math)         # Fonksiyonların görevlerini görebilmek için help fonksiyonunu kullanabiliriz."
   ]
  },
  {
   "cell_type": "code",
   "execution_count": 4,
   "id": "b7824412-f4cb-4e10-9ff1-d46a52a7b2d1",
   "metadata": {
    "tags": []
   },
   "outputs": [
    {
     "data": {
      "text/plain": [
       "28.0"
      ]
     },
     "execution_count": 4,
     "metadata": {},
     "output_type": "execute_result"
    }
   ],
   "source": [
    "# mutlak değer alma\n",
    "\n",
    "math.fabs(-28) #fabs() math kutuphanesini import ettikten sonra geliyor"
   ]
  },
  {
   "cell_type": "code",
   "execution_count": 5,
   "id": "6e40ec95-320f-4763-b6b3-c06e70062293",
   "metadata": {},
   "outputs": [
    {
     "data": {
      "text/plain": [
       "28"
      ]
     },
     "execution_count": 5,
     "metadata": {},
     "output_type": "execute_result"
    }
   ],
   "source": [
    "# nomalde abs gömülü fonksiyonu da var\n",
    "abs(-28) #abs python in gomulu fonksiyonu"
   ]
  },
  {
   "cell_type": "code",
   "execution_count": 6,
   "id": "f1b33dd5-d641-430d-935f-d1ce60f2012f",
   "metadata": {},
   "outputs": [
    {
     "data": {
      "text/plain": [
       "32.0"
      ]
     },
     "execution_count": 6,
     "metadata": {},
     "output_type": "execute_result"
    }
   ],
   "source": [
    "# Birinci sayının ikinci sayıya göre kuvvetini alıyor\n",
    "math.pow(2,5)"
   ]
  },
  {
   "cell_type": "code",
   "execution_count": 8,
   "id": "de239c74-2992-4526-ad75-fe75fde02df3",
   "metadata": {},
   "outputs": [
    {
     "data": {
      "text/plain": [
       "5.0"
      ]
     },
     "execution_count": 8,
     "metadata": {},
     "output_type": "execute_result"
    }
   ],
   "source": [
    "# Icine girilen sayinin karekokunu aliyor\n",
    "math.sqrt(25)"
   ]
  },
  {
   "cell_type": "code",
   "execution_count": 9,
   "id": "016fd6ee-0268-4b48-8c2b-0ed495093718",
   "metadata": {
    "tags": []
   },
   "outputs": [
    {
     "data": {
      "text/plain": [
       "120"
      ]
     },
     "execution_count": 9,
     "metadata": {},
     "output_type": "execute_result"
    }
   ],
   "source": [
    "# Verilen sayının faktoriyelini döndürür\n",
    "math.factorial(5)"
   ]
  },
  {
   "cell_type": "code",
   "execution_count": 6,
   "id": "329026a6-9ae5-44d7-86d5-c2e9c92e6f8b",
   "metadata": {},
   "outputs": [
    {
     "data": {
      "text/plain": [
       "5"
      ]
     },
     "execution_count": 6,
     "metadata": {},
     "output_type": "execute_result"
    }
   ],
   "source": [
    "# Verilen iki sayının EBOB’unu veriyor\n",
    "math.gcd(45,70)"
   ]
  },
  {
   "cell_type": "code",
   "execution_count": 7,
   "id": "c592c8c8-d67f-4ddc-b2c5-0ea234292528",
   "metadata": {},
   "outputs": [
    {
     "data": {
      "text/plain": [
       "3.141592653589793"
      ]
     },
     "execution_count": 7,
     "metadata": {},
     "output_type": "execute_result"
    }
   ],
   "source": [
    "math.pi      # pi sayısını tutan değişken"
   ]
  },
  {
   "cell_type": "code",
   "execution_count": 8,
   "id": "e49cde94-76cf-4028-a68c-9507bb1d5e77",
   "metadata": {},
   "outputs": [
    {
     "data": {
      "text/plain": [
       "2.718281828459045"
      ]
     },
     "execution_count": 8,
     "metadata": {},
     "output_type": "execute_result"
    }
   ],
   "source": [
    "# euler sabitini tutan bir değişken\n",
    "math.e"
   ]
  },
  {
   "cell_type": "code",
   "execution_count": 9,
   "id": "3d7df227-f102-4e50-909c-ca2dc4d19cdd",
   "metadata": {},
   "outputs": [
    {
     "data": {
      "text/plain": [
       "2.0"
      ]
     },
     "execution_count": 9,
     "metadata": {},
     "output_type": "execute_result"
    }
   ],
   "source": [
    "# Birinci değerin ikinci değere göre logaritmasını hesaplar\n",
    "math.log(25,5)"
   ]
  },
  {
   "cell_type": "code",
   "execution_count": 10,
   "id": "09712ae3-7e05-451f-8f07-d4ee54fd5678",
   "metadata": {},
   "outputs": [
    {
     "data": {
      "text/plain": [
       "4.0"
      ]
     },
     "execution_count": 10,
     "metadata": {},
     "output_type": "execute_result"
    }
   ],
   "source": [
    "math.log10(10000)"
   ]
  },
  {
   "cell_type": "code",
   "execution_count": 14,
   "id": "7ddb10d9-aa6b-4e9a-b28f-141dacbddeea",
   "metadata": {},
   "outputs": [],
   "source": [
    "# Modülü kendi belirlediğimiz isimle de çağırabiliriz\n",
    "\n",
    "import math as matematik"
   ]
  },
  {
   "cell_type": "code",
   "execution_count": 15,
   "id": "f292f6f8-b2ac-4c30-9e2a-3909ea2d1502",
   "metadata": {},
   "outputs": [
    {
     "data": {
      "text/plain": [
       "4.0"
      ]
     },
     "execution_count": 15,
     "metadata": {},
     "output_type": "execute_result"
    }
   ],
   "source": [
    "matematik.log10(10000)"
   ]
  },
  {
   "cell_type": "code",
   "execution_count": null,
   "id": "2a5d0be6-427e-408a-930f-f2f29fac05ee",
   "metadata": {},
   "outputs": [],
   "source": []
  },
  {
   "cell_type": "code",
   "execution_count": 12,
   "id": "8fcb7275-85d1-4f11-89aa-1ba79958029b",
   "metadata": {},
   "outputs": [],
   "source": [
    "from math import * # Yıldızın anlamı math modülünün içindeki bütün fonksiyonları almak istediğimizi belirtiyor. * kullandigimizda basina kutuphanenin ismini yazmadan fonksiyonlarini cagirabiliyorum.static methodlari her yerde kullanabilirken statik olmayanlari Class ismi ile cagirmak gibi"
   ]
  },
  {
   "cell_type": "code",
   "execution_count": 27,
   "id": "0198ac4d-8f72-414f-9df3-a53eb14aa980",
   "metadata": {},
   "outputs": [
    {
     "data": {
      "text/plain": [
       "720"
      ]
     },
     "execution_count": 27,
     "metadata": {},
     "output_type": "execute_result"
    }
   ],
   "source": [
    "factorial(6)        # math yazmaksızın direk fonksiyon ismiyle kullanabiliriz"
   ]
  },
  {
   "cell_type": "code",
   "execution_count": 29,
   "id": "bf94880d-316c-4479-958e-6ff8f3f39e52",
   "metadata": {},
   "outputs": [
    {
     "data": {
      "text/plain": [
       "1.5707963267948966"
      ]
     },
     "execution_count": 29,
     "metadata": {},
     "output_type": "execute_result"
    }
   ],
   "source": [
    "# Verilen sayıyı dereceden radyana çevirir\n",
    "radians(90)"
   ]
  },
  {
   "cell_type": "code",
   "execution_count": 30,
   "id": "ebdbbf88-8123-45a6-ad01-6ddaa30cf8e4",
   "metadata": {},
   "outputs": [
    {
     "data": {
      "text/plain": [
       "-0.3048106211022167"
      ]
     },
     "execution_count": 30,
     "metadata": {},
     "output_type": "execute_result"
    }
   ],
   "source": [
    "# Radyan cinsinden verilen sayının sinüsünü hesaplar.\n",
    "sin(60)"
   ]
  },
  {
   "cell_type": "code",
   "execution_count": null,
   "id": "f3aacd43-2194-4f30-b8e7-15c09d244275",
   "metadata": {},
   "outputs": [],
   "source": []
  },
  {
   "cell_type": "code",
   "execution_count": null,
   "id": "3fc45e92-be0b-4c10-a532-ed3330eeda2c",
   "metadata": {},
   "outputs": [],
   "source": [
    "# Modülün tüm fonksiyonlarını değilde sadece kullanacağımız fonksiyonları çağırabiliriz \n",
    "from math import factorial,floor,ceil"
   ]
  },
  {
   "cell_type": "code",
   "execution_count": 17,
   "id": "7e22ee54-e45c-4e16-bd58-b160f42fa25a",
   "metadata": {},
   "outputs": [
    {
     "data": {
      "text/plain": [
       "120"
      ]
     },
     "execution_count": 17,
     "metadata": {},
     "output_type": "execute_result"
    }
   ],
   "source": [
    "factorial(5)"
   ]
  },
  {
   "cell_type": "code",
   "execution_count": 19,
   "id": "9870844e-b6ef-46d0-bf45-4b6c43bdb439",
   "metadata": {},
   "outputs": [
    {
     "data": {
      "text/plain": [
       "3"
      ]
     },
     "execution_count": 19,
     "metadata": {},
     "output_type": "execute_result"
    }
   ],
   "source": [
    "floor(3.8)       # floor ondalık bir sayıyı bir alt sayıya yuvarlar"
   ]
  },
  {
   "cell_type": "code",
   "execution_count": 13,
   "id": "7947b7c3-0f41-41c7-9c53-4a5a2b521392",
   "metadata": {},
   "outputs": [
    {
     "data": {
      "text/plain": [
       "4"
      ]
     },
     "execution_count": 13,
     "metadata": {},
     "output_type": "execute_result"
    }
   ],
   "source": [
    "ceil(3.22344)        # ceil ondalık bir sayıyı bir üst sayıya yuvarlar"
   ]
  },
  {
   "cell_type": "code",
   "execution_count": null,
   "id": "08697bf2-a5eb-43c5-af05-a7cd77eb1561",
   "metadata": {},
   "outputs": [],
   "source": []
  },
  {
   "cell_type": "markdown",
   "id": "52d2d1b5-46c3-4016-b468-46afe8f69db8",
   "metadata": {
    "tags": []
   },
   "source": [
    "## random Modülü"
   ]
  },
  {
   "cell_type": "markdown",
   "id": "0e78646d-2587-471d-8167-06daca23eaed",
   "metadata": {},
   "source": [
    "Belirli bir aralıkta rastgele sayıların üretilmesine ihtiyaç\n",
    "duyarsak Python’ın standart kütüphanesinde bulunan random adlı bir modülü\n",
    "kullanabiliriz."
   ]
  },
  {
   "cell_type": "code",
   "execution_count": 14,
   "id": "42f017bc-4170-4d3b-b0c7-1f5f7c96aa1a",
   "metadata": {},
   "outputs": [],
   "source": [
    "import random"
   ]
  },
  {
   "cell_type": "code",
   "execution_count": 15,
   "id": "8870d0dd",
   "metadata": {},
   "outputs": [
    {
     "data": {
      "text/plain": [
       "['BPF',\n",
       " 'LOG4',\n",
       " 'NV_MAGICCONST',\n",
       " 'RECIP_BPF',\n",
       " 'Random',\n",
       " 'SG_MAGICCONST',\n",
       " 'SystemRandom',\n",
       " 'TWOPI',\n",
       " '_ONE',\n",
       " '_Sequence',\n",
       " '_Set',\n",
       " '__all__',\n",
       " '__builtins__',\n",
       " '__cached__',\n",
       " '__doc__',\n",
       " '__file__',\n",
       " '__loader__',\n",
       " '__name__',\n",
       " '__package__',\n",
       " '__spec__',\n",
       " '_accumulate',\n",
       " '_acos',\n",
       " '_bisect',\n",
       " '_ceil',\n",
       " '_cos',\n",
       " '_e',\n",
       " '_exp',\n",
       " '_floor',\n",
       " '_index',\n",
       " '_inst',\n",
       " '_isfinite',\n",
       " '_log',\n",
       " '_os',\n",
       " '_pi',\n",
       " '_random',\n",
       " '_repeat',\n",
       " '_sha512',\n",
       " '_sin',\n",
       " '_sqrt',\n",
       " '_test',\n",
       " '_test_generator',\n",
       " '_urandom',\n",
       " '_warn',\n",
       " 'betavariate',\n",
       " 'choice',\n",
       " 'choices',\n",
       " 'expovariate',\n",
       " 'gammavariate',\n",
       " 'gauss',\n",
       " 'getrandbits',\n",
       " 'getstate',\n",
       " 'lognormvariate',\n",
       " 'normalvariate',\n",
       " 'paretovariate',\n",
       " 'randbytes',\n",
       " 'randint',\n",
       " 'random',\n",
       " 'randrange',\n",
       " 'sample',\n",
       " 'seed',\n",
       " 'setstate',\n",
       " 'shuffle',\n",
       " 'triangular',\n",
       " 'uniform',\n",
       " 'vonmisesvariate',\n",
       " 'weibullvariate']"
      ]
     },
     "execution_count": 15,
     "metadata": {},
     "output_type": "execute_result"
    }
   ],
   "source": [
    "dir(random)"
   ]
  },
  {
   "cell_type": "code",
   "execution_count": 17,
   "id": "e6b049b4-7480-4216-83cb-c2125b4c3c67",
   "metadata": {},
   "outputs": [
    {
     "data": {
      "text/plain": [
       "0.5940429867552003"
      ]
     },
     "execution_count": 17,
     "metadata": {},
     "output_type": "execute_result"
    }
   ],
   "source": [
    "# 0.0 ile 1.0 arasında rastgele bir float sayı üretir.1.0 dahil degil\n",
    "random.random()"
   ]
  },
  {
   "cell_type": "code",
   "execution_count": 34,
   "id": "82d05810-7728-42d9-920e-8e0a2c0f60fb",
   "metadata": {},
   "outputs": [
    {
     "data": {
      "text/plain": [
       "0.9766456273520743"
      ]
     },
     "execution_count": 34,
     "metadata": {},
     "output_type": "execute_result"
    }
   ],
   "source": [
    "random.random()     "
   ]
  },
  {
   "cell_type": "code",
   "execution_count": null,
   "id": "1466e17a-12be-48a8-a529-335fc48ddcc2",
   "metadata": {},
   "outputs": [],
   "source": []
  },
  {
   "cell_type": "code",
   "execution_count": 35,
   "id": "7920d14a-a0c0-4535-a326-ab0fa0194d19",
   "metadata": {},
   "outputs": [
    {
     "data": {
      "text/plain": [
       "3.0502502878670166"
      ]
     },
     "execution_count": 35,
     "metadata": {},
     "output_type": "execute_result"
    }
   ],
   "source": [
    "# uniform belirlediğimiz aralıkta rastgele float sayı üretir\n",
    "random.uniform(0.5, 4.5)"
   ]
  },
  {
   "cell_type": "code",
   "execution_count": null,
   "id": "c3f7a9ac-c3a2-419e-9150-67787a46e7c3",
   "metadata": {},
   "outputs": [],
   "source": []
  },
  {
   "cell_type": "code",
   "execution_count": 36,
   "id": "8a63c742-3366-4892-b9b2-5b3e4194ccd6",
   "metadata": {},
   "outputs": [
    {
     "data": {
      "text/plain": [
       "453"
      ]
     },
     "execution_count": 36,
     "metadata": {},
     "output_type": "execute_result"
    }
   ],
   "source": [
    "# randint rastgele tam sayı üretir\n",
    "random.randint(45, 500)"
   ]
  },
  {
   "cell_type": "code",
   "execution_count": null,
   "id": "f2d08af9-dae2-45dc-a09f-59afb72dc57a",
   "metadata": {},
   "outputs": [],
   "source": []
  },
  {
   "cell_type": "code",
   "execution_count": 37,
   "id": "ab775056-1f4a-441e-8075-7584fbdf9458",
   "metadata": {},
   "outputs": [
    {
     "data": {
      "text/plain": [
       "'celal'"
      ]
     },
     "execution_count": 37,
     "metadata": {},
     "output_type": "execute_result"
    }
   ],
   "source": [
    "# choice ile dizi niteliği taşıyan veri tiplerinden rastgele öğeler seçebiliriz\n",
    "liste = ['ali', 'veli', 'ahmet', 'mehmet', 'celal', 'selin', 'nihat']\n",
    "random.choice(liste)"
   ]
  },
  {
   "cell_type": "code",
   "execution_count": null,
   "id": "09672753-b592-4182-a982-4397f38e9d4d",
   "metadata": {},
   "outputs": [],
   "source": []
  },
  {
   "cell_type": "code",
   "execution_count": 18,
   "id": "b4331069-c2d2-451c-90ca-5b0b52b1dbd8",
   "metadata": {},
   "outputs": [
    {
     "data": {
      "text/plain": [
       "[0, 1, 2, 3, 4, 5, 6, 7, 8, 9]"
      ]
     },
     "execution_count": 18,
     "metadata": {},
     "output_type": "execute_result"
    }
   ],
   "source": [
    "liste2 = list(range(10))\n",
    "liste2"
   ]
  },
  {
   "cell_type": "code",
   "execution_count": 19,
   "id": "35a5a541-a09c-4c82-9075-bfee7b68a90e",
   "metadata": {},
   "outputs": [
    {
     "data": {
      "text/plain": [
       "[3, 9, 6, 8, 2, 7, 4, 0, 1, 5]"
      ]
     },
     "execution_count": 19,
     "metadata": {},
     "output_type": "execute_result"
    }
   ],
   "source": [
    "# shuffle() fonksiyonunu kullanarak, dizi niteliği taşıyan veri tiplerindeki öğeleri karıştırabiliriz\n",
    "random.shuffle(liste2)\n",
    "liste2"
   ]
  },
  {
   "cell_type": "code",
   "execution_count": null,
   "id": "e5ac0717-1ec6-4ce9-a526-4f1e54c3fdb4",
   "metadata": {},
   "outputs": [],
   "source": []
  },
  {
   "cell_type": "code",
   "execution_count": 41,
   "id": "2b2805c2-34da-440e-9826-b5043c66e7be",
   "metadata": {
    "tags": []
   },
   "outputs": [
    {
     "data": {
      "text/plain": [
       "[46, 25, 53, 60, 54]"
      ]
     },
     "execution_count": 41,
     "metadata": {},
     "output_type": "execute_result"
    }
   ],
   "source": [
    "# sample() fonksiyonu da, dizi niteliği taşıyan veri tiplerinden belli sayıda numune alınabilmesini sağlar\n",
    "liste = range(100)\n",
    "random.sample(liste,5)"
   ]
  },
  {
   "cell_type": "markdown",
   "id": "d675faa0-bbc1-4017-8bec-765cc9b8b9f2",
   "metadata": {},
   "source": [
    "## time Modülü\n"
   ]
  },
  {
   "cell_type": "code",
   "execution_count": 20,
   "id": "4443e15e-4e9f-4e7c-8ced-6c00620da120",
   "metadata": {},
   "outputs": [],
   "source": [
    "import time"
   ]
  },
  {
   "cell_type": "code",
   "execution_count": 21,
   "id": "2add0f84-0bed-4ba3-9163-dcae1e2ca9d7",
   "metadata": {
    "collapsed": true,
    "jupyter": {
     "outputs_hidden": true
    },
    "tags": []
   },
   "outputs": [
    {
     "data": {
      "text/plain": [
       "['_STRUCT_TM_ITEMS',\n",
       " '__doc__',\n",
       " '__loader__',\n",
       " '__name__',\n",
       " '__package__',\n",
       " '__spec__',\n",
       " 'altzone',\n",
       " 'asctime',\n",
       " 'ctime',\n",
       " 'daylight',\n",
       " 'get_clock_info',\n",
       " 'gmtime',\n",
       " 'localtime',\n",
       " 'mktime',\n",
       " 'monotonic',\n",
       " 'monotonic_ns',\n",
       " 'perf_counter',\n",
       " 'perf_counter_ns',\n",
       " 'process_time',\n",
       " 'process_time_ns',\n",
       " 'sleep',\n",
       " 'strftime',\n",
       " 'strptime',\n",
       " 'struct_time',\n",
       " 'thread_time',\n",
       " 'thread_time_ns',\n",
       " 'time',\n",
       " 'time_ns',\n",
       " 'timezone',\n",
       " 'tzname']"
      ]
     },
     "execution_count": 21,
     "metadata": {},
     "output_type": "execute_result"
    }
   ],
   "source": [
    "dir(time)"
   ]
  },
  {
   "cell_type": "code",
   "execution_count": 22,
   "id": "3c6d81b0-ed08-40ae-96ea-ec2639626688",
   "metadata": {},
   "outputs": [
    {
     "name": "stdout",
     "output_type": "stream",
     "text": [
      "merhaba\n",
      "arkadaşlar\n"
     ]
    }
   ],
   "source": [
    "# Bu fonksiyonu kullanarak kodlarımızın işleyişini belli sürelerle kesintiye uğratabiliriz.\n",
    "print(\"merhaba\")\n",
    "time.sleep(3)\n",
    "print(\"arkadaşlar\")"
   ]
  },
  {
   "cell_type": "code",
   "execution_count": null,
   "id": "35fbc0c8-7fc9-43ed-92ac-35d0747a50a9",
   "metadata": {},
   "outputs": [],
   "source": []
  },
  {
   "cell_type": "markdown",
   "id": "32b98a9b-4ca2-4493-87a5-91dd63366d50",
   "metadata": {
    "tags": []
   },
   "source": [
    "#### Örnek"
   ]
  },
  {
   "cell_type": "code",
   "execution_count": 44,
   "id": "872b3da4-8f57-4d86-9f2d-5e403a75e796",
   "metadata": {},
   "outputs": [
    {
     "name": "stdout",
     "output_type": "stream",
     "text": [
      "deneme sayısını giriniz:  3\n",
      "sayıyı(1-100) tahmin ediniz:  50\n"
     ]
    },
    {
     "name": "stdout",
     "output_type": "stream",
     "text": [
      "sayı aşağıda...kalan tahmin sayınız : 2\n"
     ]
    },
    {
     "name": "stdout",
     "output_type": "stream",
     "text": [
      "sayıyı(1-100) tahmin ediniz:  40\n"
     ]
    },
    {
     "name": "stdout",
     "output_type": "stream",
     "text": [
      "sayı aşağıda...kalan tahmin sayınız : 1\n"
     ]
    },
    {
     "name": "stdout",
     "output_type": "stream",
     "text": [
      "sayıyı(1-100) tahmin ediniz:  30\n"
     ]
    },
    {
     "name": "stdout",
     "output_type": "stream",
     "text": [
      "sayı aşağıda...kalan tahmin sayınız : 0\n",
      "sayıyı bilemediniz, sayı : 17\n"
     ]
    },
    {
     "name": "stdout",
     "output_type": "stream",
     "text": [
      "oyuna devam etmek istiyor musunuz..(E/H) E\n",
      "deneme sayısını giriniz:  2\n",
      "sayıyı(1-100) tahmin ediniz:  50\n"
     ]
    },
    {
     "name": "stdout",
     "output_type": "stream",
     "text": [
      "sayı aşağıda...kalan tahmin sayınız : 1\n"
     ]
    },
    {
     "name": "stdout",
     "output_type": "stream",
     "text": [
      "sayıyı(1-100) tahmin ediniz:  23\n"
     ]
    },
    {
     "name": "stdout",
     "output_type": "stream",
     "text": [
      "sayı aşağıda...kalan tahmin sayınız : 0\n",
      "sayıyı bilemediniz, sayı : 19\n"
     ]
    },
    {
     "name": "stdout",
     "output_type": "stream",
     "text": [
      "oyuna devam etmek istiyor musunuz..(E/H) H\n"
     ]
    },
    {
     "name": "stdout",
     "output_type": "stream",
     "text": [
      "güle güle...\n"
     ]
    }
   ],
   "source": [
    "# sayi tahmin etme oyunu\n",
    "# tahmin sayisini kullanıcı belirliyor\n",
    "\n",
    "from random import randint\n",
    "import time\n",
    "\n",
    "oyunDurumu = True    \n",
    "\n",
    "while oyunDurumu:\n",
    "    rastgeleSayi = randint(1,100)\n",
    "    hak = int(input(\"deneme sayisini giriniz: \"))\n",
    "    time.sleep(1)\n",
    "    while True:\n",
    "        if hak > 0:\n",
    "            tahmin = int(input(\"sayiyi(1-100) tahmin ediniz: \"))\n",
    "            time.sleep(1)\n",
    "        else:\n",
    "            print(f\"sayiyi bilemediniz, sayi : {rastgeleSayi}\")\n",
    "            time.sleep(1)\n",
    "            break  \n",
    "        if tahmin != rastgeleSayi:\n",
    "            hak -= 1\n",
    "            if tahmin > rastgeleSayi:\n",
    "                print(f\"sayi aşağida...kalan tahmin sayiniz : {hak}\")\n",
    "                time.sleep(1)\n",
    "            else:\n",
    "                print(f\"sayi yukarida...kalan tahmin sayiniz : {hak}\")\n",
    "                time.sleep(1)\n",
    "        else:\n",
    "            print(\"tebrikler sayiyi buldunuz\")\n",
    "            time.sleep(1)\n",
    "            break\n",
    "    \n",
    "    kontrol = input(\"oyuna devam etmek istiyor musunuz..(E/H)\")\n",
    "    if kontrol == \"E\":\n",
    "        oyunDurumu = True\n",
    "    else:\n",
    "        print(\"güle güle...\")\n",
    "        oyunDurumu = False    # en baştaki while dongusunu kırar"
   ]
  },
  {
   "cell_type": "markdown",
   "id": "483b57c6-c6fe-491b-8517-39f0767fb891",
   "metadata": {},
   "source": [
    "## datetime Modülü"
   ]
  },
  {
   "cell_type": "code",
   "execution_count": 23,
   "id": "b026e613-9919-4e56-b48b-70c87568856d",
   "metadata": {},
   "outputs": [],
   "source": [
    "# zaman, saat ve tarihlerle ilgili işlemler yapmamızı sağlayan önemli bir standart kütüphane modülü\n",
    "import datetime"
   ]
  },
  {
   "cell_type": "code",
   "execution_count": 24,
   "id": "959efe2d-3066-4224-8872-a45013032bcf",
   "metadata": {},
   "outputs": [
    {
     "data": {
      "text/plain": [
       "['MAXYEAR',\n",
       " 'MINYEAR',\n",
       " 'UTC',\n",
       " '__all__',\n",
       " '__builtins__',\n",
       " '__cached__',\n",
       " '__doc__',\n",
       " '__file__',\n",
       " '__loader__',\n",
       " '__name__',\n",
       " '__package__',\n",
       " '__spec__',\n",
       " 'date',\n",
       " 'datetime',\n",
       " 'datetime_CAPI',\n",
       " 'sys',\n",
       " 'time',\n",
       " 'timedelta',\n",
       " 'timezone',\n",
       " 'tzinfo']"
      ]
     },
     "execution_count": 24,
     "metadata": {},
     "output_type": "execute_result"
    }
   ],
   "source": [
    "dir(datetime) "
   ]
  },
  {
   "cell_type": "code",
   "execution_count": 26,
   "id": "5a32b71d-8388-4482-b156-555932486162",
   "metadata": {},
   "outputs": [],
   "source": [
    "# datetime modülü içindeki datetime sınıfına erişim\n",
    "from datetime import datetime "
   ]
  },
  {
   "cell_type": "code",
   "execution_count": 28,
   "id": "831ecae2-80f3-45ec-b557-526a0749db4e",
   "metadata": {
    "collapsed": true,
    "jupyter": {
     "outputs_hidden": true
    },
    "tags": []
   },
   "outputs": [
    {
     "data": {
      "text/plain": [
       "['__add__',\n",
       " '__class__',\n",
       " '__delattr__',\n",
       " '__dir__',\n",
       " '__doc__',\n",
       " '__eq__',\n",
       " '__format__',\n",
       " '__ge__',\n",
       " '__getattribute__',\n",
       " '__getstate__',\n",
       " '__gt__',\n",
       " '__hash__',\n",
       " '__init__',\n",
       " '__init_subclass__',\n",
       " '__le__',\n",
       " '__lt__',\n",
       " '__ne__',\n",
       " '__new__',\n",
       " '__radd__',\n",
       " '__reduce__',\n",
       " '__reduce_ex__',\n",
       " '__repr__',\n",
       " '__rsub__',\n",
       " '__setattr__',\n",
       " '__sizeof__',\n",
       " '__str__',\n",
       " '__sub__',\n",
       " '__subclasshook__',\n",
       " 'astimezone',\n",
       " 'combine',\n",
       " 'ctime',\n",
       " 'date',\n",
       " 'day',\n",
       " 'dst',\n",
       " 'fold',\n",
       " 'fromisocalendar',\n",
       " 'fromisoformat',\n",
       " 'fromordinal',\n",
       " 'fromtimestamp',\n",
       " 'hour',\n",
       " 'isocalendar',\n",
       " 'isoformat',\n",
       " 'isoweekday',\n",
       " 'max',\n",
       " 'microsecond',\n",
       " 'min',\n",
       " 'minute',\n",
       " 'month',\n",
       " 'now',\n",
       " 'replace',\n",
       " 'resolution',\n",
       " 'second',\n",
       " 'strftime',\n",
       " 'strptime',\n",
       " 'time',\n",
       " 'timestamp',\n",
       " 'timetuple',\n",
       " 'timetz',\n",
       " 'today',\n",
       " 'toordinal',\n",
       " 'tzinfo',\n",
       " 'tzname',\n",
       " 'utcfromtimestamp',\n",
       " 'utcnow',\n",
       " 'utcoffset',\n",
       " 'utctimetuple',\n",
       " 'weekday',\n",
       " 'year']"
      ]
     },
     "execution_count": 28,
     "metadata": {},
     "output_type": "execute_result"
    }
   ],
   "source": [
    "dir(datetime)     # datetime modülünün datetime sınıfı içinde yer alan fonksiyonlar "
   ]
  },
  {
   "cell_type": "code",
   "execution_count": 29,
   "id": "fe420df2-ebec-4942-b9d5-8ddb1e09789f",
   "metadata": {},
   "outputs": [
    {
     "data": {
      "text/plain": [
       "datetime.datetime(2023, 3, 20, 11, 28, 16, 410584)"
      ]
     },
     "execution_count": 29,
     "metadata": {},
     "output_type": "execute_result"
    }
   ],
   "source": [
    "# içinde bulunduğumuz andaki tarih, saat ve zaman bilgilerini verir\n",
    "now1 = datetime.now()         # datetime.today() aynı işlev\n",
    "now1"
   ]
  },
  {
   "cell_type": "code",
   "execution_count": null,
   "id": "9771c174-56a3-4199-ae08-a092d3f37dbe",
   "metadata": {},
   "outputs": [],
   "source": [
    "# \" year,month,day,hour,minute,second,microsecond \" yukarıdaki parantez içi"
   ]
  },
  {
   "cell_type": "code",
   "execution_count": 30,
   "id": "e1f77606-575c-42d3-97da-62a5e79ae6f3",
   "metadata": {},
   "outputs": [
    {
     "data": {
      "text/plain": [
       "2023"
      ]
     },
     "execution_count": 30,
     "metadata": {},
     "output_type": "execute_result"
    }
   ],
   "source": [
    "now1.year"
   ]
  },
  {
   "cell_type": "code",
   "execution_count": 31,
   "id": "fc6aa8cb-3f57-4aff-ba2f-e5d1ffe8d8f4",
   "metadata": {},
   "outputs": [
    {
     "data": {
      "text/plain": [
       "3"
      ]
     },
     "execution_count": 31,
     "metadata": {},
     "output_type": "execute_result"
    }
   ],
   "source": [
    "now1.month"
   ]
  },
  {
   "cell_type": "code",
   "execution_count": 32,
   "id": "3aa3973a-8025-4f69-9301-be72d1870991",
   "metadata": {},
   "outputs": [
    {
     "data": {
      "text/plain": [
       "16"
      ]
     },
     "execution_count": 32,
     "metadata": {},
     "output_type": "execute_result"
    }
   ],
   "source": [
    "now1.second"
   ]
  },
  {
   "cell_type": "code",
   "execution_count": 33,
   "id": "16aacc49-a057-4bdb-9a9c-ae39e9a5575d",
   "metadata": {},
   "outputs": [
    {
     "data": {
      "text/plain": [
       "'Mon Mar 20 11:28:16 2023'"
      ]
     },
     "execution_count": 33,
     "metadata": {},
     "output_type": "execute_result"
    }
   ],
   "source": [
    "# yukarıdaki now değişkenini ctime ile okunaklı formda yazdırabiliriz\n",
    "datetime.ctime(now1)  "
   ]
  },
  {
   "cell_type": "code",
   "execution_count": null,
   "id": "7f4c9690-1585-4b33-9bbd-b615aaf61b93",
   "metadata": {},
   "outputs": [],
   "source": []
  },
  {
   "cell_type": "markdown",
   "id": "3d42175c-cc5a-4dbd-886e-57a59e25a787",
   "metadata": {
    "tags": []
   },
   "source": [
    "**%a** hafta gününün kısaltılmış adı\n",
    "\n",
    "**%A** hafta gününün tam adı\n",
    "\n",
    "**%b** ayın kısaltılmış adı\n",
    "\n",
    "**%B** ayın tam adı\n",
    "\n",
    "**%c** tam tarih, saat ve zaman bilgisi\n",
    "\n",
    "**%d** sayı değerli bir karakter dizisi olarak gün\n",
    "\n",
    "**%j** belli bir tarihin, yılın kaçıncı gününe denk geldiğini gösteren 1-366 arası bir sayı\n",
    "\n",
    "**%m** sayı değerli bir karakter dizisi olarak ay\n",
    "\n",
    "**%U** belli bir tarihin yılın kaçıncı haftasına geldiğini gösteren 0-53 arası bir sayı\n",
    "\n",
    "**%y** yılın son iki rakamı\n",
    "\n",
    "**%Y** yılın dört haneli tam hali\n",
    "\n",
    "**%x** tam tarih bilgisi\n",
    "\n",
    "**%X** tam saat bilgisi\n"
   ]
  },
  {
   "cell_type": "code",
   "execution_count": 34,
   "id": "4d42a6b9-7688-42ff-9a0b-7db5a7b66cc5",
   "metadata": {},
   "outputs": [
    {
     "data": {
      "text/plain": [
       "'Mon Mar 20 11:28:16 2023'"
      ]
     },
     "execution_count": 34,
     "metadata": {},
     "output_type": "execute_result"
    }
   ],
   "source": [
    "# strftime() fonksiyonu, tarih ve zaman bilgilerini ihtiyaçlarımız doğrultusunda biçimlendirme imkanı sunar\n",
    "datetime.strftime(now1, '%c')"
   ]
  },
  {
   "cell_type": "code",
   "execution_count": 35,
   "id": "ecf2ad1d-912f-4302-8b1f-8c1c1804327f",
   "metadata": {},
   "outputs": [
    {
     "data": {
      "text/plain": [
       "'23'"
      ]
     },
     "execution_count": 35,
     "metadata": {},
     "output_type": "execute_result"
    }
   ],
   "source": [
    "datetime.strftime(now1, '%y')"
   ]
  },
  {
   "cell_type": "code",
   "execution_count": 36,
   "id": "c19ecf5b-d149-412b-bd9a-1225a107e9a7",
   "metadata": {},
   "outputs": [
    {
     "data": {
      "text/plain": [
       "'March'"
      ]
     },
     "execution_count": 36,
     "metadata": {},
     "output_type": "execute_result"
    }
   ],
   "source": [
    "datetime.strftime(now1, '%B')"
   ]
  },
  {
   "cell_type": "code",
   "execution_count": null,
   "id": "ff7b7b45-f544-4fa0-97f0-eac8457ad21d",
   "metadata": {},
   "outputs": [],
   "source": []
  },
  {
   "cell_type": "code",
   "execution_count": 37,
   "id": "71c4be64-ad87-41ae-95d8-9037070be0bf",
   "metadata": {},
   "outputs": [
    {
     "data": {
      "text/plain": [
       "'27'"
      ]
     },
     "execution_count": 37,
     "metadata": {},
     "output_type": "execute_result"
    }
   ],
   "source": [
    "# diyelim ki herhangi bir kaynaktan gelmiş şöyle bir karakter tarih dizisi var\n",
    "t = '27 Mayis 2014'\n",
    "gün, ay, yil = t.split()\n",
    "gün"
   ]
  },
  {
   "cell_type": "code",
   "execution_count": 38,
   "id": "c609280f-385d-44c5-976f-9a959ccbe3de",
   "metadata": {},
   "outputs": [],
   "source": [
    "tarih = '27 March 2014 time 12:34:44'\n",
    "gün, ay, yil, saat = [i for i in tarih.split() if 'time' not in i]   # bu form ÖNEMLİ!!!!!!!"
   ]
  },
  {
   "cell_type": "code",
   "execution_count": 41,
   "id": "972ea877",
   "metadata": {},
   "outputs": [
    {
     "data": {
      "text/plain": [
       "'12:34:44'"
      ]
     },
     "execution_count": 41,
     "metadata": {},
     "output_type": "execute_result"
    }
   ],
   "source": [
    "saat"
   ]
  },
  {
   "cell_type": "code",
   "execution_count": 40,
   "id": "8e3ab9ec-bbb5-49c2-8d62-5b2a00feb1bd",
   "metadata": {},
   "outputs": [
    {
     "data": {
      "text/plain": [
       "str"
      ]
     },
     "execution_count": 40,
     "metadata": {},
     "output_type": "execute_result"
    }
   ],
   "source": [
    "type(saat)"
   ]
  },
  {
   "cell_type": "code",
   "execution_count": 51,
   "id": "06ed8cd0-362d-4abf-83a7-631610eac3db",
   "metadata": {},
   "outputs": [],
   "source": [
    "# yukarıdaki işlem manuel\n",
    "# strptime() adlı fonksiyonu, tarih/zaman bilgisi içeren herhangi bir karakter dizisini \n",
    "# datetime türünde bir nesneye dönüştürebilmemizi sağlar\n",
    "tarih = '27 March 2014 time 12:34:44'\n",
    "zaman = datetime.strptime(tarih, '%d %B %Y time %H:%M:%S')"
   ]
  },
  {
   "cell_type": "code",
   "execution_count": 46,
   "id": "ef0d4ce0-abe4-4aca-ba2c-ef5161d3a59b",
   "metadata": {},
   "outputs": [
    {
     "data": {
      "text/plain": [
       "2014"
      ]
     },
     "execution_count": 46,
     "metadata": {},
     "output_type": "execute_result"
    }
   ],
   "source": [
    "zaman.year\n"
   ]
  },
  {
   "cell_type": "code",
   "execution_count": 47,
   "id": "9ca1251c",
   "metadata": {},
   "outputs": [
    {
     "data": {
      "text/plain": [
       "int"
      ]
     },
     "execution_count": 47,
     "metadata": {},
     "output_type": "execute_result"
    }
   ],
   "source": [
    "type(zaman.year)"
   ]
  },
  {
   "cell_type": "code",
   "execution_count": 48,
   "id": "b9d9bb2e-7e8d-41ab-b6ba-7801af4bb20a",
   "metadata": {},
   "outputs": [
    {
     "data": {
      "text/plain": [
       "3"
      ]
     },
     "execution_count": 48,
     "metadata": {},
     "output_type": "execute_result"
    }
   ],
   "source": [
    "zaman.month"
   ]
  },
  {
   "cell_type": "code",
   "execution_count": 97,
   "id": "0906b8e7-56b9-48f0-8a42-99285b85410d",
   "metadata": {},
   "outputs": [
    {
     "data": {
      "text/plain": [
       "34"
      ]
     },
     "execution_count": 97,
     "metadata": {},
     "output_type": "execute_result"
    }
   ],
   "source": [
    "zaman.minute"
   ]
  },
  {
   "cell_type": "code",
   "execution_count": null,
   "id": "49bd19a9-d5eb-46aa-bea6-2d8cc282abd5",
   "metadata": {},
   "outputs": [],
   "source": []
  },
  {
   "cell_type": "markdown",
   "id": "e8579939-e45a-4a5e-ab02-4d1abb399e4f",
   "metadata": {},
   "source": [
    "### kendi modülümüzü kuralım"
   ]
  },
  {
   "cell_type": "code",
   "execution_count": null,
   "id": "d203db3a-6919-492d-ac01-9bd8519fdd0d",
   "metadata": {},
   "outputs": [],
   "source": [
    "# modülümüzü py uzantılı bir dosya da oluşturuyoruz daha sonra dosya ismini import ederek\n",
    "# modülümüzü çalıştırmış oluyoruz. Dikkat etmemiz gereken nokta her iki dosyanında aynı klasörde olması gerek"
   ]
  },
  {
   "cell_type": "code",
   "execution_count": 183,
   "id": "30dcbc06-6c33-435e-8ec2-e165b755e357",
   "metadata": {
    "tags": []
   },
   "outputs": [],
   "source": [
    "import calculator"
   ]
  },
  {
   "cell_type": "code",
   "execution_count": 184,
   "id": "ae37948d-edeb-41aa-b438-e117c06179b4",
   "metadata": {},
   "outputs": [
    {
     "data": {
      "text/plain": [
       "['__builtins__',\n",
       " '__cached__',\n",
       " '__doc__',\n",
       " '__file__',\n",
       " '__loader__',\n",
       " '__name__',\n",
       " '__package__',\n",
       " '__spec__',\n",
       " 'bol',\n",
       " 'carp',\n",
       " 'cikar',\n",
       " 'topla']"
      ]
     },
     "execution_count": 184,
     "metadata": {},
     "output_type": "execute_result"
    }
   ],
   "source": [
    "dir(calculator)"
   ]
  },
  {
   "cell_type": "code",
   "execution_count": 185,
   "id": "92557d54-2f12-4ce7-978e-d68a8d78b1af",
   "metadata": {},
   "outputs": [
    {
     "data": {
      "text/plain": [
       "112"
      ]
     },
     "execution_count": 185,
     "metadata": {},
     "output_type": "execute_result"
    }
   ],
   "source": [
    "calculator.topla(25,87)"
   ]
  },
  {
   "cell_type": "code",
   "execution_count": 186,
   "id": "484e681f-06ae-4872-a31b-9fcd29f818b1",
   "metadata": {},
   "outputs": [
    {
     "data": {
      "text/plain": [
       "384"
      ]
     },
     "execution_count": 186,
     "metadata": {},
     "output_type": "execute_result"
    }
   ],
   "source": [
    "calculator.carp(12,32)"
   ]
  },
  {
   "cell_type": "code",
   "execution_count": 187,
   "id": "cae3cc80-41c5-46bf-b9a8-b3661d1446cd",
   "metadata": {},
   "outputs": [],
   "source": [
    "import mix"
   ]
  },
  {
   "cell_type": "code",
   "execution_count": 188,
   "id": "be3b6023-019b-45be-9c80-5dc6db22b4af",
   "metadata": {},
   "outputs": [
    {
     "data": {
      "text/plain": [
       "['__builtins__',\n",
       " '__cached__',\n",
       " '__doc__',\n",
       " '__file__',\n",
       " '__loader__',\n",
       " '__name__',\n",
       " '__package__',\n",
       " '__spec__',\n",
       " 'birler',\n",
       " 'okunus',\n",
       " 'onlar']"
      ]
     },
     "execution_count": 188,
     "metadata": {},
     "output_type": "execute_result"
    }
   ],
   "source": [
    "dir(mix)"
   ]
  },
  {
   "cell_type": "code",
   "execution_count": 189,
   "id": "0a31f8ef-78fa-4647-a5a8-b8eabb972c53",
   "metadata": {
    "tags": []
   },
   "outputs": [
    {
     "name": "stdout",
     "output_type": "stream",
     "text": [
      "Sayı: 67\n"
     ]
    },
    {
     "data": {
      "text/plain": [
       "'Girdiğiniz sayı: Altmış Yedi'"
      ]
     },
     "execution_count": 189,
     "metadata": {},
     "output_type": "execute_result"
    }
   ],
   "source": [
    "# girilen 2 basamaklı sayıyı yazıya çevirme\n",
    "\n",
    "sayı =  int(input(\"Sayı:\"))\n",
    "mix.okunus(sayı)"
   ]
  },
  {
   "cell_type": "code",
   "execution_count": 191,
   "id": "fffb0cfe-5875-47d0-89f7-fdc1cb3120a1",
   "metadata": {},
   "outputs": [
    {
     "data": {
      "text/plain": [
       "['', 'Bir', 'İki', 'Üç', 'Dört', 'Beş', 'Altı', 'Yedi', 'Sekiz', 'Dokuz']"
      ]
     },
     "execution_count": 191,
     "metadata": {},
     "output_type": "execute_result"
    }
   ],
   "source": [
    "mix.birler"
   ]
  },
  {
   "cell_type": "code",
   "execution_count": 192,
   "id": "f7976550-8920-4b44-be44-5214431ee2fa",
   "metadata": {},
   "outputs": [],
   "source": [
    "import mix2"
   ]
  },
  {
   "cell_type": "code",
   "execution_count": 193,
   "id": "f99e9d94-e5fb-4ab3-a7fb-197baa3f7f2b",
   "metadata": {},
   "outputs": [
    {
     "data": {
      "text/plain": [
       "['__builtins__',\n",
       " '__cached__',\n",
       " '__doc__',\n",
       " '__file__',\n",
       " '__loader__',\n",
       " '__name__',\n",
       " '__package__',\n",
       " '__spec__',\n",
       " 'ebob_bulma']"
      ]
     },
     "execution_count": 193,
     "metadata": {},
     "output_type": "execute_result"
    }
   ],
   "source": [
    "dir(mix2)"
   ]
  },
  {
   "cell_type": "code",
   "execution_count": 194,
   "id": "0ddf3522-536d-43b2-a3cd-d593c6ab5e0e",
   "metadata": {},
   "outputs": [
    {
     "name": "stdout",
     "output_type": "stream",
     "text": [
      "Sayı-1: 45\n",
      "Sayı-2: 90\n"
     ]
    },
    {
     "data": {
      "text/plain": [
       "45"
      ]
     },
     "execution_count": 194,
     "metadata": {},
     "output_type": "execute_result"
    }
   ],
   "source": [
    "# Girilen iki sayının Ebob'unu bulma\n",
    "\n",
    "sayı1 = int(input(\"Sayı-1:\"))\n",
    "sayı2 = int(input(\"Sayı-2:\"))\n",
    "mix2.ebob_bulma(sayı1,sayı2)\n",
    "#print(\"Girilen iki sayının Ebob'u:\",mix.ebob_bulma(sayı1,sayı2))"
   ]
  },
  {
   "cell_type": "code",
   "execution_count": 211,
   "id": "412b3d23-3ec8-4209-91f7-48091b9fe2a2",
   "metadata": {},
   "outputs": [],
   "source": [
    "import mix3"
   ]
  },
  {
   "cell_type": "code",
   "execution_count": 212,
   "id": "c1b56ec9-5175-4b85-9b84-7b7e3aed0730",
   "metadata": {},
   "outputs": [
    {
     "data": {
      "text/plain": [
       "['__builtins__',\n",
       " '__cached__',\n",
       " '__doc__',\n",
       " '__file__',\n",
       " '__loader__',\n",
       " '__name__',\n",
       " '__package__',\n",
       " '__spec__',\n",
       " 'ekok_bulma']"
      ]
     },
     "execution_count": 212,
     "metadata": {},
     "output_type": "execute_result"
    }
   ],
   "source": [
    "dir(mix3)"
   ]
  },
  {
   "cell_type": "code",
   "execution_count": 213,
   "id": "b5396d6b-1fca-49a5-89b8-51bd75f7becd",
   "metadata": {},
   "outputs": [
    {
     "name": "stdout",
     "output_type": "stream",
     "text": [
      "Sayı-1: 30\n",
      "Sayı-2: 75\n"
     ]
    },
    {
     "name": "stdout",
     "output_type": "stream",
     "text": [
      "Girilen iki sayının Ekok'u: 150\n"
     ]
    }
   ],
   "source": [
    "# Girilen iki sayının Ekok'unu bulma\n",
    "x = int(input(\"Sayı-1:\"))\n",
    "y = int(input(\"Sayı-2:\"))\n",
    "\n",
    "print(\"Girilen iki sayının Ekok'u:\",ekok_bulma(x,y))"
   ]
  },
  {
   "cell_type": "code",
   "execution_count": null,
   "id": "384e18f6-2348-49ee-8562-b8cae58145ab",
   "metadata": {},
   "outputs": [],
   "source": []
  }
 ],
 "metadata": {
  "kernelspec": {
   "display_name": "Python 3 (ipykernel)",
   "language": "python",
   "name": "python3"
  },
  "language_info": {
   "codemirror_mode": {
    "name": "ipython",
    "version": 3
   },
   "file_extension": ".py",
   "mimetype": "text/x-python",
   "name": "python",
   "nbconvert_exporter": "python",
   "pygments_lexer": "ipython3",
   "version": "3.11.1"
  }
 },
 "nbformat": 4,
 "nbformat_minor": 5
}
