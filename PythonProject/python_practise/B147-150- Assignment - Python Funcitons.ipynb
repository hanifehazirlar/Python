{
 "cells": [
  {
   "cell_type": "markdown",
   "id": "386239ff",
   "metadata": {},
   "source": [
    "___\n",
    "\n",
    "<p style=\"text-align: center;\"><img src=\"https://techproeducation.com/wp-content/uploads/2022/01/Calisma-Yuzeyi-1-kopya-5-1-768x126.png\" class=\"img-fluid\" alt=\"TECHPRO\"></p>\n",
    "\n",
    "___"
   ]
  },
  {
   "cell_type": "markdown",
   "id": "aa93b12c",
   "metadata": {},
   "source": [
    "# Python Functions Assignment"
   ]
  },
  {
   "attachments": {},
   "cell_type": "markdown",
   "id": "57c9c596",
   "metadata": {},
   "source": [
    "### 1. Write a Python function to find the maximum of three numbers."
   ]
  },
  {
   "cell_type": "code",
   "execution_count": 5,
   "id": "9655e704",
   "metadata": {},
   "outputs": [],
   "source": [
    "def max_number(sample_list):\n",
    "    sample_list = list(sample_list)\n",
    "    max = sample_list[0]\n",
    "    for i in sample_list:\n",
    "        if i > max:\n",
    "            max = i\n",
    "    return max"
   ]
  },
  {
   "cell_type": "code",
   "execution_count": 4,
   "id": "910c1163",
   "metadata": {},
   "outputs": [
    {
     "data": {
      "text/plain": [
       "3"
      ]
     },
     "execution_count": 4,
     "metadata": {},
     "output_type": "execute_result"
    }
   ],
   "source": [
    "sample_list = (2,3,-3)\n",
    "max_number(sample_list)"
   ]
  },
  {
   "attachments": {},
   "cell_type": "markdown",
   "id": "d6d0667d",
   "metadata": {},
   "source": [
    "### 2. Write a Python function to sum all the numbers in a list.\n",
    "\n",
    "#### Sample List : (8, 2, 3, 0, 7)\n",
    "\n",
    "#### Expected Output : 20"
   ]
  },
  {
   "cell_type": "code",
   "execution_count": 7,
   "id": "28fb6939",
   "metadata": {},
   "outputs": [],
   "source": [
    "def  sum_numbers(sample_list):\n",
    "    sum_numbers = 0 \n",
    "    for i in sample_list:\n",
    "        sum_numbers +=i\n",
    "    return sum_numbers"
   ]
  },
  {
   "cell_type": "code",
   "execution_count": 8,
   "id": "b394f321",
   "metadata": {},
   "outputs": [
    {
     "data": {
      "text/plain": [
       "20"
      ]
     },
     "execution_count": 8,
     "metadata": {},
     "output_type": "execute_result"
    }
   ],
   "source": [
    "sample_list = [8, 2, 3, 0, 7]\n",
    "sum_numbers(sample_list)"
   ]
  },
  {
   "attachments": {},
   "cell_type": "markdown",
   "id": "8991e3fe",
   "metadata": {},
   "source": [
    "### 3. Write a Python function to multiply all the numbers in a list.\n",
    "#### Sample List : (8, 2, 3, -1, 7)\n",
    "#### Expected Output : -336\n"
   ]
  },
  {
   "cell_type": "code",
   "execution_count": 12,
   "id": "325e7de4",
   "metadata": {},
   "outputs": [],
   "source": [
    "def  multply_numbers(sample_list):\n",
    "    multply_numbers = 1\n",
    "    for i in sample_list:\n",
    "        multply_numbers *=i\n",
    "    return multply_numbers"
   ]
  },
  {
   "cell_type": "code",
   "execution_count": 13,
   "id": "6d251f1f",
   "metadata": {},
   "outputs": [
    {
     "data": {
      "text/plain": [
       "-336"
      ]
     },
     "execution_count": 13,
     "metadata": {},
     "output_type": "execute_result"
    }
   ],
   "source": [
    "sample_list = [8, 2, 3, -1, 7]\n",
    "multply_numbers(sample_list)"
   ]
  },
  {
   "attachments": {},
   "cell_type": "markdown",
   "id": "d0397d6a",
   "metadata": {},
   "source": [
    "### 4. Write a Python program to reverse a string.\n",
    "#### Sample String : \"1234abcd\"\n",
    "#### Expected Output : \"dcba4321\""
   ]
  },
  {
   "cell_type": "code",
   "execution_count": 16,
   "id": "e6a79379",
   "metadata": {},
   "outputs": [],
   "source": [
    "def reverse_string(sample_str):\n",
    "    return sample_str[::-1]"
   ]
  },
  {
   "cell_type": "code",
   "execution_count": 17,
   "id": "c4d4b9ae",
   "metadata": {},
   "outputs": [
    {
     "data": {
      "text/plain": [
       "'dcba4321'"
      ]
     },
     "execution_count": 17,
     "metadata": {},
     "output_type": "execute_result"
    }
   ],
   "source": [
    "sample_str = \"1234abcd\"\n",
    "reverse_string(sample_str)"
   ]
  },
  {
   "attachments": {},
   "cell_type": "markdown",
   "id": "c7a633ba",
   "metadata": {},
   "source": [
    "#### 5. Write a Python function to calculate the factorial of a number (a non-negative integer). The function accepts the number as an argument."
   ]
  },
  {
   "cell_type": "code",
   "execution_count": 5,
   "id": "29d849d6",
   "metadata": {},
   "outputs": [],
   "source": [
    "def factorial(number) :\n",
    "    factorial = 1\n",
    "    if number < 0 :\n",
    "        factorial = \"The factorial of negative numbers cannot be calculated\"   \n",
    "    elif number == 0 :                     \n",
    "        factorial = 1   \n",
    "    else :   \n",
    "        for i in range(1,number+1) :\n",
    "            factorial *= i   \n",
    "    return factorial"
   ]
  },
  {
   "cell_type": "code",
   "execution_count": 6,
   "id": "4946e187",
   "metadata": {},
   "outputs": [
    {
     "data": {
      "text/plain": [
       "120"
      ]
     },
     "execution_count": 6,
     "metadata": {},
     "output_type": "execute_result"
    }
   ],
   "source": [
    "factorial(5)"
   ]
  },
  {
   "attachments": {},
   "cell_type": "markdown",
   "id": "81f0c3d5",
   "metadata": {},
   "source": [
    "### 6. Write a Python function to check whether a number falls within a given range."
   ]
  },
  {
   "cell_type": "code",
   "execution_count": 5,
   "id": "bf393352",
   "metadata": {},
   "outputs": [],
   "source": [
    "def isThereNumber(number,beginning,finish):\n",
    "    number_range=list(range(beginning,finish))\n",
    "    if number in number_range :\n",
    "        print(f\"{number} is between {beginning} and {finish}\")         \n",
    "    else :\n",
    "        print(f\"{number} is not between {beginning} and {finish} \") \n",
    "      "
   ]
  },
  {
   "cell_type": "code",
   "execution_count": 6,
   "id": "c134f282",
   "metadata": {},
   "outputs": [
    {
     "name": "stdout",
     "output_type": "stream",
     "text": [
      "5 is between 4 and 19\n"
     ]
    }
   ],
   "source": [
    "isThereNumber(5,4,19)"
   ]
  },
  {
   "cell_type": "code",
   "execution_count": 7,
   "id": "cf951afb",
   "metadata": {},
   "outputs": [],
   "source": [
    "#list comp\n",
    "def isThereNumber2(number,beginning,finish):\n",
    "    number_range=list(range(beginning,finish))\n",
    "    [print(f\"{number} is between {beginning} and {finish}\")if number in number_range \n",
    "      else print(f\"{number} is not between {beginning} and {finish} \") ] "
   ]
  },
  {
   "cell_type": "code",
   "execution_count": 9,
   "id": "ce7af3dd",
   "metadata": {},
   "outputs": [
    {
     "name": "stdout",
     "output_type": "stream",
     "text": [
      "3 is not between 4 and 10 \n"
     ]
    }
   ],
   "source": [
    "isThereNumber2(3,4,10)"
   ]
  },
  {
   "attachments": {},
   "cell_type": "markdown",
   "id": "46d9792b",
   "metadata": {},
   "source": [
    "### 7. Write a Python function that accepts a string and counts the number of upper and lower case letters.\n",
    "### Sample String : 'The quick Brow Fox'\n",
    "#### Expected Output :\n",
    "#### No. of Upper case characters : 3\n",
    "#### No. of Lower case Characters : 12"
   ]
  },
  {
   "cell_type": "code",
   "execution_count": 25,
   "id": "195a965b",
   "metadata": {},
   "outputs": [],
   "source": [
    "def numberUpperLowerLetter(string):\n",
    "    str_1 =str(string)\n",
    "    numberUpper=0\n",
    "    numberLower=0\n",
    "    numberNonLetter =0  \n",
    "    for i in str_1:\n",
    "     if i.isupper() :\n",
    "        numberUpper +=1\n",
    "     elif i.islower() :\n",
    "        numberLower += 1 \n",
    "     else:\n",
    "        numberNonLetter +=1\n",
    "    print(f\"No. of Upper case characters :{numberUpper} \\nNo. of Lower case Characters :{numberLower} \\nNo. of non letter characters :{numberNonLetter}\")"
   ]
  },
  {
   "cell_type": "code",
   "execution_count": 26,
   "id": "01a94fcc",
   "metadata": {},
   "outputs": [
    {
     "name": "stdout",
     "output_type": "stream",
     "text": [
      "No. of Upper case characters :3 \n",
      "No. of Lower case Characters :12 \n",
      "No. of non letter characters :3\n"
     ]
    }
   ],
   "source": [
    "numberUpperLowerLetter(\"The quick Brow Fox\")"
   ]
  },
  {
   "attachments": {},
   "cell_type": "markdown",
   "id": "be714b42",
   "metadata": {},
   "source": [
    "### 8. Write a Python function that takes a list and returns a new list with distinct elements from the first list.\n",
    "### Sample List : [1,2,3,3,3,3,4,5]\n",
    "### Unique List : [1, 2, 3, 4, 5]"
   ]
  },
  {
   "cell_type": "code",
   "execution_count": 5,
   "id": "4f2a7f66",
   "metadata": {},
   "outputs": [],
   "source": [
    "def unique_list(list_1):\n",
    "    return list(set(list_1))"
   ]
  },
  {
   "cell_type": "code",
   "execution_count": 6,
   "id": "2d11d89a",
   "metadata": {},
   "outputs": [
    {
     "name": "stdout",
     "output_type": "stream",
     "text": [
      "Sample List : [1, 2, 3, 3, 3, 3, 4, 5] \n",
      "Unique List : [1, 2, 3, 4, 5]\n"
     ]
    }
   ],
   "source": [
    "sample_list = [1,2,3,3,3,3,4,5]\n",
    "unique_list = unique_list(sample_list)\n",
    "print(f\"Sample List : {sample_list} \\nUnique List : {unique_list}\")"
   ]
  },
  {
   "attachments": {},
   "cell_type": "markdown",
   "id": "b3400547",
   "metadata": {},
   "source": [
    "#### 9. Write a Python function that takes a number as a parameter and checks whether the number is prime or not.\n",
    "### Note : A prime number (or a prime) is a natural number greater than 1 and that has no positive divisors other than 1 and itself."
   ]
  },
  {
   "cell_type": "code",
   "execution_count": 29,
   "id": "9179b32b",
   "metadata": {},
   "outputs": [],
   "source": [
    "def prime_number(number):\n",
    "    list_1 =[1,number]\n",
    "    list_2 =[]\n",
    "    i = 1\n",
    "    while i<=number:\n",
    "        if (number%i == 0) :\n",
    "            list_2.append(i)\n",
    "        i +=1\n",
    "    if list_1 == list_2 :\n",
    "        print(f\"{number} is a prime number\")\n",
    "    else:\n",
    "        print(f\"{number} is not a prime number\")       "
   ]
  },
  {
   "cell_type": "code",
   "execution_count": 30,
   "id": "ac9527c0",
   "metadata": {},
   "outputs": [
    {
     "name": "stdout",
     "output_type": "stream",
     "text": [
      "13 is a prime number\n"
     ]
    }
   ],
   "source": [
    "prime_number(13)\n"
   ]
  },
  {
   "cell_type": "markdown",
   "id": "9743a8c3",
   "metadata": {},
   "source": [
    "## 10. Write a Python program to print the even numbers from a given list.\n",
    "### Sample List : [1, 2, 3, 4, 5, 6, 7, 8, 9]\n",
    "### Expected Result : [2, 4, 6, 8]"
   ]
  },
  {
   "cell_type": "code",
   "execution_count": 27,
   "id": "039185d2",
   "metadata": {},
   "outputs": [],
   "source": [
    "def even_numbers(sample_list):\n",
    "    even_numbers=[]\n",
    "    for i in sample_list:\n",
    "        if i % 2 == 0 :\n",
    "            even_numbers.append(i)\n",
    "    print(f\"Sample List : {sample_list}\")\n",
    "    print(f\"Expected Result : {even_numbers}\")"
   ]
  },
  {
   "cell_type": "code",
   "execution_count": 28,
   "id": "e60efda6",
   "metadata": {},
   "outputs": [
    {
     "name": "stdout",
     "output_type": "stream",
     "text": [
      "Sample List : [1, 2, 3, 4, 5, 6, 7, 8, 9]\n",
      "Expected Result : [2, 4, 6, 8]\n"
     ]
    }
   ],
   "source": [
    "sample_list = [1, 2, 3, 4, 5, 6, 7, 8, 9]\n",
    "even_numbers(sample_list)"
   ]
  },
  {
   "cell_type": "code",
   "execution_count": 31,
   "id": "8fbc7ea7",
   "metadata": {},
   "outputs": [
    {
     "data": {
      "text/plain": [
       "[2, 4, 6, 8]"
      ]
     },
     "execution_count": 31,
     "metadata": {},
     "output_type": "execute_result"
    }
   ],
   "source": [
    "sample_list = [1, 2, 3, 4, 5, 6, 7, 8, 9]\n",
    "[i for i in sample_list if i % 2 == 0]"
   ]
  },
  {
   "cell_type": "code",
   "execution_count": null,
   "id": "fa13c389",
   "metadata": {},
   "outputs": [],
   "source": [
    "sample_list = [1, 2, 3, 4, 5, 6, 7, 8, 9]\n"
   ]
  },
  {
   "cell_type": "code",
   "execution_count": 34,
   "id": "746ae5b7",
   "metadata": {},
   "outputs": [
    {
     "data": {
      "text/plain": [
       "[2, 4, 6, 8]"
      ]
     },
     "execution_count": 34,
     "metadata": {},
     "output_type": "execute_result"
    }
   ],
   "source": [
    "Sample_List = [1, 2, 3, 4, 5, 6, 7, 8, 9]\n",
    "\n",
    "list(filter(lambda i : i % 2 == 0, Sample_List)) "
   ]
  },
  {
   "cell_type": "markdown",
   "id": "6c80fb99",
   "metadata": {},
   "source": [
    "## 11. Write a Python function to check whether a number is \"Perfect\" or not.\n",
    "### According to Wikipedia : In number theory, a perfect number is a positive integer that is equal to the sum of its proper positive divisors, that is, the sum of its positive divisors excluding the number itself (also known as its aliquot sum). Equivalently, a perfect number is a number that is half the sum of all of its positive divisors (including itself).\n",
    "### Example : The first perfect number is 6, because 1, 2, and 3 are its proper positive divisors, and 1 + 2 + 3 = 6. Equivalently, the number 6 is equal to half the sum of all its positive divisors: ( 1 + 2 + 3 + 6 ) / 2 = 6. The next perfect number is 28 = 1 + 2 + 4 + 7 + 14. This is followed by the perfect numbers 496 and 8128."
   ]
  },
  {
   "cell_type": "code",
   "execution_count": 3,
   "id": "39ffa501",
   "metadata": {},
   "outputs": [],
   "source": [
    "def perfect_number(number):\n",
    "    divisor_total = 0\n",
    "    i =1\n",
    "    while i < number :\n",
    "        if number % i == 0:\n",
    "            divisor_total +=i\n",
    "        i +=1\n",
    "    if divisor_total == number:\n",
    "        print(f\"{number} is a perfect number\")\n",
    "    else :\n",
    "        print(f\"{number} is not a perfect number\")"
   ]
  },
  {
   "cell_type": "code",
   "execution_count": 10,
   "id": "73f6432c",
   "metadata": {},
   "outputs": [
    {
     "name": "stdout",
     "output_type": "stream",
     "text": [
      "6 is a perfect number\n"
     ]
    }
   ],
   "source": [
    "perfect_number(6)"
   ]
  },
  {
   "attachments": {},
   "cell_type": "markdown",
   "id": "795dc6b0",
   "metadata": {},
   "source": [
    "### 12. Write a Python function that checks whether a passed string is a palindrome or not.\n",
    "#### Note: A palindrome is a word, phrase, or sequence that reads the same backward as forward, e.g., madam or nurses run."
   ]
  },
  {
   "cell_type": "code",
   "execution_count": 12,
   "id": "c0e2d29b",
   "metadata": {},
   "outputs": [],
   "source": [
    "def palindrome(string):\n",
    "    str_1 =string.replace(\" \",\"\")\n",
    "    if str_1 == str_1[::-1]:\n",
    "        print(f\"{string} is palindrome.\")\n",
    "    else :\n",
    "        print(f\"{string} is not palindrome.\")\n",
    "    "
   ]
  },
  {
   "cell_type": "code",
   "execution_count": 13,
   "id": "0e09872b",
   "metadata": {},
   "outputs": [
    {
     "name": "stdout",
     "output_type": "stream",
     "text": [
      "nurses run is palindrome.\n"
     ]
    }
   ],
   "source": [
    "palindrome(\"nurses run\")"
   ]
  },
  {
   "attachments": {},
   "cell_type": "markdown",
   "id": "1e155158",
   "metadata": {},
   "source": [
    "### 13. Write a Python function that prints out the first n rows of Pascal's triangle.\n",
    "#### Note : Pascal's triangle is an arithmetic and geometric figure first imagined by Blaise Pascal.\n",
    "#### Sample Pascal's triangle :\n",
    "#### Each number is the two numbers above it added together"
   ]
  },
  {
   "cell_type": "code",
   "execution_count": 20,
   "id": "1cde3f04",
   "metadata": {},
   "outputs": [
    {
     "name": "stdout",
     "output_type": "stream",
     "text": [
      "[[1, 1], [1, 1], [1, 2, 1], [1, 3, 3, 1], [1, 4, 6, 4, 1], [1, 5, 10, 10, 5, 1], [1, 6, 15, 20, 15, 6, 1], [1, 7, 21, 35, 35, 21, 7, 1], [1, 8, 28, 56, 70, 56, 28, 8, 1], [1, 9, 36, 84, 126, 126, 84, 36, 9, 1]]\n",
      "            1 \n",
      "           1  1 \n",
      "          1  2  1 \n",
      "         1  3  3  1 \n",
      "        1  4  6  4  1 \n",
      "       1  5 10 10  5  1 \n",
      "      1  6 15 20 15  6  1 \n",
      "     1  7 21 35 35 21  7  1 \n",
      "    1  8 28 56 70 56 28  8  1 \n",
      "   1  9 36 84 126 126 84 36  9  1 \n"
     ]
    }
   ],
   "source": [
    "\n",
    "n=int(input(\"Enter a row number: \"))\n",
    "a=[]\n",
    "for i in range(n):\n",
    "  a.append([])\n",
    "  a[i].append(1)\n",
    "  for j in range(1,i):\n",
    "   a[i].append(a[i-1][j-1]+a[i-1][j])\n",
    "  if(n!=0):\n",
    "   a[i].append(1)\n",
    "print(a)\n",
    "for i in range(n):\n",
    " print(\" \"*(n-i),end=\" \",sep=\" \")\n",
    " for j in range(0,i+1):\n",
    "  print('{0:2}'.format(a[i][j]),end=\" \",sep=\"  \")\n",
    " print()"
   ]
  },
  {
   "attachments": {},
   "cell_type": "markdown",
   "id": "b89febf6",
   "metadata": {},
   "source": [
    "### 14. Write a Python function to check whether a string is a pangram or not.\n",
    "#### Note : Pangrams are words or sentences containing every letter of the alphabet at least once.\n",
    "#### For example : \"The quick brown fox jumps over the lazy dog\""
   ]
  },
  {
   "cell_type": "code",
   "execution_count": 16,
   "id": "8d0e796a",
   "metadata": {},
   "outputs": [],
   "source": [
    "def pangram(string):\n",
    " import string as str\n",
    " alfabet = str.ascii_lowercase\n",
    " str_1 = list(filter(None,set(string.lower())))\n",
    " str_1.sort()\n",
    " str_1.remove(\" \")\n",
    " if list(alfabet) == str_1:\n",
    "  print(f\"'{string}' is pangram.\")\n",
    " else :\n",
    "  print(f\"'{string}' is not pangram.\")  "
   ]
  },
  {
   "cell_type": "code",
   "execution_count": 18,
   "id": "cdb6ff67",
   "metadata": {},
   "outputs": [
    {
     "name": "stdout",
     "output_type": "stream",
     "text": [
      "'The quick brown fox jumps over the lazy dog' is pangram.\n"
     ]
    }
   ],
   "source": [
    "pangram(\"The quick brown fox jumps over the lazy dog\")"
   ]
  },
  {
   "attachments": {},
   "cell_type": "markdown",
   "id": "d45e3b07",
   "metadata": {},
   "source": [
    "### 15. Write a Python program that accepts a hyphen-separated sequence of words as input and prints the words in a hyphen-separated sequence after sorting them alphabetically.\n",
    "#### Sample Items : green-red-yellow-black-white\n",
    "#### Expected Result : black-green-red-white-yellow"
   ]
  },
  {
   "cell_type": "code",
   "execution_count": 64,
   "id": "0e02f2e3",
   "metadata": {},
   "outputs": [
    {
     "name": "stdout",
     "output_type": "stream",
     "text": [
      "black-green-green-red-white-yellow\n"
     ]
    }
   ],
   "source": [
    "str_1 =input(\"Tire ile ayrilmis kelimeler giriniz\").lower().split(\"-\")\n",
    "str_1.sort()\n",
    "print(\"-\".join(str_1))\n"
   ]
  },
  {
   "attachments": {},
   "cell_type": "markdown",
   "id": "12d7472a",
   "metadata": {},
   "source": [
    "### 16. Write a Python function to create and print a list where the values are the squares of numbers between 1 and 30 (both included)."
   ]
  },
  {
   "cell_type": "code",
   "execution_count": 70,
   "id": "e886d6d5",
   "metadata": {},
   "outputs": [
    {
     "name": "stdout",
     "output_type": "stream",
     "text": [
      "[1, 4, 9, 16, 25, 36, 49, 64, 81, 100, 121, 144, 169, 196, 225, 256, 289, 324, 361, 400, 441, 484, 529, 576, 625, 676, 729, 784, 841, 900]\n"
     ]
    }
   ],
   "source": [
    "def square():\n",
    "    square_list = [i**2 for i in range(1,31)]     # list compre.\n",
    "    print(square_list)\n",
    "\n",
    "square()"
   ]
  },
  {
   "attachments": {},
   "cell_type": "markdown",
   "id": "5f116f5d",
   "metadata": {},
   "source": [
    "### 17. Write a Python program to create a chain of function decorators (bold, italic, underline etc.).\n"
   ]
  },
  {
   "cell_type": "code",
   "execution_count": 73,
   "id": "b0099649",
   "metadata": {},
   "outputs": [
    {
     "name": "stdout",
     "output_type": "stream",
     "text": [
      "<b><i><u>hello world</u></i></b>\n"
     ]
    }
   ],
   "source": [
    "def make_bold(fn):\n",
    "    def wrapped():\n",
    "        return \"<b>\" + fn() + \"</b>\"\n",
    "    return wrapped\n",
    "\n",
    "def make_italic(fn):\n",
    "    def wrapped():\n",
    "        return \"<i>\" + fn() + \"</i>\"\n",
    "    return wrapped\n",
    "\n",
    "def make_underline(fn):\n",
    "    def wrapped():\n",
    "        return \"<u>\" + fn() + \"</u>\"\n",
    "    return wrapped\n",
    "@make_bold\n",
    "@make_italic\n",
    "@make_underline\n",
    "def hello():\n",
    "    return \"hello world\"\n",
    "print(hello()) ## returns \"<b><i><u>hello world</u></i></b>\"\n"
   ]
  },
  {
   "attachments": {},
   "cell_type": "markdown",
   "id": "fbcbb303",
   "metadata": {},
   "source": [
    "<b><i><u>hello world</u></i></b>"
   ]
  },
  {
   "attachments": {},
   "cell_type": "markdown",
   "id": "e44f734a",
   "metadata": {},
   "source": [
    "### 18. Write a Python program to execute a string containing Python code."
   ]
  },
  {
   "cell_type": "code",
   "execution_count": 1,
   "id": "9272d6d6",
   "metadata": {},
   "outputs": [
    {
     "data": {
      "text/plain": [
       "12"
      ]
     },
     "execution_count": 1,
     "metadata": {},
     "output_type": "execute_result"
    }
   ],
   "source": [
    "# \"eval\" ve \"exec\" bir dize alır ve o dizeyi Python yorumlayıcısına aktarır ve çalıştırır.\n",
    "# eval fonksiyonu, bir Python ifadesini çalıştırır ve elde edilen sonucu geri verir.\n",
    "# eval ile sadece bir değer geri veren ifadeleri çalıştırabiliriz. Atama, if veya while gibi yapıları kullanamayız, fonksiyon tanımı yapamayız\n",
    "islem = input(\"Bir aritmetik işlem yazin: \")\n",
    "eval(islem)"
   ]
  },
  {
   "cell_type": "code",
   "execution_count": 20,
   "id": "bf686add",
   "metadata": {},
   "outputs": [
    {
     "data": {
      "text/plain": [
       "16"
      ]
     },
     "execution_count": 20,
     "metadata": {},
     "output_type": "execute_result"
    }
   ],
   "source": [
    "eval(\"sum([3,5,-2,10])\")"
   ]
  },
  {
   "cell_type": "code",
   "execution_count": 83,
   "id": "cc514e5a",
   "metadata": {},
   "outputs": [
    {
     "data": {
      "text/plain": [
       "3.1415"
      ]
     },
     "execution_count": 83,
     "metadata": {},
     "output_type": "execute_result"
    }
   ],
   "source": [
    "\n",
    "exec(\"x=3.1415\")\n",
    "x"
   ]
  },
  {
   "attachments": {},
   "cell_type": "markdown",
   "id": "5cfc44dd",
   "metadata": {},
   "source": [
    "### 19. Write a Python program to access a function inside a function."
   ]
  },
  {
   "cell_type": "code",
   "execution_count": 84,
   "id": "8c94ddd7",
   "metadata": {},
   "outputs": [
    {
     "name": "stdout",
     "output_type": "stream",
     "text": [
      "first() fonksiyonu çalişti\n",
      "second() fonksiyonu çalişti\n",
      "Sonuc: TechProEducation\n"
     ]
    }
   ],
   "source": [
    "def first(x):\n",
    "    print(\"first() fonksiyonu çalişti\")\n",
    "    y = 'TechPro'\n",
    "    \n",
    "    def second():\n",
    "        print(\"second() fonksiyonu çalişti\")\n",
    "        print(f\"Sonuc: {y+x}\")\n",
    "        \n",
    "    second()\n",
    "    \n",
    "first(\"Education\")"
   ]
  },
  {
   "attachments": {},
   "cell_type": "markdown",
   "id": "ad42d26f",
   "metadata": {},
   "source": [
    "### 20. Write a Python program to detect the number of local variables declared in a function.\n",
    "#### Sample Output:\n",
    "#### 3"
   ]
  },
  {
   "cell_type": "code",
   "execution_count": 85,
   "id": "d7fff293",
   "metadata": {},
   "outputs": [
    {
     "name": "stdout",
     "output_type": "stream",
     "text": [
      "empty fonksiyonunda ki local değişkenler: 0\n",
      "full fonksiyonunda ki local değişkenler: 4\n"
     ]
    }
   ],
   "source": [
    "# 1. yol -->  .__code__.co_nlocals ile variables sayısını öğrenme\n",
    "def empty():\n",
    "    pass\n",
    "\n",
    "def full():\n",
    "    str = \"TechPro\"\n",
    "    a,b = 89, 98.9\n",
    "    system = True\n",
    "    \n",
    "print(\"empty fonksiyonunda ki local değişkenler:\",empty.__code__.co_nlocals)\n",
    "print(\"full fonksiyonunda ki local değişkenler:\",full.__code__.co_nlocals)"
   ]
  },
  {
   "attachments": {},
   "cell_type": "markdown",
   "id": "d9df7ef3",
   "metadata": {},
   "source": [
    "### 21. Write a Python program that invokes a function after a specified period of time.\n",
    "#### Sample Output:\n",
    "#### Square root after specific miliseconds:\n",
    "#### 4.0\n",
    "#### 10.0\n",
    "#### 158.42979517754858 (edited) "
   ]
  },
  {
   "cell_type": "code",
   "execution_count": 86,
   "id": "34f77a91",
   "metadata": {},
   "outputs": [
    {
     "name": "stdout",
     "output_type": "stream",
     "text": [
      "İşlem 3 sn. sonra gerçekleşicek\n",
      "TechPro\n"
     ]
    }
   ],
   "source": [
    "import time\n",
    "\n",
    "delay = int(input(\"İşleminizi ne kadar geciktirmek istersiniz: \"))\n",
    "\n",
    "print(f\"İşlem {delay} sn. sonra gerçekleşicek\")\n",
    "time.sleep(delay)\n",
    "print(\"TechPro\")"
   ]
  },
  {
   "cell_type": "markdown",
   "id": "49c0309b",
   "metadata": {},
   "source": [
    "___\n",
    "\n",
    "<p style=\"text-align: center;\"><img src=\"https://techproeducation.com/wp-content/uploads/2022/01/Calisma-Yuzeyi-1-kopya-5-1-768x126.png\" class=\"img-fluid\" alt=\"TECHPRO\"></p>\n",
    "\n",
    "___"
   ]
  }
 ],
 "metadata": {
  "kernelspec": {
   "display_name": "Python 3",
   "language": "python",
   "name": "python3"
  },
  "language_info": {
   "codemirror_mode": {
    "name": "ipython",
    "version": 3
   },
   "file_extension": ".py",
   "mimetype": "text/x-python",
   "name": "python",
   "nbconvert_exporter": "python",
   "pygments_lexer": "ipython3",
   "version": "3.11.1"
  }
 },
 "nbformat": 4,
 "nbformat_minor": 5
}
