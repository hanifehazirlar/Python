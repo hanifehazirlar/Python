{
 "cells": [
  {
   "cell_type": "code",
   "execution_count": 1,
   "metadata": {},
   "outputs": [],
   "source": [
    "#       1 ------>   süslü parantez ile oluşturulur.\n",
    "info = {\"name\" : \"Hasan\",  \n",
    "        \"surname\" : \"Yüzler\",\n",
    "        \"class\" : \"8-B\"}"
   ]
  },
  {
   "cell_type": "code",
   "execution_count": 12,
   "metadata": {},
   "outputs": [
    {
     "data": {
      "text/plain": [
       "{'Adi': 'Hasan',\n",
       " 'Soyadi': 'Yüzler',\n",
       " 'Sinifi': '8-B',\n",
       " 'Dersler': ['Matematik', 'İngilizce', 'Tarih'],\n",
       " 'Notlar': (70, 80, 90),\n",
       " 'Sayilar': {1, 2, 3},\n",
       " 123: 'asd'}"
      ]
     },
     "execution_count": 12,
     "metadata": {},
     "output_type": "execute_result"
    }
   ],
   "source": [
    "#       2 ------>  VALUElar hangi değerleri alabilirler? \n",
    "#   ------> KEYler hangi değerleri alabilirler ?\n",
    "info = {\"Adi\" : \"Hasan\",  \n",
    "        \"Soyadi\" : \"Yüzler\",\n",
    "        \"Sinifi\" : \"8-B\",\n",
    "        \"Dersler\" : [\"Matematik\", \"İngilizce\",\"Tarih\"],\n",
    "        \"Notlar\" : (70, 80, 90),\n",
    "        \"Sayilar\" : {1,2,3},\n",
    "        \"Sayilar_listesi\" : [2,3,4,56],\n",
    "       #  {1,2,3} : (1,2,3),\n",
    "        (1,2,3) : (10,20,30),\n",
    "        123 : \"asd\"}\n",
    "\n",
    "info"
   ]
  },
  {
   "cell_type": "code",
   "execution_count": 1,
   "metadata": {},
   "outputs": [],
   "source": [
    "#          3 ------>  ÇAĞIRMA YONTEMİ --> index ile eleman çağıramayiz-->[]. index yerine KEY kullaniriz. Value döner\n"
   ]
  },
  {
   "cell_type": "code",
   "execution_count": 2,
   "metadata": {},
   "outputs": [],
   "source": [
    "#         4 ------>  elemanlari nasil değiştirebiliriz güncelleyebilirz.\n",
    "info = {\"Adi\" : \"Hasan\",  \n",
    "        \"Soyadi\" : \"Yüzler\",\n",
    "        \"Sinifi\" : \"8-B\",\n",
    "        \"Dersler\" : [\"Matematik\", \"İngilizce\",\"Tarih\"],\n",
    "        \"Notlar\" : (70, 80, 90),\n",
    "        \"Sayilar\" : {1,2,3},\n",
    "        123 : \"asd\"}"
   ]
  },
  {
   "cell_type": "code",
   "execution_count": 3,
   "metadata": {},
   "outputs": [],
   "source": [
    "#        5 -------> Aynı anda iki veya fazla alani güncellemek isteseydim."
   ]
  },
  {
   "cell_type": "code",
   "execution_count": 4,
   "metadata": {},
   "outputs": [],
   "source": [
    "#  indexleyerek birden çok elemani güncelleme"
   ]
  },
  {
   "cell_type": "code",
   "execution_count": 5,
   "metadata": {},
   "outputs": [],
   "source": [
    "#     6 ------>  bir alanı nasil silebiliriz.\n",
    "info = {\"Adi\" : \"Hasan\",  \n",
    "        \"Soyadi\" : \"Yüzler\",                \n",
    "        \"Sinifi\" : \"8-B\",                                       \n",
    "        \"Dersler\" : [\"Matematik\", \"İngilizce\",\"Tarih\"],\n",
    "        \"Notlar\" : (70, 80, 90),\n",
    "        \"Sayilar\" : {1,2,3},\n",
    "        123 : \"asd\"}\n",
    "\n"
   ]
  },
  {
   "cell_type": "code",
   "execution_count": 6,
   "metadata": {},
   "outputs": [],
   "source": [
    "#       7 ------>  yeni bir alan olusturup eleman ekleyelim"
   ]
  },
  {
   "cell_type": "code",
   "execution_count": null,
   "metadata": {},
   "outputs": [],
   "source": [
    "#       8 -------> sözlüğü for ile nasil yazdiririz\n",
    "\n",
    "\n",
    "info = {\"Adi\" : \"Hasan\",  \n",
    "        \"Soyadi\" : \"Yüzler\",\n",
    "        \"Sinifi\" : \"8-B\",\n",
    "        \"Dersler\" : [\"Matematik\", \"İngilizce\",\"Tarih\"],\n",
    "        \"Notlar\" : (70, 80, 90),\n",
    "        \"Sayilar\" : {1,2,3},\n",
    "        123 : \"asd\"}\n",
    "\n",
    "for i in info :             # --->  sadece dict adi yazdigimizda sadece tek veri donuyor. oda KEY\n",
    "    print(i)"
   ]
  },
  {
   "cell_type": "code",
   "execution_count": null,
   "metadata": {},
   "outputs": [],
   "source": [
    "# daha farkli yöntemlerle degerleri nasil yazdiririz.\n",
    "for i in info.values() :\n",
    "    print(i)           "
   ]
  },
  {
   "cell_type": "code",
   "execution_count": null,
   "metadata": {},
   "outputs": [],
   "source": [
    "for x, y in info.items() :  # ---> info.items() --> bize 2 veri doner. KEY : VALUE\n",
    "        print(x,y)          # bunu print(info.items()) ile yazirsak bize tuple tuple olarak donuyor."
   ]
  },
  {
   "cell_type": "code",
   "execution_count": null,
   "metadata": {},
   "outputs": [],
   "source": [
    "print(info.items())"
   ]
  },
  {
   "cell_type": "code",
   "execution_count": null,
   "metadata": {},
   "outputs": [],
   "source": [
    "#       9 -------> olmayan bir alani, keyi aratsak ne olur?\n",
    "info = {\"Adi\" : \"Hasan\",  \n",
    "        \"Soyadi\" : \"Yüzler\",\n",
    "        \"Sinifi\" : \"8-B\",\n",
    "        \"Dersler\" : [\"Matematik\", \"İngilizce\",\"Tarih\"],\n",
    "        \"Notlar\" : (70, 80, 90),\n",
    "        \"Sayilar\" : {1,2,3},\n",
    "        123 : \"asd\"}\n",
    "\n",
    "info[\"okul\"]                      "
   ]
  },
  {
   "cell_type": "code",
   "execution_count": 51,
   "metadata": {},
   "outputs": [
    {
     "data": {
      "text/plain": [
       "'aradiğiniz key yoktur.'"
      ]
     },
     "execution_count": 51,
     "metadata": {},
     "output_type": "execute_result"
    }
   ],
   "source": [
    "info.get(\"okul\",\"aradiğiniz key yoktur.\")"
   ]
  },
  {
   "attachments": {},
   "cell_type": "markdown",
   "metadata": {},
   "source": [
    "# EXERCISES"
   ]
  },
  {
   "cell_type": "code",
   "execution_count": 1,
   "metadata": {},
   "outputs": [
    {
     "data": {
      "text/plain": [
       "{'Ten': 10, 'Twenty': 20, 'Thirty': 30}"
      ]
     },
     "execution_count": 1,
     "metadata": {},
     "output_type": "execute_result"
    }
   ],
   "source": [
    "# 2 listi bir dicte cevirelim\n",
    "keys = ['Ten', 'Twenty', 'Thirty']\n",
    "values = [10, 20, 30]\n",
    "dict(zip(keys,values))"
   ]
  },
  {
   "cell_type": "code",
   "execution_count": 6,
   "metadata": {},
   "outputs": [
    {
     "data": {
      "text/plain": [
       "{'Thirty': 30, 'Fourty': 40, 'Fifty': 50, 'on': 10, 'yirmi': 20, 'otuz': 30}"
      ]
     },
     "execution_count": 6,
     "metadata": {},
     "output_type": "execute_result"
    }
   ],
   "source": [
    "# 2 dicti bileştirip 1 dict elde edelim.2 dicti bileştirip 1 dict elde edelim. # yeni bir dict tanımlasak icine bu dictleri koysak\n",
    "\n",
    "dict_tr = {'on': 10, 'yirmi': 20, 'otuz': 30}\n",
    "dict_en = {'Thirty': 30, 'Fourty': 40, 'Fifty': 50}\n",
    "{**dict_en,**dict_tr}\n",
    "\n"
   ]
  },
  {
   "cell_type": "code",
   "execution_count": 8,
   "metadata": {},
   "outputs": [
    {
     "data": {
      "text/plain": [
       "{'on': 10, 'yirmi': 20, 'otuz': 30, 'Thirty': 30, 'Fourty': 40, 'Fifty': 50}"
      ]
     },
     "execution_count": 8,
     "metadata": {},
     "output_type": "execute_result"
    }
   ],
   "source": [
    "# 2 dicti bileştirip yeni 1 dict elde edelim.   --> DİCT METHODLARINDAN FAYDALANSAK\n",
    "#update\n",
    "dict_tr = {'on': 10, 'yirmi': 20, 'otuz': 30}\n",
    "dict_en = {'Thirty': 30, 'Fourty': 40, 'Fifty': 50}\n",
    "dict_tr.update(dict_en)\n",
    "dict_tr"
   ]
  },
  {
   "cell_type": "code",
   "execution_count": 9,
   "metadata": {},
   "outputs": [
    {
     "data": {
      "text/plain": [
       "80"
      ]
     },
     "execution_count": 9,
     "metadata": {},
     "output_type": "execute_result"
    }
   ],
   "source": [
    "# matematik dersinin notunu yazdiralim\n",
    "notlar = {\"sinif\": { \"ogr\": { \"isim\": \"Cengiz\", \"notlar\": {\"fizik\" : 70, \"mat\" : 80  }}}}\n",
    "notlar[\"sinif\"][\"ogr\"][\"notlar\"][\"mat\"]"
   ]
  },
  {
   "cell_type": "code",
   "execution_count": 47,
   "metadata": {},
   "outputs": [
    {
     "data": {
      "text/plain": [
       "{'Adi': 'Hasan',\n",
       " 'Soyadi': 'Yüzler',\n",
       " 'Notlar': (70, 80, 90),\n",
       " 'Sayilar': {1, 2, 3},\n",
       " 123: 'asd'}"
      ]
     },
     "execution_count": 47,
     "metadata": {},
     "output_type": "execute_result"
    }
   ],
   "source": [
    "# dictten coklu veri silelim. Sinifi ve Dersler alanlarını siliniz. for\n",
    "\n",
    "info = {\"Adi\" : \"Hasan\",  \n",
    "        \"Soyadi\" : \"Yüzler\",\n",
    "        \"Sinifi\" : \"8-B\",\n",
    "        \"Dersler\" : [\"Matematik\", \"İngilizce\",\"Tarih\"],\n",
    "        \"Notlar\" : (70, 80, 90),\n",
    "        \"Sayilar\" : {1,2,3},\n",
    "        123 : \"asd\"}\n",
    "info2= dict(info)\n",
    "\n",
    "for i in info:\n",
    "    if i == \"Sinifi\":\n",
    "        info2.pop(\"Sinifi\")\n",
    "    elif i == \"Dersler\":\n",
    "        info2.pop(\"Dersler\")\n",
    "info2"
   ]
  },
  {
   "cell_type": "code",
   "execution_count": null,
   "metadata": {},
   "outputs": [],
   "source": [
    "# Sinifi ve Dersler alanlarını ayirip yeni bir dicte atayalim ve yazdiralim. \n",
    "\n",
    "info = {\"Adi\" : \"Hasan\",  \n",
    "        \"Soyadi\" : \"Yüzler\",\n",
    "        \"Sinifi\" : \"8-B\",\n",
    "        \"Dersler\" : [\"Matematik\", \"İngilizce\",\"Tarih\"],\n",
    "        \"Notlar\" : (70, 80, 90),\n",
    "        \"Sayilar\" : {1,2,3},\n",
    "        123 : \"asd\"}\n",
    "\n",
    "\n",
    "\n"
   ]
  },
  {
   "cell_type": "code",
   "execution_count": null,
   "metadata": {},
   "outputs": [],
   "source": [
    "# Dicte istenen değer varmi kontrol eden bir prg yaziniz\n",
    "info = {\"Adi\" : \"Hasan\",  \n",
    "        \"Soyadi\" : \"Yüzler\",\n",
    "        \"Sinifi\" : \"8-B\",\n",
    "        \"Dersler\" : [\"Matematik\", \"İngilizce\",\"Tarih\"],\n",
    "        \"Notlar\" : (70, 80, 90),\n",
    "        \"Sayilar\" : {1,2,3},\n",
    "        123 : \"asd\"}  \n"
   ]
  },
  {
   "cell_type": "code",
   "execution_count": null,
   "metadata": {},
   "outputs": [],
   "source": [
    "# Dictten en küçük değere sahip keyi bulunuz\n",
    "\n",
    "notlar={ \"fizik\" : 70,\n",
    "         \"matematik\" : 80,\n",
    "         \"tarih\" : 100 }"
   ]
  },
  {
   "cell_type": "code",
   "execution_count": null,
   "metadata": {},
   "outputs": [],
   "source": []
  }
 ],
 "metadata": {
  "kernelspec": {
   "display_name": "Python 3",
   "language": "python",
   "name": "python3"
  },
  "language_info": {
   "codemirror_mode": {
    "name": "ipython",
    "version": 3
   },
   "file_extension": ".py",
   "mimetype": "text/x-python",
   "name": "python",
   "nbconvert_exporter": "python",
   "pygments_lexer": "ipython3",
   "version": "3.11.1"
  },
  "orig_nbformat": 4
 },
 "nbformat": 4,
 "nbformat_minor": 2
}
