{
 "cells": [
  {
   "attachments": {},
   "cell_type": "markdown",
   "metadata": {},
   "source": [
    "## while\n",
    " while True: --> sart sağlanana\n",
    " \n",
    "            print(\"Sonsuz döngü\")  --- > \"indentation\" olmasi gerekiyor. \n",
    "\n",
    " sonsuz döngüye girmesini engellemek için while loop oncesinde bir variable belirleriz. index, sayac vb..\n",
    " \n",
    " while'dan sonraki condition False olursa calismayacaktir.\n",
    "\n",
    "Kaç defa çalışağı belli degildir, şarta bağlıdır\n",
    "\n"
   ]
  },
  {
   "attachments": {},
   "cell_type": "markdown",
   "metadata": {},
   "source": [
    "# for loop\n",
    "\n",
    "for i in \"elma\" :\n",
    "\n",
    "         print (\"asd\")\n",
    "\n",
    "başlangıç ve bitiş noktasi belirlemiyoruz.\n",
    "\n",
    "kaç defa çalışacağı bellidir. üzerinde gezdiğimiz iterable elemanın len'i kadar olur.\n",
    "\n",
    "for loop içerisinde in'den sonra yazdig imiz eleman mutlaka iterable olmalıdır. int, float(numeric olanlarin hiç \n",
    "\n",
    "birisi) ve boolean olmaz. Bunlar str'a type casting yapılırsa iterable yapılablir ve loop içerisinde kullanilabilir.\n",
    "\n",
    "iterable elemanlar --> list, tuple, string, set \n",
    "\n",
    "for loop için genelde range(100) yapisi kullanılır.\n",
    "\n",
    "\n",
    "\n",
    "\n",
    "\n"
   ]
  },
  {
   "cell_type": "code",
   "execution_count": 18,
   "metadata": {},
   "outputs": [
    {
     "name": "stdout",
     "output_type": "stream",
     "text": [
      "15\n"
     ]
    }
   ],
   "source": [
    "list = [35,20,25,15]\n",
    "\n",
    "x = list[0]\n",
    "for i in range(len(list)) : # burda uzunlugu kadar calistirdik. i bize 0,1,2,3 getiriyor\n",
    "   if x >= list[i] :\n",
    "      x = list[i]\n",
    "\n",
    "print(x)"
   ]
  },
  {
   "cell_type": "code",
   "execution_count": 17,
   "metadata": {},
   "outputs": [
    {
     "name": "stdout",
     "output_type": "stream",
     "text": [
      "15\n"
     ]
    }
   ],
   "source": [
    "list = [35,20,25,15]\n",
    "\n",
    "x = list[0]\n",
    "for i in list : # burda i bize listin elemanlarini getiriyor.\n",
    "   if x >= i :\n",
    "      x = i\n",
    "\n",
    "print(x)      "
   ]
  },
  {
   "cell_type": "code",
   "execution_count": 2,
   "metadata": {},
   "outputs": [
    {
     "name": "stdout",
     "output_type": "stream",
     "text": [
      "e\n",
      "l\n",
      "m\n",
      "a\n"
     ]
    }
   ],
   "source": [
    "for i in \"elma\" :\n",
    "    print (i)"
   ]
  },
  {
   "cell_type": "code",
   "execution_count": 6,
   "metadata": {},
   "outputs": [
    {
     "name": "stdout",
     "output_type": "stream",
     "text": [
      "e e e e "
     ]
    }
   ],
   "source": [
    "for i in \"elma\" :\n",
    "    print (\"e\",end=\" \")"
   ]
  },
  {
   "cell_type": "code",
   "execution_count": 3,
   "metadata": {},
   "outputs": [
    {
     "name": "stdout",
     "output_type": "stream",
     "text": [
      "bcd\n"
     ]
    }
   ],
   "source": [
    "while [] :\n",
    "    print(\"asd\")\n",
    "\n",
    "print(\"bcd\")    "
   ]
  },
  {
   "cell_type": "code",
   "execution_count": 4,
   "metadata": {},
   "outputs": [
    {
     "name": "stdout",
     "output_type": "stream",
     "text": [
      "15\n"
     ]
    }
   ],
   "source": [
    " # 1-) Kullanıcın girdiği 5 basamaklı bir sayının, \n",
    "# basamaklarının toplamını ekrana yazdıran python kodlarını yazınız?\n",
    "\n",
    "x = input(\"Lutfen bir 5 basamakli bir sayi giriniz\")\n",
    "\n",
    "sum = 0\n",
    "for i in x :\n",
    "    sum +=int(i)\n",
    "print(sum)    \n",
    "\n",
    "\n"
   ]
  },
  {
   "cell_type": "code",
   "execution_count": 2,
   "metadata": {},
   "outputs": [
    {
     "name": "stdout",
     "output_type": "stream",
     "text": [
      "Lutfen 5 basamakli bir sayi giriniz\n",
      "12345 sayisinin basamaklarinin toplami : 15\n",
      "12345 sayisinin basamaklarinin toplami : 15\n"
     ]
    }
   ],
   "source": [
    " # 1-) Kullanıcın girdiği 5 basamaklı bir sayının, \n",
    "# basamaklarının toplamını ekrana yazdıran python kodlarını yazınız?\n",
    "\n",
    "while True:\n",
    "    x = input(\"Lutfen bir 5 basamakli bir sayi giriniz\")\n",
    "    if x.isnumeric() and len(x) == 5 :\n",
    "        x = int(x)\n",
    "        basamak_toplam = 0\n",
    "        temp = x\n",
    "        while x > 0 :\n",
    "            basamak_toplam += x%10\n",
    "            x //= 10\n",
    "        print(f\"{temp} sayisinin basamaklarinin toplami : {basamak_toplam}\")\n",
    "        print(temp, \"sayisinin basamaklarinin toplami :\", basamak_toplam)\n",
    "        break\n",
    "    else :\n",
    "        print(\"Lutfen 5 basamakli bir sayi giriniz\")"
   ]
  },
  {
   "cell_type": "code",
   "execution_count": 2,
   "metadata": {},
   "outputs": [
    {
     "name": "stdout",
     "output_type": "stream",
     "text": [
      "Lutfen 5 basamakli bir sayi giriniz\n",
      "Lutfen 5 basamakli bir sayi giriniz\n",
      "Lutfen 5 basamakli bir sayi giriniz\n"
     ]
    }
   ],
   "source": [
    " # 1-) Kullanıcın girdiği 5 basamaklı bir sayının, \n",
    "# basamaklarının toplamını ekrana yazdıran python kodlarını yazınız?\n",
    "\n",
    "x = input(\"Lutfen bir 5 basamakli bir sayi giriniz\")\n",
    "\n",
    "while True :\n",
    "    x = input(\"Lutfen bir 5 basamakli bir sayi giriniz\")\n",
    "    if x.isnumeric() and len(x) == 5 :\n",
    "      x = int(x)\n",
    "      basamak_toplam = 0\n",
    "      temp = x\n",
    "      while x > 0 :\n",
    "        basamak_toplam += x%10\n",
    "        x //= 10\n",
    "      print(f\"{temp} sayisinin basamaklarinin toplami : {basamak_toplam}\")    \n",
    "      print(temp, \"sayisinin basamaklarinin toplami :\", basamak_toplam)    \n",
    "    else : \n",
    "      print(\"Lutfen 5 basamakli bir sayi giriniz\")\n",
    "       \n"
   ]
  },
  {
   "cell_type": "code",
   "execution_count": null,
   "metadata": {},
   "outputs": [],
   "source": [
    "\"\"\" 2-) Klavyeden kullanicinin girdiği 3 adet integer türünde ki sayiyi \n",
    "-büyükten küçüğe siralayarak\n",
    "- ortadaki sayi ile büyük olan sayinin arasindaki farki\n",
    "- ve yine ortadaki sayi ile küçük olan sayi ile arasindaki farki \n",
    " ekrana yazdiran python kodlarini yaziniz?\"\"\""
   ]
  },
  {
   "cell_type": "code",
   "execution_count": 46,
   "metadata": {},
   "outputs": [
    {
     "name": "stdout",
     "output_type": "stream",
     "text": [
      "girdiginiz sayilar : [9, 5, 5]\n",
      "ortadaki sayi ile büyük olan sayinin arasindaki farki : 4\n",
      "yine ortadaki sayi ile küçük olan sayi ile arasindaki farki : 0\n"
     ]
    }
   ],
   "source": [
    "sayilar_list = []\n",
    "count = 0\n",
    "\n",
    "while count < 3 : \n",
    "   k_sayi = input(f\"{count}. sayiyi giriniz\")\n",
    "   if k_sayi.isnumeric() :\n",
    "      sayilar_list.append(int(k_sayi))\n",
    "      count += 1\n",
    "   else : \n",
    "        print(\"Lutfen rakam giriniz\")   \n",
    "        \n",
    "\n",
    "sayilar_list.sort()\n",
    "sayilar_list.reverse()\n",
    "print(f\"girdiginiz sayilar : {sayilar_list}\" )\n",
    "print(f\"ortadaki sayi ile büyük olan sayinin arasindaki farki : {max(sayilar_list) - sayilar_list[1]}\") \n",
    "print(f\"yine ortadaki sayi ile küçük olan sayi ile arasindaki farki : {sayilar_list[1] - min(sayilar_list)}\")\n",
    "   \n",
    "# --------------> 06.03.2023\n",
    "\n"
   ]
  },
  {
   "cell_type": "code",
   "execution_count": 48,
   "metadata": {},
   "outputs": [
    {
     "name": "stdout",
     "output_type": "stream",
     "text": [
      "5\n"
     ]
    }
   ],
   "source": [
    "\"\"\" 3-) Kullanicinin girdiği iki sayi birbirine eşit ise ekrana “5” sonucu yazdiracak, \n",
    "eşit değil ise 25 defa “eşit değil” sonucunu ekrana yazdiran python kodlarini yaziniz? \n",
    "(while döngüsü ile)\"\"\"\n",
    "num_1 = int(input(\"enter a number\"))\n",
    "num_2 = int(input(\"enter a number\"))\n",
    "while num_1==num_2:\n",
    "    print(\"5\")\n",
    "    break\n",
    "else:\n",
    "    print(\"esit degil \"*25)"
   ]
  },
  {
   "cell_type": "code",
   "execution_count": 49,
   "metadata": {},
   "outputs": [
    {
     "data": {
      "text/plain": [
       "['5']"
      ]
     },
     "execution_count": 49,
     "metadata": {},
     "output_type": "execute_result"
    }
   ],
   "source": [
    "num_1 = int(input(\"enter a number\"))\n",
    "num_2 = int(input(\"enter a number\"))\n",
    "[\"5\" if num_1==num_2 else \"esit degil \"*25]"
   ]
  },
  {
   "cell_type": "code",
   "execution_count": 51,
   "metadata": {},
   "outputs": [
    {
     "data": {
      "text/plain": [
       "'esit degilesit degilesit degilesit degilesit degil'"
      ]
     },
     "execution_count": 51,
     "metadata": {},
     "output_type": "execute_result"
    }
   ],
   "source": [
    "x1 = int(input())\n",
    "x2 = int(input())\n",
    "\n",
    "\"5\" if x1 == x2 else \"esit degil\"*5"
   ]
  },
  {
   "cell_type": "code",
   "execution_count": 52,
   "metadata": {},
   "outputs": [
    {
     "name": "stdout",
     "output_type": "stream",
     "text": [
      "5\n"
     ]
    }
   ],
   "source": [
    "x1 = int(input())\n",
    "x2 = int(input())\n",
    "\n",
    "print(\"5\") if x1 == x2 else print(\"esit degil\"*5)"
   ]
  },
  {
   "cell_type": "code",
   "execution_count": 45,
   "metadata": {},
   "outputs": [
    {
     "data": {
      "text/plain": [
       "\"4-) Rastgele 600 adet 0 ile 1000 arasinda sayi oluşturup bir liste içerisine aktaran \\nve 100'den küçük olan sayilarin adedini ekrana yazdiran python kodlarini yaziniz?\""
      ]
     },
     "execution_count": 45,
     "metadata": {},
     "output_type": "execute_result"
    }
   ],
   "source": [
    "\"\"\"4-) Rastgele 600 adet 0 ile 1000 arasinda sayi oluşturup bir liste içerisine aktaran \n",
    "ve 100'den küçük olan sayilarin adedini ekrana yazdiran python kodlarini yaziniz?\"\"\""
   ]
  },
  {
   "cell_type": "code",
   "execution_count": null,
   "metadata": {},
   "outputs": [],
   "source": [
    "\"\"\"5-) Kullanicinin girdiği iki sayi birbirine eşitse bu sayinin 4’de göre modunu alip ekrana yazdiran \n",
    "python kodlarini yaziniz?\"\"\""
   ]
  },
  {
   "cell_type": "code",
   "execution_count": null,
   "metadata": {},
   "outputs": [],
   "source": [
    "\"\"\"6-) Kullanicinin girdiği iki sayiyi toplayan ve toplam sonucu 40 ile 50 arasinda ise ekrana\n",
    " “genç yazilimci” yazdiran python kodlarini yaziniz?\"\"\""
   ]
  },
  {
   "cell_type": "code",
   "execution_count": null,
   "metadata": {},
   "outputs": [],
   "source": [
    "\"\"\"7-) Kullanıcının girdiği 4 basamaklı sayıyı basamaklarını ayırıp tek tek rakamlarını \n",
    "ve rakamlarının toplamını ekrana yazdıran python kodlarını yazınız? \"\"\""
   ]
  },
  {
   "cell_type": "code",
   "execution_count": null,
   "metadata": {},
   "outputs": [],
   "source": [
    "\"\"\"8 -) Kullanıcının girdiği sayının, 5’e göre kalanını  ekrana yazdıran python kodlarını yazınız?\"\"\""
   ]
  },
  {
   "cell_type": "code",
   "execution_count": null,
   "metadata": {},
   "outputs": [],
   "source": [
    "\"\"\"9-) Aşağıdaki görselin ekran çıktısını veren python kodlarını döngü kullanarak yazınız?\"\"\""
   ]
  },
  {
   "cell_type": "code",
   "execution_count": null,
   "metadata": {},
   "outputs": [],
   "source": [
    "\"\"\"10-) Kullanıcının satın aldığı benzinin kaç TL tuttuğunu ve bunun ne kadarının vergi olduğunu\n",
    " hesaplayıp ekrana yazdıran programı python kodları ile yazınız. \"\"\""
   ]
  },
  {
   "attachments": {
    "image.png": {
     "image/png": "[encoded data removed]"
    }
   },
   "cell_type": "markdown",
   "metadata": {},
   "source": [
    "![image.png](attachment:image.png)"
   ]
  },
  {
   "cell_type": "code",
   "execution_count": null,
   "metadata": {},
   "outputs": [],
   "source": [
    "\"\"\"11-) \n",
    "Yukarıdaki denklemin sonucunu, kullanıcının girdiği x,y,c ve a değerlerine hesaplayıp \n",
    "sonucunu ekrana yazdıracak olan programın python kodları ile yazınız?\"\"\""
   ]
  },
  {
   "attachments": {},
   "cell_type": "markdown",
   "metadata": {},
   "source": [
    "Giriş Yapacağınız Sıcaklık Değerinin Birimini Seçiniz\n",
    "   1 - Celsius\n",
    "   2 - Fahrenheit\n",
    "   3 - Kelvin\n",
    "Kullanıcı giriş değer birimini seçip, değerini girecek.\n",
    "Aşağıdaki gibi bir ekran çıktısı alacak:\n",
    "Dönüştürmek istediğiniz birimi seçiniz:\n",
    "   1 - Celsius\n",
    "   2 - Fahrenheit\n",
    "   3 - Kelvin\n",
    "Eğer kullanıcı giriş yaptığı birime dönüştürmek isterse,\n",
    "(Örneğin giriş birimini Celsius seçti, dönüştürmek istediği birimi de Celsius seçti)\n",
    "O zaman aşağıdaki gibi bir hata mesajı verecek:\n",
    "Hata - Giriş yaptığınız birim değerine dönüştürme yapılamaz.\n",
    "Eğer kullanıcı giriş yaptığı birimden farklı bir birime dönüştürme yapmayı seçerse ekrana girilen sıcaklık biriminin dönüştürüldüğü sıcaklık değeri yazdırılacak.\n",
    "Örneğin kullanıcı giriş yapacağı değeri Celsius seçti ve değeri 30 olarak girdi\n",
    "Dönüştürülecek birimi de 2’yi seçip Fahrenheit birimine dönüştürmek istedi.\n",
    "Sonuç ekrana 86 Fahrenheit olarak yazdırılır."
   ]
  },
  {
   "cell_type": "code",
   "execution_count": null,
   "metadata": {},
   "outputs": [],
   "source": [
    "\"\"\"Giriş Yapacağınız Sıcaklık Değerinin Birimini Seçiniz\n",
    "   1 - Celsius\n",
    "   2 - Fahrenheit\n",
    "   3 - Kelvin\n",
    "Kullanıcı giriş değer birimini seçip, değerini girecek.\n",
    "Aşağıdaki gibi bir ekran çıktısı alacak:\n",
    "Dönüştürmek istediğiniz birimi seçiniz:\n",
    "   1 - Celsius\n",
    "   2 - Fahrenheit\n",
    "   3 - Kelvin\n",
    "Eğer kullanıcı giriş yaptığı birime dönüştürmek isterse,\n",
    "(Örneğin giriş birimini Celsius seçti, dönüştürmek istediği birimi de Celsius seçti)\n",
    "O zaman aşağıdaki gibi bir hata mesajı verecek:\n",
    "Hata - Giriş yaptığınız birim değerine dönüştürme yapılamaz.\n",
    "Eğer kullanıcı giriş yaptığı birimden farklı bir birime dönüştürme yapmayı seçerse ekrana girilen \n",
    "sıcaklık biriminin dönüştürüldüğü sıcaklık değeri yazdırılacak.\n",
    "Örneğin kullanıcı giriş yapacağı değeri Celsius seçti ve değeri 30 olarak girdi\n",
    "Dönüştürülecek birimi de 2’yi seçip Fahrenheit birimine dönüştürmek istedi.\n",
    "Sonuç ekrana 86 Fahrenheit olarak yazdırılır.\"\"\""
   ]
  },
  {
   "cell_type": "code",
   "execution_count": null,
   "metadata": {},
   "outputs": [],
   "source": []
  },
  {
   "attachments": {},
   "cell_type": "markdown",
   "metadata": {},
   "source": [
    "# LIST\n"
   ]
  },
  {
   "attachments": {},
   "cell_type": "markdown",
   "metadata": {},
   "source": [
    "1- Listelerdeki değişiklikler kalıcıdır.    MUTABLE'dir \n",
    "\n",
    "2- içindeki elementlerde gezinebiliriz yani ITERABLE\n",
    "\n",
    "3- İndex mevcuttur\n",
    "\n",
    "4 - Declaration - deklarasyon (oluşturmak için ) --> []  / Ayni zamanda list() fonksiyonu ile de oluşturulabilir. Genelde data conversion olarak kullanılır. List() ile string bir eleman girdiğimizde bize strinf ifadeyi charlarina ayırır. Boş list oluşturabiliriz.\n",
    "\n",
    "5- Liste içerisinde farkli türde data type barındırabilir. "
   ]
  },
  {
   "cell_type": "code",
   "execution_count": 2,
   "metadata": {},
   "outputs": [
    {
     "name": "stdout",
     "output_type": "stream",
     "text": [
      "['Hanife', 'Kadriye', 'Alparslan']\n"
     ]
    }
   ],
   "source": [
    "zoom_ders = [\"Hanife\", \"Kadriye\", \"Alparslan\"]\n",
    "print(zoom_ders)\n"
   ]
  },
  {
   "cell_type": "code",
   "execution_count": 12,
   "metadata": {},
   "outputs": [
    {
     "name": "stdout",
     "output_type": "stream",
     "text": [
      "['H', 'a', 'n', 'i', 'f', 'e']\n"
     ]
    }
   ],
   "source": [
    "zoom =list(\"Hanife\",)\n",
    "print(zoom)"
   ]
  },
  {
   "cell_type": "code",
   "execution_count": 14,
   "metadata": {},
   "outputs": [
    {
     "name": "stdout",
     "output_type": "stream",
     "text": [
      "<class 'tuple'>\n"
     ]
    }
   ],
   "source": [
    "zoom1=(\"Hanife\", \"Kadriye\", \"Alparslan\")\n",
    "print(type(zoom1))"
   ]
  },
  {
   "cell_type": "code",
   "execution_count": 16,
   "metadata": {},
   "outputs": [
    {
     "name": "stdout",
     "output_type": "stream",
     "text": [
      "<class 'list'>\n"
     ]
    }
   ],
   "source": [
    "print(type(list(zoom1)))"
   ]
  },
  {
   "attachments": {},
   "cell_type": "markdown",
   "metadata": {},
   "source": [
    ".append()  --> sona tek bir eleman ekler. Coklu ekleme için collection turlerinden birini kullanabiliriz.\n",
    "\n",
    ".extend() -->  2 listi birleştirme\n",
    "\n",
    ".insert()  --> belirten indexe istenen elemanı ekler insert(3,\"ali\") -- > saga kaykıl\n",
    "\n",
    ".sort()  --> küçükten büyüğe sıralama yapar. sort(reverse=true) --> büyükten küçüğe\n",
    "\n",
    ".reserve() --> tersten sıralama yapar\n",
    "\n",
    ".pop() --> son elementi siler        / pop(index) --> indexdeki elemani siler ve return yapar.\n",
    "\n",
    ".clear() --> listi boşaltır\n",
    "\n",
    ".remove(silinecek eleman / obje) --> ilk gördüğü belirtilen elemani siler\n",
    "\n",
    ".count() --> list elemanlarini sayar ve return yapar\n",
    "\n",
    ".index(eleman adi / obje ) --> içine yazilan elemanin indexini dondurur. return\n",
    "\n"
   ]
  },
  {
   "cell_type": "code",
   "execution_count": 17,
   "metadata": {},
   "outputs": [
    {
     "data": {
      "text/plain": [
       "['Hanife', 'Kadriye', 'Alparslan']"
      ]
     },
     "execution_count": 17,
     "metadata": {},
     "output_type": "execute_result"
    }
   ],
   "source": [
    "zoom_ders\n"
   ]
  },
  {
   "cell_type": "code",
   "execution_count": 4,
   "metadata": {},
   "outputs": [
    {
     "name": "stdout",
     "output_type": "stream",
     "text": [
      "['Hanife', 'Kadriye', 'Alparslan', 'Samed', 'Samed']\n"
     ]
    }
   ],
   "source": [
    "zoom_ders.append(\"Samed\")\n",
    "print(zoom_ders)"
   ]
  },
  {
   "cell_type": "code",
   "execution_count": 6,
   "metadata": {},
   "outputs": [],
   "source": [
    "zoom_ders.remove(\"Samed\")\n"
   ]
  },
  {
   "cell_type": "code",
   "execution_count": 7,
   "metadata": {},
   "outputs": [
    {
     "name": "stdout",
     "output_type": "stream",
     "text": [
      "['Hanife', 'Kadriye', 'Alparslan', 'Samed']\n"
     ]
    }
   ],
   "source": [
    "print(zoom_ders)"
   ]
  },
  {
   "cell_type": "code",
   "execution_count": 12,
   "metadata": {},
   "outputs": [],
   "source": [
    "zoom_ders.sort()\n",
    "print(zoom_ders)"
   ]
  },
  {
   "cell_type": "code",
   "execution_count": 10,
   "metadata": {},
   "outputs": [],
   "source": [
    "zoom_ders.reverse()"
   ]
  },
  {
   "cell_type": "code",
   "execution_count": 11,
   "metadata": {},
   "outputs": [
    {
     "name": "stdout",
     "output_type": "stream",
     "text": [
      "['Samed', 'Kadriye', 'Hanife', 'Alparslan']\n"
     ]
    }
   ],
   "source": [
    "print(zoom_ders)"
   ]
  },
  {
   "cell_type": "code",
   "execution_count": 19,
   "metadata": {},
   "outputs": [],
   "source": [
    "zoom =list(\"Hanife\",)\n",
    "zoom1=(\"Hanife\", \"Kadriye\", \"Alparslan\")\n",
    "zoom_ders.extend(zoom)\n",
    "zoom_ders.extend(zoom1)"
   ]
  },
  {
   "cell_type": "code",
   "execution_count": 20,
   "metadata": {},
   "outputs": [
    {
     "name": "stdout",
     "output_type": "stream",
     "text": [
      "['Alparslan', 'Hanife', 'Kadriye', 'Samed', 'H', 'a', 'n', 'i', 'f', 'e', 'H', 'a', 'n', 'i', 'f', 'e', 'H', 'a', 'n', 'i', 'f', 'e', 'Hanife', 'Kadriye', 'Alparslan']\n"
     ]
    }
   ],
   "source": [
    "print(zoom_ders)"
   ]
  },
  {
   "cell_type": "code",
   "execution_count": 23,
   "metadata": {},
   "outputs": [
    {
     "name": "stdout",
     "output_type": "stream",
     "text": [
      "['Alparslan', 'Hanife', 'Kadriye', 'Samed', 'H', 'a', 'n', 'i', 'f', 'e', 'H', 'a', 'n', 'i', 'f', 'e', 'H', 'a', 'n', 'i', 'f', 'e', 'Hanife', 'Kadriye', 'Alparslan', 'eklenenen string', 'eklenenen string']\n"
     ]
    }
   ],
   "source": [
    "eklenecek_string=[\"eklenenen string\"]\n",
    "zoom_ders.extend(eklenecek_string)\n",
    "print(zoom_ders)"
   ]
  },
  {
   "cell_type": "code",
   "execution_count": 25,
   "metadata": {},
   "outputs": [
    {
     "name": "stdout",
     "output_type": "stream",
     "text": [
      "['Alparslan', 'Hanife', 'Kadriye', 'Samed', 'H', 'a', 'n', 'i', 'f', 'e', 'H', 'a', 'n', 'i', 'f', 'e', 'H', 'a', 'n', 'i', 'f', 'e', 'Hanife', 'Kadriye', 'Alparslan']\n"
     ]
    }
   ],
   "source": [
    "zoom_ders.pop()\n",
    "print(zoom_ders)"
   ]
  },
  {
   "cell_type": "code",
   "execution_count": 30,
   "metadata": {},
   "outputs": [
    {
     "name": "stdout",
     "output_type": "stream",
     "text": [
      "['Hanife', 'Kadriye', 'Samed', 'H', 'a', 'n', 'i', 'f', 'e', 'H', 'a', 'n', 'i', 'f', 'e', 'H', 'a', 'n', 'i', 'f', 'e', 'Hanife', 'Kadriye']\n"
     ]
    }
   ],
   "source": [
    "zoom_ders.pop(0)\n",
    "print(zoom_ders)"
   ]
  },
  {
   "cell_type": "code",
   "execution_count": 35,
   "metadata": {},
   "outputs": [
    {
     "data": {
      "text/plain": [
       "3"
      ]
     },
     "execution_count": 35,
     "metadata": {},
     "output_type": "execute_result"
    }
   ],
   "source": [
    "zoom_ders.index('H')\n"
   ]
  },
  {
   "cell_type": "code",
   "execution_count": 37,
   "metadata": {},
   "outputs": [
    {
     "data": {
      "text/plain": [
       "'H'"
      ]
     },
     "execution_count": 37,
     "metadata": {},
     "output_type": "execute_result"
    }
   ],
   "source": [
    "zoom_ders.pop(3)"
   ]
  },
  {
   "cell_type": "code",
   "execution_count": 39,
   "metadata": {},
   "outputs": [
    {
     "name": "stdout",
     "output_type": "stream",
     "text": [
      "['Hanife', 'Kadriye', 'Samed', 'a', 'n', 'i', 'f', 'e', 'H', 'a', 'n', 'i', 'f', 'e', 'H', 'a', 'n', 'i', 'f', 'e', 'Hanife', 'Kadriye']\n"
     ]
    }
   ],
   "source": [
    "print(zoom_ders)"
   ]
  },
  {
   "attachments": {},
   "cell_type": "markdown",
   "metadata": {},
   "source": [
    "## Tuple"
   ]
  },
  {
   "attachments": {},
   "cell_type": "markdown",
   "metadata": {},
   "source": [
    "* tuple immutable(degistirilemez), list ise mutable\n",
    "* tuple icerisinde olusturulan veriler degistirilemez veya silinemez(append, remove,pop gibi methodlar kullanilamaz )\n",
    "* tuple listlere gore daha guvenlidir\n",
    "* tuple() fonksiyonunun icine iterable eleman yazilmalidir(int gibi numeric degerler yazilamaz)\n",
    "* tuple listlere gore daha hizlidir(uzerinde cok islem yapilamadigi icin)\n",
    "* Datalar uzerinde degisiklik yapmak istersek list seklinde olustururuz\n",
    "* datalar uzerinde degisiklik yapilmasini istemezsek tuple seklinde olustururuz\n",
    "* tuple() fonksiyon ozelligi genelde data turleri arasinda gecis icin kullanildigindan data turu olusturulurken dikkatli olmaliyiz\n",
    "* Tuple larin degismezligi nedeniyle dictionary yapisi icin key olarak kullanilabilir"
   ]
  },
  {
   "cell_type": "code",
   "execution_count": 2,
   "metadata": {},
   "outputs": [
    {
     "data": {
      "text/plain": [
       "(2, 2, 5)"
      ]
     },
     "execution_count": 2,
     "metadata": {},
     "output_type": "execute_result"
    }
   ],
   "source": [
    "(2,2,5)"
   ]
  },
  {
   "cell_type": "code",
   "execution_count": 5,
   "metadata": {},
   "outputs": [
    {
     "data": {
      "text/plain": [
       "(2, 2, 5)"
      ]
     },
     "execution_count": 5,
     "metadata": {},
     "output_type": "execute_result"
    }
   ],
   "source": [
    "a = [2,2,5]\n",
    "tuple(a)"
   ]
  },
  {
   "cell_type": "code",
   "execution_count": 3,
   "metadata": {},
   "outputs": [
    {
     "data": {
      "text/plain": [
       "(10, 9, 8, 7, 6, 5, 4, 3)"
      ]
     },
     "execution_count": 3,
     "metadata": {},
     "output_type": "execute_result"
    }
   ],
   "source": [
    "tuple(range(10,2,-1)) # burada range() bize list donduruyor. Bu yuzden kabul etti"
   ]
  },
  {
   "cell_type": "code",
   "execution_count": 9,
   "metadata": {},
   "outputs": [],
   "source": [
    "# tuple olusturmanin 3 yolu vardir\n",
    "()\n",
    "tuple()\n",
    "names = \"Ahmet\",\"Ayse\",\"Esma\""
   ]
  },
  {
   "cell_type": "code",
   "execution_count": 10,
   "metadata": {},
   "outputs": [
    {
     "data": {
      "text/plain": [
       "tuple"
      ]
     },
     "execution_count": 10,
     "metadata": {},
     "output_type": "execute_result"
    }
   ],
   "source": [
    "type(names)"
   ]
  },
  {
   "cell_type": "code",
   "execution_count": 15,
   "metadata": {},
   "outputs": [
    {
     "data": {
      "text/plain": [
       "tuple"
      ]
     },
     "execution_count": 15,
     "metadata": {},
     "output_type": "execute_result"
    }
   ],
   "source": [
    "b =\"Filiz\",\n",
    "type(b)"
   ]
  },
  {
   "attachments": {},
   "cell_type": "markdown",
   "metadata": {},
   "source": [
    "Tuplelarin elemanlarina erisim"
   ]
  },
  {
   "cell_type": "code",
   "execution_count": 16,
   "metadata": {},
   "outputs": [
    {
     "data": {
      "text/plain": [
       "'Ruby'"
      ]
     },
     "execution_count": 16,
     "metadata": {},
     "output_type": "execute_result"
    }
   ],
   "source": [
    "tuple_1 = \"Python\",\"Java\",\"Ruby\",\"C#\",\"JavaScript\"\n",
    "tuple_1[2]"
   ]
  },
  {
   "cell_type": "code",
   "execution_count": 17,
   "metadata": {},
   "outputs": [
    {
     "data": {
      "text/plain": [
       "('Java', 'Ruby', 'C#')"
      ]
     },
     "execution_count": 17,
     "metadata": {},
     "output_type": "execute_result"
    }
   ],
   "source": [
    "tuple_1[1:4]"
   ]
  },
  {
   "attachments": {},
   "cell_type": "markdown",
   "metadata": {},
   "source": [
    "index methodu\n",
    "index methodu bir tuple da aranilan elemanin kacinci index de oldugunu veren methoddur."
   ]
  },
  {
   "cell_type": "code",
   "execution_count": 18,
   "metadata": {},
   "outputs": [
    {
     "data": {
      "text/plain": [
       "3"
      ]
     },
     "execution_count": 18,
     "metadata": {},
     "output_type": "execute_result"
    }
   ],
   "source": [
    "tuple_1 = \"Python\",\"Java\",\"Ruby\",\"C#\",\"JavaScript\"\n",
    "tuple_1.index(\"C#\")"
   ]
  },
  {
   "attachments": {},
   "cell_type": "markdown",
   "metadata": {},
   "source": [
    "Count methodu\n",
    "Count methodu tuple icinde ayni elemandan kac tane oldugunu bulan methoddur."
   ]
  },
  {
   "cell_type": "code",
   "execution_count": 19,
   "metadata": {},
   "outputs": [
    {
     "data": {
      "text/plain": [
       "2"
      ]
     },
     "execution_count": 19,
     "metadata": {},
     "output_type": "execute_result"
    }
   ],
   "source": [
    "tuple_2= (\"Python\",\"Java\",\"Ruby\",\"JavaScript\",\"Python\",\"Java\",\"python\")\n",
    "tuple_2.count(\"Python\") # buyuk kucuk harf duyarliligindan dolayi sonucu 3 degil 2 verdi"
   ]
  },
  {
   "attachments": {},
   "cell_type": "markdown",
   "metadata": {},
   "source": [
    "range() methodu istenilen aralikta sayilar uretir"
   ]
  },
  {
   "cell_type": "code",
   "execution_count": 20,
   "metadata": {},
   "outputs": [
    {
     "data": {
      "text/plain": [
       "(0, 1, 2, 3, 4, 5, 6, 7, 8, 9)"
      ]
     },
     "execution_count": 20,
     "metadata": {},
     "output_type": "execute_result"
    }
   ],
   "source": [
    "tuple(range(10))"
   ]
  },
  {
   "cell_type": "code",
   "execution_count": 21,
   "metadata": {},
   "outputs": [
    {
     "data": {
      "text/plain": [
       "(5, 6, 7, 8, 9)"
      ]
     },
     "execution_count": 21,
     "metadata": {},
     "output_type": "execute_result"
    }
   ],
   "source": [
    "tuple(range(5,10))"
   ]
  },
  {
   "cell_type": "code",
   "execution_count": 22,
   "metadata": {},
   "outputs": [
    {
     "data": {
      "text/plain": [
       "(5, 7, 9)"
      ]
     },
     "execution_count": 22,
     "metadata": {},
     "output_type": "execute_result"
    }
   ],
   "source": [
    "tuple(range(5,10,2))"
   ]
  },
  {
   "cell_type": "code",
   "execution_count": 23,
   "metadata": {},
   "outputs": [
    {
     "data": {
      "text/plain": [
       "('Python',\n",
       " 'Java',\n",
       " 'Ruby',\n",
       " 'C#',\n",
       " 'JavaScript',\n",
       " 'Python',\n",
       " 'Java',\n",
       " 'Ruby',\n",
       " 'JavaScript',\n",
       " 'Python',\n",
       " 'Java',\n",
       " 'python')"
      ]
     },
     "execution_count": 23,
     "metadata": {},
     "output_type": "execute_result"
    }
   ],
   "source": [
    "tuple_1 = \"Python\",\"Java\",\"Ruby\",\"C#\",\"JavaScript\"\n",
    "tuple_2= (\"Python\",\"Java\",\"Ruby\",\"JavaScript\",\"Python\",\"Java\",\"python\")\n",
    "tuple_1+tuple_2 # sadece tuple ile tuple concat eder. Farkli data turlerini kabul etmez"
   ]
  },
  {
   "cell_type": "code",
   "execution_count": 33,
   "metadata": {},
   "outputs": [
    {
     "data": {
      "text/plain": [
       "('Python',\n",
       " 'Java',\n",
       " 'Ruby',\n",
       " 'C#',\n",
       " 'JavaScript',\n",
       " 'Python',\n",
       " 'Java',\n",
       " 'Ruby',\n",
       " 'JavaScript',\n",
       " 'Python',\n",
       " 'Java',\n",
       " 'python')"
      ]
     },
     "execution_count": 33,
     "metadata": {},
     "output_type": "execute_result"
    }
   ],
   "source": [
    "tuple_1 = \"Python\",\"Java\",\"Ruby\",\"C#\",\"JavaScript\"\n",
    "tuple_1 +=tuple_2 #burada tuple_1 de atama yaptigimiz icin kalici degisiklik oldu.\n",
    "                  #Bu islemi yapabilmek icin data turleri ayni olmali\n",
    "tuple_1"
   ]
  },
  {
   "cell_type": "code",
   "execution_count": 24,
   "metadata": {},
   "outputs": [
    {
     "ename": "TypeError",
     "evalue": "can only concatenate tuple (not \"list\") to tuple",
     "output_type": "error",
     "traceback": [
      "\u001b[1;31m---------------------------------------------------------------------------\u001b[0m",
      "\u001b[1;31mTypeError\u001b[0m                                 Traceback (most recent call last)",
      "Cell \u001b[1;32mIn[24], line 1\u001b[0m\n\u001b[1;32m----> 1\u001b[0m tuple_1\u001b[39m+\u001b[39;49m[\u001b[39m2\u001b[39;49m,\u001b[39m3\u001b[39;49m]\n",
      "\u001b[1;31mTypeError\u001b[0m: can only concatenate tuple (not \"list\") to tuple"
     ]
    }
   ],
   "source": [
    "tuple_1+[2,3]"
   ]
  },
  {
   "cell_type": "code",
   "execution_count": 29,
   "metadata": {},
   "outputs": [
    {
     "name": "stdout",
     "output_type": "stream",
     "text": [
      "<class 'tuple'>\n",
      "<class 'tuple'>\n"
     ]
    }
   ],
   "source": [
    "x = 2\n",
    "y = 3\n",
    "(x, y) = (y, x)\n",
    "print(type((x, y)))\n",
    "print(type((y, x)))\n"
   ]
  },
  {
   "cell_type": "code",
   "execution_count": 26,
   "metadata": {},
   "outputs": [
    {
     "data": {
      "text/plain": [
       "3"
      ]
     },
     "execution_count": 26,
     "metadata": {},
     "output_type": "execute_result"
    }
   ],
   "source": [
    "a = x\n",
    "a"
   ]
  },
  {
   "cell_type": "code",
   "execution_count": 32,
   "metadata": {},
   "outputs": [
    {
     "name": "stdout",
     "output_type": "stream",
     "text": [
      "x = 3    y = 2\n"
     ]
    }
   ],
   "source": [
    "x = 2\n",
    "y = 3\n",
    "(x,y) =(y,x)    # tuple'da iki farkli degişkenin değeri değişiyor\n",
    "print(f\"x = {x}    y = {y}\")"
   ]
  },
  {
   "cell_type": "code",
   "execution_count": 31,
   "metadata": {},
   "outputs": [
    {
     "name": "stdout",
     "output_type": "stream",
     "text": [
      "x = 3    y = 2\n"
     ]
    }
   ],
   "source": [
    "x = 2\n",
    "y = 3\n",
    "x, y = y, x          # tuple'da iki farkli degişkenin değeri değişiyor\n",
    "print(f\"x = {x}    y = {y}\")"
   ]
  },
  {
   "cell_type": "code",
   "execution_count": 30,
   "metadata": {},
   "outputs": [
    {
     "name": "stdout",
     "output_type": "stream",
     "text": [
      "x = 3    y = 2\n"
     ]
    }
   ],
   "source": [
    "x = 2\n",
    "y = 3\n",
    "[x,y] = [y,x]   # list'de iki farkli degişkenin değeri değişiyor\n",
    "print(f\"x = {x}    y = {y}\")"
   ]
  },
  {
   "attachments": {},
   "cell_type": "markdown",
   "metadata": {},
   "source": [
    "Sorular"
   ]
  },
  {
   "attachments": {},
   "cell_type": "markdown",
   "metadata": {},
   "source": [
    "1)\n",
    "t = ('foo', 'bar', 'baz')\n",
    "İkinci eleman olan “bar”ı, “qux” ile değiştirmek istiyoruz. Hangi seçenek ile yapabiliriz?\n",
    "\n",
    "a) t[1] = 'qux'\n",
    "b) t(1) = 'qux'\n",
    "c) t[1:1] = 'qux'\n",
    "d)  Hileli soru. Tuple'ı değiştiremezsin.\n",
    "cevap d sikki"
   ]
  },
  {
   "cell_type": "code",
   "execution_count": 34,
   "metadata": {},
   "outputs": [
    {
     "ename": "TypeError",
     "evalue": "'tuple' object does not support item assignment",
     "output_type": "error",
     "traceback": [
      "\u001b[1;31m---------------------------------------------------------------------------\u001b[0m",
      "\u001b[1;31mTypeError\u001b[0m                                 Traceback (most recent call last)",
      "Cell \u001b[1;32mIn[34], line 2\u001b[0m\n\u001b[0;32m      1\u001b[0m t \u001b[39m=\u001b[39m (\u001b[39m'\u001b[39m\u001b[39mfoo\u001b[39m\u001b[39m'\u001b[39m, \u001b[39m'\u001b[39m\u001b[39mbar\u001b[39m\u001b[39m'\u001b[39m, \u001b[39m'\u001b[39m\u001b[39mbaz\u001b[39m\u001b[39m'\u001b[39m)\n\u001b[1;32m----> 2\u001b[0m t[\u001b[39m1\u001b[39;49m] \u001b[39m=\u001b[39m \u001b[39m'\u001b[39m\u001b[39mqux\u001b[39m\u001b[39m'\u001b[39m\n\u001b[0;32m      3\u001b[0m t\n",
      "\u001b[1;31mTypeError\u001b[0m: 'tuple' object does not support item assignment"
     ]
    }
   ],
   "source": [
    "t = ('foo', 'bar', 'baz')\n",
    "t[1] = 'qux'\n",
    "t"
   ]
  },
  {
   "attachments": {},
   "cell_type": "markdown",
   "metadata": {},
   "source": [
    "2)\n",
    "x ve y’nin değeri nedir?\n",
    "x = 5\n",
    "y = -5\n",
    "x, y = (y, x)[::-1]\n",
    "a) Değişmez\n",
    "b) İkiside 5\n",
    "c) İkiside -5\n",
    "d) x -5 ve y 5"
   ]
  },
  {
   "cell_type": "code",
   "execution_count": 36,
   "metadata": {},
   "outputs": [
    {
     "name": "stdout",
     "output_type": "stream",
     "text": [
      "5 -5\n"
     ]
    }
   ],
   "source": [
    "x = 5\n",
    "y = -5\n",
    "x, y = (y, x)[::-1]\n",
    "print(x,y)"
   ]
  },
  {
   "attachments": {},
   "cell_type": "markdown",
   "metadata": {},
   "source": [
    "3) \n",
    "b’nin değeri nedir?\n",
    "a, b, c = (1, 2, 3, 4, 5, 6, 7, 8, 9)[1::3]\n",
    "b"
   ]
  },
  {
   "cell_type": "code",
   "execution_count": 37,
   "metadata": {},
   "outputs": [
    {
     "data": {
      "text/plain": [
       "5"
      ]
     },
     "execution_count": 37,
     "metadata": {},
     "output_type": "execute_result"
    }
   ],
   "source": [
    "a, b, c = (1, 2, 3, 4, 5, 6, 7, 8, 9)[1::3]\n",
    "b"
   ]
  },
  {
   "attachments": {},
   "cell_type": "markdown",
   "metadata": {},
   "source": [
    "4)\n",
    " Kullanicidan aldigimiz bir degerin verilen tuple icinde olup olmadigini sorgulayan varsa kacinci indexte oldugunu f veya format ile yazdiran bir kod yaziniz.\n",
    " tuple_2 = (\"Python\",\"Java\",\"Ruby\",\"JavaScript\",\"Python\",\"Java\",\"python\")\n"
   ]
  },
  {
   "cell_type": "code",
   "execution_count": 44,
   "metadata": {},
   "outputs": [
    {
     "name": "stdout",
     "output_type": "stream",
     "text": [
      "Aradiginiz eleman [0, 4] .indexte var\n"
     ]
    }
   ],
   "source": [
    "tuple_2 = (\"Python\",\"Java\",\"Ruby\",\"JavaScript\",\"Python\",\"Java\",\"python\")\n",
    "eleman = input(\"Bir programlama dili giriniz\")\n",
    "if eleman in tuple_2:\n",
    "    index = 0\n",
    "    liste =[]\n",
    "    for i in tuple_2:\n",
    "        if i == eleman :\n",
    "          liste.append(index)\n",
    "        index +=1\n",
    "\n",
    "    print(f\"Aradiginiz eleman {liste} .indexte var\")   \n",
    "else :\n",
    "    print(\"Aradiginiz eleman listede yoktur\")"
   ]
  },
  {
   "attachments": {},
   "cell_type": "markdown",
   "metadata": {},
   "source": [
    "## SET "
   ]
  },
  {
   "cell_type": "code",
   "execution_count": null,
   "metadata": {},
   "outputs": [],
   "source": [
    "# Çalışma mantığı: Dekoratörler parametre olarak fonksiyon alan, geriye fonksiyon döndüren fonksiyonlar olarak tanımlayabiliriz.\n",
    "# Böylelikle burda fonksiyonunda bir nesne olduğunu görmüş oluyoruz. Önünde @ karakteri konularak yazılır.\n",
    "\n",
    "def decorator(func):\n",
    "    def wrapper(*args, **kwargs):\n",
    "        print('Fonksiyon çalisacak...')\n",
    "        func()\n",
    "    return wrapper\n",
    "\n",
    "@decorator\n",
    "def func():\n",
    "    print('Fonksiyon çalişti.')\n",
    "\n",
    "func()"
   ]
  },
  {
   "cell_type": "markdown",
   "metadata": {},
   "source": []
  }
 ],
 "metadata": {
  "kernelspec": {
   "display_name": "Python 3",
   "language": "python",
   "name": "python3"
  },
  "language_info": {
   "codemirror_mode": {
    "name": "ipython",
    "version": 3
   },
   "file_extension": ".py",
   "mimetype": "text/x-python",
   "name": "python",
   "nbconvert_exporter": "python",
   "pygments_lexer": "ipython3",
   "version": "3.11.1"
  },
  "orig_nbformat": 4
 },
 "nbformat": 4,
 "nbformat_minor": 2
}
