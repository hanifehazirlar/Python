{
 "cells": [
  {
   "attachments": {},
   "cell_type": "markdown",
   "metadata": {},
   "source": [
    "## recursive(ozyineleme) function \n",
    "recursive function; olusturdugumuz fonksiyonu kendi icinde kullanmamiza denir.\n",
    "\n",
    "Kendi kendini çağıran fonksiyonlara Özyinelemeli (Recursive) Fonksiyonlar denilir. Özyinelemeli fonksiyonlar, ileri bilgisayar uygulamalarında çok kullanılır. Bilgisayar biliminin zor sayılan konularından birisidir. Çoğunlukla, döngülerle çözülebilen problemler, özyinelemeli fonksiyonlarla çok daha kolay olarak çözülebilir."
   ]
  },
  {
   "attachments": {},
   "cell_type": "markdown",
   "metadata": {},
   "source": [
    "Özyinelemeli (Recursive) Fonksiyonlar – Dikkat Edilecek Noktalar\n",
    "• Özyinelemeli fonksiyonlarda en çok dikkat edilmesi gereken noktalar, fonksiyonun kendini çağırdığı nokta ve fonksiyon çağrılarının sonlandığı noktadır. • Sonlanma kriteri: Özyinelemenin bittiği ve fonksiyonun sonucunun ana programa döndürüldüğü noktadır. Bu nokta tanımlanmazsa fonksiyon sonsuz döngüye girebilir."
   ]
  },
  {
   "cell_type": "code",
   "execution_count": 4,
   "metadata": {},
   "outputs": [],
   "source": [
    "def factoriyel_recursive(n):\n",
    "    if n == 1 or n == 0:\n",
    "        return 1\n",
    "    return n * factoriyel_recursive(n-1)"
   ]
  },
  {
   "cell_type": "code",
   "execution_count": 5,
   "metadata": {},
   "outputs": [
    {
     "data": {
      "text/plain": [
       "120"
      ]
     },
     "execution_count": 5,
     "metadata": {},
     "output_type": "execute_result"
    }
   ],
   "source": [
    "factoriyel_recursive(5)"
   ]
  },
  {
   "cell_type": "code",
   "execution_count": 6,
   "metadata": {},
   "outputs": [
    {
     "data": {
      "text/plain": [
       "1"
      ]
     },
     "execution_count": 6,
     "metadata": {},
     "output_type": "execute_result"
    }
   ],
   "source": [
    "factoriyel_recursive(0)"
   ]
  },
  {
   "cell_type": "code",
   "execution_count": 9,
   "metadata": {},
   "outputs": [
    {
     "name": "stdout",
     "output_type": "stream",
     "text": [
      "5\n",
      "10\n"
     ]
    }
   ],
   "source": [
    "x = 5 #burasi global variable dir\n",
    "\n",
    "def aa():\n",
    "    x = 10 # local variable \n",
    "    print(x)\n",
    "\n",
    "print(x)\n",
    "aa()   "
   ]
  },
  {
   "cell_type": "code",
   "execution_count": 10,
   "metadata": {},
   "outputs": [
    {
     "name": "stdout",
     "output_type": "stream",
     "text": [
      "5\n",
      "5\n"
     ]
    }
   ],
   "source": [
    "x = 5 #burasi global variable dir\n",
    "\n",
    "def aa():\n",
    "    print(x) # burada fonksiyon icinde x degeri atanmadigi icin global variable i kullandi\n",
    "\n",
    "print(x)\n",
    "aa()"
   ]
  }
 ],
 "metadata": {
  "kernelspec": {
   "display_name": "Python 3",
   "language": "python",
   "name": "python3"
  },
  "language_info": {
   "codemirror_mode": {
    "name": "ipython",
    "version": 3
   },
   "file_extension": ".py",
   "mimetype": "text/x-python",
   "name": "python",
   "nbconvert_exporter": "python",
   "pygments_lexer": "ipython3",
   "version": "3.11.1"
  },
  "orig_nbformat": 4
 },
 "nbformat": 4,
 "nbformat_minor": 2
}
