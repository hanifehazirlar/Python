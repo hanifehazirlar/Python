{
 "cells": [
  {
   "attachments": {},
   "cell_type": "markdown",
   "metadata": {},
   "source": [
    "* TRY EXCEPT\n",
    "* hata alsan da yine de sunu yap demek istedigimiz zaman kullanabiliriz.\n",
    "* yanlislikla yazdigim bir seyde mesela, hatayi ortadan kaldirmak ya da hataya ragmen kodu calistirmak icin kullanilir.\n",
    "* hata varsa except calisir.\n",
    "* except'e bir sey yazmazsam tum hatalari kontrol eder.\n",
    "* ama hata TypeError iken, except'e, TypeError yerine NameError yazarsam calismaz.\n",
    "* hatayi onlemek icin hatanin neler olabilecegini ongorerek girmem lazim kodu\n",
    "* except ile birden fazla olasi hata tanimlayabilirim (TypeError, ValueError, ZeroDivisionError)\n",
    "* boylelikle hatalari kisisellestirmis oluyorum.\n",
    "* try-except-else-finally\n",
    "* try calisirsa else calisir.  yani tyr'i dene, olursa else'i calistir demek\n",
    "* yani except'lere yazdiginiz hatalar yoksa, else'i calistirir."
   ]
  },
  {
   "cell_type": "code",
   "execution_count": null,
   "metadata": {},
   "outputs": [],
   "source": [
    "x = input(\"Enter a number\")\n",
    "y = input(\"Enter a number\")\n",
    "try:\n",
    "    print(int(x)/int(y))\n",
    "except ValueError : # islem yapilabilecek bir value girilmezse bu except calisir\n",
    "    print(\"Bu yaziyi goruyorsaniz girdiginiz sayi/sayilarda hata var demektir\")"
   ]
  },
  {
   "cell_type": "code",
   "execution_count": 2,
   "metadata": {},
   "outputs": [
    {
     "name": "stdout",
     "output_type": "stream",
     "text": [
      "Bu yaziyi goruyorsaniz ikinci sayi sifirdir ve bir sayi sifira bolunemez\n"
     ]
    }
   ],
   "source": [
    "x = input(\"Enter a number\")\n",
    "y = input(\"Enter a number\")\n",
    "try:\n",
    "    print(int(x)/int(y))\n",
    "except ValueError :\n",
    "    print(\"Bu yaziyi goruyorsaniz girdiginiz sayi/sayilarda hata var demektir\")\n",
    "except ZeroDivisionError:\n",
    "    print(\"Bu yaziyi goruyorsaniz ikinci sayi sifirdir ve bir sayi sifira bolunemez\")"
   ]
  },
  {
   "cell_type": "code",
   "execution_count": 3,
   "metadata": {},
   "outputs": [
    {
     "name": "stdout",
     "output_type": "stream",
     "text": [
      "25.0\n"
     ]
    }
   ],
   "source": [
    "x = input(\"Enter a number\")\n",
    "y = input(\"Enter a number\")\n",
    "try:\n",
    "    a = int(x)/int(y)\n",
    "except ValueError :\n",
    "    print(\"Bu yaziyi goruyorsaniz girdiginiz sayi/sayilarda hata var demektir\")\n",
    "except ZeroDivisionError:\n",
    "    print(\"Bu yaziyi goruyorsaniz ikinci sayi sifirdir ve bir sayi sifira bolunemez\")\n",
    "else : # try calisirsa else calisir, try calismazsa else calismaz\n",
    "    print(a**2)"
   ]
  },
  {
   "cell_type": "code",
   "execution_count": null,
   "metadata": {},
   "outputs": [],
   "source": [
    "x = input(\"Enter a number\")\n",
    "y = input(\"Enter a number\")\n",
    "try:\n",
    "    a = int(x)*int(y)\n",
    "    print(a)\n",
    "except (ValueError,ZeroDivisionError):\n",
    "    print(\"odulunuz 100\")\n"
   ]
  },
  {
   "cell_type": "code",
   "execution_count": 4,
   "metadata": {},
   "outputs": [],
   "source": [
    "liste = [\"15\", \"aa15\", \"45\", \"asdeddcds48\", \"48\" ]\n"
   ]
  },
  {
   "cell_type": "code",
   "execution_count": 5,
   "metadata": {},
   "outputs": [
    {
     "name": "stdout",
     "output_type": "stream",
     "text": [
      "15\n",
      "45\n",
      "48\n"
     ]
    }
   ],
   "source": [
    "for i in liste:\n",
    "    try :\n",
    "        type(int(i)) == int # listenin icindeki int e donebilen sayilari yazdir\n",
    "        print(i)\n",
    "    except :\n",
    "        continue"
   ]
  }
 ],
 "metadata": {
  "kernelspec": {
   "display_name": "Python 3",
   "language": "python",
   "name": "python3"
  },
  "language_info": {
   "codemirror_mode": {
    "name": "ipython",
    "version": 3
   },
   "file_extension": ".py",
   "mimetype": "text/x-python",
   "name": "python",
   "nbconvert_exporter": "python",
   "pygments_lexer": "ipython3",
   "version": "3.11.1"
  },
  "orig_nbformat": 4
 },
 "nbformat": 4,
 "nbformat_minor": 2
}
