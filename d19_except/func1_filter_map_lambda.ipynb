{
 "cells": [
  {
   "attachments": {},
   "cell_type": "markdown",
   "metadata": {},
   "source": [
    "# Functions 1"
   ]
  },
  {
   "attachments": {},
   "cell_type": "markdown",
   "metadata": {},
   "source": [
    " ## **filter():**\n",
    " * Adından da anlaşılabileceği gibi bir filtreleme yapan fonksiyondur.\n",
    "\n",
    " * **filter(None, iterable(string, list, set, tuple))** ---> iterable in icinden degeri True olanlari yazdirir\n",
    "\n",
    " * filter() fonksiyonunun icine None yazdigimizda None yani degeri False olanlari eliyor degeri True olanlari yazdiriyor.\n",
    "\n",
    " * **filter(fonksiyon, iterable(string, list, set, tuple))** ---> fonksiyonumuzun icerigi ne ise iterable in \n",
    "                                                          icinden istenileni(degeri True olani) dondurur"
   ]
  },
  {
   "cell_type": "code",
   "execution_count": 3,
   "metadata": {},
   "outputs": [
    {
     "data": {
      "text/plain": [
       "('T', 'e', 'a', 'm')"
      ]
     },
     "execution_count": 3,
     "metadata": {},
     "output_type": "execute_result"
    }
   ],
   "source": [
    "# filter() fonksiyonunun sonucunu gorebilmemiz icin bir gostergec \n",
    "# yani list, tuple gibi konteynerlarin icine yazmamiz gerek\n",
    "tuple(filter(None, \"Team\"))"
   ]
  },
  {
   "cell_type": "code",
   "execution_count": 4,
   "metadata": {},
   "outputs": [
    {
     "data": {
      "text/plain": [
       "[' ', 'Ali', -5]"
      ]
     },
     "execution_count": 4,
     "metadata": {},
     "output_type": "execute_result"
    }
   ],
   "source": [
    "#filter() fonksiyonunun icine None yazdigimizda None yani degeri False olanlari eliyor degeri True olanlari yazdiriyor.\n",
    "list(filter(None,[\"\",0,False,{},(),[],\" \", None, \"Ali\", -5]))\n"
   ]
  },
  {
   "cell_type": "code",
   "execution_count": 5,
   "metadata": {},
   "outputs": [
    {
     "data": {
      "text/plain": [
       "('T', 'e', 'a', 'm')"
      ]
     },
     "execution_count": 5,
     "metadata": {},
     "output_type": "execute_result"
    }
   ],
   "source": [
    "# Tek bir eleman yazdigimizda o elemani karakterlerine ayiriyor\n",
    "tuple(filter(None, \"Team\"))"
   ]
  },
  {
   "cell_type": "code",
   "execution_count": 7,
   "metadata": {},
   "outputs": [
    {
     "name": "stdout",
     "output_type": "stream",
     "text": [
      "[18, 24, 32]\n"
     ]
    }
   ],
   "source": [
    "# verilen yas listesinden 18 yasindan kucuk olanlari eleyen bir fonksiyon olusturunuz--> filter() kullanarak cozunuz\n",
    "ages = [5, 12, 17, 18, 24, 32]\n",
    "def yas(x):\n",
    "    if x<18:\n",
    "        return False\n",
    "    else :\n",
    "        return True\n",
    "yetiskin = filter(yas,ages)\n",
    "print(list(yetiskin))\n"
   ]
  },
  {
   "attachments": {},
   "cell_type": "markdown",
   "metadata": {},
   "source": [
    "## **lambda():**\n",
    "*  Lambda fonksiyonları fonksiyon tanımlama işlemini tek satırda yapmamızı sağlayan fonksiyon yapılarıdır. \n",
    "\n",
    "* Lambda Fonksiyonu Syntax'i:===> **(lambda değişkenler:dönüş değeri (yapmasini istedigim islem))(degiskenlerin degeri)**"
   ]
  },
  {
   "cell_type": "code",
   "execution_count": 8,
   "metadata": {},
   "outputs": [
    {
     "data": {
      "text/plain": [
       "25"
      ]
     },
     "execution_count": 8,
     "metadata": {},
     "output_type": "execute_result"
    }
   ],
   "source": [
    "# Standart fonksiyon ile karesini alma fonksiyonu olusturalim:\n",
    "def karesni_al(x):\n",
    "    return x ** 2\n",
    "karesni_al(5)\n"
   ]
  },
  {
   "cell_type": "code",
   "execution_count": 11,
   "metadata": {},
   "outputs": [
    {
     "data": {
      "text/plain": [
       "function"
      ]
     },
     "execution_count": 11,
     "metadata": {},
     "output_type": "execute_result"
    }
   ],
   "source": [
    "#lambda ile karesini alma bir fonksiyonu olusturalim ve type ina bakalim\n",
    "#lambda bize bir fonksiyon dondurur\n",
    "type((lambda x : x ** 2))"
   ]
  },
  {
   "cell_type": "code",
   "execution_count": 12,
   "metadata": {},
   "outputs": [
    {
     "data": {
      "text/plain": [
       "25"
      ]
     },
     "execution_count": 12,
     "metadata": {},
     "output_type": "execute_result"
    }
   ],
   "source": [
    "(lambda x : x ** 2)(5)"
   ]
  },
  {
   "cell_type": "code",
   "execution_count": 16,
   "metadata": {},
   "outputs": [
    {
     "data": {
      "text/plain": [
       "12.33"
      ]
     },
     "execution_count": 16,
     "metadata": {},
     "output_type": "execute_result"
    }
   ],
   "source": [
    "# lambda ile verilen uc sayinin  ortalamasini hesaplayan bir fonksiyon olusturunuz\n",
    "(lambda x,y,z : round((x+y+z)/3,2))(12,15,10)\n"
   ]
  },
  {
   "cell_type": "code",
   "execution_count": 22,
   "metadata": {},
   "outputs": [
    {
     "data": {
      "text/plain": [
       "12.33"
      ]
     },
     "execution_count": 22,
     "metadata": {},
     "output_type": "execute_result"
    }
   ],
   "source": [
    "#lambda ile fonksiyonu olusturup bir variable atayip o isimle fonksiyonumuzu kullanabiliriz\n",
    "ortalama = lambda x,y,z : round((x+y+z)/3,2)\n",
    "ortalama(12,15,10)"
   ]
  },
  {
   "cell_type": "code",
   "execution_count": 23,
   "metadata": {},
   "outputs": [
    {
     "data": {
      "text/plain": [
       "function"
      ]
     },
     "execution_count": 23,
     "metadata": {},
     "output_type": "execute_result"
    }
   ],
   "source": [
    "type(ortalama)"
   ]
  },
  {
   "cell_type": "code",
   "execution_count": 18,
   "metadata": {},
   "outputs": [
    {
     "data": {
      "text/plain": [
       "'esyA'"
      ]
     },
     "execution_count": 18,
     "metadata": {},
     "output_type": "execute_result"
    }
   ],
   "source": [
    "# lambda ile verilen kelimeyi tersten yazdiran bir fonksiyon yazdirin\n",
    "(lambda str_1: str_1[::-1])(\"Ayse\")\n"
   ]
  },
  {
   "cell_type": "code",
   "execution_count": 19,
   "metadata": {},
   "outputs": [
    {
     "data": {
      "text/plain": [
       "'temhA'"
      ]
     },
     "execution_count": 19,
     "metadata": {},
     "output_type": "execute_result"
    }
   ],
   "source": [
    " # lambda li yazim bize bir fonksiyon dondurur ve atama yapabiliriz\n",
    "ters_str = lambda str_1: str_1[::-1]\n",
    "ters_str(\"Ahmet\")\n"
   ]
  },
  {
   "cell_type": "code",
   "execution_count": 31,
   "metadata": {},
   "outputs": [
    {
     "data": {
      "text/plain": [
       "'Kelime palindromedur'"
      ]
     },
     "execution_count": 31,
     "metadata": {},
     "output_type": "execute_result"
    }
   ],
   "source": [
    "# odev :Bir fonksiyon olusturun icine bir kelime alsin icine alinan kelime palindron kelime mi kontrol etsin\n",
    "kelime = \"nurses run\"\n",
    "kelime=kelime.replace(\" \",\"\").lower()\n",
    "\"Kelime palindromedur\" if (lambda str_1: str_1[::-1])(kelime)== kelime else \"Kelime palindrome degildir\"\n"
   ]
  },
  {
   "cell_type": "code",
   "execution_count": null,
   "metadata": {},
   "outputs": [],
   "source": [
    "def palindrome(string):\n",
    "    str_1 =string.replace(\" \",\"\")\n",
    "    if str_1 == str_1[::-1]:\n",
    "        print(f\"{string} is palindrome.\")\n",
    "    else :\n",
    "        print(f\"{string} is not palindrome.\")\n",
    "    "
   ]
  },
  {
   "attachments": {},
   "cell_type": "markdown",
   "metadata": {},
   "source": [
    "## **map():**\n",
    "* map() fonksiyonunun kullanimi map(fonksiyon, iterable )---> object dondurur\n",
    "\n",
    "* map() fonksiyonu icerisine verilen iterable elemanlarin hepsine fonksiyonu uygular\n",
    "\n",
    "* **map(func, iter1,iter2..)** şeklinde kullanılır. Yani elinizdeki bir fonksiyona, elinizdeki bir datanın elemanlarını sırasıyla gönderir ve sonucu tek bir obje olarak geri döner. \n",
    "* map yaptıgım zaman, listenin icindeki butun elemanları istediğimiz fonksiyona tabi tutup eleman sayısı kadar sonuc veriyor.\n",
    "filter ise  sadece sarti sağlayanların sonucunu almamızı saglar. True olanları donduruyor yani\n",
    "\n",
    "*  map() in icindeki fonksiyonun parametre sayisi kadar iterable(list,tuple...) elemanlar gerekir(lambda da x ve y olarak 2 parametre oldugu icin 2 tane list ister)"
   ]
  },
  {
   "cell_type": "code",
   "execution_count": 40,
   "metadata": {},
   "outputs": [
    {
     "data": {
      "text/plain": [
       "[1, 4, 9, 16, 25]"
      ]
     },
     "execution_count": 40,
     "metadata": {},
     "output_type": "execute_result"
    }
   ],
   "source": [
    "# verilen bir listedeki elemanlarin herbirinin karesini aliniz\n",
    "liste = [1,2,8,-4,0]\n",
    "kareler=lambda x: x**2\n",
    "kareler(4)\n",
    "list(map(kareler,[*range(1,6)])) #map fonksiyonu  bir gostergec ile calisir(filter fonksiyonunda oldugu gibi)\n"
   ]
  },
  {
   "cell_type": "code",
   "execution_count": 42,
   "metadata": {},
   "outputs": [
    {
     "data": {
      "text/plain": [
       "[1, 2, 3, 4, 5]"
      ]
     },
     "execution_count": 42,
     "metadata": {},
     "output_type": "execute_result"
    }
   ],
   "source": [
    "list(range(1,6))"
   ]
  },
  {
   "cell_type": "code",
   "execution_count": 45,
   "metadata": {},
   "outputs": [
    {
     "data": {
      "text/plain": [
       "[1, 2, 3, 4, 5]"
      ]
     },
     "execution_count": 45,
     "metadata": {},
     "output_type": "execute_result"
    }
   ],
   "source": [
    "[*range(1,6)]"
   ]
  },
  {
   "cell_type": "code",
   "execution_count": 12,
   "metadata": {},
   "outputs": [],
   "source": [
    "# verilen bir listedeki elemanlarin herbirinin karesini aliniz\n",
    "list_1 =[1,-2,3,4,6,7,8]\n"
   ]
  },
  {
   "cell_type": "code",
   "execution_count": null,
   "metadata": {},
   "outputs": [],
   "source": []
  },
  {
   "cell_type": "code",
   "execution_count": 47,
   "metadata": {},
   "outputs": [
    {
     "name": "stdout",
     "output_type": "stream",
     "text": [
      "(2, 8, 18, 32)\n"
     ]
    }
   ],
   "source": [
    "# uzun ve kisa kenarlari verilen dikdortgenlerin alanlarini map() func ile hesaplayiniz\n",
    "long_sides = [1, 2, 3, 4, 5]\n",
    "short_sides = [2, 4, 6, 8]\n",
    "\n",
    "alan_hesap=lambda x,y : x*y\n",
    "\n",
    "sonuc=map(alan_hesap,long_sides,short_sides) # map() in icindeki fonksiyonun parametre sayisi kadar iterable(list,tuple...) elemanlar\n",
    "                                             # gerekir(lambda da x ve y olarak 2 parametre oldugu icin 2 tane list ister)\n",
    "\n",
    "print(tuple(sonuc))\n"
   ]
  },
  {
   "cell_type": "code",
   "execution_count": 76,
   "metadata": {},
   "outputs": [
    {
     "data": {
      "text/plain": [
       "['Adem']"
      ]
     },
     "execution_count": 76,
     "metadata": {},
     "output_type": "execute_result"
    }
   ],
   "source": [
    "# Verilen bir listede istenilen harf ile baslayan verileri yazdir\n",
    "students = [\"Erhan\", \"Adem\", \"Elif\", \"asli\"]\n",
    "letter = \"A\"\n",
    "list(filter((lambda x: x[0]==letter),students))\n",
    "\n"
   ]
  },
  {
   "cell_type": "code",
   "execution_count": 53,
   "metadata": {},
   "outputs": [
    {
     "data": {
      "text/plain": [
       "['Adem', 'Asli']"
      ]
     },
     "execution_count": 53,
     "metadata": {},
     "output_type": "execute_result"
    }
   ],
   "source": [
    "students = [\"Erhan\",\"Adem\",\"Elif\",\"Asli\"]\n",
    "list(filter(lambda x: x.startswith(\"A\"), students))"
   ]
  },
  {
   "cell_type": "code",
   "execution_count": 54,
   "metadata": {},
   "outputs": [
    {
     "name": "stdout",
     "output_type": "stream",
     "text": [
      "Adem\n",
      "Asli\n"
     ]
    }
   ],
   "source": [
    "students = [\"Erhan\", \"Adem\", \"Elif\", \"Asli\"]\n",
    "letter = \"A\"\n",
    "harf= [print(str) for str in students if str[0] == \"A\"]"
   ]
  },
  {
   "cell_type": "code",
   "execution_count": 55,
   "metadata": {},
   "outputs": [
    {
     "data": {
      "text/plain": [
       "['Erhan', 'Adem', 'Asli']"
      ]
     },
     "execution_count": 55,
     "metadata": {},
     "output_type": "execute_result"
    }
   ],
   "source": [
    "# Verilen bir listede istenilen buyuk harf ile baslayan verileri yazdir\n",
    "students = [\"Erhan\", \"Adem\", \"elif\",\"ali\",\"Asli\"]\n",
    "list(filter((lambda x : x[0].isupper()),students))"
   ]
  },
  {
   "cell_type": "code",
   "execution_count": null,
   "metadata": {},
   "outputs": [],
   "source": [
    "students = [\"Erhan\",\"Adem\",\"Elif\",\"Asli\"]\n",
    "list(filter(lambda x: x.startswith(\"A\"), students))"
   ]
  },
  {
   "cell_type": "code",
   "execution_count": 75,
   "metadata": {},
   "outputs": [
    {
     "data": {
      "text/plain": [
       "['Adem']"
      ]
     },
     "execution_count": 75,
     "metadata": {},
     "output_type": "execute_result"
    }
   ],
   "source": [
    "students = [\"Erhan\", \"Adem\", \"Elif\", \"asli\"]\n",
    "letter = \"A\".upper()\n",
    "list(filter((lambda x: x[0]==letter),students))"
   ]
  },
  {
   "cell_type": "code",
   "execution_count": 72,
   "metadata": {},
   "outputs": [
    {
     "data": {
      "text/plain": [
       "['ali']"
      ]
     },
     "execution_count": 72,
     "metadata": {},
     "output_type": "execute_result"
    }
   ],
   "source": [
    "#verilen bir listenin icinden alfabetik olanlarin icinden belirtilen harf ile baslayan verileri bulunuz\n",
    "students = [\"Erhan\", \"Adem\", \"12aa\",\"ali\",\"Asli123\"]\n",
    "letter =input(\"Bir harf giriniz\")\n",
    "list(filter(lambda x: x.startswith(letter), list(filter(lambda x : x.isalpha(),students))))"
   ]
  },
  {
   "cell_type": "code",
   "execution_count": 74,
   "metadata": {},
   "outputs": [
    {
     "data": {
      "text/plain": [
       "['Asli']"
      ]
     },
     "execution_count": 74,
     "metadata": {},
     "output_type": "execute_result"
    }
   ],
   "source": [
    "#verilen bir listenin icinden alfabetik olanlarin icinden \"A\" ile baslayan verileri bulunuz\n",
    "students = [\"Erhan\", \"123Adem\", \"elif11\",\"ali\",\"Asli\"]\n",
    "[i for i in students if i[0].startswith(\"A\") and i[0].isupper() and i[0].isalpha()]"
   ]
  }
 ],
 "metadata": {
  "kernelspec": {
   "display_name": "Python 3",
   "language": "python",
   "name": "python3"
  },
  "language_info": {
   "codemirror_mode": {
    "name": "ipython",
    "version": 3
   },
   "file_extension": ".py",
   "mimetype": "text/x-python",
   "name": "python",
   "nbconvert_exporter": "python",
   "pygments_lexer": "ipython3",
   "version": "3.11.1"
  },
  "orig_nbformat": 4
 },
 "nbformat": 4,
 "nbformat_minor": 2
}
