{
 "cells": [
  {
   "attachments": {},
   "cell_type": "markdown",
   "metadata": {},
   "source": [
    "# if-else"
   ]
  },
  {
   "cell_type": "code",
   "execution_count": null,
   "metadata": {},
   "outputs": [],
   "source": [
    "#  if sartkosulu: \n",
    "#   durum"
   ]
  },
  {
   "cell_type": "code",
   "execution_count": 1,
   "metadata": {},
   "outputs": [
    {
     "name": "stdout",
     "output_type": "stream",
     "text": [
      "Buyuk\n"
     ]
    }
   ],
   "source": [
    "a = 6\n",
    "if a>5 :\n",
    "    print('Buyuk')"
   ]
  },
  {
   "cell_type": "code",
   "execution_count": 2,
   "metadata": {},
   "outputs": [
    {
     "name": "stdout",
     "output_type": "stream",
     "text": [
      "Kucuk\n"
     ]
    }
   ],
   "source": [
    "a = 3\n",
    "if a>5 :\n",
    "    print('Buyuk')\n",
    "else :\n",
    "    print('Kucuk')    "
   ]
  },
  {
   "cell_type": "code",
   "execution_count": 3,
   "metadata": {},
   "outputs": [
    {
     "data": {
      "text/plain": [
       "'5'"
      ]
     },
     "execution_count": 3,
     "metadata": {},
     "output_type": "execute_result"
    }
   ],
   "source": [
    "input(\"Bir sayi giriniz\")"
   ]
  },
  {
   "cell_type": "code",
   "execution_count": 7,
   "metadata": {},
   "outputs": [
    {
     "name": "stdout",
     "output_type": "stream",
     "text": [
      "Kaldiniz\n"
     ]
    }
   ],
   "source": [
    "note = int(input(\"Matematik notunuzu giriniz. \")) #!!!  input() fonksiyonu ile alinan degerler her zaman string olarak doner \n",
    "if note>50:                                      # bu yuzden sayisal deger alamak istiyorsa int veya float a cevirmemiz gerekir\n",
    "    print(\"Tebrikler, Gectiniz\")\n",
    "else : \n",
    "    print(\"Kaldiniz\")   "
   ]
  },
  {
   "cell_type": "code",
   "execution_count": 8,
   "metadata": {},
   "outputs": [
    {
     "data": {
      "text/plain": [
       "int"
      ]
     },
     "execution_count": 8,
     "metadata": {},
     "output_type": "execute_result"
    }
   ],
   "source": [
    "type(note)"
   ]
  },
  {
   "cell_type": "code",
   "execution_count": 17,
   "metadata": {},
   "outputs": [
    {
     "name": "stdout",
     "output_type": "stream",
     "text": [
      "Tebrikler, Gectiniz\n"
     ]
    }
   ],
   "source": [
    "note = int(input(\"Matematik notunuzu giriniz. \"))\n",
    "if note>100 or note<0 :\n",
    "    print(\"Gecersiz Not, Gecerli bir not giriniz\")\n",
    "elif note >=50 :\n",
    "    print(\"Tebrikler, Gectiniz\")\n",
    "else :\n",
    "    print(\"Kaldiniz, Daha cok calismalisiniz\")"
   ]
  },
  {
   "cell_type": "code",
   "execution_count": 19,
   "metadata": {},
   "outputs": [
    {
     "name": "stdout",
     "output_type": "stream",
     "text": [
      "Var\n"
     ]
    }
   ],
   "source": [
    "text = \"Benim adim Hanife\"\n",
    "if\"adim\" in text:\n",
    "    print(\"Var\")\n",
    "else :\n",
    "    print(\"Yok\")"
   ]
  },
  {
   "cell_type": "code",
   "execution_count": 18,
   "metadata": {},
   "outputs": [
    {
     "name": "stdout",
     "output_type": "stream",
     "text": [
      "Var\n"
     ]
    }
   ],
   "source": [
    "text = \"Benim adim Hanife\"\n",
    "if \"Adim\" not in text:\n",
    "    print(\"Var\")\n",
    "else :\n",
    "    print(\"Yok\")"
   ]
  },
  {
   "cell_type": "code",
   "execution_count": 22,
   "metadata": {},
   "outputs": [
    {
     "name": "stdout",
     "output_type": "stream",
     "text": [
      "Negatif\n"
     ]
    }
   ],
   "source": [
    "num = int(input(\"Matematik notunuzu giriniz\"))\n",
    "if num>=0:\n",
    "    if num > 0 :\n",
    "        print(\"Positive\")\n",
    "    else :\n",
    "        print(\"Num = 0' dir \")\n",
    "else :\n",
    "    print(\"Negatif\")"
   ]
  },
  {
   "attachments": {},
   "cell_type": "markdown",
   "metadata": {},
   "source": [
    "## Fonksiyonlar (Functions)\n"
   ]
  },
  {
   "cell_type": "code",
   "execution_count": 24,
   "metadata": {},
   "outputs": [],
   "source": [
    "def nolsun(a,b) :  #fonksiyondan gelen sonucu bir yerde kullanacaksak mutlaka return kullanmaliyiz\n",
    "    sonuc = a*b\n",
    "    return sonuc"
   ]
  },
  {
   "cell_type": "code",
   "execution_count": 25,
   "metadata": {},
   "outputs": [
    {
     "data": {
      "text/plain": [
       "30"
      ]
     },
     "execution_count": 25,
     "metadata": {},
     "output_type": "execute_result"
    }
   ],
   "source": [
    "nolsun(5,6)"
   ]
  },
  {
   "cell_type": "code",
   "execution_count": 4,
   "metadata": {},
   "outputs": [],
   "source": [
    "def selamlama() :\n",
    "    print(\"Hosgeldiniz Bey/Hanim\")"
   ]
  },
  {
   "cell_type": "code",
   "execution_count": 5,
   "metadata": {},
   "outputs": [
    {
     "name": "stdout",
     "output_type": "stream",
     "text": [
      "Hosgeldiniz Bey/Hanim\n"
     ]
    }
   ],
   "source": [
    "selamlama() #fonksiyonlari cagirirken mutlaka parantezini koymaliyiz,\n",
    "             #koymazsak fonksiyon var der ama calistirmaz"
   ]
  },
  {
   "cell_type": "code",
   "execution_count": 21,
   "metadata": {},
   "outputs": [],
   "source": [
    "def selamla(name):\n",
    "    print(f\"Hosgeldiz {name} Bey/Hanim\")\n",
    "    print(\"Hosgeldiniz\",name,\"Bey/Hanim\" )"
   ]
  },
  {
   "cell_type": "code",
   "execution_count": 22,
   "metadata": {},
   "outputs": [
    {
     "name": "stdout",
     "output_type": "stream",
     "text": [
      "Hosgeldiz Hanife Bey/Hanim\n",
      "Hosgeldiniz Hanife Bey/Hanim\n"
     ]
    }
   ],
   "source": [
    "selamla('Hanife')"
   ]
  },
  {
   "cell_type": "code",
   "execution_count": 19,
   "metadata": {},
   "outputs": [],
   "source": [
    "def tersCevir(string):\n",
    "    ters = string[::-1]\n",
    "    return ters"
   ]
  },
  {
   "cell_type": "code",
   "execution_count": 20,
   "metadata": {},
   "outputs": [
    {
     "data": {
      "text/plain": [
       "'urbE'"
      ]
     },
     "execution_count": 20,
     "metadata": {},
     "output_type": "execute_result"
    }
   ],
   "source": [
    "tersCevir('Ebru')"
   ]
  },
  {
   "cell_type": "code",
   "execution_count": 23,
   "metadata": {},
   "outputs": [],
   "source": [
    "def mutlak_deger(num):\n",
    "    if num<0 :\n",
    "        num =num*-1\n",
    "        return num\n",
    "    else :\n",
    "        return num\n"
   ]
  },
  {
   "cell_type": "code",
   "execution_count": 24,
   "metadata": {},
   "outputs": [
    {
     "data": {
      "text/plain": [
       "15"
      ]
     },
     "execution_count": 24,
     "metadata": {},
     "output_type": "execute_result"
    }
   ],
   "source": [
    "mutlak_deger(-15)"
   ]
  },
  {
   "cell_type": "code",
   "execution_count": 25,
   "metadata": {},
   "outputs": [
    {
     "data": {
      "text/plain": [
       "15"
      ]
     },
     "execution_count": 25,
     "metadata": {},
     "output_type": "execute_result"
    }
   ],
   "source": [
    "mutlak_deger(15)"
   ]
  },
  {
   "cell_type": "code",
   "execution_count": 26,
   "metadata": {},
   "outputs": [
    {
     "data": {
      "text/plain": [
       "0"
      ]
     },
     "execution_count": 26,
     "metadata": {},
     "output_type": "execute_result"
    }
   ],
   "source": [
    "mutlak_deger(0)"
   ]
  },
  {
   "cell_type": "code",
   "execution_count": 43,
   "metadata": {},
   "outputs": [
    {
     "data": {
      "text/plain": [
       "2"
      ]
     },
     "execution_count": 43,
     "metadata": {},
     "output_type": "execute_result"
    }
   ],
   "source": [
    "5 // 2  # // bolme isleminde bolumu(tam kismi) verir"
   ]
  },
  {
   "cell_type": "code",
   "execution_count": null,
   "metadata": {},
   "outputs": [],
   "source": [
    "5%2 # % "
   ]
  },
  {
   "cell_type": "code",
   "execution_count": 46,
   "metadata": {},
   "outputs": [],
   "source": [
    "liste = [5,2,9,6] "
   ]
  },
  {
   "cell_type": "code",
   "execution_count": 99,
   "metadata": {},
   "outputs": [],
   "source": [
    "# Bir list in medyanini bulma fonksiyonu\n",
    "def median(liste) :\n",
    "    \"\"\"median fonksiyonu bir parametere ile calisir, icine verilen list in median ini hesaplar\"\"\"\n",
    "    liste = sorted(liste) #2,5,6,9,11\n",
    "    m = len(liste)\n",
    "    if m%2 == 0 :\n",
    "        medyan = (liste[int(m/2-1)]+liste[int(m/2)])/2 #bolme islemi olan islemlerde sonuc Float dondugu icin int e cevirdik\n",
    "        return medyan\n",
    "    else :\n",
    "        medyan = liste[int((m+1)/2-1)]\n",
    "        return medyan\n"
   ]
  },
  {
   "cell_type": "code",
   "execution_count": 48,
   "metadata": {},
   "outputs": [
    {
     "data": {
      "text/plain": [
       "5.5"
      ]
     },
     "execution_count": 48,
     "metadata": {},
     "output_type": "execute_result"
    }
   ],
   "source": [
    "median(liste)"
   ]
  },
  {
   "cell_type": "code",
   "execution_count": 44,
   "metadata": {},
   "outputs": [
    {
     "data": {
      "text/plain": [
       "14"
      ]
     },
     "execution_count": 44,
     "metadata": {},
     "output_type": "execute_result"
    }
   ],
   "source": [
    "round(13.5)"
   ]
  },
  {
   "cell_type": "code",
   "execution_count": 45,
   "metadata": {},
   "outputs": [
    {
     "data": {
      "text/plain": [
       "12"
      ]
     },
     "execution_count": 45,
     "metadata": {},
     "output_type": "execute_result"
    }
   ],
   "source": [
    "round(12.5) #virgulden sonraki kisim 5 ise en yakin cift sayiya yuvarlar"
   ]
  },
  {
   "cell_type": "code",
   "execution_count": 53,
   "metadata": {},
   "outputs": [],
   "source": [
    "#verilen kordinatlara gore belirlenen noktalarin birbirine uzakligini bulma fonksiyonu\n",
    "def mesafe(x1, x2, y1, y2) :\n",
    "    \"\"\"mesafe fonksiyonu 4 parametere(iki noktanin x ve y bilesenleri) ile calisir,\n",
    "       koordinat sisteminde verilen iki nokta arasindaki uzakligi hesaplar.\"\"\"\n",
    "    uzaklik =((x2-x1)**2+(y2-y1)**2)**0.5 #burada 0.5 ussunu alarak karekok alma yaptik\n",
    "    return uzaklik\n"
   ]
  },
  {
   "cell_type": "code",
   "execution_count": 54,
   "metadata": {},
   "outputs": [
    {
     "data": {
      "text/plain": [
       "5.0"
      ]
     },
     "execution_count": 54,
     "metadata": {},
     "output_type": "execute_result"
    }
   ],
   "source": [
    "mesafe(0,3,0,4)"
   ]
  },
  {
   "cell_type": "code",
   "execution_count": 98,
   "metadata": {},
   "outputs": [],
   "source": [
    "# Faktoriyel Hesaplama Fonksiyonu\n",
    "def faktoriyel(n) :\n",
    "    \"\"\"Faktoriyel fonksiyonu bir parametre ile calisir,icine yazilan number in faktoriyelini hesaplar. \"\"\"\n",
    "    faktoriyel = 1\n",
    "    if (n == 0) :\n",
    "        return faktoriyel\n",
    "    else :\n",
    "        while n >=1 :\n",
    "            faktoriyel *=n\n",
    "            n -=1\n",
    "        return faktoriyel    "
   ]
  },
  {
   "cell_type": "code",
   "execution_count": 62,
   "metadata": {},
   "outputs": [
    {
     "name": "stdout",
     "output_type": "stream",
     "text": [
      "120\n"
     ]
    }
   ],
   "source": [
    "faktoriyel(5)"
   ]
  },
  {
   "cell_type": "code",
   "execution_count": 65,
   "metadata": {},
   "outputs": [
    {
     "data": {
      "text/plain": [
       "144"
      ]
     },
     "execution_count": 65,
     "metadata": {},
     "output_type": "execute_result"
    }
   ],
   "source": [
    "faktoriyel(5) + faktoriyel(4) #fonksiyonun sonucunu return yapmazsaydik burada kullanamazdik"
   ]
  },
  {
   "cell_type": "code",
   "execution_count": 70,
   "metadata": {},
   "outputs": [],
   "source": [
    "liste_1 =[1,5,3,2]"
   ]
  },
  {
   "cell_type": "code",
   "execution_count": 78,
   "metadata": {},
   "outputs": [],
   "source": [
    "# list icine istedigim bir elemani yoksa ekle varsa \"Zaten var\" yazdiran Fonksiyon yazma\n",
    "def add_num(liste_1,num): \n",
    "    \"\"\"bu fonksiyonun  icine parametre olarak\n",
    "       bir list ve eklenecek number yazilir,list te\n",
    "       varsa eklemez list te yoksa ekler\"\"\" #bu sekilde yazdigimiz yorumlar fonksiyonun uzerine fareyi getirdigimizde okunabilir\n",
    "    if num in liste_1 :\n",
    "        print(f\"{num} Zaten var\")\n",
    "    else :\n",
    "        liste_1.append(num)\n",
    "        return liste_1"
   ]
  },
  {
   "cell_type": "code",
   "execution_count": 75,
   "metadata": {},
   "outputs": [
    {
     "data": {
      "text/plain": [
       "[1, 5, 3, 2, 0, 8]"
      ]
     },
     "execution_count": 75,
     "metadata": {},
     "output_type": "execute_result"
    }
   ],
   "source": [
    "add_num(liste_1,8)"
   ]
  },
  {
   "cell_type": "code",
   "execution_count": 80,
   "metadata": {},
   "outputs": [
    {
     "name": "stdout",
     "output_type": "stream",
     "text": [
      "8 Zaten var\n"
     ]
    }
   ],
   "source": [
    "add_num(liste_1,8)\n"
   ]
  },
  {
   "cell_type": "code",
   "execution_count": 83,
   "metadata": {},
   "outputs": [
    {
     "data": {
      "text/plain": [
       "8"
      ]
     },
     "execution_count": 83,
     "metadata": {},
     "output_type": "execute_result"
    }
   ],
   "source": [
    "liste_1.pop()"
   ]
  },
  {
   "attachments": {},
   "cell_type": "markdown",
   "metadata": {},
   "source": [
    "## global"
   ]
  },
  {
   "attachments": {},
   "cell_type": "markdown",
   "metadata": {},
   "source": [
    " global keyword u bir variable i her yerde kullanmak istersek basina yazariz ve her yerde kullanabiliriz."
   ]
  },
  {
   "cell_type": "code",
   "execution_count": 94,
   "metadata": {},
   "outputs": [],
   "source": [
    "def global_mi():\n",
    "    global num_2\n",
    "    num_2 = 3"
   ]
  },
  {
   "cell_type": "code",
   "execution_count": 97,
   "metadata": {},
   "outputs": [],
   "source": [
    "global_mi() #fonksiyon icinde bir variable i global yapip baska yerde kullanmak istersek once fonksiyonu\n",
    "            #bir kez calistirmaliyiz."
   ]
  },
  {
   "cell_type": "code",
   "execution_count": 96,
   "metadata": {},
   "outputs": [
    {
     "data": {
      "text/plain": [
       "3"
      ]
     },
     "execution_count": 96,
     "metadata": {},
     "output_type": "execute_result"
    }
   ],
   "source": [
    "num_2"
   ]
  },
  {
   "cell_type": "code",
   "execution_count": 2,
   "metadata": {},
   "outputs": [
    {
     "name": "stdout",
     "output_type": "stream",
     "text": [
      "samehmetri\n"
     ]
    }
   ],
   "source": [
    "str1 =\"sari\"\n",
    "str2 = \"mehmet\"\n",
    "print(str1[:(len(str1)//2)],str2,str1[(len(str1)//2):],sep=\"\")"
   ]
  },
  {
   "cell_type": "code",
   "execution_count": 3,
   "metadata": {},
   "outputs": [
    {
     "name": "stdout",
     "output_type": "stream",
     "text": [
      "samehmetri\n"
     ]
    }
   ],
   "source": [
    "str_1 = str1[:(len(str1)//2)]\n",
    "str_2 = str1[(len(str1)//2):]\n",
    "print(f\"{str_1}{str2}{str_2}\")"
   ]
  },
  {
   "cell_type": "code",
   "execution_count": 4,
   "metadata": {},
   "outputs": [
    {
     "name": "stdout",
     "output_type": "stream",
     "text": [
      "samehmetri\n"
     ]
    }
   ],
   "source": [
    "print(\"{}{}{}\".format(str_1,str2,str_2))"
   ]
  },
  {
   "cell_type": "code",
   "execution_count": 5,
   "metadata": {},
   "outputs": [
    {
     "name": "stdout",
     "output_type": "stream",
     "text": [
      "samehmetri\n"
     ]
    }
   ],
   "source": [
    "print(str_1+str2+str_2)"
   ]
  },
  {
   "cell_type": "code",
   "execution_count": 6,
   "metadata": {},
   "outputs": [
    {
     "data": {
      "text/plain": [
       "True"
      ]
     },
     "execution_count": 6,
     "metadata": {},
     "output_type": "execute_result"
    }
   ],
   "source": [
    "a=1\n",
    "a==1"
   ]
  },
  {
   "cell_type": "code",
   "execution_count": 7,
   "metadata": {},
   "outputs": [
    {
     "data": {
      "text/plain": [
       "True"
      ]
     },
     "execution_count": 7,
     "metadata": {},
     "output_type": "execute_result"
    }
   ],
   "source": [
    "bool(5<7)"
   ]
  },
  {
   "cell_type": "code",
   "execution_count": 8,
   "metadata": {},
   "outputs": [
    {
     "data": {
      "text/plain": [
       "False"
      ]
     },
     "execution_count": 8,
     "metadata": {},
     "output_type": "execute_result"
    }
   ],
   "source": [
    "bool(None)"
   ]
  }
 ],
 "metadata": {
  "kernelspec": {
   "display_name": "Python 3",
   "language": "python",
   "name": "python3"
  },
  "language_info": {
   "codemirror_mode": {
    "name": "ipython",
    "version": 3
   },
   "file_extension": ".py",
   "mimetype": "text/x-python",
   "name": "python",
   "nbconvert_exporter": "python",
   "pygments_lexer": "ipython3",
   "version": "3.11.1"
  },
  "orig_nbformat": 4,
  "vscode": {
   "interpreter": {
    "hash": "74cc819deff76c29e4928f7ff26e3eddcbba8fed33adfaaa19de16534a73accc"
   }
  }
 },
 "nbformat": 4,
 "nbformat_minor": 2
}
