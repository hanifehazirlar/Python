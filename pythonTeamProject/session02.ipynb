{
 "cells": [
  {
   "attachments": {},
   "cell_type": "markdown",
   "metadata": {},
   "source": [
    "# String Operations"
   ]
  },
  {
   "cell_type": "code",
   "execution_count": 1,
   "metadata": {},
   "outputs": [
    {
     "data": {
      "text/plain": [
       "'Tarkan'"
      ]
     },
     "execution_count": 1,
     "metadata": {},
     "output_type": "execute_result"
    }
   ],
   "source": [
    "'Tarkan'"
   ]
  },
  {
   "cell_type": "code",
   "execution_count": 2,
   "metadata": {},
   "outputs": [
    {
     "data": {
      "text/plain": [
       "'Tarkan'"
      ]
     },
     "execution_count": 2,
     "metadata": {},
     "output_type": "execute_result"
    }
   ],
   "source": [
    "\"Tarkan\""
   ]
  },
  {
   "cell_type": "code",
   "execution_count": 3,
   "metadata": {},
   "outputs": [
    {
     "data": {
      "text/plain": [
       "'Tarkan'"
      ]
     },
     "execution_count": 3,
     "metadata": {},
     "output_type": "execute_result"
    }
   ],
   "source": [
    "\"\"\"Tarkan\"\"\""
   ]
  },
  {
   "cell_type": "code",
   "execution_count": 4,
   "metadata": {},
   "outputs": [
    {
     "name": "stdout",
     "output_type": "stream",
     "text": [
      "Helle Python\n"
     ]
    }
   ],
   "source": [
    "print(\"Helle Python\")"
   ]
  },
  {
   "cell_type": "code",
   "execution_count": 5,
   "metadata": {},
   "outputs": [],
   "source": [
    "name = 'Tarkan'"
   ]
  },
  {
   "cell_type": "code",
   "execution_count": 6,
   "metadata": {},
   "outputs": [
    {
     "data": {
      "text/plain": [
       "'Tarkan'"
      ]
     },
     "execution_count": 6,
     "metadata": {},
     "output_type": "execute_result"
    }
   ],
   "source": [
    "name"
   ]
  },
  {
   "cell_type": "code",
   "execution_count": 7,
   "metadata": {},
   "outputs": [
    {
     "data": {
      "text/plain": [
       "'T'"
      ]
     },
     "execution_count": 7,
     "metadata": {},
     "output_type": "execute_result"
    }
   ],
   "source": [
    "name[0]"
   ]
  },
  {
   "cell_type": "code",
   "execution_count": 8,
   "metadata": {},
   "outputs": [
    {
     "data": {
      "text/plain": [
       "'a'"
      ]
     },
     "execution_count": 8,
     "metadata": {},
     "output_type": "execute_result"
    }
   ],
   "source": [
    "name[1]"
   ]
  },
  {
   "cell_type": "code",
   "execution_count": 9,
   "metadata": {},
   "outputs": [
    {
     "data": {
      "text/plain": [
       "'n'"
      ]
     },
     "execution_count": 9,
     "metadata": {},
     "output_type": "execute_result"
    }
   ],
   "source": [
    "name[-1]"
   ]
  },
  {
   "cell_type": "code",
   "execution_count": 10,
   "metadata": {},
   "outputs": [
    {
     "data": {
      "text/plain": [
       "'ar'"
      ]
     },
     "execution_count": 10,
     "metadata": {},
     "output_type": "execute_result"
    }
   ],
   "source": [
    "name[1:3]"
   ]
  },
  {
   "cell_type": "code",
   "execution_count": 11,
   "metadata": {},
   "outputs": [
    {
     "data": {
      "text/plain": [
       "'Tra'"
      ]
     },
     "execution_count": 11,
     "metadata": {},
     "output_type": "execute_result"
    }
   ],
   "source": [
    "name[0:5:2] #0.indexten 5.indexe kadar olan karakterlerden ilkini yazdirir sonra ilkinden itibaren \n",
    "            #2 atlar karakteri yazdirir tekrar 2 atlar karakteri yazdirir.Bu sekilde devam eder"
   ]
  },
  {
   "cell_type": "code",
   "execution_count": 13,
   "metadata": {},
   "outputs": [
    {
     "data": {
      "text/plain": [
       "'Tk'"
      ]
     },
     "execution_count": 13,
     "metadata": {},
     "output_type": "execute_result"
    }
   ],
   "source": [
    "name[0:5:3]"
   ]
  },
  {
   "cell_type": "code",
   "execution_count": 14,
   "metadata": {},
   "outputs": [
    {
     "data": {
      "text/plain": [
       "'Tarkanis the best'"
      ]
     },
     "execution_count": 14,
     "metadata": {},
     "output_type": "execute_result"
    }
   ],
   "source": [
    "name + \"is the best\""
   ]
  },
  {
   "cell_type": "code",
   "execution_count": 15,
   "metadata": {},
   "outputs": [],
   "source": [
    "name_1 = name + \" is the best\""
   ]
  },
  {
   "cell_type": "code",
   "execution_count": 16,
   "metadata": {},
   "outputs": [
    {
     "data": {
      "text/plain": [
       "'Tarkan is the best'"
      ]
     },
     "execution_count": 16,
     "metadata": {},
     "output_type": "execute_result"
    }
   ],
   "source": [
    "name_1"
   ]
  },
  {
   "cell_type": "code",
   "execution_count": 17,
   "metadata": {},
   "outputs": [
    {
     "data": {
      "text/plain": [
       "'Tarkan is the bestTarkan is the bestTarkan is the best'"
      ]
     },
     "execution_count": 17,
     "metadata": {},
     "output_type": "execute_result"
    }
   ],
   "source": [
    "name_1*3"
   ]
  },
  {
   "cell_type": "code",
   "execution_count": 18,
   "metadata": {},
   "outputs": [
    {
     "name": "stdout",
     "output_type": "stream",
     "text": [
      "Tarkan is \n",
      " the best\n"
     ]
    }
   ],
   "source": [
    "print(\"Tarkan is \\n the best\") #\\n sonra yazilanlari bir alt satira yazdirir"
   ]
  },
  {
   "cell_type": "code",
   "execution_count": 19,
   "metadata": {},
   "outputs": [
    {
     "name": "stdout",
     "output_type": "stream",
     "text": [
      "Tarkan is \t the best\n"
     ]
    }
   ],
   "source": [
    "print('Tarkan is \\t the best') #\\t 1 tab lik bosluk olusturur"
   ]
  },
  {
   "cell_type": "code",
   "execution_count": 20,
   "metadata": {},
   "outputs": [
    {
     "name": "stdout",
     "output_type": "stream",
     "text": [
      "Ben geldim\n"
     ]
    }
   ],
   "source": [
    "print(f\"Ben geldim\") #f formatlama ile stringin icine istedigimiz karakteri ekleyip cikarabiliriz"
   ]
  },
  {
   "cell_type": "code",
   "execution_count": 26,
   "metadata": {},
   "outputs": [
    {
     "data": {
      "text/plain": [
       "'TARKAN'"
      ]
     },
     "execution_count": 26,
     "metadata": {},
     "output_type": "execute_result"
    }
   ],
   "source": [
    "upp = name.upper() #upper() fonksiyonu tum harfleri buyuk yazdirir\n",
    "upp"
   ]
  },
  {
   "cell_type": "code",
   "execution_count": 23,
   "metadata": {},
   "outputs": [
    {
     "data": {
      "text/plain": [
       "'Tarkan Is The Best'"
      ]
     },
     "execution_count": 23,
     "metadata": {},
     "output_type": "execute_result"
    }
   ],
   "source": [
    "name_1.title() #Her kelimenin bas harfini buyutur"
   ]
  },
  {
   "cell_type": "code",
   "execution_count": 29,
   "metadata": {},
   "outputs": [
    {
     "data": {
      "text/plain": [
       "'tarkan'"
      ]
     },
     "execution_count": 29,
     "metadata": {},
     "output_type": "execute_result"
    }
   ],
   "source": [
    "upp.lower() #lower() fonksiyonu tum harfleri kucuk yazdirir"
   ]
  },
  {
   "cell_type": "code",
   "execution_count": 32,
   "metadata": {},
   "outputs": [],
   "source": [
    "new_list = name_1.split() #split() fonksiyonu verilen cumleyi bosluklarindan ayirip list e atar"
   ]
  },
  {
   "cell_type": "code",
   "execution_count": 33,
   "metadata": {},
   "outputs": [
    {
     "data": {
      "text/plain": [
       "['Tarkan', 'is']"
      ]
     },
     "execution_count": 33,
     "metadata": {},
     "output_type": "execute_result"
    }
   ],
   "source": [
    "new_list[0:2]"
   ]
  },
  {
   "cell_type": "code",
   "execution_count": 34,
   "metadata": {},
   "outputs": [
    {
     "data": {
      "text/plain": [
       "'Haluk is the best'"
      ]
     },
     "execution_count": 34,
     "metadata": {},
     "output_type": "execute_result"
    }
   ],
   "source": [
    "name_1.replace('Tarkan', 'Haluk')"
   ]
  },
  {
   "cell_type": "code",
   "execution_count": 40,
   "metadata": {},
   "outputs": [
    {
     "data": {
      "text/plain": [
       "'xbcxxcaa'"
      ]
     },
     "execution_count": 40,
     "metadata": {},
     "output_type": "execute_result"
    }
   ],
   "source": [
    "name_2 = 'abcaacaa'\n",
    "name_2.replace('a' ,'x',3)"
   ]
  },
  {
   "cell_type": "code",
   "execution_count": 41,
   "metadata": {},
   "outputs": [
    {
     "data": {
      "text/plain": [
       "'Michael Jackson'"
      ]
     },
     "execution_count": 41,
     "metadata": {},
     "output_type": "execute_result"
    }
   ],
   "source": [
    "name_3 = \"Michael Jackson\"\n",
    "name_3"
   ]
  },
  {
   "cell_type": "code",
   "execution_count": 42,
   "metadata": {},
   "outputs": [
    {
     "data": {
      "text/plain": [
       "8"
      ]
     },
     "execution_count": 42,
     "metadata": {},
     "output_type": "execute_result"
    }
   ],
   "source": [
    "name_3.find('Jac') #find() fonksiyonu icine yazilan ifadenin ilk harfi kacinci indextedir onu verir"
   ]
  },
  {
   "cell_type": "code",
   "execution_count": 46,
   "metadata": {},
   "outputs": [
    {
     "name": "stdout",
     "output_type": "stream",
     "text": [
      "15\n"
     ]
    },
    {
     "data": {
      "text/plain": [
       "'M'"
      ]
     },
     "execution_count": 46,
     "metadata": {},
     "output_type": "execute_result"
    }
   ],
   "source": [
    "print(name_3.__len__())\n",
    "name_3[-15] #bu ifade lenght-15 demek oldu(15-15=0). 0.indexi getirdi"
   ]
  },
  {
   "cell_type": "code",
   "execution_count": 48,
   "metadata": {},
   "outputs": [
    {
     "name": "stdout",
     "output_type": "stream",
     "text": [
      "Benin aracimin max hizi 100 km'dir.\n"
     ]
    }
   ],
   "source": [
    "max_hiz = 100\n",
    "print(f\"Benin aracimin max hizi {max_hiz} km'dir.\")"
   ]
  },
  {
   "cell_type": "code",
   "execution_count": 49,
   "metadata": {},
   "outputs": [
    {
     "name": "stdout",
     "output_type": "stream",
     "text": [
      "Benim aracimin max hizi 190 km ve motor hacmi 2.0 dir\n"
     ]
    }
   ],
   "source": [
    "max_hiz = 190\n",
    "motor = 2.0\n",
    "print(f\"Benim aracimin max hizi {max_hiz} km ve motor hacmi {motor} dir\")"
   ]
  },
  {
   "cell_type": "code",
   "execution_count": 51,
   "metadata": {},
   "outputs": [
    {
     "name": "stdout",
     "output_type": "stream",
     "text": [
      "Benim aracimin max hizi 190 km ve motor hacmi 2.0 dir\n"
     ]
    }
   ],
   "source": [
    "max_hiz = 190\n",
    "motor = 2.0\n",
    "print(\"Benim aracimin max hizi {} km ve motor hacmi {} dir\".format(max_hiz,motor))\n",
    "#f yerine string ifadenin sonuna .format() yazarak da ayni isi yapar"
   ]
  },
  {
   "cell_type": "code",
   "execution_count": 52,
   "metadata": {},
   "outputs": [
    {
     "name": "stdout",
     "output_type": "stream",
     "text": [
      "Benim aracimin max hizi 190 km ve motor hacmi 2.0 dir\n"
     ]
    }
   ],
   "source": [
    "max_hiz = 190\n",
    "motor = 2.0\n",
    "str_1 =\"Benim aracimin max hizi {} km ve motor hacmi {} dir\"\n",
    "print(str_1.format(max_hiz,motor))"
   ]
  },
  {
   "attachments": {},
   "cell_type": "markdown",
   "metadata": {},
   "source": [
    "# Dictionaries"
   ]
  },
  {
   "cell_type": "code",
   "execution_count": 53,
   "metadata": {},
   "outputs": [
    {
     "data": {
      "text/plain": [
       "dict"
      ]
     },
     "execution_count": 53,
     "metadata": {},
     "output_type": "execute_result"
    }
   ],
   "source": [
    "s = {} #dictionarys {} ile olustururlur\n",
    "type(s)"
   ]
  },
  {
   "cell_type": "code",
   "execution_count": 54,
   "metadata": {},
   "outputs": [
    {
     "data": {
      "text/plain": [
       "{'Isim': 'Abdullah'}"
      ]
     },
     "execution_count": 54,
     "metadata": {},
     "output_type": "execute_result"
    }
   ],
   "source": [
    "s['Isim'] = 'Abdullah'\n",
    "s"
   ]
  },
  {
   "cell_type": "code",
   "execution_count": 56,
   "metadata": {},
   "outputs": [
    {
     "data": {
      "text/plain": [
       "{'Isim': 'Abdullah', 'yas': 32, 10: 'Ali'}"
      ]
     },
     "execution_count": 56,
     "metadata": {},
     "output_type": "execute_result"
    }
   ],
   "source": [
    "s['yas'] = 32\n",
    "s[10] = 'Ali'\n",
    "s"
   ]
  },
  {
   "cell_type": "code",
   "execution_count": 57,
   "metadata": {},
   "outputs": [
    {
     "data": {
      "text/plain": [
       "'Abdullah'"
      ]
     },
     "execution_count": 57,
     "metadata": {},
     "output_type": "execute_result"
    }
   ],
   "source": [
    "s['Isim']"
   ]
  },
  {
   "cell_type": "code",
   "execution_count": 61,
   "metadata": {},
   "outputs": [
    {
     "name": "stdout",
     "output_type": "stream",
     "text": [
      "Merhaba, benim adim Abdullah, 32 yasindayim, arkadasim Ali\n"
     ]
    }
   ],
   "source": [
    "print(f\"Merhaba, benim adim {s['Isim']}, {s['yas']} yasindayim, arkadasim {s[10]}\")"
   ]
  },
  {
   "cell_type": "code",
   "execution_count": 62,
   "metadata": {},
   "outputs": [],
   "source": [
    "empires = {'Ghaznavid Dynasty': 963, 'Delhi Sultanate': 1206, 'Hunnic Empire': 370,\n",
    "           'Hittite Empire': -1463, 'Gokturk Khaganate': 552, 'Ottoman Empire': 1299}"
   ]
  },
  {
   "cell_type": "code",
   "execution_count": 63,
   "metadata": {},
   "outputs": [
    {
     "data": {
      "text/plain": [
       "-1463"
      ]
     },
     "execution_count": 63,
     "metadata": {},
     "output_type": "execute_result"
    }
   ],
   "source": [
    "empires['Hittite Empire']"
   ]
  },
  {
   "cell_type": "code",
   "execution_count": 64,
   "metadata": {},
   "outputs": [
    {
     "data": {
      "text/plain": [
       "dict_keys(['Ghaznavid Dynasty', 'Delhi Sultanate', 'Hunnic Empire', 'Hittite Empire', 'Gokturk Khaganate', 'Ottoman Empire'])"
      ]
     },
     "execution_count": 64,
     "metadata": {},
     "output_type": "execute_result"
    }
   ],
   "source": [
    "empires.keys()"
   ]
  },
  {
   "cell_type": "code",
   "execution_count": 65,
   "metadata": {},
   "outputs": [
    {
     "data": {
      "text/plain": [
       "dict_values([963, 1206, 370, -1463, 552, 1299])"
      ]
     },
     "execution_count": 65,
     "metadata": {},
     "output_type": "execute_result"
    }
   ],
   "source": [
    "empires.values()"
   ]
  },
  {
   "cell_type": "code",
   "execution_count": 67,
   "metadata": {},
   "outputs": [
    {
     "data": {
      "text/plain": [
       "True"
      ]
     },
     "execution_count": 67,
     "metadata": {},
     "output_type": "execute_result"
    }
   ],
   "source": [
    "'Ottoman Empire' in empires # in icinde var mi? sorusunu sorar. True False dondurur"
   ]
  },
  {
   "cell_type": "code",
   "execution_count": 68,
   "metadata": {},
   "outputs": [
    {
     "data": {
      "text/plain": [
       "False"
      ]
     },
     "execution_count": 68,
     "metadata": {},
     "output_type": "execute_result"
    }
   ],
   "source": [
    "'Ottoman Empi' in empires"
   ]
  },
  {
   "cell_type": "code",
   "execution_count": 3,
   "metadata": {},
   "outputs": [],
   "source": [
    "empires_extended = {'Han Dynasty':        {'Origin': 'China', 'From': '206 BC', 'To': '220'},\n",
    "                    'Empire of Harsha':   {'Origin': 'Northern India', 'From': '606', 'To': '647'},\n",
    "                    'Hephthalite Empire': {'Origin': 'Afghanistan', 'From': '420', 'To': '567'},\n",
    "                    'Hittite Empire':     {'Origin': 'Anatolia', 'From': '1460 BC', 'To': '1180 BC'},\n",
    "                    'Holy Roman Empire':  {'Origin': 'Central Europe', 'From': '962', 'To': '1806'},\n",
    "                    'Hotaki Dynasty':     {'Origin': 'Persia', 'From': '1709', 'To': '1738'},\n",
    "                    'Hoysala Empire':     {'Origin': 'India', 'From': '1026', 'To': '1343'},\n",
    "                    'Hunnic Empire':      {'Origin': 'Eurasia', 'From': '370', 'To': '469'},\n",
    "                    'Idrisid dynasty':    {'Origin': 'Morocco', 'From': '788', 'To': '974'},\n",
    "                    'Ilkhanate':          {'Origin': 'Persia', 'From': '1256', 'To': '1335'}}"
   ]
  },
  {
   "cell_type": "code",
   "execution_count": 70,
   "metadata": {},
   "outputs": [
    {
     "data": {
      "text/plain": [
       "'Anatolia'"
      ]
     },
     "execution_count": 70,
     "metadata": {},
     "output_type": "execute_result"
    }
   ],
   "source": [
    "empires_extended[\"Hittite Empire\"][\"Origin\"]"
   ]
  },
  {
   "cell_type": "code",
   "execution_count": 4,
   "metadata": {},
   "outputs": [
    {
     "data": {
      "text/plain": [
       "dict_keys(['Han Dynasty', 'Empire of Harsha', 'Hephthalite Empire', 'Hittite Empire', 'Holy Roman Empire', 'Hotaki Dynasty', 'Hoysala Empire', 'Hunnic Empire', 'Idrisid dynasty', 'Ilkhanate'])"
      ]
     },
     "execution_count": 4,
     "metadata": {},
     "output_type": "execute_result"
    }
   ],
   "source": [
    "empires_extended.keys()"
   ]
  },
  {
   "cell_type": "code",
   "execution_count": 5,
   "metadata": {},
   "outputs": [
    {
     "data": {
      "text/plain": [
       "dict_values([{'Origin': 'China', 'From': '206 BC', 'To': '220'}, {'Origin': 'Northern India', 'From': '606', 'To': '647'}, {'Origin': 'Afghanistan', 'From': '420', 'To': '567'}, {'Origin': 'Anatolia', 'From': '1460 BC', 'To': '1180 BC'}, {'Origin': 'Central Europe', 'From': '962', 'To': '1806'}, {'Origin': 'Persia', 'From': '1709', 'To': '1738'}, {'Origin': 'India', 'From': '1026', 'To': '1343'}, {'Origin': 'Eurasia', 'From': '370', 'To': '469'}, {'Origin': 'Morocco', 'From': '788', 'To': '974'}, {'Origin': 'Persia', 'From': '1256', 'To': '1335'}])"
      ]
     },
     "execution_count": 5,
     "metadata": {},
     "output_type": "execute_result"
    }
   ],
   "source": [
    "empires_extended.values()"
   ]
  },
  {
   "cell_type": "code",
   "execution_count": 6,
   "metadata": {},
   "outputs": [
    {
     "data": {
      "text/plain": [
       "{'Origin': 'Eurasia', 'From': '370', 'To': '469'}"
      ]
     },
     "execution_count": 6,
     "metadata": {},
     "output_type": "execute_result"
    }
   ],
   "source": [
    "empires_extended[\"Hunnic Empire\"]"
   ]
  },
  {
   "cell_type": "code",
   "execution_count": 10,
   "metadata": {},
   "outputs": [
    {
     "data": {
      "text/plain": [
       "False"
      ]
     },
     "execution_count": 10,
     "metadata": {},
     "output_type": "execute_result"
    }
   ],
   "source": [
    "\"Ottomon Empire\" in empires_extended"
   ]
  },
  {
   "cell_type": "code",
   "execution_count": 8,
   "metadata": {},
   "outputs": [],
   "source": [
    "empires_extended['Ottoman Empire']= {'Origin': 'Turk', 'From': '111', 'To': '9999'} #key value ekledik"
   ]
  },
  {
   "cell_type": "code",
   "execution_count": 9,
   "metadata": {},
   "outputs": [
    {
     "data": {
      "text/plain": [
       "{'Han Dynasty': {'Origin': 'China', 'From': '206 BC', 'To': '220'},\n",
       " 'Empire of Harsha': {'Origin': 'Northern India', 'From': '606', 'To': '647'},\n",
       " 'Hephthalite Empire': {'Origin': 'Afghanistan', 'From': '420', 'To': '567'},\n",
       " 'Hittite Empire': {'Origin': 'Anatolia', 'From': '1460 BC', 'To': '1180 BC'},\n",
       " 'Holy Roman Empire': {'Origin': 'Central Europe',\n",
       "  'From': '962',\n",
       "  'To': '1806'},\n",
       " 'Hotaki Dynasty': {'Origin': 'Persia', 'From': '1709', 'To': '1738'},\n",
       " 'Hoysala Empire': {'Origin': 'India', 'From': '1026', 'To': '1343'},\n",
       " 'Hunnic Empire': {'Origin': 'Eurasia', 'From': '370', 'To': '469'},\n",
       " 'Idrisid dynasty': {'Origin': 'Morocco', 'From': '788', 'To': '974'},\n",
       " 'Ilkhanate': {'Origin': 'Persia', 'From': '1256', 'To': '1335'},\n",
       " 'Ottoman Empire': {'Origin': 'Turk', 'From': '111', 'To': '9999'}}"
      ]
     },
     "execution_count": 9,
     "metadata": {},
     "output_type": "execute_result"
    }
   ],
   "source": [
    "empires_extended"
   ]
  },
  {
   "cell_type": "code",
   "execution_count": 12,
   "metadata": {},
   "outputs": [
    {
     "data": {
      "text/plain": [
       "'469'"
      ]
     },
     "execution_count": 12,
     "metadata": {},
     "output_type": "execute_result"
    }
   ],
   "source": [
    "empires_extended[\"Hunnic Empire\"]['To']"
   ]
  },
  {
   "cell_type": "code",
   "execution_count": 13,
   "metadata": {},
   "outputs": [
    {
     "data": {
      "text/plain": [
       "'370'"
      ]
     },
     "execution_count": 13,
     "metadata": {},
     "output_type": "execute_result"
    }
   ],
   "source": [
    "empires_extended[\"Hunnic Empire\"]['From']"
   ]
  },
  {
   "cell_type": "code",
   "execution_count": 14,
   "metadata": {},
   "outputs": [
    {
     "data": {
      "text/plain": [
       "99"
      ]
     },
     "execution_count": 14,
     "metadata": {},
     "output_type": "execute_result"
    }
   ],
   "source": [
    "int(empires_extended[\"Hunnic Empire\"]['To'])-int(empires_extended[\"Hunnic Empire\"]['From'])"
   ]
  },
  {
   "cell_type": "code",
   "execution_count": 15,
   "metadata": {},
   "outputs": [],
   "source": [
    "empires_extended[\"Great Seljuk Empires\"]={\"Origin\":\"Asia Minor\",\"From\":1037,\"To\":1194}"
   ]
  },
  {
   "cell_type": "code",
   "execution_count": 16,
   "metadata": {},
   "outputs": [
    {
     "data": {
      "text/plain": [
       "{'Han Dynasty': {'Origin': 'China', 'From': '206 BC', 'To': '220'},\n",
       " 'Empire of Harsha': {'Origin': 'Northern India', 'From': '606', 'To': '647'},\n",
       " 'Hephthalite Empire': {'Origin': 'Afghanistan', 'From': '420', 'To': '567'},\n",
       " 'Hittite Empire': {'Origin': 'Anatolia', 'From': '1460 BC', 'To': '1180 BC'},\n",
       " 'Holy Roman Empire': {'Origin': 'Central Europe',\n",
       "  'From': '962',\n",
       "  'To': '1806'},\n",
       " 'Hotaki Dynasty': {'Origin': 'Persia', 'From': '1709', 'To': '1738'},\n",
       " 'Hoysala Empire': {'Origin': 'India', 'From': '1026', 'To': '1343'},\n",
       " 'Hunnic Empire': {'Origin': 'Eurasia', 'From': '370', 'To': '469'},\n",
       " 'Idrisid dynasty': {'Origin': 'Morocco', 'From': '788', 'To': '974'},\n",
       " 'Ilkhanate': {'Origin': 'Persia', 'From': '1256', 'To': '1335'},\n",
       " 'Ottoman Empire': {'Origin': 'Turk', 'From': '111', 'To': '9999'},\n",
       " 'Great Seljuk Empires': {'Origin': 'Asia Minor', 'From': 1037, 'To': 1194}}"
      ]
     },
     "execution_count": 16,
     "metadata": {},
     "output_type": "execute_result"
    }
   ],
   "source": [
    "empires_extended"
   ]
  },
  {
   "cell_type": "code",
   "execution_count": 17,
   "metadata": {},
   "outputs": [
    {
     "data": {
      "text/plain": [
       "157"
      ]
     },
     "execution_count": 17,
     "metadata": {},
     "output_type": "execute_result"
    }
   ],
   "source": [
    "empires_extended[\"Great Seljuk Empires\"][\"To\"]-empires_extended[\"Great Seljuk Empires\"][\"From\"] #zaten valuelari int oldugu icin\n",
    "                                                                 #donusturme yapmaya gerek kalmadi"
   ]
  },
  {
   "cell_type": "code",
   "execution_count": 18,
   "metadata": {},
   "outputs": [],
   "source": [
    "empires_extended[\"Great Seljuk Empires\"][\"Duration\"]=empires_extended[\"Great Seljuk Empires\"][\"To\"]-empires_extended[\"Great Seljuk Empires\"][\"From\"]\n",
    "#\"Duration\" adinda bir key ekledik. = in karsisina eklemek istedigimiz value yu yazdik "
   ]
  },
  {
   "cell_type": "code",
   "execution_count": 19,
   "metadata": {},
   "outputs": [
    {
     "data": {
      "text/plain": [
       "{'Han Dynasty': {'Origin': 'China', 'From': '206 BC', 'To': '220'},\n",
       " 'Empire of Harsha': {'Origin': 'Northern India', 'From': '606', 'To': '647'},\n",
       " 'Hephthalite Empire': {'Origin': 'Afghanistan', 'From': '420', 'To': '567'},\n",
       " 'Hittite Empire': {'Origin': 'Anatolia', 'From': '1460 BC', 'To': '1180 BC'},\n",
       " 'Holy Roman Empire': {'Origin': 'Central Europe',\n",
       "  'From': '962',\n",
       "  'To': '1806'},\n",
       " 'Hotaki Dynasty': {'Origin': 'Persia', 'From': '1709', 'To': '1738'},\n",
       " 'Hoysala Empire': {'Origin': 'India', 'From': '1026', 'To': '1343'},\n",
       " 'Hunnic Empire': {'Origin': 'Eurasia', 'From': '370', 'To': '469'},\n",
       " 'Idrisid dynasty': {'Origin': 'Morocco', 'From': '788', 'To': '974'},\n",
       " 'Ilkhanate': {'Origin': 'Persia', 'From': '1256', 'To': '1335'},\n",
       " 'Ottoman Empire': {'Origin': 'Turk', 'From': '111', 'To': '9999'},\n",
       " 'Great Seljuk Empires': {'Origin': 'Asia Minor',\n",
       "  'From': 1037,\n",
       "  'To': 1194,\n",
       "  'Duration': 157}}"
      ]
     },
     "execution_count": 19,
     "metadata": {},
     "output_type": "execute_result"
    }
   ],
   "source": [
    "empires_extended"
   ]
  },
  {
   "cell_type": "code",
   "execution_count": 20,
   "metadata": {},
   "outputs": [
    {
     "data": {
      "text/plain": [
       "12"
      ]
     },
     "execution_count": 20,
     "metadata": {},
     "output_type": "execute_result"
    }
   ],
   "source": [
    "len(empires_extended)"
   ]
  },
  {
   "cell_type": "code",
   "execution_count": 21,
   "metadata": {},
   "outputs": [
    {
     "data": {
      "text/plain": [
       "3"
      ]
     },
     "execution_count": 21,
     "metadata": {},
     "output_type": "execute_result"
    }
   ],
   "source": [
    "len(empires_extended['Hotaki Dynasty'])"
   ]
  },
  {
   "cell_type": "code",
   "execution_count": 22,
   "metadata": {},
   "outputs": [],
   "source": [
    "del empires_extended[\"Great Seljuk Empires\"] #silme islemi del ile yapilir"
   ]
  },
  {
   "cell_type": "code",
   "execution_count": 23,
   "metadata": {},
   "outputs": [
    {
     "data": {
      "text/plain": [
       "{'Han Dynasty': {'Origin': 'China', 'From': '206 BC', 'To': '220'},\n",
       " 'Empire of Harsha': {'Origin': 'Northern India', 'From': '606', 'To': '647'},\n",
       " 'Hephthalite Empire': {'Origin': 'Afghanistan', 'From': '420', 'To': '567'},\n",
       " 'Hittite Empire': {'Origin': 'Anatolia', 'From': '1460 BC', 'To': '1180 BC'},\n",
       " 'Holy Roman Empire': {'Origin': 'Central Europe',\n",
       "  'From': '962',\n",
       "  'To': '1806'},\n",
       " 'Hotaki Dynasty': {'Origin': 'Persia', 'From': '1709', 'To': '1738'},\n",
       " 'Hoysala Empire': {'Origin': 'India', 'From': '1026', 'To': '1343'},\n",
       " 'Hunnic Empire': {'Origin': 'Eurasia', 'From': '370', 'To': '469'},\n",
       " 'Idrisid dynasty': {'Origin': 'Morocco', 'From': '788', 'To': '974'},\n",
       " 'Ilkhanate': {'Origin': 'Persia', 'From': '1256', 'To': '1335'},\n",
       " 'Ottoman Empire': {'Origin': 'Turk', 'From': '111', 'To': '9999'}}"
      ]
     },
     "execution_count": 23,
     "metadata": {},
     "output_type": "execute_result"
    }
   ],
   "source": [
    "empires_extended"
   ]
  },
  {
   "cell_type": "code",
   "execution_count": 24,
   "metadata": {},
   "outputs": [
    {
     "data": {
      "text/plain": [
       "['Empire of Harsha',\n",
       " 'Han Dynasty',\n",
       " 'Hephthalite Empire',\n",
       " 'Hittite Empire',\n",
       " 'Holy Roman Empire',\n",
       " 'Hotaki Dynasty',\n",
       " 'Hoysala Empire',\n",
       " 'Hunnic Empire',\n",
       " 'Idrisid dynasty',\n",
       " 'Ilkhanate',\n",
       " 'Ottoman Empire']"
      ]
     },
     "execution_count": 24,
     "metadata": {},
     "output_type": "execute_result"
    }
   ],
   "source": [
    "sorted(empires_extended) #sorted() alfabetik siraladi"
   ]
  },
  {
   "cell_type": "code",
   "execution_count": 26,
   "metadata": {},
   "outputs": [
    {
     "data": {
      "text/plain": [
       "['Empire of Harsha',\n",
       " 'Han Dynasty',\n",
       " 'Hephthalite Empire',\n",
       " 'Hittite Empire',\n",
       " 'Holy Roman Empire',\n",
       " 'Hotaki Dynasty',\n",
       " 'Hoysala Empire',\n",
       " 'Hunnic Empire',\n",
       " 'Idrisid dynasty',\n",
       " 'Ilkhanate',\n",
       " 'Ottoman Empire']"
      ]
     },
     "execution_count": 26,
     "metadata": {},
     "output_type": "execute_result"
    }
   ],
   "source": [
    "sorted(empires_extended.keys())"
   ]
  },
  {
   "cell_type": "code",
   "execution_count": null,
   "metadata": {},
   "outputs": [],
   "source": [
    " # sorted(empires_extended.values()) #burada hata aldik cunku dict data type larin valuelari \n",
    " # birden cok data turu icerecegi icin siralama yapamiyor"
   ]
  },
  {
   "cell_type": "code",
   "execution_count": 27,
   "metadata": {},
   "outputs": [],
   "source": [
    "empires = {'Ghaznavid Dynasty': 963, 'Delhi Sultanate': 1206, 'Hunnic Empire': 370,\n",
    "           'Hittite Empire': -1463, 'Gokturk Khaganate': 552, 'Ottoman Empire': 1299}"
   ]
  },
  {
   "cell_type": "code",
   "execution_count": 29,
   "metadata": {},
   "outputs": [
    {
     "data": {
      "text/plain": [
       "[-1463, 370, 552, 963, 1206, 1299]"
      ]
     },
     "execution_count": 29,
     "metadata": {},
     "output_type": "execute_result"
    }
   ],
   "source": [
    "sorted(empires.values())  # burda values lari siralayabildi. Cunku values degerlerinin hepsi int yani hep ayni data type.\n",
    "# ancak empires_extend.value() ' de ise value ler dict oldugu icin farkli dict ler, bu yuzden siralama yapamamaktadir\n",
    "#Tek bir dict siralayabiliyor o da ayni data turune sahipseler."
   ]
  },
  {
   "cell_type": "code",
   "execution_count": 30,
   "metadata": {},
   "outputs": [
    {
     "data": {
      "text/plain": [
       "{'a': 1, 'b': 2}"
      ]
     },
     "execution_count": 30,
     "metadata": {},
     "output_type": "execute_result"
    }
   ],
   "source": [
    "dict_a =dict(a=1 , b=2) #dict() fonksiyonu ile dict olusturdugumuzda {} istemiyor. key=value formatinda icine yaziyoruz\n",
    "dict_a"
   ]
  },
  {
   "cell_type": "code",
   "execution_count": 31,
   "metadata": {},
   "outputs": [
    {
     "data": {
      "text/plain": [
       "{}"
      ]
     },
     "execution_count": 31,
     "metadata": {},
     "output_type": "execute_result"
    }
   ],
   "source": [
    "dict_a.clear() #clear() fonksiyonu dict icini tamamen temizler\n",
    "dict_a"
   ]
  }
 ],
 "metadata": {
  "kernelspec": {
   "display_name": "Python 3",
   "language": "python",
   "name": "python3"
  },
  "language_info": {
   "codemirror_mode": {
    "name": "ipython",
    "version": 3
   },
   "file_extension": ".py",
   "mimetype": "text/x-python",
   "name": "python",
   "nbconvert_exporter": "python",
   "pygments_lexer": "ipython3",
   "version": "3.11.1"
  },
  "orig_nbformat": 4,
  "vscode": {
   "interpreter": {
    "hash": "74cc819deff76c29e4928f7ff26e3eddcbba8fed33adfaaa19de16534a73accc"
   }
  }
 },
 "nbformat": 4,
 "nbformat_minor": 2
}
