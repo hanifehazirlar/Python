{
 "cells": [
  {
   "cell_type": "code",
   "execution_count": 3,
   "metadata": {},
   "outputs": [
    {
     "name": "stdout",
     "output_type": "stream",
     "text": [
      "total : 9.0\n"
     ]
    }
   ],
   "source": [
    "# Soru1 : Kullanicidan aldiginiz iki sayinin toplamini format yontemlerinden biri ile yazdirin\n",
    "# output --> su\n",
    "num1 = float(input(\"Enter a number\"))\n",
    "num2 = float(input(\"Enter a number\"))\n",
    "sum = num1+num2\n",
    "print(f\"total : {sum}\")"
   ]
  },
  {
   "cell_type": "code",
   "execution_count": 5,
   "metadata": {},
   "outputs": [
    {
     "name": "stdout",
     "output_type": "stream",
     "text": [
      "total : 9.0\n"
     ]
    }
   ],
   "source": [
    "# 2.solution\n",
    "num1 =float(input(\"Enter a number\"))\n",
    "num2 = float(input(\"Enter a number\"))\n",
    "sum = num1+num2\n",
    "print(\"total : {}\".format(sum))"
   ]
  },
  {
   "cell_type": "code",
   "execution_count": null,
   "metadata": {},
   "outputs": [],
   "source": [
    "num3 = 10\n",
    "num4 = 4\n",
    "print(\"entered numbers\")"
   ]
  },
  {
   "cell_type": "code",
   "execution_count": 11,
   "metadata": {},
   "outputs": [
    {
     "name": "stdout",
     "output_type": "stream",
     "text": [
      "carpim : 9\n",
      "9\n"
     ]
    }
   ],
   "source": [
    "# Soru 2 : Kullanicidan aldiğiniz i̇ki̇ sayinin farki i̇le toplaminin çarpimini bulan bi̇r python kodu yazin\n",
    "x = int(input(\"Enter a number\"))\n",
    "y = int(input(\"Enter a number\"))\n",
    "print(f\"carpim : {(x-y)*(x+y)}\") \n",
    "print(x**2 - y**2) # iki kare farki yontemi"
   ]
  },
  {
   "cell_type": "code",
   "execution_count": 7,
   "metadata": {},
   "outputs": [
    {
     "data": {
      "text/plain": [
       "7"
      ]
     },
     "execution_count": 7,
     "metadata": {},
     "output_type": "execute_result"
    }
   ],
   "source": [
    "#mutlak degeri abs() fonksiyonu ile yapiyoruz\n",
    "abs(5-12)"
   ]
  },
  {
   "cell_type": "code",
   "execution_count": 9,
   "metadata": {},
   "outputs": [
    {
     "name": "stdout",
     "output_type": "stream",
     "text": [
      "Product price :18 Remaining money : 2\n"
     ]
    }
   ],
   "source": [
    "# Soru 3: 200 birim paranız var. fiyatını bilmediğiniz üründen 11 tane \n",
    "# alabileceğinizi söyledi satıcı. Ürünün fiyatı nedir?\n",
    "# 200 birim paranızdan geriye ne kadar kalır?\n",
    "money = 200\n",
    "price =money//11\n",
    "remainder =money%11\n",
    "print(f\"Product price :{price} Remaining money : {remainder}\")"
   ]
  },
  {
   "cell_type": "code",
   "execution_count": 12,
   "metadata": {},
   "outputs": [
    {
     "name": "stdout",
     "output_type": "stream",
     "text": [
      "6\n",
      "5\n"
     ]
    }
   ],
   "source": [
    "# soru 4 : Kullanıcıdan iki sayı isteyin ve bu sayıları değişkenlere atayın ve \n",
    "# bu değişkenlerin değerlerini birbiriyle değiştirin.\n",
    "x = int(input(\"Enter a number\")) # x = 30\n",
    "y = int(input(\"Enter a number\")) # y = 20\n",
    "x = x+y # 30+20 = 50\n",
    "y = x-y # 50-20 = 30\n",
    "x = x-y # 50-30 = 20\n",
    "print(x) # 20\n",
    "print(y) # 30"
   ]
  },
  {
   "cell_type": "code",
   "execution_count": 14,
   "metadata": {},
   "outputs": [
    {
     "name": "stdout",
     "output_type": "stream",
     "text": [
      "before being changed : x = 30\n",
      "y = 20\n",
      "after changing :x = 20\n",
      "y = 30\n"
     ]
    }
   ],
   "source": [
    "# 2.solution\n",
    "x = int(input(\"Enter a number\")) # x = 30\n",
    "y = int(input(\"Enter a number\")) # y = 20\n",
    "print(f\"before being changed : x = {x} y = {y}\")\n",
    "x , y = y, x\n",
    "print(f\"after changing :x = {x} y = {y}\")\n"
   ]
  },
  {
   "cell_type": "code",
   "execution_count": 19,
   "metadata": {},
   "outputs": [
    {
     "name": "stdout",
     "output_type": "stream",
     "text": [
      "ifeifeife\n"
     ]
    }
   ],
   "source": [
    "#Soru 5 : Kullanıcıdan bir string ve bir tamsayı girdisi alın ve örnekteki gibi çıktıyı alın.\n",
    "# Ör: kelime = \"TechPro\" sayı = 3 Output >> ProProPro\n",
    "# Ör: kelime = \"sedat\" sayı = 2 Output >> atat (edited) \n",
    "word = input(\"enter a word\")\n",
    "num = int(input(\"enter a number\"))\n",
    "print(word[-num:]*num)"
   ]
  },
  {
   "cell_type": "code",
   "execution_count": 27,
   "metadata": {},
   "outputs": [
    {
     "name": "stdout",
     "output_type": "stream",
     "text": [
      "TechPro:)TechPro:)TechPro\n"
     ]
    }
   ],
   "source": [
    "#Soru 6:Kullanıcıdan kelime, sep ve tekrar_sayısı değerlerini alın ve verilen değerlere göre kelimeyi yazdırın. \n",
    "# Ör: kelime = TechPro sep = :) tekrar_sayısı = 3 ----> TechPro:)TechPro:)TechPro\n",
    "word = input(\"Enter a word\")\n",
    "sep =input(\"Enter a separator\")\n",
    "num=int(input(\"Enter the number of repetitions\"))\n",
    "print(sep.join([word]*num))"
   ]
  },
  {
   "cell_type": "code",
   "execution_count": 29,
   "metadata": {},
   "outputs": [
    {
     "name": "stdout",
     "output_type": "stream",
     "text": [
      "TechPro: )TechPro: )TechPro\n"
     ]
    }
   ],
   "source": [
    "# 2.solution\n",
    "word = input(\"Enter a word\")\n",
    "sep =input(\"Enter a separator\")\n",
    "num=int(input(\"Enter the number of repetitions\"))\n",
    "print(((word+sep)*num).strip(sep)) #strip ile sondaki : ) sildik"
   ]
  },
  {
   "cell_type": "code",
   "execution_count": 30,
   "metadata": {},
   "outputs": [
    {
     "data": {
      "text/plain": [
       "'bunu yazdir'"
      ]
     },
     "execution_count": 30,
     "metadata": {},
     "output_type": "execute_result"
    }
   ],
   "source": [
    "#Soru 7 : 0, and, not ve \"bunu yazdır\" ifadelerini kullanarak çıktı olarak \"bunu yazdır\" döndürün. \n",
    "not 0 and \"bunu yazdir\" "
   ]
  },
  {
   "cell_type": "code",
   "execution_count": 31,
   "metadata": {},
   "outputs": [
    {
     "data": {
      "text/plain": [
       "True"
      ]
     },
     "execution_count": 31,
     "metadata": {},
     "output_type": "execute_result"
    }
   ],
   "source": [
    "not 1 and \"\" or 14 and not 0"
   ]
  },
  {
   "cell_type": "code",
   "execution_count": 33,
   "metadata": {},
   "outputs": [
    {
     "name": "stdout",
     "output_type": "stream",
     "text": [
      "True\n"
     ]
    }
   ],
   "source": [
    "# Soru 9: Kullanicidan iki sayi aliniz. Sayilar esit ise veya sayilarin farki \n",
    "#5 in kati ise sonuc olarak True donduren bir algoritma yazdiriniz degilse False dondursun\n",
    "num_1 =int(input(\"Enter a number\"))\n",
    "num_2 =int(input(\"Enter a number\"))\n",
    "if num_1 == num_2 or (num_1-num_2)%5==0:\n",
    "    print(\"True\")\n",
    "else :\n",
    "    print(\"False\")\n"
   ]
  },
  {
   "cell_type": "code",
   "execution_count": 38,
   "metadata": {},
   "outputs": [
    {
     "data": {
      "text/plain": [
       "True"
      ]
     },
     "execution_count": 38,
     "metadata": {},
     "output_type": "execute_result"
    }
   ],
   "source": [
    "num_1 =10\n",
    "num_2 =15\n",
    "num_1 == num_2 or (num_1-num_2)%5==0"
   ]
  },
  {
   "cell_type": "code",
   "execution_count": 41,
   "metadata": {},
   "outputs": [
    {
     "data": {
      "text/plain": [
       "'false'"
      ]
     },
     "execution_count": 41,
     "metadata": {},
     "output_type": "execute_result"
    }
   ],
   "source": [
    "x=10\n",
    "y=18\n",
    "'True' if x == y or abs(x-y) % 5 == 0 else 'false' #Ternary(uclu) operator"
   ]
  }
 ],
 "metadata": {
  "kernelspec": {
   "display_name": "Python 3",
   "language": "python",
   "name": "python3"
  },
  "language_info": {
   "codemirror_mode": {
    "name": "ipython",
    "version": 3
   },
   "file_extension": ".py",
   "mimetype": "text/x-python",
   "name": "python",
   "nbconvert_exporter": "python",
   "pygments_lexer": "ipython3",
   "version": "3.11.1"
  },
  "orig_nbformat": 4,
  "vscode": {
   "interpreter": {
    "hash": "74cc819deff76c29e4928f7ff26e3eddcbba8fed33adfaaa19de16534a73accc"
   }
  }
 },
 "nbformat": 4,
 "nbformat_minor": 2
}
