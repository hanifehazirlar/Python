{
 "cells": [
  {
   "attachments": {},
   "cell_type": "markdown",
   "metadata": {},
   "source": [
    "## SETS\n",
    "set() -> new empty set object set(iterable) -> new set object\n",
    "set() -> yeni boş set nesnesi set(yinelenebilir) -> yeni set nesnesi\n",
    "\n",
    "Build an unordered collection of unique elements.\n",
    "Benzersiz öğelerden oluşan sırasız bir koleksiyon oluşturun."
   ]
  },
  {
   "attachments": {},
   "cell_type": "markdown",
   "metadata": {},
   "source": [
    "Pythonda set listeleri, list' e benzer ancak fark olarak set içindeki elemanlar sıralanamaz (sort) ve indekslenemez yani set elemanlarına 0,1 şeklinde indeks numaraları ile ulaşamayız. Dolayısıyla set 'e eklediğimiz bir elemanın set listesi içinde hangi sırada olacağını bilemeyiz. Ayrıca set içerisindeki elemanlar tekrarlayamaz, her bir elemandan sadece bir tane olmalıdır, tekrarlayanlar silinir.\n",
    "\n",
    "Pythonda set oluşturmak için süslü parantezler kullanırız. "
   ]
  },
  {
   "attachments": {},
   "cell_type": "markdown",
   "metadata": {},
   "source": [
    "* set ler degistirilebilir(mutable)dir\n",
    "* set ler indexlenemez, siralanamaz(sort)\n",
    "* setler iterable dir ve icine iterable alir.\n",
    "* unordered unique elements\n",
    "* ayni elemandan iki tane barindirmaz\n",
    "* jupyter kullanirsak ascii ye gore siralar. print ile siralama yoktur.Python da esas olan print() tir\n"
   ]
  },
  {
   "cell_type": "code",
   "execution_count": null,
   "metadata": {},
   "outputs": [],
   "source": [
    "set()\n",
    "{}"
   ]
  },
  {
   "cell_type": "code",
   "execution_count": 6,
   "metadata": {},
   "outputs": [
    {
     "data": {
      "text/plain": [
       "{'e', 'h', 'l', 'o'}"
      ]
     },
     "execution_count": 6,
     "metadata": {},
     "output_type": "execute_result"
    }
   ],
   "source": [
    "set(\"hello\")"
   ]
  },
  {
   "cell_type": "code",
   "execution_count": 7,
   "metadata": {},
   "outputs": [
    {
     "name": "stdout",
     "output_type": "stream",
     "text": [
      "{'e', 'd', 'm', 'i', 'E', 'r', 'l'}\n"
     ]
    }
   ],
   "source": [
    "print(set(\"Erdemirel\")) # print(set()) icinde yazdirdigimizda sirali sekilde vermez"
   ]
  },
  {
   "cell_type": "code",
   "execution_count": 9,
   "metadata": {},
   "outputs": [
    {
     "data": {
      "text/plain": [
       "{'E', 'd', 'e', 'i', 'l', 'm', 'r'}"
      ]
     },
     "execution_count": 9,
     "metadata": {},
     "output_type": "execute_result"
    }
   ],
   "source": [
    "set(\"Erdemirel\") #Jupyter de set() yazdirdigimizda sirali sekilde veriyor.Ascii degerlere gore siraladi"
   ]
  },
  {
   "cell_type": "code",
   "execution_count": 8,
   "metadata": {},
   "outputs": [
    {
     "data": {
      "text/plain": [
       "{'e', 'h', 'm', 't'}"
      ]
     },
     "execution_count": 8,
     "metadata": {},
     "output_type": "execute_result"
    }
   ],
   "source": [
    "set(\"mehmet\")"
   ]
  },
  {
   "cell_type": "code",
   "execution_count": 10,
   "metadata": {},
   "outputs": [
    {
     "data": {
      "text/plain": [
       "{'beyaz', 'kirmizi', 'mavi'}"
      ]
     },
     "execution_count": 10,
     "metadata": {},
     "output_type": "execute_result"
    }
   ],
   "source": [
    "set([\"mavi\", \"kirmizi\", \"beyaz\", \"mavi\"])"
   ]
  },
  {
   "cell_type": "code",
   "execution_count": 11,
   "metadata": {},
   "outputs": [
    {
     "data": {
      "text/plain": [
       "{'beyaz', 'kirmizi', 'mavi'}"
      ]
     },
     "execution_count": 11,
     "metadata": {},
     "output_type": "execute_result"
    }
   ],
   "source": [
    "aa = {\"mavi\", \"kirmizi\", \"beyaz\", \"mavi\"}\n",
    "aa"
   ]
  },
  {
   "cell_type": "code",
   "execution_count": 12,
   "metadata": {},
   "outputs": [
    {
     "data": {
      "text/plain": [
       "dict"
      ]
     },
     "execution_count": 12,
     "metadata": {},
     "output_type": "execute_result"
    }
   ],
   "source": [
    "empty_isSet = {}\n",
    "type(empty_isSet)"
   ]
  },
  {
   "cell_type": "code",
   "execution_count": 13,
   "metadata": {},
   "outputs": [
    {
     "data": {
      "text/plain": [
       "set"
      ]
     },
     "execution_count": 13,
     "metadata": {},
     "output_type": "execute_result"
    }
   ],
   "source": [
    "empty_set =set() #bos kume(set) olusturmanin tek yontemi set() tir\n",
    "type(empty_set)"
   ]
  },
  {
   "cell_type": "code",
   "execution_count": 14,
   "metadata": {},
   "outputs": [
    {
     "data": {
      "text/plain": [
       "['pencil', 'paper', 'eraser', 'pencil']"
      ]
     },
     "execution_count": 14,
     "metadata": {},
     "output_type": "execute_result"
    }
   ],
   "source": [
    "list_1 = [\"pencil\", \"paper\", \"eraser\", \"pencil\"]\n",
    "list_1"
   ]
  },
  {
   "cell_type": "code",
   "execution_count": 15,
   "metadata": {},
   "outputs": [
    {
     "ename": "TypeError",
     "evalue": "unhashable type: 'list'",
     "output_type": "error",
     "traceback": [
      "\u001b[1;31m---------------------------------------------------------------------------\u001b[0m",
      "\u001b[1;31mTypeError\u001b[0m                                 Traceback (most recent call last)",
      "Cell \u001b[1;32mIn[15], line 1\u001b[0m\n\u001b[1;32m----> 1\u001b[0m {list_1}\n",
      "\u001b[1;31mTypeError\u001b[0m: unhashable type: 'list'"
     ]
    }
   ],
   "source": [
    "{list_1}"
   ]
  },
  {
   "cell_type": "code",
   "execution_count": 16,
   "metadata": {},
   "outputs": [
    {
     "data": {
      "text/plain": [
       "{'eraser', 'paper', 'pencil'}"
      ]
     },
     "execution_count": 16,
     "metadata": {},
     "output_type": "execute_result"
    }
   ],
   "source": [
    "set(list_1) #list i set e cevirdik"
   ]
  },
  {
   "cell_type": "code",
   "execution_count": 19,
   "metadata": {},
   "outputs": [
    {
     "data": {
      "text/plain": [
       "4"
      ]
     },
     "execution_count": 19,
     "metadata": {},
     "output_type": "execute_result"
    }
   ],
   "source": [
    "set_2 ={1, 5, 2.0, 4, 1.0, 2, True} # 1==1.0==True 2.0==2 oldugu icin set tekrar eden elemanlari saymiyor\n",
    "len(set_2)"
   ]
  },
  {
   "cell_type": "code",
   "execution_count": 20,
   "metadata": {},
   "outputs": [
    {
     "data": {
      "text/plain": [
       "{1, 2.0, 4, 5}"
      ]
     },
     "execution_count": 20,
     "metadata": {},
     "output_type": "execute_result"
    }
   ],
   "source": [
    "set_2 #ayni olan ifadelerin ilk girilenini yazdiriyor"
   ]
  },
  {
   "cell_type": "code",
   "execution_count": 21,
   "metadata": {},
   "outputs": [
    {
     "data": {
      "text/plain": [
       "{False, 2, 3}"
      ]
     },
     "execution_count": 21,
     "metadata": {},
     "output_type": "execute_result"
    }
   ],
   "source": [
    "set_3 = {False,2, 3, 3.0, 0}\n",
    "set_3"
   ]
  },
  {
   "cell_type": "code",
   "execution_count": 56,
   "metadata": {},
   "outputs": [
    {
     "data": {
      "text/plain": [
       "{(1, 2, 'a'), 12, False, 'a'}"
      ]
     },
     "execution_count": 56,
     "metadata": {},
     "output_type": "execute_result"
    }
   ],
   "source": [
    "{(1, 2,\"a\"), False, \"a\", 12} # set icine tuple yazabiliriz veya ekleyebiliriz"
   ]
  },
  {
   "cell_type": "code",
   "execution_count": 57,
   "metadata": {},
   "outputs": [
    {
     "ename": "TypeError",
     "evalue": "unhashable type: 'dict'",
     "output_type": "error",
     "traceback": [
      "\u001b[1;31m---------------------------------------------------------------------------\u001b[0m",
      "\u001b[1;31mTypeError\u001b[0m                                 Traceback (most recent call last)",
      "Cell \u001b[1;32mIn[57], line 1\u001b[0m\n\u001b[1;32m----> 1\u001b[0m {\u001b[39mFalse\u001b[39;00m, \u001b[39m\"\u001b[39m\u001b[39ma\u001b[39m\u001b[39m\"\u001b[39m, \u001b[39m12\u001b[39m, {\u001b[39m\"\u001b[39m\u001b[39mkey\u001b[39m\u001b[39m\"\u001b[39m:\u001b[39m\"\u001b[39m\u001b[39mvalue\u001b[39m\u001b[39m\"\u001b[39m}} \u001b[39m#\u001b[39;00m\n",
      "\u001b[1;31mTypeError\u001b[0m: unhashable type: 'dict'"
     ]
    }
   ],
   "source": [
    "{False, \"a\", 12, {\"key\":\"value\"}} # set ler icine dict koyamayiz veya ekleyemeyiz\n",
    "# mutableleri almiyor, lists, set, veya dict ler setlerin icine koyulmuyor"
   ]
  },
  {
   "cell_type": "code",
   "execution_count": 23,
   "metadata": {},
   "outputs": [
    {
     "name": "stdout",
     "output_type": "stream",
     "text": [
      "{'cherry', 'banana', 'grape'}\n"
     ]
    }
   ],
   "source": [
    "fruits = {\"banana\", \"grape\", \"cherry\"}\n",
    "print(fruits)  # {\"grape\", \"banana\", \"cherry\"}\n",
    "# Gördüğünüz gibi listeyi ekrana yazdırdığımızda liste elemanlarının yeri karışık geliyor. \n",
    "# Hatta uygulamayı her çalıştırdığınızda bu sıra değişecektir."
   ]
  },
  {
   "attachments": {},
   "cell_type": "markdown",
   "metadata": {},
   "source": [
    "### Set Listesinin Bir Elemani mi?"
   ]
  },
  {
   "cell_type": "code",
   "execution_count": 24,
   "metadata": {},
   "outputs": [
    {
     "name": "stdout",
     "output_type": "stream",
     "text": [
      "True\n"
     ]
    }
   ],
   "source": [
    "fruits = {\"banana\", \"grape\", \"cherry\"}\n",
    "print(\"banana\" in fruits) # True\n",
    "# bir elemanın set listesinin bir elemanı olup olmadığını kontrol etmek için in operatörü kullanabiliriz."
   ]
  },
  {
   "attachments": {},
   "cell_type": "markdown",
   "metadata": {},
   "source": [
    "### Set Elemanlarını Güncelleme\n",
    "Set listesi oluşturulduktan sonra her hangi bir elemanını güncelleyemeyiz ancak liste üzerine yeni eleman ekleyebiliriz."
   ]
  },
  {
   "attachments": {},
   "cell_type": "markdown",
   "metadata": {},
   "source": [
    "### Set' e Yeni Eleman Ekleme\n",
    "Set listesine tek bir eleman eklemek için add() metodunu, birden fazla eleman eklemek için ise update() metodunu kullanabiliriz."
   ]
  },
  {
   "cell_type": "code",
   "execution_count": 28,
   "metadata": {},
   "outputs": [
    {
     "data": {
      "text/plain": [
       "{'banana', 'cherry', 'grape', 'orange'}"
      ]
     },
     "execution_count": 28,
     "metadata": {},
     "output_type": "execute_result"
    }
   ],
   "source": [
    "fruits = {\"banana\", \"grape\", \"cherry\"}\n",
    "fruits.add(\"orange\")  \n",
    "fruits"
   ]
  },
  {
   "attachments": {},
   "cell_type": "markdown",
   "metadata": {},
   "source": [
    "Set' e birden fazla eleman eklemek için ise;"
   ]
  },
  {
   "cell_type": "code",
   "execution_count": 27,
   "metadata": {},
   "outputs": [
    {
     "data": {
      "text/plain": [
       "{'banana', 'cherry', 'grape', 'mango', 'orange'}"
      ]
     },
     "execution_count": 27,
     "metadata": {},
     "output_type": "execute_result"
    }
   ],
   "source": [
    "fruits = {\"banana\", \"grape\", \"cherry\"}\n",
    "fruits.update([\"orange\", \"mango\"])  \n",
    "fruits "
   ]
  },
  {
   "attachments": {},
   "cell_type": "markdown",
   "metadata": {},
   "source": [
    "### Set Elemanlarını Silme\n",
    "Set' den bir eleman silmek için remove() ya da discard() metodu kullanılabilir.\n",
    "\n",
    "** Eğer ki silmek istediğimiz eleman set içerisinde yok ise bu durumda;\n",
    "remove() geriye bir exception yani hata objesi döndürülür. \n",
    "discart() hicbirsey yapmaz ve dondurmez\n",
    "\n",
    "** Bir eleman silmek için ayrıca pop() metodunuda kullanabiliriz ancak set listeleri indekslenmediğinden dolayı pop() ile sildiğimiz bir elemanın hangisi olacağını bilemeyiz. Dolayısıyla uygulamayı her çalıştırdığımızda set listesinin son elemanı silinir ancak hangi eleman olacağını bilemeyiz."
   ]
  },
  {
   "cell_type": "code",
   "execution_count": 29,
   "metadata": {},
   "outputs": [
    {
     "data": {
      "text/plain": [
       "{'banana', 'cherry'}"
      ]
     },
     "execution_count": 29,
     "metadata": {},
     "output_type": "execute_result"
    }
   ],
   "source": [
    "fruits = {\"banana\", \"grape\", \"cherry\"}\n",
    "fruits.remove(\"grape\")  # {\"banana\",\"cherry\"}\n",
    "fruits"
   ]
  },
  {
   "cell_type": "code",
   "execution_count": 63,
   "metadata": {},
   "outputs": [],
   "source": [
    "fruits = {\"banana\", \"grape\", \"cherry\"}\n",
    "fruits.discard(\"a\")"
   ]
  },
  {
   "attachments": {},
   "cell_type": "markdown",
   "metadata": {},
   "source": [
    "clear() metodu ile set elemanlarının hepsini silebiliriz."
   ]
  },
  {
   "cell_type": "code",
   "execution_count": 31,
   "metadata": {},
   "outputs": [
    {
     "data": {
      "text/plain": [
       "set()"
      ]
     },
     "execution_count": 31,
     "metadata": {},
     "output_type": "execute_result"
    }
   ],
   "source": [
    "fruits = {\"banana\", \"grape\", \"cherry\"}\n",
    "fruits.clear()  \n",
    "fruits"
   ]
  },
  {
   "attachments": {},
   "cell_type": "markdown",
   "metadata": {},
   "source": [
    "del komutu ile set listesinin referansını sileriz dolayısıyla set ' e tekrar ulaşmak istediğimizde hata alırız."
   ]
  },
  {
   "cell_type": "code",
   "execution_count": 32,
   "metadata": {},
   "outputs": [
    {
     "ename": "NameError",
     "evalue": "name 'fruits' is not defined",
     "output_type": "error",
     "traceback": [
      "\u001b[1;31m---------------------------------------------------------------------------\u001b[0m",
      "\u001b[1;31mNameError\u001b[0m                                 Traceback (most recent call last)",
      "Cell \u001b[1;32mIn[32], line 3\u001b[0m\n\u001b[0;32m      1\u001b[0m fruits\u001b[39m=\u001b[39m [\u001b[39m\"\u001b[39m\u001b[39mbanana\u001b[39m\u001b[39m\"\u001b[39m, \u001b[39m\"\u001b[39m\u001b[39mgrape\u001b[39m\u001b[39m\"\u001b[39m, \u001b[39m\"\u001b[39m\u001b[39mcherry\u001b[39m\u001b[39m\"\u001b[39m] \n\u001b[0;32m      2\u001b[0m \u001b[39mdel\u001b[39;00m fruits\n\u001b[1;32m----> 3\u001b[0m \u001b[39mprint\u001b[39m(fruits) \u001b[39m# NameError: name 'fruits' is not defined\u001b[39;00m\n",
      "\u001b[1;31mNameError\u001b[0m: name 'fruits' is not defined"
     ]
    }
   ],
   "source": [
    "fruits= [\"banana\", \"grape\", \"cherry\"] \n",
    "del fruits\n",
    "print(fruits) # NameError: name 'fruits' is not defined"
   ]
  },
  {
   "attachments": {},
   "cell_type": "markdown",
   "metadata": {},
   "source": [
    "### Birden Fazla Set Listesini Birleştirme\n",
    "Birden fazla set listesini birleştirmek için kullanabileceğimiz union() ve update() metotları vardır."
   ]
  },
  {
   "cell_type": "code",
   "execution_count": 33,
   "metadata": {},
   "outputs": [
    {
     "name": "stdout",
     "output_type": "stream",
     "text": [
      "{1, 'b', 'c', 2, 3, 'a'}\n"
     ]
    }
   ],
   "source": [
    "set1 = {\"a\", \"b\" , \"c\"}\n",
    "set2 = {1, 2, 3}\n",
    "\n",
    "set3 = set1.union(set2)\n",
    "print(set3)  # {\"a\",1,3,2,\"b\",\"c\"}"
   ]
  },
  {
   "attachments": {},
   "cell_type": "markdown",
   "metadata": {},
   "source": [
    "update() metodu ile bir set'i diğer set içerisine eklemiş oluyoruz yeni bir set objesi oluşturulmaz. (set1)"
   ]
  },
  {
   "attachments": {},
   "cell_type": "markdown",
   "metadata": {},
   "source": [
    "### Union, Intersection, Difference\n",
    "union() --> birlesim (| isareti ile de yapilir)\n",
    "\n",
    "intersection() --> kesisim ( & isareti ile de yapilir)\n",
    "\n",
    "difference() --> fark ( - isareti ile de yapilir)\n",
    "\n",
    "symmetric_difference() --> farlarin birlesimi (^ isareti ile de yapilir)"
   ]
  },
  {
   "attachments": {},
   "cell_type": "markdown",
   "metadata": {},
   "source": [
    "<img src= \"img.png\" >"
   ]
  },
  {
   "cell_type": "code",
   "execution_count": 34,
   "metadata": {},
   "outputs": [
    {
     "name": "stdout",
     "output_type": "stream",
     "text": [
      "{'t', 's', 'i', 'f', 'k'}\n",
      "{'s', 'e', 'm', 'n', 'i', 'o', 'y', 'a'}\n"
     ]
    }
   ],
   "source": [
    "set_a = set(\"fistik\")\n",
    "set_b = set(\"osmaniye\")\n",
    "print(set_a)\n",
    "print(set_b)"
   ]
  },
  {
   "cell_type": "code",
   "execution_count": 35,
   "metadata": {},
   "outputs": [
    {
     "name": "stdout",
     "output_type": "stream",
     "text": [
      "{'t', 'k', 'f'}\n"
     ]
    }
   ],
   "source": [
    "set_a = set(\"fistik\")\n",
    "set_b = set(\"osmaniye\")\n",
    "set_c = set_a - set_b # a kumesinin b kumesinden farki\n",
    "print(set_c)"
   ]
  },
  {
   "cell_type": "code",
   "execution_count": 36,
   "metadata": {},
   "outputs": [
    {
     "name": "stdout",
     "output_type": "stream",
     "text": [
      "{'t', 'k', 'f'}\n"
     ]
    }
   ],
   "source": [
    "set_c = set_a.difference(set_b) ## a kumesinin b kumesinden farki\n",
    "print(set_c)"
   ]
  },
  {
   "cell_type": "code",
   "execution_count": 37,
   "metadata": {},
   "outputs": [
    {
     "name": "stdout",
     "output_type": "stream",
     "text": [
      "{'e', 'm', 'n', 'o', 'y', 'a'}\n"
     ]
    }
   ],
   "source": [
    "set_a = set(\"fistik\")\n",
    "set_b = set(\"osmaniye\")\n",
    "set_d = set_b -set_a\n",
    "print(set_d)"
   ]
  },
  {
   "cell_type": "code",
   "execution_count": 38,
   "metadata": {},
   "outputs": [
    {
     "name": "stdout",
     "output_type": "stream",
     "text": [
      "{'e', 'm', 'n', 'o', 'y', 'a'}\n"
     ]
    }
   ],
   "source": [
    "set_a = set(\"fistik\")\n",
    "set_b = set(\"osmaniye\")\n",
    "set_d = set_b.difference(set_a) # difference() kumelerde fark anlamina gelir\n",
    "print(set_d)"
   ]
  },
  {
   "cell_type": "code",
   "execution_count": 39,
   "metadata": {},
   "outputs": [
    {
     "name": "stdout",
     "output_type": "stream",
     "text": [
      "{'i', 's'}\n"
     ]
    }
   ],
   "source": [
    "set_a = set(\"fistik\")\n",
    "set_b = set(\"osmaniye\")\n",
    "set_e =set_a & set_b # & isareti kesisim isaretidir(her iki kumede de olan elemanlar)\n",
    "print(set_e)"
   ]
  },
  {
   "cell_type": "code",
   "execution_count": 40,
   "metadata": {},
   "outputs": [
    {
     "name": "stdout",
     "output_type": "stream",
     "text": [
      "{'i', 's'}\n"
     ]
    }
   ],
   "source": [
    "set_a = set(\"fistik\")\n",
    "set_b = set(\"osmaniye\")\n",
    "set_e =set_a.intersection(set_b) # intersection() kesisim demektir\n",
    "print(set_e)"
   ]
  },
  {
   "cell_type": "code",
   "execution_count": 41,
   "metadata": {},
   "outputs": [
    {
     "name": "stdout",
     "output_type": "stream",
     "text": [
      "{'t', 's', 'e', 'm', 'i', 'n', 'f', 'o', 'k', 'y', 'a'}\n"
     ]
    }
   ],
   "source": [
    "set_a = set(\"fistik\")\n",
    "set_b = set(\"osmaniye\")\n",
    "set_e =set_a | set_b # | isareti set (kumelerde) birlesim demektir\n",
    "print(set_e)"
   ]
  },
  {
   "cell_type": "code",
   "execution_count": 42,
   "metadata": {},
   "outputs": [
    {
     "name": "stdout",
     "output_type": "stream",
     "text": [
      "{'t', 's', 'e', 'm', 'i', 'n', 'f', 'o', 'k', 'y', 'a'}\n"
     ]
    }
   ],
   "source": [
    "set_a = set(\"fistik\")\n",
    "set_b = set(\"osmaniye\")\n",
    "set_e =set_a.union(set_b) # union() birlesim demektir\n",
    "print(set_e)"
   ]
  },
  {
   "cell_type": "code",
   "execution_count": 43,
   "metadata": {},
   "outputs": [
    {
     "ename": "TypeError",
     "evalue": "unsupported operand type(s) for +: 'set' and 'set'",
     "output_type": "error",
     "traceback": [
      "\u001b[1;31m---------------------------------------------------------------------------\u001b[0m",
      "\u001b[1;31mTypeError\u001b[0m                                 Traceback (most recent call last)",
      "Cell \u001b[1;32mIn[43], line 3\u001b[0m\n\u001b[0;32m      1\u001b[0m set_a \u001b[39m=\u001b[39m \u001b[39mset\u001b[39m(\u001b[39m\"\u001b[39m\u001b[39mfistik\u001b[39m\u001b[39m\"\u001b[39m)\n\u001b[0;32m      2\u001b[0m set_b \u001b[39m=\u001b[39m \u001b[39mset\u001b[39m(\u001b[39m\"\u001b[39m\u001b[39mosmaniye\u001b[39m\u001b[39m\"\u001b[39m)\n\u001b[1;32m----> 3\u001b[0m set_e \u001b[39m=\u001b[39mset_a \u001b[39m+\u001b[39;49m set_b \u001b[39m# + isareti set() de error verir yerine | isareti kullanilir\u001b[39;00m\n\u001b[0;32m      4\u001b[0m \u001b[39mprint\u001b[39m(set_e)\n",
      "\u001b[1;31mTypeError\u001b[0m: unsupported operand type(s) for +: 'set' and 'set'"
     ]
    }
   ],
   "source": [
    "set_a = set(\"fistik\")\n",
    "set_b = set(\"osmaniye\")\n",
    "set_e =set_a + set_b # + isareti set() de error verir yerine | isareti kullanilir\n",
    "print(set_e)"
   ]
  },
  {
   "cell_type": "code",
   "execution_count": 44,
   "metadata": {},
   "outputs": [
    {
     "name": "stdout",
     "output_type": "stream",
     "text": [
      "{'t', 's'}\n"
     ]
    }
   ],
   "source": [
    "set_7 = set(\"findik\")\n",
    "set_8 = set(\"fistik\")\n",
    "print(set_8.difference(set_7))"
   ]
  },
  {
   "cell_type": "code",
   "execution_count": 45,
   "metadata": {},
   "outputs": [
    {
     "name": "stdout",
     "output_type": "stream",
     "text": [
      "{'t', 's', 'd', 'n'}\n"
     ]
    }
   ],
   "source": [
    "set_7 = set(\"findik\")\n",
    "set_8 = set(\"fistik\")\n",
    "print(set_8.symmetric_difference(set_7)) # symmetric_difference() isareti,  ^ dir"
   ]
  },
  {
   "cell_type": "code",
   "execution_count": 46,
   "metadata": {},
   "outputs": [
    {
     "data": {
      "text/plain": [
       "{'d', 'n', 's', 't'}"
      ]
     },
     "execution_count": 46,
     "metadata": {},
     "output_type": "execute_result"
    }
   ],
   "source": [
    "set_7 = set(\"findik\")\n",
    "set_8 = set(\"fistik\")\n",
    "(set_7 | set_8) - (set_7 & set_8)"
   ]
  },
  {
   "cell_type": "code",
   "execution_count": 47,
   "metadata": {},
   "outputs": [
    {
     "data": {
      "text/plain": [
       "{'d', 'n', 's', 't'}"
      ]
     },
     "execution_count": 47,
     "metadata": {},
     "output_type": "execute_result"
    }
   ],
   "source": [
    "set_7 = set(\"findik\")\n",
    "set_8 = set(\"fistik\")\n",
    "(set_7 - set_8) | (set_8 - set_7)"
   ]
  },
  {
   "cell_type": "code",
   "execution_count": 48,
   "metadata": {},
   "outputs": [
    {
     "data": {
      "text/plain": [
       "{'d', 'n', 's', 't'}"
      ]
     },
     "execution_count": 48,
     "metadata": {},
     "output_type": "execute_result"
    }
   ],
   "source": [
    "set_8 ^ set_7"
   ]
  },
  {
   "cell_type": "code",
   "execution_count": 49,
   "metadata": {},
   "outputs": [
    {
     "name": "stdout",
     "output_type": "stream",
     "text": [
      "{'t', 's', 'i', 'f', 'k'}\n",
      "{'s', 'e', 'm', 'n', 'i', 'o', 'y', 'a'}\n"
     ]
    }
   ],
   "source": [
    "set_a = set(\"fistik\")\n",
    "set_b = set(\"osmaniye\")\n",
    "print(set_a)\n",
    "print(set_b)"
   ]
  },
  {
   "cell_type": "code",
   "execution_count": 54,
   "metadata": {},
   "outputs": [
    {
     "data": {
      "text/plain": [
       "{'f', 'k', 't'}"
      ]
     },
     "execution_count": 54,
     "metadata": {},
     "output_type": "execute_result"
    }
   ],
   "source": [
    "set_a = set(\"fistik\")\n",
    "set_b = set(\"osmaniye\")\n",
    "set_a.difference_update(set_b) # a kumesinin b kumesinden farkini aldi ve a kumesine update etti(atadi)\n",
    "set_a"
   ]
  },
  {
   "cell_type": "code",
   "execution_count": 55,
   "metadata": {},
   "outputs": [
    {
     "data": {
      "text/plain": [
       "{'i', 's'}"
      ]
     },
     "execution_count": 55,
     "metadata": {},
     "output_type": "execute_result"
    }
   ],
   "source": [
    "set_a = set(\"fistik\")\n",
    "set_b = set(\"osmaniye\")\n",
    "set_a.intersection_update(set_b) # a kumesinin b kumesi ile kesisimini aldi ve a kumesine update etti(atadi)\n",
    "set_a"
   ]
  },
  {
   "attachments": {},
   "cell_type": "markdown",
   "metadata": {},
   "source": [
    "### Bir Set Diger Bir Set in Alt Kumesi mi?\n",
    "* Altkumesi mi sorgulamak icin issubset() kullanilir"
   ]
  },
  {
   "cell_type": "code",
   "execution_count": 58,
   "metadata": {},
   "outputs": [
    {
     "name": "stdout",
     "output_type": "stream",
     "text": [
      "{'n', 's', 'e'}\n",
      "{'s', 'e', 'i', 'n', 'l'}\n"
     ]
    }
   ],
   "source": [
    "set_9 = set(\"enes\")\n",
    "set_10 = set(\"selin\")\n",
    "print(set_9)\n",
    "print(set_10)"
   ]
  },
  {
   "cell_type": "code",
   "execution_count": 59,
   "metadata": {},
   "outputs": [
    {
     "data": {
      "text/plain": [
       "True"
      ]
     },
     "execution_count": 59,
     "metadata": {},
     "output_type": "execute_result"
    }
   ],
   "source": [
    "set_9.issubset(set_10)"
   ]
  },
  {
   "cell_type": "code",
   "execution_count": 60,
   "metadata": {},
   "outputs": [
    {
     "data": {
      "text/plain": [
       "False"
      ]
     },
     "execution_count": 60,
     "metadata": {},
     "output_type": "execute_result"
    }
   ],
   "source": [
    "set_10.issubset(set_9)"
   ]
  },
  {
   "cell_type": "code",
   "execution_count": 61,
   "metadata": {},
   "outputs": [
    {
     "data": {
      "text/plain": [
       "True"
      ]
     },
     "execution_count": 61,
     "metadata": {},
     "output_type": "execute_result"
    }
   ],
   "source": [
    "{'a', 'e'}.issubset({'e', 'a'})"
   ]
  }
 ],
 "metadata": {
  "kernelspec": {
   "display_name": "Python 3",
   "language": "python",
   "name": "python3"
  },
  "language_info": {
   "codemirror_mode": {
    "name": "ipython",
    "version": 3
   },
   "file_extension": ".py",
   "mimetype": "text/x-python",
   "name": "python",
   "nbconvert_exporter": "python",
   "pygments_lexer": "ipython3",
   "version": "3.11.1"
  },
  "orig_nbformat": 4,
  "vscode": {
   "interpreter": {
    "hash": "74cc819deff76c29e4928f7ff26e3eddcbba8fed33adfaaa19de16534a73accc"
   }
  }
 },
 "nbformat": 4,
 "nbformat_minor": 2
}
