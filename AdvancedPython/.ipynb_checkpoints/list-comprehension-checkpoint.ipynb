{
 "cells": [
  {
   "cell_type": "markdown",
   "id": "6528d34b-6577-4ac8-a2d3-4dcea1b299d3",
   "metadata": {},
   "source": [
    "## liste üreteç yöntemi"
   ]
  },
  {
   "cell_type": "code",
   "execution_count": 3,
   "id": "ab17f249-b9e1-422f-9844-26c95bf802a7",
   "metadata": {},
   "outputs": [
    {
     "data": {
      "text/plain": [
       "[1, 2, 3, 4, 5, 6, 7, 8, 9, 10]"
      ]
     },
     "execution_count": 3,
     "metadata": {},
     "output_type": "execute_result"
    }
   ],
   "source": [
    "ornek_liste =[1,2,3,4,5,6,7,8,9,10]\n",
    "ornek_liste"
   ]
  },
  {
   "cell_type": "code",
   "execution_count": 7,
   "id": "a0ef0395-998c-41c7-ae6e-e84433bfddb2",
   "metadata": {},
   "outputs": [
    {
     "data": {
      "text/plain": [
       "[1, 4, 9, 16, 25, 36, 49, 64, 81, 100]"
      ]
     },
     "execution_count": 7,
     "metadata": {},
     "output_type": "execute_result"
    }
   ],
   "source": [
    "kareleri_listesi = []\n",
    "for i in ornek_liste :\n",
    "    kareleri_listesi.append(i**2)\n",
    "kareleri_listesi    "
   ]
  },
  {
   "cell_type": "code",
   "execution_count": 12,
   "id": "a440c9d3-588d-44c6-a9d9-6ce474cdf4e1",
   "metadata": {},
   "outputs": [
    {
     "name": "stdout",
     "output_type": "stream",
     "text": [
      "[0, 1, 4, 9, 16, 25, 36, 49, 64, 81, 100]\n"
     ]
    }
   ],
   "source": [
    "kareleri_listesi = [i**2 for i in ornek_liste]\n",
    "print(kareleri_listesi)"
   ]
  },
  {
   "cell_type": "markdown",
   "id": "d050b804-17ac-429d-8ad2-84f0607ca255",
   "metadata": {},
   "source": [
    "## farkli liste üreteç yöntemi"
   ]
  },
  {
   "cell_type": "code",
   "execution_count": null,
   "id": "74739780-333e-44ac-9dc5-14633c611fd4",
   "metadata": {},
   "outputs": [],
   "source": []
  },
  {
   "cell_type": "code",
   "execution_count": 11,
   "id": "f4a1e552-3eff-45d6-9fe6-9360418fefed",
   "metadata": {},
   "outputs": [
    {
     "data": {
      "text/plain": [
       "[0, 1, 2, 3, 4, 5, 6, 7, 8, 9, 10]"
      ]
     },
     "execution_count": 11,
     "metadata": {},
     "output_type": "execute_result"
    }
   ],
   "source": [
    "ornek_liste =list(range(0,11))\n",
    "ornek_liste"
   ]
  },
  {
   "cell_type": "code",
   "execution_count": 14,
   "id": "0ec55725-db3b-4856-948b-97ef948a5e39",
   "metadata": {},
   "outputs": [
    {
     "name": "stdout",
     "output_type": "stream",
     "text": [
      "[0, 2, 4, 6, 8, 10]\n"
     ]
    }
   ],
   "source": [
    "cift_sayilar = []\n",
    "for i in ornek_liste :\n",
    "    if i % 2 == 0 :\n",
    "        cift_sayilar.append(i)\n",
    "print(cift_sayilar)"
   ]
  },
  {
   "cell_type": "code",
   "execution_count": 17,
   "id": "a545b1f7-f3fc-4cfe-9d24-b513029dd153",
   "metadata": {},
   "outputs": [
    {
     "data": {
      "text/plain": [
       "[0, 2, 4, 6, 8, 10]"
      ]
     },
     "execution_count": 17,
     "metadata": {},
     "output_type": "execute_result"
    }
   ],
   "source": [
    "cift_sayilar = [i for i in ornek_liste if i%2==0] \n",
    "cift_sayilar"
   ]
  },
  {
   "cell_type": "code",
   "execution_count": null,
   "id": "13048c2e-eefb-4621-a21c-4ecbe860f439",
   "metadata": {},
   "outputs": [],
   "source": [
    "[i**2 for i in ornek_liste if i%2==0]  #karelerini aldık."
   ]
  },
  {
   "cell_type": "markdown",
   "id": "2222991f-b917-4e3a-a89b-2557a1096669",
   "metadata": {},
   "source": [
    "## list comprehensionda 2 koşul"
   ]
  },
  {
   "cell_type": "code",
   "execution_count": 19,
   "id": "591375f6-fdd1-46de-8c99-1c6b43289a7c",
   "metadata": {},
   "outputs": [
    {
     "data": {
      "text/plain": [
       "[49, 81]"
      ]
     },
     "execution_count": 19,
     "metadata": {},
     "output_type": "execute_result"
    }
   ],
   "source": [
    "[i**2 for i in ornek_liste if i>5 and i%2 != 0] "
   ]
  },
  {
   "cell_type": "markdown",
   "id": "a9c507e2-a8e9-49c3-bb75-25a0dc51abd8",
   "metadata": {},
   "source": [
    "## list comprehensionda if else kullanımı"
   ]
  },
  {
   "cell_type": "code",
   "execution_count": 25,
   "id": "64fa5986-cad2-47ec-8f4a-928fcd9e44f3",
   "metadata": {},
   "outputs": [
    {
     "name": "stdout",
     "output_type": "stream",
     "text": [
      "['cift', 'tek', 'cift', 'tek', 'cift', 'tek', 'cift', 'tek', 'cift', 'tek', 'cift']\n"
     ]
    }
   ],
   "source": [
    "tek_cift = [ \"cift\" if i%2 ==0 else \"tek\" for i in ornek_liste ] \n",
    "print(tek_cift)"
   ]
  },
  {
   "cell_type": "markdown",
   "id": "5894aea2-b372-4913-8066-c9977172a2f5",
   "metadata": {},
   "source": [
    "## nested list"
   ]
  },
  {
   "cell_type": "code",
   "execution_count": 26,
   "id": "ebf51369-502a-4a8e-b735-ca2d30cf7c24",
   "metadata": {},
   "outputs": [
    {
     "name": "stdout",
     "output_type": "stream",
     "text": [
      "[[1, 2, 3], [4, 5, 6], [7, 8, 9]]\n"
     ]
    }
   ],
   "source": [
    "nested_list = [[1,2,3],[4,5,6],[7,8,9]]\n",
    "print(nested_list)"
   ]
  },
  {
   "cell_type": "code",
   "execution_count": 27,
   "id": "5033fcb3-20d3-40b5-8788-438d34ff4f9c",
   "metadata": {},
   "outputs": [
    {
     "name": "stdout",
     "output_type": "stream",
     "text": [
      "[1, 2, 3, 4, 5, 6, 7, 8, 9]\n"
     ]
    }
   ],
   "source": [
    "flatten_list =[]\n",
    "for liste in nested_list :\n",
    "    for i in liste :\n",
    "        flatten_list.append(i)\n",
    "print(flatten_list)        "
   ]
  },
  {
   "cell_type": "code",
   "execution_count": 28,
   "id": "9cf38e5b-9bc4-4275-bdff-5e9bd627743d",
   "metadata": {},
   "outputs": [
    {
     "name": "stdout",
     "output_type": "stream",
     "text": [
      "1 2 3 4 5 6 7 8 9\n"
     ]
    }
   ],
   "source": [
    "flatten_list = [i for liste in nested_list for i in liste]\n",
    "print(*flatten_list)"
   ]
  },
  {
   "cell_type": "markdown",
   "id": "17f2cb29-1c47-43e5-9240-7c9369062e74",
   "metadata": {},
   "source": [
    "## nested for i koşul ile"
   ]
  },
  {
   "cell_type": "code",
   "execution_count": 29,
   "id": "ef138b20-f6a5-4784-bd0b-c6bb5daec952",
   "metadata": {},
   "outputs": [
    {
     "name": "stdout",
     "output_type": "stream",
     "text": [
      "[2, 4, 6, 8]\n"
     ]
    }
   ],
   "source": [
    "flatten_list =[]\n",
    "for liste in nested_list :\n",
    "    for i in liste :\n",
    "        if i % 2 ==0 :\n",
    "            flatten_list.append(i)\n",
    "print(flatten_list)\n"
   ]
  },
  {
   "cell_type": "code",
   "execution_count": 37,
   "id": "2694b45c-b90c-4f5b-b620-061aad35b782",
   "metadata": {},
   "outputs": [
    {
     "name": "stdout",
     "output_type": "stream",
     "text": [
      "2 4 6 8\n"
     ]
    }
   ],
   "source": [
    "\n",
    "flatten_list = [i for liste in nested_list for i in liste if not i%2]\n",
    "print(*flatten_list)"
   ]
  },
  {
   "cell_type": "code",
   "execution_count": null,
   "id": "5bc99f52-2c0d-4c05-b8be-bd6654572f3a",
   "metadata": {},
   "outputs": [],
   "source": []
  },
  {
   "cell_type": "markdown",
   "id": "8dca949e-3a92-4236-9115-16e390ce186c",
   "metadata": {},
   "source": [
    "## nested for loop if else"
   ]
  },
  {
   "cell_type": "code",
   "execution_count": 46,
   "id": "d106eda3-a514-4feb-9c5f-a7bb1bf38c1c",
   "metadata": {},
   "outputs": [
    {
     "data": {
      "text/plain": [
       "[[1, 2, 3], [4, 5, 6], [7, 8, 9]]"
      ]
     },
     "execution_count": 46,
     "metadata": {},
     "output_type": "execute_result"
    }
   ],
   "source": [
    "#aynı formatta bir yapı ile tek cift olarak yazdıralim\n",
    "nested_list"
   ]
  },
  {
   "cell_type": "code",
   "execution_count": 50,
   "id": "7edf2a97-a5bf-4cc6-8255-27efbc0f0282",
   "metadata": {},
   "outputs": [
    {
     "name": "stdout",
     "output_type": "stream",
     "text": [
      "[['tek', 'cift', 'tek'], ['tek', 'cift', 'tek'], ['tek', 'cift', 'tek']]\n"
     ]
    }
   ],
   "source": [
    "tek_cift =[]\n",
    "for i in liste :\n",
    "    temp = []\n",
    "    for j in liste :\n",
    "        if j%2==0 :\n",
    "            temp.append(\"cift\")\n",
    "        else :\n",
    "            temp.append(\"tek\")          \n",
    "    tek_cift.append(temp)           \n",
    "\n",
    "print(tek_cift)\n",
    "                "
   ]
  },
  {
   "cell_type": "code",
   "execution_count": 51,
   "id": "089943b2-c7fe-4786-8479-db868545ef54",
   "metadata": {},
   "outputs": [
    {
     "name": "stdout",
     "output_type": "stream",
     "text": [
      "[['tek', 'cift', 'tek'], ['cift', 'tek', 'cift'], ['tek', 'cift', 'tek']]\n"
     ]
    }
   ],
   "source": [
    "flatten_list = [[\"cift\" if j%2==0 else \"tek\" for j in i ] for i in nested_list  ]\n",
    "print(flatten_list)"
   ]
  },
  {
   "cell_type": "code",
   "execution_count": 58,
   "id": "9593b64a-c000-4193-bed4-128e2f3815d3",
   "metadata": {},
   "outputs": [],
   "source": [
    "## list comp dictionary use"
   ]
  },
  {
   "cell_type": "code",
   "execution_count": 59,
   "id": "1d673f63-c0ff-46c1-ae09-40accc1cbfa8",
   "metadata": {},
   "outputs": [
    {
     "data": {
      "text/plain": [
       "[0, 1, 2, 3, 4, 5, 6, 7, 8, 9, 10]"
      ]
     },
     "execution_count": 59,
     "metadata": {},
     "output_type": "execute_result"
    }
   ],
   "source": [
    "ornek_liste"
   ]
  },
  {
   "cell_type": "code",
   "execution_count": 57,
   "id": "59bcea2b-41de-4a63-9838-aacea287c51a",
   "metadata": {},
   "outputs": [
    {
     "name": "stdout",
     "output_type": "stream",
     "text": [
      "{0: 'cift', 1: 'tek', 2: 'cift', 3: 'tek', 4: 'cift', 5: 'tek', 6: 'cift', 7: 'tek', 8: 'cift', 9: 'tek', 10: 'cift'}\n"
     ]
    }
   ],
   "source": [
    "tek_cift = {}\n",
    "for i in ornek_liste :\n",
    "    if i%2==0 :\n",
    "        tek_cift[i] = \"cift\"\n",
    "    else :\n",
    "        tek_cift[i] = \"tek\"\n",
    "print(tek_cift)        "
   ]
  },
  {
   "cell_type": "code",
   "execution_count": 65,
   "id": "35929b38-f0ba-4efa-91bc-a0eac2af49db",
   "metadata": {},
   "outputs": [
    {
     "name": "stdout",
     "output_type": "stream",
     "text": [
      "{0: 'cift', 1: 'tek', 2: 'cift', 3: 'tek', 4: 'cift', 5: 'tek', 6: 'cift', 7: 'tek', 8: 'cift', 9: 'tek', 10: 'cift'}\n"
     ]
    }
   ],
   "source": [
    "tek_cift = {i:\"cift\" if i%2 ==0 else \"tek\" for i in ornek_liste} ### anlamadim\n",
    "print(tek_cift)"
   ]
  },
  {
   "cell_type": "code",
   "execution_count": null,
   "id": "c2063bff-e735-4105-953a-eda1c2f9c18c",
   "metadata": {},
   "outputs": [],
   "source": []
  }
 ],
 "metadata": {
  "kernelspec": {
   "display_name": "Python 3 (ipykernel)",
   "language": "python",
   "name": "python3"
  },
  "language_info": {
   "codemirror_mode": {
    "name": "ipython",
    "version": 3
   },
   "file_extension": ".py",
   "mimetype": "text/x-python",
   "name": "python",
   "nbconvert_exporter": "python",
   "pygments_lexer": "ipython3",
   "version": "3.10.9"
  }
 },
 "nbformat": 4,
 "nbformat_minor": 5
}
