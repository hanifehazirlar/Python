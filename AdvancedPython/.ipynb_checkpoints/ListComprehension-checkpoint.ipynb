{
 "cells": [
  {
   "cell_type": "markdown",
   "id": "51907bc3-a0ef-42e2-b5b9-5b765b59b143",
   "metadata": {},
   "source": [
    "## List Comprehension"
   ]
  },
  {
   "cell_type": "code",
   "execution_count": 1,
   "id": "acd0df5f-0565-42ca-95b0-bbf2c3565cd8",
   "metadata": {},
   "outputs": [
    {
     "data": {
      "text/plain": [
       "[1, 2, 3, 4, 5, 6, 7, 8, 9, 10]"
      ]
     },
     "execution_count": 1,
     "metadata": {},
     "output_type": "execute_result"
    }
   ],
   "source": [
    "ex_list=[1,2,3,4,5,6,7,8,9,10]\n",
    "ex_list"
   ]
  },
  {
   "cell_type": "code",
   "execution_count": 2,
   "id": "3d3d12d6-8385-4d6d-8947-5669e0cbd399",
   "metadata": {},
   "outputs": [
    {
     "name": "stdout",
     "output_type": "stream",
     "text": [
      "[1, 4, 9, 16, 25, 36, 49, 64, 81, 100]\n"
     ]
    }
   ],
   "source": [
    "square_list=[]\n",
    "for i in ex_list:\n",
    "    square_list.append(i**2)\n",
    "print(square_list)    \n",
    "    "
   ]
  },
  {
   "cell_type": "code",
   "execution_count": 4,
   "id": "af363423-8841-43e4-b8b7-38ab1694074a",
   "metadata": {},
   "outputs": [
    {
     "name": "stdout",
     "output_type": "stream",
     "text": [
      "[1, 4, 9, 16, 25, 36, 49, 64, 81, 100]\n"
     ]
    }
   ],
   "source": [
    "square_list=[i**2 for i in ex_list]\n",
    "print(square_list)"
   ]
  },
  {
   "cell_type": "code",
   "execution_count": 5,
   "id": "abe9e5c1-c3ac-4001-a4e0-f1001e63b339",
   "metadata": {},
   "outputs": [
    {
     "data": {
      "text/plain": [
       "[0, 1, 2, 3, 4, 5, 6, 7, 8, 9, 10]"
      ]
     },
     "execution_count": 5,
     "metadata": {},
     "output_type": "execute_result"
    }
   ],
   "source": [
    "ex_list=list(range(0,11))\n",
    "ex_list"
   ]
  },
  {
   "cell_type": "code",
   "execution_count": 6,
   "id": "3f6922a4-7a96-41ae-a7e7-8e836cf60012",
   "metadata": {},
   "outputs": [
    {
     "name": "stdout",
     "output_type": "stream",
     "text": [
      "[0, 2, 4, 6, 8, 10]\n"
     ]
    }
   ],
   "source": [
    "even_numbers=[]\n",
    "for i in ex_list:\n",
    "    if i%2==0:\n",
    "        even_numbers.append(i)\n",
    "print(even_numbers)        "
   ]
  },
  {
   "cell_type": "code",
   "execution_count": 7,
   "id": "756d3aa0-a0a7-42e8-ae2e-82ec7b40acd5",
   "metadata": {},
   "outputs": [
    {
     "data": {
      "text/plain": [
       "[0, 2, 4, 6, 8, 10]"
      ]
     },
     "execution_count": 7,
     "metadata": {},
     "output_type": "execute_result"
    }
   ],
   "source": [
    "even_numbers=[i for i in ex_list if i%2==0]\n",
    "even_numbers\n",
    "\n",
    "#for kismini aynen icine yaziyoruz. \n",
    "#dondurdugu degeri basina yani for dongusunun soluna yaziyoruz\n",
    "#if kismini da for dongusunun sagina yaziyoruz"
   ]
  },
  {
   "cell_type": "code",
   "execution_count": 8,
   "id": "b699a406-6be4-4cc2-b615-18da006e51bc",
   "metadata": {},
   "outputs": [
    {
     "data": {
      "text/plain": [
       "[0, 4, 16, 36, 64, 100]"
      ]
     },
     "execution_count": 8,
     "metadata": {},
     "output_type": "execute_result"
    }
   ],
   "source": [
    "[i**2 for i in ex_list if i%2==0]\n",
    "#if filtresinden gecirip, nasil dondurmek istiyorsak om\n",
    "#onu dogrudan burada isteyebiliriz.\n",
    "#cift sayinin karelerini al gibi"
   ]
  },
  {
   "cell_type": "code",
   "execution_count": 10,
   "id": "3d4779da-8585-4b6d-b744-25df3a2118d9",
   "metadata": {},
   "outputs": [
    {
     "data": {
      "text/plain": [
       "[49, 81]"
      ]
     },
     "execution_count": 10,
     "metadata": {},
     "output_type": "execute_result"
    }
   ],
   "source": [
    "[i**2 for i in ex_list if i%2!=0 and i>5]\n",
    "#i 5'ten buyuk ise, "
   ]
  },
  {
   "cell_type": "code",
   "execution_count": 11,
   "id": "14cf65f5-f386-466f-b52f-c3534f7dd4d7",
   "metadata": {},
   "outputs": [
    {
     "name": "stdout",
     "output_type": "stream",
     "text": [
      "['even', 'odd', 'even', 'odd', 'even', 'odd', 'even', 'odd', 'even', 'odd', 'even']\n"
     ]
    }
   ],
   "source": [
    "even_odd=[\"even\" if i%2==0 else \"odd\" for i in ex_list ]\n",
    "print(even_odd)"
   ]
  },
  {
   "cell_type": "code",
   "execution_count": 14,
   "id": "dad4b87e-674a-4d2f-adfd-a02f7b79ff48",
   "metadata": {},
   "outputs": [
    {
     "name": "stdout",
     "output_type": "stream",
     "text": [
      "[[1, 2, 3], [4, 5, 6], [7, 8, 9]]\n"
     ]
    }
   ],
   "source": [
    "nested_list=[[1,2,3],[4,5,6],[7,8,9]]\n",
    "print(nested_list)"
   ]
  },
  {
   "cell_type": "code",
   "execution_count": 16,
   "id": "c54c6783-deca-4579-b241-cd9dc3886e78",
   "metadata": {},
   "outputs": [
    {
     "name": "stdout",
     "output_type": "stream",
     "text": [
      "[1, 2, 3, 4, 5, 6, 7, 8, 9]\n"
     ]
    }
   ],
   "source": [
    "flatten_list=[]\n",
    "\n",
    "for list in nested_list:\n",
    "    for i in list:\n",
    "        flatten_list.append(i)\n",
    "print(flatten_list) \n",
    "\n",
    "#elimizde icice listelerden olusan bir liste olsun diyelim\n",
    "#nested_list[0] dedigimde ilk listeyi verir.\n",
    "#nested_list[1] dedigimde 1.indeks olarak 2. listeyi verir\n",
    "#boyle ilk listeye ulasinca, 2. for ile bunun icinde dolasiyorum\n"
   ]
  },
  {
   "cell_type": "code",
   "execution_count": 20,
   "id": "4cfd9eb4-0f61-4a8c-ac3a-c699b6ccdc29",
   "metadata": {},
   "outputs": [
    {
     "name": "stdout",
     "output_type": "stream",
     "text": [
      "[1, 2, 3]\n",
      "[4, 5, 6]\n",
      "[7, 8, 9]\n"
     ]
    }
   ],
   "source": [
    "for list in nested_list:\n",
    "    print(list)\n",
    "#boyle dersem elemanlarini verir ayri ayri        "
   ]
  },
  {
   "cell_type": "code",
   "execution_count": 18,
   "id": "2c70951b-d650-49a0-9050-9c9e2c8bb1e1",
   "metadata": {},
   "outputs": [
    {
     "data": {
      "text/plain": [
       "[1, 2, 3, 4, 5, 6, 7, 8, 9]"
      ]
     },
     "execution_count": 18,
     "metadata": {},
     "output_type": "execute_result"
    }
   ],
   "source": [
    "[i for list in nested_list for i in list]\n",
    "#nested list'lerde de for dongusunu sirayla yazip\n",
    "#dondurmesini istedigini de en sola yaziyor"
   ]
  },
  {
   "cell_type": "code",
   "execution_count": 21,
   "id": "8e8c2677-0cc4-4f57-82c0-9254218cf98f",
   "metadata": {},
   "outputs": [
    {
     "name": "stdout",
     "output_type": "stream",
     "text": [
      "1 2 3 4 5 6 7 8 9\n"
     ]
    }
   ],
   "source": [
    "flatten_list=[i for list in nested_list for i in list]\n",
    "print(*flatten_list)\n",
    "#bu sekilde * koydugumda aralarini acarak okunakli bir sekilde gosteriyor\n"
   ]
  },
  {
   "cell_type": "code",
   "execution_count": 22,
   "id": "515b1a41-35ba-4b31-8be2-d0924e5a15d7",
   "metadata": {},
   "outputs": [
    {
     "name": "stdout",
     "output_type": "stream",
     "text": [
      "[2, 4, 6, 8]\n"
     ]
    }
   ],
   "source": [
    "flatten_list=[]\n",
    "\n",
    "for list in nested_list:\n",
    "    for i in list:\n",
    "        if i%2==0:\n",
    "            flatten_list.append(i)\n",
    "print(flatten_list)   \n",
    "#listelerin icine girerek cift sayilari yazdirdik\n"
   ]
  },
  {
   "cell_type": "code",
   "execution_count": 23,
   "id": "30091a44-8a91-4365-8d90-ab6e5ac65e44",
   "metadata": {},
   "outputs": [
    {
     "name": "stdout",
     "output_type": "stream",
     "text": [
      "2 4 6 8\n"
     ]
    }
   ],
   "source": [
    "flatten_list=[i for list in nested_list for i in list if i%2==0]\n",
    "print(*flatten_list)"
   ]
  },
  {
   "cell_type": "code",
   "execution_count": 24,
   "id": "e62c848c-54dc-421c-ba65-73b5137cfa8d",
   "metadata": {},
   "outputs": [
    {
     "name": "stdout",
     "output_type": "stream",
     "text": [
      "2 4 6 8\n"
     ]
    }
   ],
   "source": [
    "flatten_list=[i for list in nested_list for i in list if not i%2]\n",
    "print(*flatten_list)\n",
    "#if not diyerek de if i%2==0 "
   ]
  },
  {
   "cell_type": "code",
   "execution_count": 26,
   "id": "f3de3295-f2ea-45f5-9e9b-7a0954a507b4",
   "metadata": {},
   "outputs": [
    {
     "name": "stdout",
     "output_type": "stream",
     "text": [
      "odd even odd even odd even odd even odd\n"
     ]
    }
   ],
   "source": [
    "flatten_list=[\"even\" if i%2==0 else \"odd\" for list in nested_list for i in list ]\n",
    "print(*flatten_list)"
   ]
  },
  {
   "cell_type": "code",
   "execution_count": 30,
   "id": "e6c5b9d8-b66d-490d-9e85-25a98941fe6d",
   "metadata": {},
   "outputs": [
    {
     "data": {
      "text/plain": [
       "[[1, 2, 3], [4, 5, 6], [7, 8, 9]]"
      ]
     },
     "execution_count": 30,
     "metadata": {},
     "output_type": "execute_result"
    }
   ],
   "source": [
    "nested_list"
   ]
  },
  {
   "cell_type": "code",
   "execution_count": 39,
   "id": "04b27693-4d7b-4f45-aec0-e42b0e501fc7",
   "metadata": {},
   "outputs": [],
   "source": [
    "odd_even=[]\n",
    "for i in nested_list:\n",
    "    temp=[]\n",
    "    for j in list:\n",
    "        if j%2==0:\n",
    "            temp.append(\"even\")\n",
    "        else:\n",
    "            temp.append(\"odd\")\n",
    "    odd_even.append(temp)        "
   ]
  },
  {
   "cell_type": "code",
   "execution_count": 40,
   "id": "11de9916-17be-4b8c-ac8c-37227e75b40b",
   "metadata": {},
   "outputs": [
    {
     "name": "stdout",
     "output_type": "stream",
     "text": [
      "[['odd', 'even', 'odd'], ['odd', 'even', 'odd'], ['odd', 'even', 'odd']]\n"
     ]
    }
   ],
   "source": [
    "print(odd_even)"
   ]
  },
  {
   "cell_type": "code",
   "execution_count": 42,
   "id": "8854a762-e2a7-47fd-ba19-4f92c31906fe",
   "metadata": {},
   "outputs": [
    {
     "name": "stdout",
     "output_type": "stream",
     "text": [
      "[['odd', 'even', 'odd'], ['even', 'odd', 'even'], ['odd', 'even', 'odd']]\n"
     ]
    }
   ],
   "source": [
    "odd_even=[[\"even\" if j%2==0 else \"odd\" for j in i] for i in nested_list]\n",
    "print(odd_even)"
   ]
  },
  {
   "cell_type": "code",
   "execution_count": 43,
   "id": "10e40e38-32d4-4ee2-84cf-c3adafe5222e",
   "metadata": {},
   "outputs": [
    {
     "data": {
      "text/plain": [
       "[0, 1, 2, 3, 4, 5, 6, 7, 8, 9, 10]"
      ]
     },
     "execution_count": 43,
     "metadata": {},
     "output_type": "execute_result"
    }
   ],
   "source": [
    "ex_list"
   ]
  },
  {
   "cell_type": "code",
   "execution_count": null,
   "id": "d66d29b4-6328-4071-a07b-8ea58e16364b",
   "metadata": {},
   "outputs": [],
   "source": [
    "{1:\"odd\", 2:\"even\"}"
   ]
  },
  {
   "cell_type": "code",
   "execution_count": 45,
   "id": "68ccbad9-dcae-42d6-b42f-48b30d531581",
   "metadata": {},
   "outputs": [
    {
     "name": "stdout",
     "output_type": "stream",
     "text": [
      "{0: 'even', 1: 'odd', 2: 'even', 3: 'odd', 4: 'even', 5: 'odd', 6: 'even', 7: 'odd', 8: 'even', 9: 'odd', 10: 'even'}\n"
     ]
    }
   ],
   "source": [
    "odd_even={}\n",
    "for i in ex_list:\n",
    "    if i%2==0:\n",
    "        odd_even[i]=\"even\"\n",
    "    else:\n",
    "        odd_even[i]=\"odd\"\n",
    "print(odd_even)        "
   ]
  },
  {
   "cell_type": "code",
   "execution_count": 48,
   "id": "0e82f2a7-65fb-496a-b8a2-ff2a07947bdd",
   "metadata": {},
   "outputs": [
    {
     "name": "stdout",
     "output_type": "stream",
     "text": [
      "{0: 'even', 1: 'odd', 2: 'even', 3: 'odd', 4: 'even', 5: 'odd', 6: 'even', 7: 'odd', 8: 'even', 9: 'odd', 10: 'even'}\n"
     ]
    }
   ],
   "source": [
    "odd_even={i:\"even\" if i%2==0 else \"odd\" for i in ex_list}\n",
    "print(odd_even)"
   ]
  },
  {
   "cell_type": "markdown",
   "id": "628bbdb1-6b0f-4372-8081-559ee874e108",
   "metadata": {},
   "source": []
  }
 ],
 "metadata": {
  "kernelspec": {
   "display_name": "Python 3 (ipykernel)",
   "language": "python",
   "name": "python3"
  },
  "language_info": {
   "codemirror_mode": {
    "name": "ipython",
    "version": 3
   },
   "file_extension": ".py",
   "mimetype": "text/x-python",
   "name": "python",
   "nbconvert_exporter": "python",
   "pygments_lexer": "ipython3",
   "version": "3.9.13"
  }
 },
 "nbformat": 4,
 "nbformat_minor": 5
}
