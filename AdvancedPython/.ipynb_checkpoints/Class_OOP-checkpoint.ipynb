{
 "cells": [
  {
   "cell_type": "markdown",
   "id": "7818443a-9459-4ec1-b1bf-ae62ac1869af",
   "metadata": {},
   "source": [
    "### class variable - instance variable"
   ]
  },
  {
   "cell_type": "code",
   "execution_count": 2,
   "id": "cf5b3ae7-0f05-4ce5-a307-1ca17136630c",
   "metadata": {},
   "outputs": [
    {
     "name": "stdout",
     "output_type": "stream",
     "text": [
      "mert\n",
      "28\n"
     ]
    },
    {
     "ename": "AttributeError",
     "evalue": "type object 'kisi' has no attribute 'isim'",
     "output_type": "error",
     "traceback": [
      "\u001b[1;31m---------------------------------------------------------------------------\u001b[0m",
      "\u001b[1;31mAttributeError\u001b[0m                            Traceback (most recent call last)",
      "\u001b[1;32m~\\AppData\\Local\\Temp\\ipykernel_7020\\4045930911.py\u001b[0m in \u001b[0;36m<module>\u001b[1;34m\u001b[0m\n\u001b[0;32m      8\u001b[0m \u001b[0mprint\u001b[0m\u001b[1;33m(\u001b[0m\u001b[0mkisi1\u001b[0m\u001b[1;33m.\u001b[0m\u001b[0misim\u001b[0m\u001b[1;33m)\u001b[0m\u001b[1;33m\u001b[0m\u001b[1;33m\u001b[0m\u001b[0m\n\u001b[0;32m      9\u001b[0m \u001b[0mprint\u001b[0m\u001b[1;33m(\u001b[0m\u001b[0mkisi1\u001b[0m\u001b[1;33m.\u001b[0m\u001b[0myas\u001b[0m\u001b[1;33m)\u001b[0m\u001b[1;33m\u001b[0m\u001b[1;33m\u001b[0m\u001b[0m\n\u001b[1;32m---> 10\u001b[1;33m \u001b[0mprint\u001b[0m\u001b[1;33m(\u001b[0m\u001b[0mkisi\u001b[0m\u001b[1;33m.\u001b[0m\u001b[0misim\u001b[0m\u001b[1;33m)\u001b[0m\u001b[1;33m\u001b[0m\u001b[1;33m\u001b[0m\u001b[0m\n\u001b[0m",
      "\u001b[1;31mAttributeError\u001b[0m: type object 'kisi' has no attribute 'isim'"
     ]
    }
   ],
   "source": [
    "class kisi:\n",
    "    def __init__(self,isim,yas):\n",
    "        self.isim = isim          # \" self.ad = isim \" şeklinde yazssaydık aşağıda \"kisi1.ad\" diye çağırmamız gerekirdi\n",
    "        self.yas = yas\n",
    "        \n",
    "kisi1 = kisi(\"mert\",28)\n",
    "\n",
    "print(kisi1.isim)\n",
    "print(kisi1.yas)\n",
    "print(kisi.isim)      # hata verir çünkü isim class variable değil instance variable yani nesnelere ait değişkenler"
   ]
  },
  {
   "cell_type": "code",
   "execution_count": 6,
   "id": "293cf25a-4b78-49ee-b86c-a37d3eb1ad65",
   "metadata": {},
   "outputs": [
    {
     "name": "stdout",
     "output_type": "stream",
     "text": [
      "mert\n",
      "28\n",
      "1.1\n",
      "1.1\n"
     ]
    }
   ],
   "source": [
    "class kisi:\n",
    "    \n",
    "    zam_orani = 1.1                # class variable\n",
    "    \n",
    "    def __init__(self,isim,yas):\n",
    "        self.isim = isim           # instance variable\n",
    "        self.yas = yas\n",
    "        \n",
    "kisi1 = kisi(\"mert\",28)\n",
    "\n",
    "print(kisi1.isim)\n",
    "print(kisi1.yas)\n",
    "print(kisi.zam_orani)     \n",
    "print(kisi1.zam_orani)      # class variable'a nesne üzerinden de erişebilirim ama class'tan nesneye erişememiştim (yukarıdaki örnek)"
   ]
  },
  {
   "cell_type": "code",
   "execution_count": 8,
   "id": "4627d171-25fb-4693-add9-1bf86a44d44a",
   "metadata": {},
   "outputs": [
    {
     "name": "stdout",
     "output_type": "stream",
     "text": [
      "1.1\n",
      "1.2\n",
      "1.1\n"
     ]
    }
   ],
   "source": [
    "class kisi:\n",
    "    \n",
    "    zam_orani = 1.1                # class variable\n",
    "    \n",
    "    def __init__(self,isim,yas):\n",
    "        self.isim = isim           # instance variable\n",
    "        self.yas = yas\n",
    "        \n",
    "kisi1 = kisi(\"mert\",28)\n",
    "kisi2 = kisi(\"kenan\",30)\n",
    "\n",
    "print(kisi.zam_orani)   \n",
    "kisi1.zam_orani = 1.2        # kisi1 üzerinden zam oranını değiştirdiğimde sadece o nesneyi etkiler, kisi2 zam oranı yine class \n",
    "print(kisi1.zam_orani)       # zam oranın da kalır ama class üzerinden (kisi.zam_orani = 1.2) şeklinde değiştirseydim tüm nesneler etkilenir\n",
    "print(kisi2.zam_orani)"
   ]
  },
  {
   "cell_type": "code",
   "execution_count": 9,
   "id": "a5a42402-5531-4634-a0f5-0490817dd1a6",
   "metadata": {},
   "outputs": [
    {
     "name": "stdout",
     "output_type": "stream",
     "text": [
      "0\n",
      "2\n"
     ]
    }
   ],
   "source": [
    "class kisi:\n",
    "    \n",
    "    kisi_sayisi = 0               \n",
    "    zam_orani = 1.1               \n",
    "    \n",
    "    def __init__(self,isim,yas):\n",
    "        self.isim = isim           \n",
    "        self.yas = yas\n",
    "        kisi.kisi_sayisi += 1       # her init çalıştığında yani nesne üretildiğinde 1 artıcak\n",
    "\n",
    "print(kisi.kisi_sayisi)\n",
    "kisi1 = kisi(\"mert\",28)\n",
    "kisi2 = kisi(\"kenan\",30)\n",
    "print(kisi.kisi_sayisi)         "
   ]
  },
  {
   "cell_type": "markdown",
   "id": "093195dc-e98d-44b7-be99-75ed039db648",
   "metadata": {},
   "source": [
    "### instance method"
   ]
  },
  {
   "cell_type": "code",
   "execution_count": null,
   "id": "c234f08b-7062-4ca1-85a5-788f00198e45",
   "metadata": {},
   "outputs": [],
   "source": [
    "# instance method oluşturulmuş nesnelerle ile ilgili çalışma yapar, parametre olarak \"self\"ile başlar"
   ]
  },
  {
   "cell_type": "code",
   "execution_count": 10,
   "id": "079c334e-e00c-45a1-9825-c8cefebf42ed",
   "metadata": {},
   "outputs": [
    {
     "name": "stdout",
     "output_type": "stream",
     "text": [
      "İsim = mert - Yaş = 28\n"
     ]
    }
   ],
   "source": [
    "class kisi:\n",
    "    \n",
    "    kisi_sayisi = 0               \n",
    "    zam_orani = 1.1               \n",
    "    \n",
    "    def __init__(self,isim,yas):\n",
    "        self.isim = isim           \n",
    "        self.yas = yas\n",
    "        kisi.kisi_sayisi += 1       \n",
    "         \n",
    "    def bilgilerini_soyle(self):                          # instance method - nesne oluşturmadan bu methodu kullanamayız \n",
    "        return f\"İsim = {self.isim} - Yaş = {self.yas}\"\n",
    "\n",
    "\n",
    "kisi1 = kisi(\"mert\",28)\n",
    "kisi2 = kisi(\"kenan\",30)\n",
    "print(kisi1.bilgilerini_soyle())"
   ]
  },
  {
   "cell_type": "markdown",
   "id": "2221577b-8a05-4b2b-bec7-662adc539cda",
   "metadata": {},
   "source": [
    "###  class method"
   ]
  },
  {
   "cell_type": "code",
   "execution_count": null,
   "id": "063ae357-25ee-42b3-b502-82ab9a972cde",
   "metadata": {},
   "outputs": [],
   "source": [
    "# nesneye bağlı olmayan method'tur, parametre olarak otomatik sınıfın kendisiyle başlar \"cls\""
   ]
  },
  {
   "cell_type": "code",
   "execution_count": 12,
   "id": "fd5e27de-d076-4bfd-aa64-123c17229a41",
   "metadata": {},
   "outputs": [
    {
     "name": "stdout",
     "output_type": "stream",
     "text": [
      "0\n",
      "2\n"
     ]
    }
   ],
   "source": [
    "class kisi:\n",
    "    \n",
    "    kisi_sayisi = 0               \n",
    "    zam_orani = 1.1               \n",
    "    \n",
    "    def __init__(self,isim,yas):\n",
    "        self.isim = isim           \n",
    "        self.yas = yas\n",
    "        kisi.kisi_sayisi += 1       \n",
    "         \n",
    "    def bilgilerini_soyle(self):                          # instance method - nesne oluşturmadan bu methodu kullanamayız \n",
    "        return f\"İsim = {self.isim} - Yaş = {self.yas}\"\n",
    "    \n",
    "    @classmethod                                          # class method - nesneden bağımsız \n",
    "    def kisi_sayisini_soyle(cls):            # Dikkat self yerine cls yazdık, cls direk class kisi'ye bağlar\n",
    "        return cls.kisi_sayisi\n",
    "\n",
    "print(kisi.kisi_sayisini_soyle())        # nesne oluşturmadan da methodu çalıştırabiliriz\n",
    "kisi1 = kisi(\"mert\",28)\n",
    "kisi2 = kisi(\"kenan\",30)\n",
    "print(kisi.kisi_sayisini_soyle())          "
   ]
  },
  {
   "cell_type": "code",
   "execution_count": 13,
   "id": "ed3ccb08-885f-4a9f-ad46-8eddd1ba450a",
   "metadata": {},
   "outputs": [],
   "source": [
    "# peki nesne üretmeden bir methodu çalıştırabilmek ne işimize yaricak?\n",
    "# örneğin dışarıdan bir string formatında kişi listesi geldi bu listeyi tek tek girmektense classmethod ile istediğimiz formata \n",
    "# dönüştürüp nesne üretebiliriz"
   ]
  },
  {
   "cell_type": "code",
   "execution_count": 16,
   "id": "e5df7c65-4c0e-4431-9c23-af2e627af0b5",
   "metadata": {},
   "outputs": [
    {
     "name": "stdout",
     "output_type": "stream",
     "text": [
      "ayşe\n",
      "3\n"
     ]
    }
   ],
   "source": [
    "class kisi:\n",
    "    \n",
    "    kisi_sayisi = 0               \n",
    "    zam_orani = 1.1               \n",
    "    \n",
    "    def __init__(self,isim,yas):\n",
    "        self.isim = isim           \n",
    "        self.yas = yas\n",
    "        kisi.kisi_sayisi += 1       \n",
    "         \n",
    "    def bilgilerini_soyle(self):                         \n",
    "        return f\"İsim = {self.isim} - Yaş = {self.yas}\"\n",
    "    \n",
    "    @classmethod                                          \n",
    "    def kisi_sayisini_soyle(cls):\n",
    "        return cls.kisi_sayisi\n",
    "    \n",
    "    @classmethod\n",
    "    def string_ile_olustur(cls,str_):\n",
    "        isim,yas = str_.split(\"-\")\n",
    "        return cls(isim,yas)\n",
    "\n",
    "kisi1 = kisi(\"mert\",28)\n",
    "kisi2 = kisi(\"kenan\",30)\n",
    "kisi3 = kisi.string_ile_olustur(\"ayşe-25\")     # direk dışardan gelen formatı gönderdik ve nesne oluştu\n",
    "\n",
    "print(kisi3.isim)\n",
    "print(kisi.kisi_sayisini_soyle())"
   ]
  },
  {
   "cell_type": "code",
   "execution_count": null,
   "id": "ace94294-6eb0-405b-bc5d-b6e1a976db41",
   "metadata": {},
   "outputs": [],
   "source": [
    "# doğum yılı girilen kişinin yaşını hesaplayalım classmethod üzerinden "
   ]
  },
  {
   "cell_type": "code",
   "execution_count": 18,
   "id": "6c1b492e-cca9-4ac5-8f85-ce8677afe4e3",
   "metadata": {},
   "outputs": [
    {
     "name": "stdout",
     "output_type": "stream",
     "text": [
      "33\n",
      "4\n"
     ]
    }
   ],
   "source": [
    "from datetime import date \n",
    "\n",
    "class kisi:\n",
    "    \n",
    "    kisi_sayisi = 0               \n",
    "    zam_orani = 1.1               \n",
    "    \n",
    "    def __init__(self,isim,yas):\n",
    "        self.isim = isim           \n",
    "        self.yas = yas\n",
    "        kisi.kisi_sayisi += 1       \n",
    "         \n",
    "    def bilgilerini_soyle(self):                         \n",
    "        return f\"İsim = {self.isim} - Yaş = {self.yas}\"\n",
    "    \n",
    "    @classmethod                                          \n",
    "    def kisi_sayisini_soyle(cls):\n",
    "        return cls.kisi_sayisi\n",
    "    \n",
    "    @classmethod\n",
    "    def string_ile_olustur(cls,str_):\n",
    "        isim,yas = str_.split(\"-\")\n",
    "        return cls(isim,yas)\n",
    "    \n",
    "    @classmethod\n",
    "    def dogum_yili_ile_olustur(cls,isim,dogum_yili):\n",
    "        return cls(isim, date.today().year - dogum_yili)\n",
    "\n",
    "kisi1 = kisi(\"mert\",28)\n",
    "kisi2 = kisi(\"kenan\",30)\n",
    "kisi3 = kisi.string_ile_olustur(\"ayşe-25\")\n",
    "kisi4 = kisi.dogum_yili_ile_olustur(\"hasan\", 1990)      \n",
    "\n",
    "print(kisi4.yas)\n",
    "print(kisi.kisi_sayisini_soyle())"
   ]
  },
  {
   "cell_type": "markdown",
   "id": "6f5290dc-b618-42f5-a6e9-4664274de1e9",
   "metadata": {},
   "source": [
    "### staticmethod"
   ]
  },
  {
   "cell_type": "code",
   "execution_count": 20,
   "id": "cfdcbaf6-6115-4fbb-83bf-fe2a3634d8df",
   "metadata": {},
   "outputs": [
    {
     "name": "stdout",
     "output_type": "stream",
     "text": [
      "2020-03-27\n",
      "hafta içi\n"
     ]
    }
   ],
   "source": [
    "# static method sınıfa(cls) ya da nesneye(self) ait herhangi bir parametre almak zorunda değil satitic olmamsının sebebi bu\n",
    "import datetime\n",
    "\n",
    "class kisi:\n",
    "    \n",
    "    kisi_sayisi = 0               \n",
    "    zam_orani = 1.1               \n",
    "    \n",
    "    def __init__(self,isim,yas):\n",
    "        self.isim = isim           \n",
    "        self.yas = yas\n",
    "        kisi.kisi_sayisi += 1       \n",
    "         \n",
    "    def bilgilerini_soyle(self):                         \n",
    "        return f\"İsim = {self.isim} - Yaş = {self.yas}\"\n",
    "    \n",
    "    @classmethod                                          \n",
    "    def kisi_sayisini_soyle(cls):\n",
    "        return cls.kisi_sayisi\n",
    "    \n",
    "    @classmethod\n",
    "    def string_ile_olustur(cls,str_):\n",
    "        isim,yas = str_.split(\"-\")\n",
    "        return cls(isim,yas)\n",
    "    \n",
    "    @classmethod\n",
    "    def dogum_yili_ile_olustur(cls,isim,dogum_yili):\n",
    "        return cls(isim, date.today().year - dogum_yili)\n",
    "\n",
    "    @staticmethod     \n",
    "    def mesai_gunu(gun):     # dikkat edersek ne self yazdık ne de cls. çünkü staticmethod sınıf ve nesne bağlantılı argüman almıyor\n",
    "        if gun.weekday() == 5 or gun.weekday() == 6:\n",
    "            return \"Hafta sonu\"\n",
    "        else:\n",
    "            return \"hafta içi\"\n",
    "            \n",
    "\n",
    "\n",
    "tarih = datetime.date(2020,3,27)\n",
    "print(tarih)\n",
    "print(kisi.mesai_gunu(tarih))"
   ]
  },
  {
   "cell_type": "markdown",
   "id": "9fd00989-954d-48d1-882c-2ff2f778d183",
   "metadata": {},
   "source": [
    "### İnheritance( Kalıtım )"
   ]
  },
  {
   "cell_type": "code",
   "execution_count": 23,
   "id": "f27dc475-6c8f-49c1-8dc8-a03f9eb23ea8",
   "metadata": {},
   "outputs": [
    {
     "name": "stdout",
     "output_type": "stream",
     "text": [
      "mertürper@şirket.com\n",
      "aliürper@şirket.com\n"
     ]
    }
   ],
   "source": [
    "class Calisan:\n",
    "    \n",
    "    def __init__(self,isim,soyisim,maas):\n",
    "        self.isim = isim\n",
    "        self.soyisim = soyisim\n",
    "        self.maas = maas\n",
    "        self.email = isim + soyisim + \"@şirket.com\"\n",
    "        \n",
    "\n",
    "class Yazilimci(Calisan):\n",
    "    pass\n",
    "\n",
    "calisan1 = Calisan(\"mert\",\"ürper\",5000)\n",
    "calisan2 =Calisan(\"hasan\",\"can\",6000)\n",
    "\n",
    "yazilimci1 = Yazilimci(\"ali\",\"ürper\",5000)          # ana sınıftan miras aldığı için nesne üzerinden init otamatik çalışır\n",
    "yazilimci2 = Yazilimci(\"veli\",\"can\",6000)\n",
    "\n",
    "print(calisan1.email)\n",
    "print(yazilimci1.email)"
   ]
  },
  {
   "cell_type": "code",
   "execution_count": 24,
   "id": "0073ca81-4031-44b4-8292-7e37b635a944",
   "metadata": {},
   "outputs": [
    {
     "name": "stdout",
     "output_type": "stream",
     "text": [
      "mertürper@şirket.com\n",
      "aliürper@şirket.com\n"
     ]
    },
    {
     "data": {
      "text/plain": [
       "1.2"
      ]
     },
     "execution_count": 24,
     "metadata": {},
     "output_type": "execute_result"
    }
   ],
   "source": [
    "class Calisan:\n",
    "    zam_orani = 1.2\n",
    "    \n",
    "    def __init__(self,isim,soyisim,maas):\n",
    "        self.isim = isim\n",
    "        self.soyisim = soyisim\n",
    "        self.maas = maas\n",
    "        self.email = isim + soyisim + \"@şirket.com\"\n",
    "        \n",
    "\n",
    "class Yazilimci(Calisan):\n",
    "    pass\n",
    "\n",
    "calisan1 = Calisan(\"mert\",\"ürper\",5000)\n",
    "calisan2 =Calisan(\"hasan\",\"can\",6000)\n",
    "\n",
    "yazilimci1 = Yazilimci(\"ali\",\"ürper\",5000)          # ana sınıftan miras aldığı için nesne üzerinden init otamatik çalışır\n",
    "yazilimci2 = Yazilimci(\"veli\",\"can\",6000)\n",
    "\n",
    "print(calisan1.email)\n",
    "print(yazilimci1.email)\n",
    "yazilimci1.zam_orani              # eğer Yazilimci'nin kendi içinde bir zam oranı yoksa ana sınıfın zam oranını alır"
   ]
  },
  {
   "cell_type": "code",
   "execution_count": 27,
   "id": "acec8f7f-4081-4e61-a3be-4d45f2b04883",
   "metadata": {},
   "outputs": [
    {
     "name": "stdout",
     "output_type": "stream",
     "text": [
      "mertürper@şirket.com\n",
      "aliürper@şirket.com\n",
      "1.2\n",
      "1.3\n"
     ]
    }
   ],
   "source": [
    "class Calisan:\n",
    "    zam_orani = 1.2\n",
    "    \n",
    "    def __init__(self,isim,soyisim,maas):\n",
    "        self.isim = isim\n",
    "        self.soyisim = soyisim\n",
    "        self.maas = maas\n",
    "        self.email = isim + soyisim + \"@şirket.com\"\n",
    "        \n",
    "\n",
    "class Yazilimci(Calisan):\n",
    "    zam_orani = 1.3\n",
    "\n",
    "calisan1 = Calisan(\"mert\",\"ürper\",5000)\n",
    "calisan2 =Calisan(\"hasan\",\"can\",6000)\n",
    "\n",
    "yazilimci1 = Yazilimci(\"ali\",\"ürper\",5000)         \n",
    "yazilimci2 = Yazilimci(\"veli\",\"can\",6000)\n",
    "\n",
    "print(calisan1.email)\n",
    "print(yazilimci1.email)\n",
    "print(calisan1.zam_orani)         # ana sınıfın zam oranı\n",
    "print(yazilimci1.zam_orani)       # Yazilimci'nin kendine ait bir zam oranı var "
   ]
  },
  {
   "cell_type": "code",
   "execution_count": 28,
   "id": "eb923db8-f51e-4a0d-9bf4-9e132f10fdba",
   "metadata": {},
   "outputs": [
    {
     "name": "stdout",
     "output_type": "stream",
     "text": [
      "Ad: mert Soyad: ürper Maas: 5000 Email: mertürper@şirket.com\n",
      "Ad: ali Soyad: ürper Maas: 5000 Email: aliürper@şirket.com\n"
     ]
    }
   ],
   "source": [
    "class Calisan:\n",
    "    zam_orani = 1.2\n",
    "    \n",
    "    def __init__(self,isim,soyisim,maas):\n",
    "        self.isim = isim\n",
    "        self.soyisim = soyisim\n",
    "        self.maas = maas\n",
    "        self.email = isim + soyisim + \"@şirket.com\"\n",
    "        \n",
    "    def bilgilerimi_göster(self):\n",
    "        return f\"Ad: {self.isim} Soyad: {self.soyisim} Maas: {self.maas} Email: {self.email}\"\n",
    "\n",
    "class Yazilimci(Calisan):\n",
    "    zam_orani = 1.3\n",
    "\n",
    "calisan1 = Calisan(\"mert\",\"ürper\",5000)\n",
    "calisan2 =Calisan(\"hasan\",\"can\",6000)\n",
    "\n",
    "yazilimci1 = Yazilimci(\"ali\",\"ürper\",5000)         \n",
    "yazilimci2 = Yazilimci(\"veli\",\"can\",6000)\n",
    "\n",
    "print(calisan1.bilgilerimi_göster())\n",
    "print(yazilimci1.bilgilerimi_göster())    # bilgilerimi_göster methodu alt sınıfta olmadığı için üst sınıftan çağrıldı"
   ]
  },
  {
   "cell_type": "code",
   "execution_count": 3,
   "id": "35021d4a-1115-4781-b727-8c35fa2a7a0f",
   "metadata": {},
   "outputs": [
    {
     "name": "stdout",
     "output_type": "stream",
     "text": [
      "Ad: mert Soyad: ürper Maas: 5000 Email: mertürper@şirket.com\n",
      "Ad: ali Soyad: ürper Maas: 5000 Email: aliürper@şirket.com Dil: Python\n"
     ]
    }
   ],
   "source": [
    "class Calisan:\n",
    "    zam_orani = 1.2\n",
    "    \n",
    "    def __init__(self,isim,soyisim,maas):\n",
    "        self.isim = isim\n",
    "        self.soyisim = soyisim\n",
    "        self.maas = maas\n",
    "        self.email = isim + soyisim + \"@şirket.com\"\n",
    "        \n",
    "    def bilgilerimi_göster(self):\n",
    "        return f\"Ad: {self.isim} Soyad: {self.soyisim} Maas: {self.maas} Email: {self.email}\"\n",
    "\n",
    "class Yazilimci(Calisan):\n",
    "    zam_orani = 1.3\n",
    "    \n",
    "    def __init__(self,isim,soyisim,maas,dil):\n",
    "        super().__init__(isim,soyisim,maas)          # ana sınıftan miras gelen argümanlar\n",
    "        self.dil = dil                              # bu sınıfa ait argüman\n",
    "        \n",
    "    def bilgilerimi_göster(self):\n",
    "        return f\"Ad: {self.isim} Soyad: {self.soyisim} Maas: {self.maas} Email: {self.email} Dil: {self.dil}\"\n",
    "        \n",
    "calisan1 = Calisan(\"mert\",\"ürper\",5000)\n",
    "calisan2 =Calisan(\"hasan\",\"can\",6000)\n",
    "\n",
    "yazilimci1 = Yazilimci(\"ali\",\"ürper\",5000, \"Python\")         \n",
    "yazilimci2 = Yazilimci(\"veli\",\"can\",6000, \"java\")\n",
    "\n",
    "print(calisan1.bilgilerimi_göster())\n",
    "print(yazilimci1.bilgilerimi_göster())"
   ]
  },
  {
   "cell_type": "code",
   "execution_count": 12,
   "id": "99d7a7e6-cbd7-40a5-89e9-aae8c26f76dc",
   "metadata": {},
   "outputs": [
    {
     "name": "stdout",
     "output_type": "stream",
     "text": [
      "Ad: mert Soyad: ürper Maas: 5000 Email: mertürper@şirket.com\n",
      "Ad: ali Soyad: ürper Maas: 5000 Email: aliürper@şirket.com Dil: Python\n"
     ]
    }
   ],
   "source": [
    "class Calisan:\n",
    "    zam_orani = 1.2\n",
    "    \n",
    "    def __init__(self,isim,soyisim,maas):\n",
    "        self.isim = isim\n",
    "        self.soyisim = soyisim\n",
    "        self.maas = maas\n",
    "        self.email = isim + soyisim + \"@şirket.com\"\n",
    "        \n",
    "    def bilgilerimi_göster(self):\n",
    "        return f\"Ad: {self.isim} Soyad: {self.soyisim} Maas: {self.maas} Email: {self.email}\"\n",
    "\n",
    "class Yazilimci(Calisan):\n",
    "    zam_orani = 1.3\n",
    "    \n",
    "    def __init__(self,isim,soyisim,maas,dil):\n",
    "        super().__init__(isim,soyisim,maas)          # ana sınıftan miras gelen argümanlar\n",
    "        self.dil = dil                              # bu sınıfa ait argüman\n",
    "        \n",
    "    def bilgilerimi_göster(self):\n",
    "        return f\"Ad: {self.isim} Soyad: {self.soyisim} Maas: {self.maas} Email: {self.email} Dil: {self.dil}\"\n",
    "    \n",
    "class Yonetici(Calisan):\n",
    "    def __init__(self,isim,soyisim,maas,calisanlar = None):\n",
    "        super().__init__(isim,soyisim,maas)\n",
    "        if calisanlar == None:\n",
    "            self.calisanlar = []\n",
    "        else:\n",
    "            self.calisanlar = calisanlar\n",
    "        \n",
    "    def calisan_ekle(self,calisan):\n",
    "        if calisan not in self.calisanlar:\n",
    "            self.calisanlar.append(calisan)\n",
    "            \n",
    "    def calisan_sil(self,calisan):\n",
    "        if calisan in self.calisanlar:\n",
    "            self.calisanlar.remove(calisan)\n",
    "            \n",
    "    def calisanlari_goster(self):\n",
    "        for calisan in self.calisanlar:\n",
    "            print(calisan.bilgilerimi_göster())\n",
    "\n",
    "calisan1 = Calisan(\"mert\",\"ürper\",5000)\n",
    "calisan2 =Calisan(\"hasan\",\"can\",6000)\n",
    "\n",
    "yazilimci1 = Yazilimci(\"ali\",\"ürper\",5000, \"Python\")         \n",
    "yazilimci2 = Yazilimci(\"veli\",\"can\",6000, \"java\")\n",
    "            \n",
    "yonetici1 = Yonetici(\"Metin\",\"Ali\",10000)             # calisanlar kısmını yazdmadım daha sonra çalışan ekle ile  \n",
    "yonetici1.calisan_ekle(calisan1)\n",
    "yonetici1.calisan_ekle(yazilimci1)                    # iki çalışan ekledik\n",
    "yonetici1.calisanlari_goster()\n",
    "\n",
    "yonetici1.calisan_sil(yazilimci1)                     # bir çalışan sildik\n",
    "yonetici1.calisanlari_goster()"
   ]
  },
  {
   "cell_type": "code",
   "execution_count": 13,
   "id": "237cc64f-6332-4755-9d5f-5d43aab5144e",
   "metadata": {},
   "outputs": [
    {
     "name": "stdout",
     "output_type": "stream",
     "text": [
      "Ad: ali Soyad: ürper Maas: 5000 Email: aliürper@şirket.com Dil: Python\n",
      "Ad: veli Soyad: can Maas: 6000 Email: velican@şirket.com Dil: java\n",
      "Ad: hasan Soyad: can Maas: 6000 Email: hasancan@şirket.com\n"
     ]
    }
   ],
   "source": [
    "yonetici2 = Yonetici(\"Kenan\",\"Ali\",10000, [yazilimci1,yazilimci2,calisan2])    # bu şekilde de çalışan yönetici kaydı sırasında eklenebilir\n",
    "yonetici2.calisanlari_goster()"
   ]
  },
  {
   "cell_type": "code",
   "execution_count": 14,
   "id": "cc27daf6-0cc1-47ec-999b-385d02be47e2",
   "metadata": {},
   "outputs": [
    {
     "name": "stdout",
     "output_type": "stream",
     "text": [
      "True\n"
     ]
    }
   ],
   "source": [
    "print(issubclass(Yazilimci, Calisan))       # yazilimci sınıfı Calisan sınıfından mı türemiştir sorgusu cevap True"
   ]
  },
  {
   "cell_type": "code",
   "execution_count": null,
   "id": "95b93797-7aa4-4a4d-9c68-34676932e77d",
   "metadata": {},
   "outputs": [],
   "source": []
  },
  {
   "cell_type": "markdown",
   "id": "91b1da22-5437-4a97-8744-c69a5a1f7101",
   "metadata": {},
   "source": [
    "## iç içe fonksiyon"
   ]
  },
  {
   "cell_type": "code",
   "execution_count": 4,
   "id": "afdc821c-b69b-445c-a413-15a0c78efcc0",
   "metadata": {},
   "outputs": [
    {
     "data": {
      "text/plain": [
       "'Karesi: 36 -- Karekök: 2.449489742783178 -- Faktoriyel: 720'"
      ]
     },
     "execution_count": 4,
     "metadata": {},
     "output_type": "execute_result"
    }
   ],
   "source": [
    "def hesaplama(x):\n",
    "    def kare_al(y):\n",
    "        return x ** 2\n",
    "    def kare_kok(y):\n",
    "        return x ** 0.5\n",
    "    def faktoriyel(y):\n",
    "        carpim = 1\n",
    "        for i in range(1,y + 1):\n",
    "            carpim *= i\n",
    "        return carpim\n",
    "    \n",
    "    kare = kare_al(x)\n",
    "    kok = kare_kok(x)\n",
    "    faktoriyel_ = faktoriyel(x)\n",
    "    \n",
    "    return f\"Karesi: {kare} -- Karekök: {kok} -- Faktoriyel: {faktoriyel_}\"\n",
    "\n",
    "hesaplama(6)"
   ]
  },
  {
   "cell_type": "code",
   "execution_count": null,
   "id": "1f7ef48b-7512-4a57-95e3-a6d5f4999fab",
   "metadata": {},
   "outputs": [],
   "source": []
  },
  {
   "cell_type": "code",
   "execution_count": 6,
   "id": "fe8f0701-64d6-4e8f-8987-bd94cf64e173",
   "metadata": {},
   "outputs": [
    {
     "data": {
      "text/plain": [
       "'Toplamları: 9 -- Çarpımları: 24'"
      ]
     },
     "execution_count": 6,
     "metadata": {},
     "output_type": "execute_result"
    }
   ],
   "source": [
    "def hesaplama2(*args):     # fonksiyonu * yapınca girilen verileri demet olarak tutuyor\n",
    "    def toplama(y):        # dolayısıyla bu toplama() fonksiyonuna da demet göndermiş olucez\n",
    "        return sum(y)\n",
    "    def carpma(y):\n",
    "        carpim = 1\n",
    "        for i in y:\n",
    "            carpim *= i\n",
    "        return carpim\n",
    "    \n",
    "    return f\"Toplamları: {toplama(args)} -- Çarpımları: {carpma(args)}\"\n",
    "\n",
    "hesaplama2(2,3,4)"
   ]
  },
  {
   "cell_type": "code",
   "execution_count": null,
   "id": "c30b02f1-1697-486f-9e29-755c1d1244c9",
   "metadata": {},
   "outputs": [],
   "source": []
  },
  {
   "cell_type": "code",
   "execution_count": 7,
   "id": "309eed7a-23f0-4743-96d9-49f9c0aadcc6",
   "metadata": {},
   "outputs": [
    {
     "data": {
      "text/plain": [
       "20"
      ]
     },
     "execution_count": 7,
     "metadata": {},
     "output_type": "execute_result"
    }
   ],
   "source": [
    "def islem_sec(islem):       # yukarıdakinlerden farkı fonksiyonları çalıştırmadan çağırıyoruz\n",
    "                            # yani bu şekilde fonksiyonlardan geriye fonksiyon döndürebiliriz\n",
    "    def toplama(*args):\n",
    "        toplam = 0\n",
    "        for i in args:\n",
    "            toplam += i\n",
    "        return toplam\n",
    "    \n",
    "    def carpma(*args):\n",
    "        carpim = 1\n",
    "        for i in args:\n",
    "            carpim *= i\n",
    "        return carpim\n",
    "    \n",
    "    def ortalama(*args):\n",
    "        return sum(args) / len(args)\n",
    "    \n",
    "    if islem == \"toplama\":      # dışarıdan çalıştırdığımda string değer isteyeceğim için tırnak içinde yazdık\n",
    "        return toplama          # toplama ile fonksiyonun kendisini geri döndürür eğer toplama() yapsaydım çalıştırıp \n",
    "    elif islem == \"carpma\":     # döndürmeye çalışıcaktı ama içinde bir değer olmadığı için de hata vericekti\n",
    "        return carpma\n",
    "    elif islem == \"ortalama\":\n",
    "        return ortalama\n",
    "    \n",
    "toplama_fonk = islem_sec(\"toplama\")    # bu değişken atama ile toplama(*args) fonksiyonunu seçmiş oldum\n",
    "toplama_fonk(2,3,4,5,6)                # burda da o toplama fonksiyonuna değer gönderiyorum"
   ]
  },
  {
   "cell_type": "code",
   "execution_count": 8,
   "id": "9c881ed9-2cc4-4399-b9d6-e3e3cb762c3e",
   "metadata": {},
   "outputs": [
    {
     "data": {
      "text/plain": [
       "120"
      ]
     },
     "execution_count": 8,
     "metadata": {},
     "output_type": "execute_result"
    }
   ],
   "source": [
    "carpma_fonk = islem_sec(\"carpma\")\n",
    "carpma_fonk(2,3,4,5)"
   ]
  },
  {
   "cell_type": "code",
   "execution_count": null,
   "id": "b60eae0f-bdf5-424e-b2c7-852bf52e5862",
   "metadata": {},
   "outputs": [],
   "source": []
  },
  {
   "cell_type": "code",
   "execution_count": 12,
   "id": "ae4a4371-5ddf-4447-8125-f0d4424a2ce2",
   "metadata": {},
   "outputs": [
    {
     "name": "stdout",
     "output_type": "stream",
     "text": [
      "Mert Galatasaray takımını tutuyor\n",
      "Mustafa Beşiktaş takımını tutuyor\n"
     ]
    }
   ],
   "source": [
    "def kisi_sec(kisi):\n",
    "    def takim_sec(takim):\n",
    "        return f\"{kisi} {takim} takımını tutuyor\"\n",
    "    return takim_sec      # parantez koyup çalıştırmadım eğer parantez ile çağırsaydım hata vericekti \n",
    "                            # ve hatada argüman girmediğimi söylicekti\n",
    "a = kisi_sec(\"Mert\")\n",
    "b = kisi_sec(\"Mustafa\")\n",
    "print(a(\"Galatasaray\"))\n",
    "print(b(\"Beşiktaş\"))"
   ]
  },
  {
   "cell_type": "code",
   "execution_count": null,
   "id": "b23df98d-1f82-436a-8406-ab571e4baebc",
   "metadata": {},
   "outputs": [],
   "source": []
  },
  {
   "cell_type": "code",
   "execution_count": 1,
   "id": "b6edf309-79ab-4762-971b-d2e7eb2e64ad",
   "metadata": {},
   "outputs": [
    {
     "name": "stdout",
     "output_type": "stream",
     "text": [
      "[1, 9, 25, 49, 81]\n",
      "[1, 8, 27, 64, 125]\n"
     ]
    }
   ],
   "source": [
    "def kare_al(x):\n",
    "    return x * x\n",
    "def kup_al(x):\n",
    "    return x ** 3\n",
    "\n",
    "def mix_fonk(fonk,liste):      # fonksiyonlara parametre olarak fonksiyon gönderme\n",
    "    sonuc = []\n",
    "    for i in liste:\n",
    "        sonuc.append(fonk(i))   # yukarıdaki istenilen fonksiyona bağlanır\n",
    "    return sonuc\n",
    "\n",
    "liste1 = [1,3,5,7,9]\n",
    "liste2 = [1,2,3,4,5]\n",
    "\n",
    "print(mix_fonk(kare_al,liste1))\n",
    "print(mix_fonk(kup_al,liste2))"
   ]
  },
  {
   "cell_type": "markdown",
   "id": "8a79e719-24d8-468e-8062-ad2c28126010",
   "metadata": {},
   "source": [
    "### decorator"
   ]
  },
  {
   "cell_type": "code",
   "execution_count": 2,
   "id": "c37bd87e-fe5b-4d2a-8033-fdaf8bbea83a",
   "metadata": {},
   "outputs": [
    {
     "name": "stdout",
     "output_type": "stream",
     "text": [
      "fonksiyon çalışmadan önceki işlemler\n",
      "fonksiyon çalıştı\n",
      "fonksiyon çalışatıktan sonraki işlemler\n"
     ]
    }
   ],
   "source": [
    "def decorator(fonk):\n",
    "    def wrapper():\n",
    "        print(\"fonksiyon çalışmadan önceki işlemler\")\n",
    "        fonk()\n",
    "        print(\"fonksiyon çalışatıktan sonraki işlemler\")\n",
    "    return wrapper\n",
    "\n",
    "@decorator\n",
    "def fonksiyon():\n",
    "    print(\"fonksiyon çalıştı\")\n",
    "\n",
    "fonksiyon()"
   ]
  },
  {
   "cell_type": "code",
   "execution_count": null,
   "id": "94d5a34e-3a07-476f-8366-54655a359e51",
   "metadata": {},
   "outputs": [],
   "source": []
  },
  {
   "cell_type": "code",
   "execution_count": 2,
   "id": "2b9f07f0-a2d4-4a93-95d8-e368cae9e5b1",
   "metadata": {},
   "outputs": [
    {
     "name": "stdout",
     "output_type": "stream",
     "text": [
      "0\n",
      "1\n",
      "8\n",
      "27\n",
      "64\n",
      "125\n",
      "216\n",
      "343\n",
      "512\n",
      "729\n",
      "işlem 0.0 saniye sürdü\n"
     ]
    }
   ],
   "source": [
    "import time\n",
    "\n",
    "def zaman_hesapla(fonk):\n",
    "    def wrapper(*args,**kwargs):     # gelicek olan veri tipini bilmediğimiz için genel bir argüman girdik\n",
    "        baslangic = time.time()\n",
    "        fonk(*args,**kwargs)         \n",
    "        bitis = time.time()\n",
    "        print(f\"işlem {bitis - baslangic} saniye sürdü\")\n",
    "    return wrapper\n",
    "    \n",
    "# bu 3 fonksiyon için ayrı ayrı zamanı hesaplama işlemi yazmaktansa decorator ile\n",
    "# bir sefer yazıp bu 3 fonksiyona ayrı ayrı bağlarız \"@\" işartei ile --> işlem kolaylığı\n",
    "@zaman_hesapla              \n",
    "def kareleri_al(liste):     # bu bağlama işleminden sonra kareleri_al yukarıdaki \"zaman_hesapla(fonk)\" da fonk'a bağlı\n",
    "    for i in liste:         # kareleri_al'daki liste de wrapper içindeki argümanlara bağlı yani parametreler wrappere gidiyor\n",
    "        print(i * i)\n",
    "\n",
    "@zaman_hesapla         \n",
    "def kupleri_al(liste):\n",
    "    for i in liste:\n",
    "        print(i ** 3)\n",
    "        \n",
    "@zaman_hesapla         \n",
    "def topla(a,b):\n",
    "    time.sleep(1)\n",
    "    print( a + b )\n",
    "\n",
    "kupleri_al(range(10))"
   ]
  },
  {
   "cell_type": "code",
   "execution_count": 3,
   "id": "c99268f1-58b1-4e7a-8474-18c50370bc69",
   "metadata": {},
   "outputs": [
    {
     "name": "stdout",
     "output_type": "stream",
     "text": [
      "53\n",
      "işlem 1.0045750141143799 saniye sürdü\n"
     ]
    }
   ],
   "source": [
    "topla(12 , 41)"
   ]
  },
  {
   "cell_type": "code",
   "execution_count": null,
   "id": "aedcf5a3-9d09-418b-afc9-9c13c2e39f95",
   "metadata": {},
   "outputs": [],
   "source": []
  },
  {
   "cell_type": "code",
   "execution_count": 10,
   "id": "2882fbd2-290b-4ca0-8fd2-50bb3ab4c740",
   "metadata": {},
   "outputs": [
    {
     "name": "stdout",
     "output_type": "stream",
     "text": [
      "işlem 0.0 saniye sürdü\n"
     ]
    },
    {
     "data": {
      "text/plain": [
       "[0, 1, 8, 27, 64, 125, 216, 343, 512, 729, 1000, 1331, 1728, 2197, 2744]"
      ]
     },
     "execution_count": 10,
     "metadata": {},
     "output_type": "execute_result"
    }
   ],
   "source": [
    "import time\n",
    "\n",
    "def zaman_hesapla(fonk):\n",
    "    def wrapper(*args,**kwargs):     \n",
    "        baslangic = time.time()\n",
    "        sonuc = fonk(*args,**kwargs)         \n",
    "        bitis = time.time()\n",
    "        print(f\"işlem {bitis - baslangic} saniye sürdü\")\n",
    "        return sonuc\n",
    "    return wrapper\n",
    "\n",
    "@zaman_hesapla              \n",
    "def kareleri_al(liste): \n",
    "    sonuc = []\n",
    "    for i in liste:         \n",
    "        sonuc.append(i * i)\n",
    "    return sonuc\n",
    "\n",
    "@zaman_hesapla         \n",
    "def kupleri_al(liste):\n",
    "    sonuc = []\n",
    "    for i in liste:\n",
    "        sonuc.append(i ** 3)\n",
    "    return sonuc\n",
    "\n",
    "@zaman_hesapla         \n",
    "def topla(a,b):\n",
    "    time.sleep(1)\n",
    "    return sum(args)\n",
    "\n",
    "kupleri_al(range(15))"
   ]
  },
  {
   "cell_type": "markdown",
   "id": "71c3b034-da1a-465a-b454-1390277f6f95",
   "metadata": {},
   "source": [
    "#### @property decorator"
   ]
  },
  {
   "cell_type": "code",
   "execution_count": 12,
   "id": "8b1c3e42-0d74-4271-b006-e6d14441d718",
   "metadata": {},
   "outputs": [
    {
     "name": "stdout",
     "output_type": "stream",
     "text": [
      "mert\n",
      "mert ürper\n",
      "mert.ürper@sirket.com\n"
     ]
    }
   ],
   "source": [
    "class kisi:\n",
    "    def __init__(self,isim,soyad):\n",
    "        self.isim = isim          \n",
    "        self.soyad = soyad\n",
    "        \n",
    "    @property              # property ile bu fonksiyonu () kullanmadan çağırabiliriz\n",
    "    def adsoyad(self):\n",
    "        return f\"{self.isim} {self.soyad}\"\n",
    "    \n",
    "    def email(self):\n",
    "        return f\"{self.isim}.{self.soyad}@sirket.com\"\n",
    "    \n",
    "kisi1 = kisi(\"mert\",\"ürper\")\n",
    "print(kisi1.isim)\n",
    "print(kisi1.adsoyad)      # normalde fonksiyon çağırdığımız için () eklememiz gerekirken @property den dolayı eklemedik \n",
    "print(kisi1.email())      # burda () kullandık ama property eklemesei yaparsak ()'leri sileriz"
   ]
  },
  {
   "cell_type": "code",
   "execution_count": null,
   "id": "295ba324-b4dd-49d8-9f0a-34f2c44408b8",
   "metadata": {},
   "outputs": [],
   "source": []
  },
  {
   "cell_type": "markdown",
   "id": "270a13a2-a0a2-43dc-89c4-15ebfbea8e9f",
   "metadata": {},
   "source": [
    "## Özel metodlar"
   ]
  },
  {
   "cell_type": "code",
   "execution_count": 1,
   "id": "98910b38-2722-4b98-80b9-127d34f90fa1",
   "metadata": {},
   "outputs": [],
   "source": [
    "# def __init__,  \n",
    "# def __str__ = temsil ifadesi diğer geliştiriciler için bir bilgi\n",
    "# def __repr__ = son kullanıcılar için daha okunabilir bir ifade\n",
    "# def __add__ = int ve str formatında toplama\n",
    "# def __len__\n",
    "# ve daha nicesi var"
   ]
  },
  {
   "cell_type": "code",
   "execution_count": 5,
   "id": "4d8e012e-3ce2-4238-9366-6e22b1a70321",
   "metadata": {},
   "outputs": [
    {
     "name": "stdout",
     "output_type": "stream",
     "text": [
      "Personel(Adnan,Can,6000)\n",
      "Personel(Kartal,Can,8000)\n"
     ]
    }
   ],
   "source": [
    "class Personel:\n",
    "    \n",
    "    zam_oranı = 1.05     # sınıf değişkeni\n",
    "    \n",
    "    def __init__(self,isim,soyisim,maas):\n",
    "        self.isim = isim.title()\n",
    "        self.soyisim = soyisim.title()\n",
    "        self.maas = maas\n",
    "        self.eposta = f\"{isim.lower()}.{soyisim.lower()}@firma.com\"\n",
    "               \n",
    "    def tamisim(self):\n",
    "        return f\"{self.isim} {self.soyisim}\"    \n",
    "    \n",
    "    def zam_uygula(self):\n",
    "        self.maas = int(self.maas * self.zam_oranı)\n",
    "    \n",
    "    def __repr__(self):                                            # temsil ifadesi \n",
    "        return f\"Personel({self.isim},{self.soyisim},{self.maas})\"\n",
    "        \n",
    "per1 = Personel(\"adnan\", \"can\", 6000)                  \n",
    "per2 = Personel(\"kartal\", \"can\", 8000)\n",
    "\n",
    "print(per1)                            # def __repr__(self) sayesinde nesneyi print edince istenilen bilgiler return edilir\n",
    "print(per2)"
   ]
  },
  {
   "cell_type": "code",
   "execution_count": 13,
   "id": "306aa365-474f-4597-9002-537aac8472cb",
   "metadata": {},
   "outputs": [
    {
     "name": "stdout",
     "output_type": "stream",
     "text": [
      "Adnan Can - adnan.can@firma.com\n",
      "Personel(Adnan,Can,6000)\n",
      "Adnan Can - adnan.can@firma.com\n"
     ]
    }
   ],
   "source": [
    "class Personel:\n",
    "    \"\"\"\n",
    "    sınıfa ait bilgileri bu kısımda yazabiliriz\n",
    "    \n",
    "    \"\"\"\n",
    "    \n",
    "    zam_oranı = 1.05     # sınıf değişkeni\n",
    "    \n",
    "    def __init__(self,isim,soyisim,maas):\n",
    "        self.isim = isim.title()\n",
    "        self.soyisim = soyisim.title()\n",
    "        self.maas = maas\n",
    "        self.eposta = f\"{isim.lower()}.{soyisim.lower()}@firma.com\"\n",
    "               \n",
    "    def tamisim(self):\n",
    "        return f\"{self.isim} {self.soyisim}\"    \n",
    "    \n",
    "    def zam_uygula(self):\n",
    "        self.maas = int(self.maas * self.zam_oranı)\n",
    "    \n",
    "    def __repr__(self):\n",
    "        return f\"Personel({self.isim},{self.soyisim},{self.maas})\"\n",
    "    \n",
    "    def __str__(self):\n",
    "        return f\"{self.tamisim()} - {self.eposta}\"\n",
    "        \n",
    "per1 = Personel(\"adnan\", \"can\", 6000)                  \n",
    "per2 = Personel(\"kartal\", \"can\", 8000)\n",
    "\n",
    "print(per1)\n",
    "print(repr(per1))        # repr ifadesiyle giliştiricilere bu nesnenin nasıl oluşturulacağını ifade ettik\n",
    "print(str(per1))         # nesnenin ne olduğunu okunabilir bir şekilde ifade ettik                    "
   ]
  },
  {
   "cell_type": "code",
   "execution_count": 14,
   "id": "d8d4c10c-5f62-432b-9dea-3d4ad4b07cee",
   "metadata": {},
   "outputs": [
    {
     "name": "stdout",
     "output_type": "stream",
     "text": [
      "Adnan Can - adnan.can@firma.com\n",
      "Personel(Adnan,Can,6000)\n"
     ]
    }
   ],
   "source": [
    "print(per1.__str__())       # bu metodlara farklı bir şekilde erişim\n",
    "print(per1.__repr__())"
   ]
  },
  {
   "cell_type": "code",
   "execution_count": 15,
   "id": "a75bbeff-1b31-4887-b64a-93dffdb18d90",
   "metadata": {},
   "outputs": [
    {
     "name": "stdout",
     "output_type": "stream",
     "text": [
      "Help on Personel in module __main__ object:\n",
      "\n",
      "class Personel(builtins.object)\n",
      " |  Personel(isim, soyisim, maas)\n",
      " |  \n",
      " |  sınıfa ait bilgileri bu kısımda yazabiliriz\n",
      " |  \n",
      " |  Methods defined here:\n",
      " |  \n",
      " |  __init__(self, isim, soyisim, maas)\n",
      " |      Initialize self.  See help(type(self)) for accurate signature.\n",
      " |  \n",
      " |  __repr__(self)\n",
      " |      Return repr(self).\n",
      " |  \n",
      " |  __str__(self)\n",
      " |      Return str(self).\n",
      " |  \n",
      " |  tamisim(self)\n",
      " |  \n",
      " |  zam_uygula(self)\n",
      " |  \n",
      " |  ----------------------------------------------------------------------\n",
      " |  Data descriptors defined here:\n",
      " |  \n",
      " |  __dict__\n",
      " |      dictionary for instance variables (if defined)\n",
      " |  \n",
      " |  __weakref__\n",
      " |      list of weak references to the object (if defined)\n",
      " |  \n",
      " |  ----------------------------------------------------------------------\n",
      " |  Data and other attributes defined here:\n",
      " |  \n",
      " |  zam_oranı = 1.05\n",
      "\n",
      "None\n"
     ]
    }
   ],
   "source": [
    "print(help(per1))                  # sınıfa ait metodlara ve açıklamalara ulaşırız"
   ]
  },
  {
   "cell_type": "code",
   "execution_count": 16,
   "id": "e5959e25-ab07-482b-ba90-4c7a96422d9a",
   "metadata": {},
   "outputs": [
    {
     "name": "stdout",
     "output_type": "stream",
     "text": [
      "3\n",
      "ab\n"
     ]
    }
   ],
   "source": [
    "print(1 + 2)\n",
    "print(\"a\" + \"b\")"
   ]
  },
  {
   "cell_type": "code",
   "execution_count": 18,
   "id": "f977b777-7473-4940-aa04-ad5733ac0d0c",
   "metadata": {},
   "outputs": [
    {
     "name": "stdout",
     "output_type": "stream",
     "text": [
      "3\n",
      "ab\n"
     ]
    }
   ],
   "source": [
    "print(int.__add__(1,2))\n",
    "print(str.__add__(\"a\",\"b\"))"
   ]
  },
  {
   "cell_type": "markdown",
   "id": "6fbe165e-3736-4823-a521-011671b5a21b",
   "metadata": {},
   "source": [
    "#### Private instance variable"
   ]
  },
  {
   "cell_type": "code",
   "execution_count": 19,
   "id": "e8a15c0b-fb1a-4e04-8a77-213f4d6b8ec4",
   "metadata": {},
   "outputs": [
    {
     "name": "stdout",
     "output_type": "stream",
     "text": [
      "10000\n",
      "yeni maaş 10500\n"
     ]
    }
   ],
   "source": [
    "class Personel:\n",
    "    \n",
    "    def __init__(self,isim,soyisim,maas):\n",
    "        self.isim = isim.title()\n",
    "        self.soyisim = soyisim.title()\n",
    "        self.maas = maas\n",
    "        self.__zam_orani = 1.05     # \"__\" ile dışardan erişimi kapattık Private oldu değişken\n",
    "    \n",
    "    def zam_uygula(self):\n",
    "        self.maas = int(self.maas * self.__zam_orani)\n",
    "        \n",
    "per1 = Personel(\"adnan\", \"can\", 10000) \n",
    "\n",
    "print(per1.maas)\n",
    "per1.zam_uygula()\n",
    "print(\"yeni maaş\", per1.maas)"
   ]
  },
  {
   "cell_type": "code",
   "execution_count": 22,
   "id": "d3b2a0e0-0c7d-4275-a265-99760a29a854",
   "metadata": {},
   "outputs": [
    {
     "name": "stdout",
     "output_type": "stream",
     "text": [
      "yeni maaş 10500\n"
     ]
    }
   ],
   "source": [
    "per1.__zam_orani = 1.1                # değişiklik yapmak istedim ama olmadı çünkü private yapmıştım değişkeni\n",
    "print(\"yeni maaş\", per1.maas)        "
   ]
  },
  {
   "cell_type": "code",
   "execution_count": null,
   "id": "39c219ee-821d-4be1-b332-a4ced203ef13",
   "metadata": {},
   "outputs": [],
   "source": []
  }
 ],
 "metadata": {
  "kernelspec": {
   "display_name": "Python 3 (ipykernel)",
   "language": "python",
   "name": "python3"
  },
  "language_info": {
   "codemirror_mode": {
    "name": "ipython",
    "version": 3
   },
   "file_extension": ".py",
   "mimetype": "text/x-python",
   "name": "python",
   "nbconvert_exporter": "python",
   "pygments_lexer": "ipython3",
   "version": "3.9.13"
  }
 },
 "nbformat": 4,
 "nbformat_minor": 5
}
