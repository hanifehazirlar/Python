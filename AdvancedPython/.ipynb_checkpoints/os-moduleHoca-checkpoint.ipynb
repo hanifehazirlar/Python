{
 "cells": [
  {
   "cell_type": "code",
   "execution_count": 1,
   "id": "899887a3-52e2-43c1-b77d-a689941743ca",
   "metadata": {
    "tags": []
   },
   "outputs": [
    {
     "name": "stdout",
     "output_type": "stream",
     "text": [
      "Collecting django\n",
      "  Downloading Django-4.2-py3-none-any.whl (8.0 MB)\n",
      "\u001b[2K     \u001b[38;2;114;156;31m━━━━━━━━━━━━━━━━━━━━━━━━━━━━━━━━━━━━━━━━\u001b[0m \u001b[32m8.0/8.0 MB\u001b[0m \u001b[31m4.9 MB/s\u001b[0m eta \u001b[36m0:00:00\u001b[0mm eta \u001b[36m0:00:01\u001b[0m[36m0:00:01\u001b[0m\n",
      "\u001b[?25hCollecting sqlparse>=0.3.1\n",
      "  Downloading sqlparse-0.4.4-py3-none-any.whl (41 kB)\n",
      "\u001b[2K     \u001b[38;2;114;156;31m━━━━━━━━━━━━━━━━━━━━━━━━━━━━━━━━━━━━━━━━\u001b[0m \u001b[32m41.2/41.2 kB\u001b[0m \u001b[31m3.4 MB/s\u001b[0m eta \u001b[36m0:00:00\u001b[0m\n",
      "\u001b[?25hCollecting asgiref<4,>=3.6.0\n",
      "  Downloading asgiref-3.6.0-py3-none-any.whl (23 kB)\n",
      "Installing collected packages: sqlparse, asgiref, django\n",
      "Successfully installed asgiref-3.6.0 django-4.2 sqlparse-0.4.4\n",
      "CPU times: user 66.5 ms, sys: 25.7 ms, total: 92.3 ms\n",
      "Wall time: 6.45 s\n"
     ]
    }
   ],
   "source": [
    "%%time\n",
    "!pip install django"
   ]
  },
  {
   "cell_type": "markdown",
   "id": "26943212-3d91-49cd-b21a-b43faa809f7e",
   "metadata": {},
   "source": [
    "# OS Modul"
   ]
  },
  {
   "cell_type": "markdown",
   "id": "236b8151-3969-4c0a-94b7-85c0b2f383c3",
   "metadata": {},
   "source": [
    "r\"c:\\\\Klasör\\dosya\" # windows kullanıcıları için path sorununu çözmeye yarar"
   ]
  },
  {
   "cell_type": "code",
   "execution_count": 2,
   "id": "65fcb40e-d5c6-4f01-a01c-90e92f975b3e",
   "metadata": {
    "tags": []
   },
   "outputs": [],
   "source": [
    "import os"
   ]
  },
  {
   "cell_type": "code",
   "execution_count": 3,
   "id": "a29ef00c-c96a-44d5-b4c4-53090e30f7ff",
   "metadata": {
    "tags": []
   },
   "outputs": [
    {
     "name": "stdout",
     "output_type": "stream",
     "text": [
      "/media/forest/depo/python-tutorial/inclass\n"
     ]
    }
   ],
   "source": [
    "print(os.getcwd())"
   ]
  },
  {
   "cell_type": "code",
   "execution_count": 10,
   "id": "1a95497f-df01-429c-97a5-29a52bdd21e9",
   "metadata": {
    "tags": []
   },
   "outputs": [],
   "source": [
    "# os dizin değiştirme\n",
    "os.chdir(\"/media/forest/depo/python-tutorial/inclass/dizin-os\")\n"
   ]
  },
  {
   "cell_type": "code",
   "execution_count": 11,
   "id": "30ef9e81-df24-4782-bcf7-9fe215f42800",
   "metadata": {
    "tags": []
   },
   "outputs": [
    {
     "name": "stdout",
     "output_type": "stream",
     "text": [
      "/media/forest/depo/python-tutorial/inclass/dizin-os\n"
     ]
    }
   ],
   "source": [
    "print(os.getcwd())"
   ]
  },
  {
   "cell_type": "code",
   "execution_count": 12,
   "id": "993ece60-36f1-440c-bb25-2d93b0d19045",
   "metadata": {
    "tags": []
   },
   "outputs": [
    {
     "name": "stdout",
     "output_type": "stream",
     "text": [
      "/media/forest/depo/python-tutorial/inclass\n"
     ]
    }
   ],
   "source": [
    "os.chdir(\"/media/forest/depo/python-tutorial/inclass\")\n",
    "print(os.getcwd())"
   ]
  },
  {
   "cell_type": "code",
   "execution_count": 16,
   "id": "c13a0b52-10eb-4ca0-b2da-4be9a1353afe",
   "metadata": {
    "tags": []
   },
   "outputs": [
    {
     "name": "stdout",
     "output_type": "stream",
     "text": [
      "/media/forest/depo/python-tutorial/inclass/dizin-os\n"
     ]
    }
   ],
   "source": [
    "print(os.getcwd())"
   ]
  },
  {
   "cell_type": "code",
   "execution_count": 17,
   "id": "30fb8e2f-51e9-4a4d-9f08-3e8f073f1a79",
   "metadata": {
    "tags": []
   },
   "outputs": [
    {
     "name": "stdout",
     "output_type": "stream",
     "text": [
      "/media/forest/depo/python-tutorial/inclass\n"
     ]
    }
   ],
   "source": [
    "%cd .."
   ]
  },
  {
   "cell_type": "code",
   "execution_count": 19,
   "id": "0fd1a84d-4c9e-43de-93db-2b61463a23a3",
   "metadata": {
    "tags": []
   },
   "outputs": [
    {
     "data": {
      "text/plain": [
       "'/media/forest/depo/python-tutorial/inclass'"
      ]
     },
     "execution_count": 19,
     "metadata": {},
     "output_type": "execute_result"
    }
   ],
   "source": [
    "os.getcwd()"
   ]
  },
  {
   "cell_type": "code",
   "execution_count": null,
   "id": "ed5bf106-c011-4f57-abee-75e930ba1888",
   "metadata": {},
   "outputs": [],
   "source": [
    "os.listdir() # içinde bulunduğumuz dizinde yer alanları listeler\n"
   ]
  },
  {
   "cell_type": "code",
   "execution_count": 21,
   "id": "605815b2-d8c9-42ff-9ab2-181a4091f8a8",
   "metadata": {
    "tags": []
   },
   "outputs": [],
   "source": [
    "dosya_listesi = os.listdir()"
   ]
  },
  {
   "cell_type": "code",
   "execution_count": 24,
   "id": "50353b52-53d2-41a4-838e-cfc0a26c2e09",
   "metadata": {
    "tags": []
   },
   "outputs": [
    {
     "name": "stdout",
     "output_type": "stream",
     "text": [
      ".ipynb_checkpoints\n",
      "Advantage of Python.txt\n",
      "dizin-os\n",
      "Hata-yakalama.ipynb\n",
      "list-comprehension.ipynb\n",
      "os-module.ipynb\n"
     ]
    }
   ],
   "source": [
    "for i in dosya_listesi:\n",
    "    print(i)"
   ]
  },
  {
   "cell_type": "code",
   "execution_count": 25,
   "id": "d0b670a3-1bea-4220-955c-ece139968d83",
   "metadata": {
    "tags": []
   },
   "outputs": [
    {
     "data": {
      "text/plain": [
       "['.ipynb_checkpoints', 'os-test.txt']"
      ]
     },
     "execution_count": 25,
     "metadata": {},
     "output_type": "execute_result"
    }
   ],
   "source": [
    "os.listdir(\"dizin-os/\")"
   ]
  },
  {
   "cell_type": "code",
   "execution_count": 26,
   "id": "a61c628e-e056-45f4-89cb-1db1894dea43",
   "metadata": {
    "tags": []
   },
   "outputs": [
    {
     "data": {
      "text/plain": [
       "['.ipynb_checkpoints', 'os-test.txt']"
      ]
     },
     "execution_count": 26,
     "metadata": {},
     "output_type": "execute_result"
    }
   ],
   "source": [
    "os.listdir(\"/media/forest/depo/python-tutorial/inclass/dizin-os/\")"
   ]
  },
  {
   "cell_type": "code",
   "execution_count": 29,
   "id": "a518d29f-8bd0-4217-a2aa-115d0c0f40b4",
   "metadata": {
    "tags": []
   },
   "outputs": [],
   "source": [
    "os.mkdir(\"/media/forest/depo/python-tutorial/inclass/dizin-os/dizin2-os\")"
   ]
  },
  {
   "cell_type": "code",
   "execution_count": 30,
   "id": "78f922b8-f283-4dbc-bf16-475491880f61",
   "metadata": {
    "tags": []
   },
   "outputs": [],
   "source": [
    "os.makedirs(\"test/test2/test3\")"
   ]
  },
  {
   "cell_type": "code",
   "execution_count": 31,
   "id": "6b558d91-6bb6-483d-8039-54e696c124b6",
   "metadata": {
    "tags": []
   },
   "outputs": [
    {
     "data": {
      "text/plain": [
       "'/media/forest/depo/python-tutorial/inclass'"
      ]
     },
     "execution_count": 31,
     "metadata": {},
     "output_type": "execute_result"
    }
   ],
   "source": [
    "os.getcwd()"
   ]
  },
  {
   "cell_type": "code",
   "execution_count": 34,
   "id": "a4f6c4c5-4afb-4001-bf26-320e26ad61d8",
   "metadata": {
    "tags": []
   },
   "outputs": [
    {
     "name": "stdout",
     "output_type": "stream",
     "text": [
      "Klasör yolu:  /media/forest/depo/python-tutorial/inclass\n",
      "Klasörler:  ['.ipynb_checkpoints', 'dizin-os', 'dizin2-os', 'test']\n",
      "dosyalar:  ['Advantage of Python.txt', 'Hata-yakalama.ipynb', 'list-comprehension.ipynb', 'os-module.ipynb']\n",
      "\n",
      "Klasör yolu:  /media/forest/depo/python-tutorial/inclass/.ipynb_checkpoints\n",
      "Klasörler:  []\n",
      "dosyalar:  ['Advantage of Python-checkpoint.txt', 'Hata-yakalama-checkpoint.ipynb', 'list-comprehension-checkpoint.ipynb', 'os-module-checkpoint.ipynb']\n",
      "\n",
      "Klasör yolu:  /media/forest/depo/python-tutorial/inclass/dizin-os\n",
      "Klasörler:  ['.ipynb_checkpoints', 'dizin2-os']\n",
      "dosyalar:  ['os-test.txt']\n",
      "\n",
      "Klasör yolu:  /media/forest/depo/python-tutorial/inclass/dizin-os/.ipynb_checkpoints\n",
      "Klasörler:  []\n",
      "dosyalar:  []\n",
      "\n",
      "Klasör yolu:  /media/forest/depo/python-tutorial/inclass/dizin-os/dizin2-os\n",
      "Klasörler:  []\n",
      "dosyalar:  []\n",
      "\n",
      "Klasör yolu:  /media/forest/depo/python-tutorial/inclass/dizin2-os\n",
      "Klasörler:  []\n",
      "dosyalar:  []\n",
      "\n",
      "Klasör yolu:  /media/forest/depo/python-tutorial/inclass/test\n",
      "Klasörler:  ['test2']\n",
      "dosyalar:  []\n",
      "\n",
      "Klasör yolu:  /media/forest/depo/python-tutorial/inclass/test/test2\n",
      "Klasörler:  ['test3']\n",
      "dosyalar:  []\n",
      "\n",
      "Klasör yolu:  /media/forest/depo/python-tutorial/inclass/test/test2/test3\n",
      "Klasörler:  []\n",
      "dosyalar:  []\n",
      "\n"
     ]
    }
   ],
   "source": [
    "for i in os.walk('/media/forest/depo/python-tutorial/inclass'):\n",
    "    print(\"Klasör yolu: \", i[0])\n",
    "    print(\"Klasörler: \", i[1])\n",
    "    print(\"dosyalar: \", i[2])\n",
    "    print()\n",
    "    "
   ]
  },
  {
   "cell_type": "code",
   "execution_count": null,
   "id": "a984058d-e0c7-4537-8df6-0a6ee7571a63",
   "metadata": {},
   "outputs": [],
   "source": []
  }
 ],
 "metadata": {
  "kernelspec": {
   "display_name": "Python 3 (ipykernel)",
   "language": "python",
   "name": "python3"
  },
  "language_info": {
   "codemirror_mode": {
    "name": "ipython",
    "version": 3
   },
   "file_extension": ".py",
   "mimetype": "text/x-python",
   "name": "python",
   "nbconvert_exporter": "python",
   "pygments_lexer": "ipython3",
   "version": "3.10.6"
  }
 },
 "nbformat": 4,
 "nbformat_minor": 5
}
