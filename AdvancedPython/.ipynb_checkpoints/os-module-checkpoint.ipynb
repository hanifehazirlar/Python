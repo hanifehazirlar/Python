{
 "cells": [
  {
   "cell_type": "markdown",
   "id": "52996e01-6e47-4f17-97cf-1d90f0619f18",
   "metadata": {},
   "source": [
    "## OS-MODULE"
   ]
  },
  {
   "cell_type": "code",
   "execution_count": 2,
   "id": "3fd0fc7b-85f3-4150-8a14-8aee51f7ac74",
   "metadata": {},
   "outputs": [
    {
     "name": "stdout",
     "output_type": "stream",
     "text": [
      "Collecting Django\n",
      "  Downloading Django-4.2-py3-none-any.whl (8.0 MB)\n",
      "\u001b[2K     \u001b[90m━━━━━━━━━━━━━━━━━━━━━━━━━━━━━━━━━━━━━━━━\u001b[0m \u001b[32m8.0/8.0 MB\u001b[0m \u001b[31m2.6 MB/s\u001b[0m eta \u001b[36m0:00:00\u001b[0m00:01\u001b[0m00:01\u001b[0m\n",
      "\u001b[?25hCollecting asgiref<4,>=3.6.0\n",
      "  Downloading asgiref-3.6.0-py3-none-any.whl (23 kB)\n",
      "Collecting sqlparse>=0.3.1\n",
      "  Downloading sqlparse-0.4.4-py3-none-any.whl (41 kB)\n",
      "\u001b[2K     \u001b[90m━━━━━━━━━━━━━━━━━━━━━━━━━━━━━━━━━━━━━━━━\u001b[0m \u001b[32m41.2/41.2 kB\u001b[0m \u001b[31m1.9 MB/s\u001b[0m eta \u001b[36m0:00:00\u001b[0m\n",
      "\u001b[?25hInstalling collected packages: sqlparse, asgiref, Django\n",
      "Successfully installed Django-4.2 asgiref-3.6.0 sqlparse-0.4.4\n"
     ]
    }
   ],
   "source": [
    "#pyPI\n",
    "#django\n",
    "#transformers\n",
    "\n",
    "# !pip %%time\n",
    "#magic command deniyor bunlara\n",
    "!pip install Django"
   ]
  },
  {
   "cell_type": "code",
   "execution_count": 3,
   "id": "71b8019f-5e6f-4917-aae5-8cce433910e2",
   "metadata": {},
   "outputs": [
    {
     "data": {
      "text/plain": [
       "'c://'"
      ]
     },
     "execution_count": 3,
     "metadata": {},
     "output_type": "execute_result"
    }
   ],
   "source": [
    "r\"c://\""
   ]
  },
  {
   "cell_type": "code",
   "execution_count": null,
   "id": "eb825e24-5882-4b4e-95cf-a37ddc88c33b",
   "metadata": {},
   "outputs": [],
   "source": []
  },
  {
   "cell_type": "code",
   "execution_count": null,
   "id": "e1430ebc-c4b8-4710-9724-f26a9941ed01",
   "metadata": {},
   "outputs": [],
   "source": [
    "#windows kullanicilari icin path sorunun cozmeye yarar\n",
    "#bir dosyayı / file 'ı python ile kullanabilmek için \n",
    "#bizim dosyanin olduğu konumu yeri gostermemiz lazim. \n",
    "#bunun için path yaziyoruz. path yazarken // ya da \\\\ sekilde kullanıyoruz."
   ]
  },
  {
   "cell_type": "code",
   "execution_count": 4,
   "id": "89710a7c-27d0-42b8-9dc1-859e10c3ad74",
   "metadata": {},
   "outputs": [],
   "source": [
    "import os"
   ]
  },
  {
   "cell_type": "code",
   "execution_count": 5,
   "id": "0afd8117-92b1-4b0c-b84f-622a1e27d629",
   "metadata": {},
   "outputs": [
    {
     "name": "stdout",
     "output_type": "stream",
     "text": [
      "/Users/merthan/Desktop/IT_Course/Python/Advanced_Python\n"
     ]
    }
   ],
   "source": [
    "print(os.getcwd())"
   ]
  },
  {
   "cell_type": "code",
   "execution_count": 7,
   "id": "a778d4e6-e3de-4dca-b0ea-fafb4cdd0c8f",
   "metadata": {},
   "outputs": [],
   "source": [
    "#os dizin degistirme\n",
    "os.chdir(\"dizin-os\")"
   ]
  },
  {
   "cell_type": "code",
   "execution_count": 8,
   "id": "2e822727-6408-408a-8e23-257175de24c1",
   "metadata": {},
   "outputs": [
    {
     "name": "stdout",
     "output_type": "stream",
     "text": [
      "/Users/merthan/Desktop/IT_Course/Python/Advanced_Python/dizin-os\n"
     ]
    }
   ],
   "source": [
    "print(os.getcwd())\n",
    "#bunu calistirinca asagida bunun \"absolute path\"ini veriyor.\n",
    "#yani su an nerdeysmisim, dizin-os icindeymisim\n",
    "#yapacagim degisiklikler bunun icinde olur"
   ]
  },
  {
   "cell_type": "code",
   "execution_count": 9,
   "id": "ebb7fbc3-db69-4d73-9924-06cb09fd1d45",
   "metadata": {},
   "outputs": [],
   "source": [
    "os.chdir(\"/Users/merthan/Desktop/IT_Course/Python/Advanced_Python\")"
   ]
  },
  {
   "cell_type": "code",
   "execution_count": 14,
   "id": "af66ef37-6ce8-4d06-b7ae-fa358d48d5c0",
   "metadata": {},
   "outputs": [
    {
     "name": "stdout",
     "output_type": "stream",
     "text": [
      "/Users/merthan/Desktop/IT_Course/Python/Advanced_Python/dizin-os\n"
     ]
    }
   ],
   "source": [
    "print(os.getcwd())"
   ]
  },
  {
   "cell_type": "code",
   "execution_count": null,
   "id": "0db4e1f1-0143-41d7-b797-82ae64ac9bcf",
   "metadata": {},
   "outputs": [],
   "source": [
    "#bir dosyayai acmak icin pythonda\n",
    "#o dosyaya giden bir path olusturmamiz lazim ornegin.\n",
    "#Operating system module buna yariyor\n",
    "#mesela kullanicadan resim upload etmem gerek\n",
    "#bunun pathini girmem lazim mesela\n",
    "#bu modul sayesinde dosya/klasor yolunu takip etme\n",
    "#olusturma gibi islemleri yapiyoruz\n",
    "#mesela pandasta csv dosyasi uzerinde calisiyoruz\n",
    "#datasetinde kayitli 100 csv dosyasi icin tek tek okutmak yerine bunlari bir klasore atip, pathi yazdirarak, \n",
    "#for dongusuyle/list comprehension ile csv dosyalarini okutabiliyormusuz!"
   ]
  },
  {
   "cell_type": "code",
   "execution_count": 12,
   "id": "5d2625a8-b1e5-47af-92fd-52d424daa44d",
   "metadata": {},
   "outputs": [
    {
     "name": "stdout",
     "output_type": "stream",
     "text": [
      "/Users/merthan/Desktop/IT_Course/Python/Advanced_Python/dizin-os\n"
     ]
    }
   ],
   "source": [
    "%cd \"dizin-os\"\n",
    "#boyle dersem de yine dizin-os icine girer"
   ]
  },
  {
   "cell_type": "code",
   "execution_count": 13,
   "id": "3b372594-ab82-4be2-84d9-11d29f4705d6",
   "metadata": {},
   "outputs": [
    {
     "name": "stdout",
     "output_type": "stream",
     "text": [
      "/Users/merthan/Desktop/IT_Course/Python/Advanced_Python/dizin-os\n"
     ]
    }
   ],
   "source": [
    "print(os.getcwd())\n",
    "#dizin-os'da oldugumuzu gorduk"
   ]
  },
  {
   "cell_type": "code",
   "execution_count": 15,
   "id": "884a3a15-02bb-4dd3-827f-41bd5f664c3b",
   "metadata": {
    "tags": []
   },
   "outputs": [
    {
     "name": "stdout",
     "output_type": "stream",
     "text": [
      "/Users/merthan/Desktop/IT_Course/Python/Advanced_Python\n"
     ]
    }
   ],
   "source": [
    "%cd ..\n",
    "#boyle yaparsak da eski folderimiza donuyoruz"
   ]
  },
  {
   "cell_type": "code",
   "execution_count": 16,
   "id": "16c787b1-2502-4acd-a45f-47abb6796e08",
   "metadata": {},
   "outputs": [
    {
     "name": "stdout",
     "output_type": "stream",
     "text": [
      "/Users/merthan/Desktop/IT_Course/Python/Advanced_Python/dizin-os\n"
     ]
    }
   ],
   "source": [
    "%cd \"dizin-os\""
   ]
  },
  {
   "cell_type": "code",
   "execution_count": 17,
   "id": "88a76088-a998-4e2d-926e-c6684c67cfcc",
   "metadata": {
    "tags": []
   },
   "outputs": [
    {
     "name": "stdout",
     "output_type": "stream",
     "text": [
      "/Users/merthan/Desktop/IT_Course/Python/Advanced_Python/dizin-os\n"
     ]
    }
   ],
   "source": [
    "print(os.getcwd())"
   ]
  },
  {
   "cell_type": "code",
   "execution_count": 18,
   "id": "71ae9cd3-ee78-4f00-b6a7-c06a5ad58d16",
   "metadata": {},
   "outputs": [
    {
     "name": "stdout",
     "output_type": "stream",
     "text": [
      "/Users/merthan/Desktop/IT_Course/Python/Advanced_Python\n"
     ]
    }
   ],
   "source": [
    "%cd .."
   ]
  },
  {
   "cell_type": "code",
   "execution_count": 21,
   "id": "c4d9fd6d-d785-45ba-aaf6-0a9088920e25",
   "metadata": {},
   "outputs": [],
   "source": [
    "dosya_listesi=os.listdir()\n",
    "#icinde bulundugumuz dizinin\n",
    "#icindikleri bana liste olarak dondurur"
   ]
  },
  {
   "cell_type": "raw",
   "id": "9a0a69ef-b054-4bd7-96e2-93dc51f86bb4",
   "metadata": {},
   "source": [
    "dosya_listesi"
   ]
  },
  {
   "cell_type": "code",
   "execution_count": 22,
   "id": "ee815d82-69bc-4bbf-8a11-9b016448785f",
   "metadata": {},
   "outputs": [
    {
     "name": "stdout",
     "output_type": "stream",
     "text": [
      "os-module.ipynb\n",
      "Exceptions.ipynb\n",
      "dizin-os\n",
      ".ipynb_checkpoints\n",
      "ListComprehension.ipynb\n"
     ]
    }
   ],
   "source": [
    "for i in dosya_listesi:\n",
    "    print(i)"
   ]
  },
  {
   "cell_type": "code",
   "execution_count": 23,
   "id": "83788a4e-46c8-4a9c-bf46-75ad9b81431f",
   "metadata": {},
   "outputs": [
    {
     "ename": "FileNotFoundError",
     "evalue": "[Errno 2] No such file or directory: 'Desktop/IT_Course/Python/Advanced_Python/dizin-os'",
     "output_type": "error",
     "traceback": [
      "\u001b[0;31m---------------------------------------------------------------------------\u001b[0m",
      "\u001b[0;31mFileNotFoundError\u001b[0m                         Traceback (most recent call last)",
      "\u001b[0;32m/var/folders/5z/xb_33d255mq_trf2qys6_r540000gn/T/ipykernel_14107/4215058061.py\u001b[0m in \u001b[0;36m<module>\u001b[0;34m\u001b[0m\n\u001b[0;32m----> 1\u001b[0;31m \u001b[0mos\u001b[0m\u001b[0;34m.\u001b[0m\u001b[0mlistdir\u001b[0m\u001b[0;34m(\u001b[0m\u001b[0;34m\"Desktop/IT_Course/Python/Advanced_Python/dizin-os\"\u001b[0m\u001b[0;34m)\u001b[0m\u001b[0;34m\u001b[0m\u001b[0;34m\u001b[0m\u001b[0m\n\u001b[0m",
      "\u001b[0;31mFileNotFoundError\u001b[0m: [Errno 2] No such file or directory: 'Desktop/IT_Course/Python/Advanced_Python/dizin-os'"
     ]
    }
   ],
   "source": [
    "os.listdir(\"Desktop/IT_Course/Python/Advanced_Python/dizin-os\")"
   ]
  },
  {
   "cell_type": "code",
   "execution_count": 25,
   "id": "5e82f671-e983-4d29-b7d6-db66f1867331",
   "metadata": {},
   "outputs": [
    {
     "data": {
      "text/plain": [
       "[]"
      ]
     },
     "execution_count": 25,
     "metadata": {},
     "output_type": "execute_result"
    }
   ],
   "source": [
    "os.listdir(\"dizin-os/\")"
   ]
  },
  {
   "cell_type": "code",
   "execution_count": 24,
   "id": "08070dd9-de20-42fe-a548-192e5b0fabcf",
   "metadata": {},
   "outputs": [],
   "source": [
    "os.mkdir(\"dizin2-os\")"
   ]
  },
  {
   "cell_type": "code",
   "execution_count": 26,
   "id": "9b778839-4e39-4b70-841f-35f63d4dc7e7",
   "metadata": {},
   "outputs": [],
   "source": [
    "os.mkdir(\"/Users/merthan/Desktop/IT_Course/Python/Advanced_Python/dizin-os/dizin2-os\")"
   ]
  },
  {
   "cell_type": "code",
   "execution_count": 27,
   "id": "ee5d573d-4d23-49f4-9e0f-d3d26148162e",
   "metadata": {},
   "outputs": [],
   "source": [
    "os.makedirs(\"test/test2/test3\")"
   ]
  },
  {
   "cell_type": "code",
   "execution_count": 28,
   "id": "1e9a8adf-4762-4fd0-a742-2d4018308b5d",
   "metadata": {},
   "outputs": [
    {
     "data": {
      "text/plain": [
       "'/Users/merthan/Desktop/IT_Course/Python/Advanced_Python'"
      ]
     },
     "execution_count": 28,
     "metadata": {},
     "output_type": "execute_result"
    }
   ],
   "source": [
    "os.getcwd()"
   ]
  },
  {
   "cell_type": "code",
   "execution_count": 30,
   "id": "38c62cb2-4bdd-4133-9e8b-a4b7c84bf7f6",
   "metadata": {},
   "outputs": [
    {
     "name": "stdout",
     "output_type": "stream",
     "text": [
      "Klasor yolu:  /Users/merthan/Desktop/IT_Course/Python/Advanced_Python\n",
      "Klasorler:  ['test', 'dizin-os', '.ipynb_checkpoints', 'dizin2-os']\n",
      "dosyalar: ['test', 'dizin-os', '.ipynb_checkpoints', 'dizin2-os']\n",
      "Klasor yolu:  /Users/merthan/Desktop/IT_Course/Python/Advanced_Python/test\n",
      "Klasorler:  ['test2']\n",
      "dosyalar: ['test2']\n",
      "Klasor yolu:  /Users/merthan/Desktop/IT_Course/Python/Advanced_Python/test/test2\n",
      "Klasorler:  ['test3']\n",
      "dosyalar: ['test3']\n",
      "Klasor yolu:  /Users/merthan/Desktop/IT_Course/Python/Advanced_Python/test/test2/test3\n",
      "Klasorler:  []\n",
      "dosyalar: []\n",
      "Klasor yolu:  /Users/merthan/Desktop/IT_Course/Python/Advanced_Python/dizin-os\n",
      "Klasorler:  ['dizin2-os']\n",
      "dosyalar: ['dizin2-os']\n",
      "Klasor yolu:  /Users/merthan/Desktop/IT_Course/Python/Advanced_Python/dizin-os/dizin2-os\n",
      "Klasorler:  []\n",
      "dosyalar: []\n",
      "Klasor yolu:  /Users/merthan/Desktop/IT_Course/Python/Advanced_Python/.ipynb_checkpoints\n",
      "Klasorler:  []\n",
      "dosyalar: []\n",
      "Klasor yolu:  /Users/merthan/Desktop/IT_Course/Python/Advanced_Python/dizin2-os\n",
      "Klasorler:  []\n",
      "dosyalar: []\n"
     ]
    }
   ],
   "source": [
    "for i in os.walk('/Users/merthan/Desktop/IT_Course/Python/Advanced_Python'):\n",
    "    print(\"Klasor yolu: \", i[0])\n",
    "    print(\"Klasorler: \", i[1])\n",
    "    print(\"dosyalar:\", i[1])"
   ]
  },
  {
   "cell_type": "code",
   "execution_count": null,
   "id": "d85cd0df-abd5-45c3-acd8-ce9bde25d685",
   "metadata": {},
   "outputs": [],
   "source": []
  },
  {
   "cell_type": "code",
   "execution_count": null,
   "id": "d9575a5d-7b96-476d-a931-d4ad1607aadd",
   "metadata": {},
   "outputs": [],
   "source": []
  }
 ],
 "metadata": {
  "kernelspec": {
   "display_name": "Python 3 (ipykernel)",
   "language": "python",
   "name": "python3"
  },
  "language_info": {
   "codemirror_mode": {
    "name": "ipython",
    "version": 3
   },
   "file_extension": ".py",
   "mimetype": "text/x-python",
   "name": "python",
   "nbconvert_exporter": "python",
   "pygments_lexer": "ipython3",
   "version": "3.9.13"
  }
 },
 "nbformat": 4,
 "nbformat_minor": 5
}
