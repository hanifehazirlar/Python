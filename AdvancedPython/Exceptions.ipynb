{
 "cells": [
  {
   "cell_type": "markdown",
   "id": "21a003b6",
   "metadata": {},
   "source": [
    "## En cok karsilasilan hata cesitleri\n",
    "* ZeroDivisionError\n",
    "* NameError\n",
    "* TypeError\n",
    "* IndexError\n",
    "\n"
   ]
  },
  {
   "cell_type": "code",
   "execution_count": 2,
   "id": "03e432fa",
   "metadata": {},
   "outputs": [
    {
     "name": "stdout",
     "output_type": "stream",
     "text": [
      "5.0\n"
     ]
    }
   ],
   "source": [
    "bolunen = 10\n",
    "bolen = 2\n",
    "bolum = bolunen / bolen\n",
    "print(bolum)"
   ]
  },
  {
   "cell_type": "code",
   "execution_count": 3,
   "id": "957ab2a9",
   "metadata": {},
   "outputs": [
    {
     "ename": "ZeroDivisionError",
     "evalue": "division by zero",
     "output_type": "error",
     "traceback": [
      "\u001b[1;31m---------------------------------------------------------------------------\u001b[0m",
      "\u001b[1;31mZeroDivisionError\u001b[0m                         Traceback (most recent call last)",
      "Cell \u001b[1;32mIn[3], line 3\u001b[0m\n\u001b[0;32m      1\u001b[0m bolunen \u001b[38;5;241m=\u001b[39m \u001b[38;5;241m10\u001b[39m\n\u001b[0;32m      2\u001b[0m bolen \u001b[38;5;241m=\u001b[39m \u001b[38;5;241m0\u001b[39m\n\u001b[1;32m----> 3\u001b[0m bolum \u001b[38;5;241m=\u001b[39m \u001b[43mbolunen\u001b[49m\u001b[43m \u001b[49m\u001b[38;5;241;43m/\u001b[39;49m\u001b[43m \u001b[49m\u001b[43mbolen\u001b[49m\n\u001b[0;32m      4\u001b[0m \u001b[38;5;28mprint\u001b[39m(bolum)\n",
      "\u001b[1;31mZeroDivisionError\u001b[0m: division by zero"
     ]
    }
   ],
   "source": [
    "bolunen = 10\n",
    "bolen = 0\n",
    "bolum = bolunen / bolen\n",
    "print(bolum)"
   ]
  },
  {
   "cell_type": "code",
   "execution_count": null,
   "id": "91ef31ae",
   "metadata": {},
   "outputs": [],
   "source": [
    "print(undefined_variable)"
   ]
  },
  {
   "cell_type": "code",
   "execution_count": 1,
   "id": "e1e06b47",
   "metadata": {},
   "outputs": [
    {
     "ename": "TypeError",
     "evalue": "unsupported operand type(s) for +: 'int' and 'str'",
     "output_type": "error",
     "traceback": [
      "\u001b[1;31m---------------------------------------------------------------------------\u001b[0m",
      "\u001b[1;31mTypeError\u001b[0m                                 Traceback (most recent call last)",
      "Cell \u001b[1;32mIn[1], line 1\u001b[0m\n\u001b[1;32m----> 1\u001b[0m \u001b[38;5;241;43m1\u001b[39;49m\u001b[43m \u001b[49m\u001b[38;5;241;43m+\u001b[39;49m\u001b[43m \u001b[49m\u001b[38;5;124;43m\"\u001b[39;49m\u001b[38;5;124;43m1\u001b[39;49m\u001b[38;5;124;43m\"\u001b[39;49m\n",
      "\u001b[1;31mTypeError\u001b[0m: unsupported operand type(s) for +: 'int' and 'str'"
     ]
    }
   ],
   "source": [
    "1 + \"1\""
   ]
  },
  {
   "cell_type": "code",
   "execution_count": 2,
   "id": "fafe0ce3",
   "metadata": {},
   "outputs": [
    {
     "ename": "IndexError",
     "evalue": "string index out of range",
     "output_type": "error",
     "traceback": [
      "\u001b[1;31m---------------------------------------------------------------------------\u001b[0m",
      "\u001b[1;31mIndexError\u001b[0m                                Traceback (most recent call last)",
      "Cell \u001b[1;32mIn[2], line 2\u001b[0m\n\u001b[0;32m      1\u001b[0m a \u001b[38;5;241m=\u001b[39m \u001b[38;5;124m\"\u001b[39m\u001b[38;5;124m123\u001b[39m\u001b[38;5;124m\"\u001b[39m\n\u001b[1;32m----> 2\u001b[0m \u001b[43ma\u001b[49m\u001b[43m[\u001b[49m\u001b[38;5;241;43m4\u001b[39;49m\u001b[43m]\u001b[49m\n",
      "\u001b[1;31mIndexError\u001b[0m: string index out of range"
     ]
    }
   ],
   "source": [
    "a = \"123\"\n",
    "a[4]"
   ]
  },
  {
   "cell_type": "code",
   "execution_count": null,
   "id": "cefc9032",
   "metadata": {},
   "outputs": [],
   "source": [
    "try :\n",
    "    pass\n",
    "except :\n",
    "    pass"
   ]
  },
  {
   "cell_type": "code",
   "execution_count": null,
   "id": "f1850a34",
   "metadata": {},
   "outputs": [],
   "source": [
    "try :\n",
    "    bolunen = 10\n",
    "    bolen = 0\n",
    "    bolum = bolunen / bolen\n",
    "    print(bolum)\n",
    "except ZeroDivisionError :\n",
    "    print(\"Sifir ile bolme yapilamaz\")\n",
    "#istedigimiz manipulasyonu yapip, istedigimiz ciktiyi alabiliriz    "
   ]
  },
  {
   "cell_type": "code",
   "execution_count": 3,
   "id": "70d468ad",
   "metadata": {},
   "outputs": [
    {
     "ename": "NameError",
     "evalue": "name 'x' is not defined",
     "output_type": "error",
     "traceback": [
      "\u001b[1;31m---------------------------------------------------------------------------\u001b[0m",
      "\u001b[1;31mNameError\u001b[0m                                 Traceback (most recent call last)",
      "Cell \u001b[1;32mIn[3], line 2\u001b[0m\n\u001b[0;32m      1\u001b[0m bolunen \u001b[38;5;241m=\u001b[39m \u001b[38;5;241m10\u001b[39m\n\u001b[1;32m----> 2\u001b[0m \u001b[43mx\u001b[49m\n\u001b[0;32m      3\u001b[0m bolen \u001b[38;5;241m=\u001b[39m \u001b[38;5;241m0\u001b[39m\n\u001b[0;32m      4\u001b[0m \u001b[38;5;28;01mtry\u001b[39;00m :\n",
      "\u001b[1;31mNameError\u001b[0m: name 'x' is not defined"
     ]
    }
   ],
   "source": [
    "bolunen = 10\n",
    "x # burada try-except e girmeden NameError verdi\n",
    "bolen = 0\n",
    "try :\n",
    "    bolum = bolunen/bolen\n",
    "except ZeroDivisionError:\n",
    "    print(\"Hata!!!\")"
   ]
  },
  {
   "cell_type": "code",
   "execution_count": null,
   "id": "6b87433e",
   "metadata": {},
   "outputs": [],
   "source": [
    "try :\n",
    "    x \n",
    "except NameError:\n",
    "    print(\"Hata!!!\")"
   ]
  },
  {
   "cell_type": "code",
   "execution_count": null,
   "id": "22ba7877",
   "metadata": {},
   "outputs": [],
   "source": [
    "try:\n",
    "    bolunen = 10\n",
    "    x \n",
    "    bolen = 0 \n",
    "    bolum = bolunen/bolen\n",
    "except ZeroDivisionError:\n",
    "    print(\"Hata!!!\")"
   ]
  },
  {
   "cell_type": "code",
   "execution_count": null,
   "id": "40b9ee58",
   "metadata": {},
   "outputs": [],
   "source": [
    "try:\n",
    "    bolunen = 10\n",
    "    x # bu variable tanimlanmadigi icin NameError hatasi olustu\n",
    "    bolen = 0 \n",
    "    bolum = bolunen/bolen\n",
    "except ZeroDivisionError: # bu except yukaridaki hatayi yakalayamiyor\n",
    "    print(\"Hata!!!\")\n",
    "except NameError : # bu except yakaliyor\n",
    "    print(\"Tanimlanmayan degisken\")\n",
    "    x = bolunen # hata alindigi zaman variablelar uzerinde bu sekilde manipulasyonlar yapabiliriz\n",
    "    print(x)"
   ]
  },
  {
   "cell_type": "code",
   "execution_count": null,
   "id": "3d762b45",
   "metadata": {},
   "outputs": [],
   "source": [
    "try :\n",
    "    bolunen = 10\n",
    "    isim = \"Ahmet\"\n",
    "    bolen = 0\n",
    "    isim[5]\n",
    "    bolum = bolunen / bolen\n",
    "except ZeroDivisionError :\n",
    "    print(\"Sifir ile bolme yapilamaz\")\n",
    "except NameError: \n",
    "    print(\"Undefined Variable\")  \n",
    "except IndexError :\n",
    "    print(\"Hata Index Error\")"
   ]
  },
  {
   "cell_type": "code",
   "execution_count": null,
   "id": "f8329695",
   "metadata": {},
   "outputs": [],
   "source": [
    "try :\n",
    "    bolunen = 10\n",
    "    isim = \"Ahmet\"\n",
    "    bolen = 0\n",
    "    bolum = bolunen / bolen\n",
    "    isim[5]\n",
    "    x\n",
    "except ZeroDivisionError :\n",
    "    print(\"Hata!!! Sifir ile bolme yapilamaz\")\n",
    "except NameError: \n",
    "    print(\"Undefined Variable\")  \n",
    "except IndexError :\n",
    "    print(\"Hata!!! Index Error\")"
   ]
  },
  {
   "cell_type": "code",
   "execution_count": null,
   "id": "3eddac3c-0267-4426-8238-e348bc527dd0",
   "metadata": {},
   "outputs": [],
   "source": [
    "try :\n",
    "    bolunen = 10\n",
    "    isim = \"Ahmet\"\n",
    "    bolen = 0\n",
    "    bolum = bolunen / bolen\n",
    "    isim[5]\n",
    "    x\n",
    "except ZeroDivisionError :\n",
    "    print(\"Hata!!! Sifir ile bolme yapilamaz\")\n",
    "except NameError: \n",
    "    print(\"Undefined Variable\")  \n",
    "except IndexError :\n",
    "    print(\"Hata!!! Index Error\")\n",
    "print(f\"Program calismaya devam ediyor, Bolum:{bolunen/bolen}\") # buradaki ZeroDevision hatasi"
   ]
  },
  {
   "cell_type": "code",
   "execution_count": null,
   "id": "da0cf94d-8a63-4f81-8289-decf873145df",
   "metadata": {},
   "outputs": [],
   "source": [
    "try :\n",
    "    bolunen = 10\n",
    "    isim = \"Ahmet\"\n",
    "    bolen = 12\n",
    "    bolum = bolunen / bolen\n",
    "    isim[5]\n",
    "    x\n",
    "except ZeroDivisionError :\n",
    "    print(\"Hata!!! Sifir ile bolme yapilamaz\")\n",
    "    bolen = 2\n",
    "except NameError: \n",
    "    print(\"Undefined Variable\")  \n",
    "except IndexError :\n",
    "    print(\"Hata!!! Index Error\")\n",
    "print(f\"Program calismaya devam ediyor, Bolum:{bolunen/bolen}\")"
   ]
  },
  {
   "cell_type": "code",
   "execution_count": null,
   "id": "3244b894-f4e9-4338-9f22-4de99c08d7e5",
   "metadata": {},
   "outputs": [],
   "source": [
    "# try-except; hatayı bulma ve sonra istediğimiz manipülasyonu yapmamızı sağlar"
   ]
  },
  {
   "cell_type": "code",
   "execution_count": null,
   "id": "3f5d0453-3256-438c-86bf-f8aeca251e1a",
   "metadata": {},
   "outputs": [],
   "source": [
    "try :\n",
    "    bolunen = 10\n",
    "    isim = \"Ahmet\"\n",
    "    bolen = 12\n",
    "    bolum = bolunen / bolen\n",
    "    isim[5]\n",
    "    x\n",
    "except ZeroDivisionError :\n",
    "    print(\"Hata!!! Sifir ile bolme yapilamaz\")\n",
    "    bolen = 2\n",
    "except NameError: \n",
    "    print(\"Undefined Variable\")  \n",
    "except IndexError :\n",
    "    print(\"Hata!!! Index Error\")\n",
    "except Exception as error:\n",
    "    print(\"Tum hatalari burada yakaliyoruz\")\n",
    "    print(error)\n"
   ]
  },
  {
   "cell_type": "code",
   "execution_count": null,
   "id": "5bc549fc-5a1b-4cd5-8502-55d82edfc4d8",
   "metadata": {},
   "outputs": [],
   "source": [
    "try :\n",
    "    bolunen = 10\n",
    "    isim = \"Ahmet\"\n",
    "    bolen = 12\n",
    "    bolum = bolunen / bolen\n",
    "    isim[5]\n",
    "    x\n",
    "except Exception as e:\n",
    "    print(\"Tum hatalari burada yakalandi. Asagidaki exceptlere inmedi\")\n",
    "    print(e)\n",
    "# en genel ifadeyi en one yazmamaliyiz daha spesifik bir hata almak \n",
    "# istiyorsak ozelden genele dogru exceptinlari yazmaliyiz\n",
    "except ZeroDivisionError :\n",
    "    print(\"Hata!!! Sifir ile bolme yapilamaz\")\n",
    "    bolen = 2\n",
    "except NameError: \n",
    "    print(\"Undefined Variable\")  \n",
    "except IndexError :\n",
    "    print(\"Hata!!! Index Error\")\n",
    "except Exception as error:\n",
    "    print(\"Tum hatalari burada yakaliyoruz\")\n",
    "    print(error)\n",
    "print(\"Kod calismaya devam ediyor\")"
   ]
  },
  {
   "cell_type": "code",
   "execution_count": null,
   "id": "26b8d013-2d0d-4f23-b01b-ce44104e5f68",
   "metadata": {},
   "outputs": [],
   "source": [
    "try :\n",
    "    pass\n",
    "except :\n",
    "    pass\n",
    "finally:\n",
    "    pass"
   ]
  },
  {
   "cell_type": "code",
   "execution_count": null,
   "id": "952eaf1d-d212-419b-a92f-9f2944c62c60",
   "metadata": {},
   "outputs": [],
   "source": [
    "try :\n",
    "    bolunen = 10\n",
    "    bolen = 2\n",
    "    bolum = bolunen / bolen\n",
    "    print(\"bolum: \",bolum)\n",
    "    name\n",
    "except ZeroDivisionError :\n",
    "    print(\"Hata!!! Sifir ile bolme yapilamaz\")\n",
    "    bolen = 2\n",
    "except NameError: \n",
    "    print(\"Undefined Variable\")  \n",
    "except IndexError :\n",
    "    print(\"Hata!!! Index Error\")\n",
    "finally:\n",
    "    print(\"Finally blok her durumda calisir\")"
   ]
  },
  {
   "cell_type": "code",
   "execution_count": 4,
   "id": "c06298c3-14fc-430e-a776-e453e9dbde9b",
   "metadata": {},
   "outputs": [],
   "source": [
    "try :\n",
    "    pass\n",
    "except:\n",
    "    pass\n",
    "else:\n",
    "    pass\n",
    "finally:\n",
    "    pass"
   ]
  },
  {
   "cell_type": "code",
   "execution_count": 5,
   "id": "11f28cf9-a959-467f-8291-3d22b72e9d5a",
   "metadata": {},
   "outputs": [
    {
     "name": "stdout",
     "output_type": "stream",
     "text": [
      "Hata!!! Sifir ile bolme yapilamaz\n",
      "Finally blok her durumda calisir\n"
     ]
    }
   ],
   "source": [
    "try :\n",
    "    bolunen = 10\n",
    "    bolen = 0\n",
    "    bolum = bolunen / bolen\n",
    "    print(\"bolum: \",bolum)\n",
    "except ZeroDivisionError :\n",
    "    print(\"Hata!!! Sifir ile bolme yapilamaz\")\n",
    "    bolen = 2\n",
    "else :\n",
    "    print(\"else blogu calisti\")\n",
    "finally:\n",
    "    print(\"Finally blok her durumda calisir\")\n",
    "# try blogu icindeki kodlarda hata cikarsa except calisir\n",
    "# try blogu icindeki kodlarda hata cikmazsa else blogu calisir\n",
    "# finally her durumda calisir"
   ]
  },
  {
   "cell_type": "code",
   "execution_count": 6,
   "id": "d1eec9a7-c173-49a3-b588-ba8a43d3a2d3",
   "metadata": {},
   "outputs": [
    {
     "ename": "Exception",
     "evalue": "Keyfi Hata",
     "output_type": "error",
     "traceback": [
      "\u001b[1;31m---------------------------------------------------------------------------\u001b[0m",
      "\u001b[1;31mException\u001b[0m                                 Traceback (most recent call last)",
      "Cell \u001b[1;32mIn[6], line 1\u001b[0m\n\u001b[1;32m----> 1\u001b[0m \u001b[38;5;28;01mraise\u001b[39;00m \u001b[38;5;167;01mException\u001b[39;00m(\u001b[38;5;124m\"\u001b[39m\u001b[38;5;124mKeyfi Hata\u001b[39m\u001b[38;5;124m\"\u001b[39m)\n",
      "\u001b[1;31mException\u001b[0m: Keyfi Hata"
     ]
    }
   ],
   "source": [
    "raise Exception(\"Keyfi Hata\")\n",
    "# programda bir noktada hata verdirmek istersek, kodu durdurmak isterse\n",
    "# raise ile kendi hatamizi olusturup kodu durdurabiliriz"
   ]
  },
  {
   "cell_type": "code",
   "execution_count": null,
   "id": "5cd7ee86-3342-4c31-89d3-f5a7a80b4272",
   "metadata": {},
   "outputs": [],
   "source": [
    "def ters_cevir(s):\n",
    "    if type(s) != str:\n",
    "        raise TypeError(\"Lutfen bir string ifade giriniz\")\n",
    "    else:\n",
    "        return s[::-1]"
   ]
  },
  {
   "cell_type": "code",
   "execution_count": null,
   "id": "1fd2d95e-4055-4d19-a05e-3c7a693e1515",
   "metadata": {},
   "outputs": [],
   "source": [
    "ters_cevir(\"Ahmet\")"
   ]
  },
  {
   "cell_type": "code",
   "execution_count": null,
   "id": "097439a5-2611-48e6-849b-c92441f32cda",
   "metadata": {},
   "outputs": [],
   "source": [
    "ters_cevir(False)"
   ]
  },
  {
   "cell_type": "code",
   "execution_count": null,
   "id": "0c117113-c36f-4e5f-a02b-2c633616cd97",
   "metadata": {},
   "outputs": [],
   "source": [
    "ters_cevir([1,2,3])"
   ]
  },
  {
   "cell_type": "code",
   "execution_count": null,
   "id": "9f8eb6bc-8720-40ab-86b2-62cbd1262f03",
   "metadata": {},
   "outputs": [],
   "source": [
    "def ters_cevir(s):\n",
    "    if type(s) != str:\n",
    "        raise TypeError(\"Lutfen bir string ifade giriniz\")\n",
    "    else:\n",
    "        return s[::-1]"
   ]
  },
  {
   "cell_type": "code",
   "execution_count": null,
   "id": "f668a552-4401-4451-908b-e6d71ec53d6b",
   "metadata": {},
   "outputs": [],
   "source": [
    "def terscevir(s):\n",
    "    try :\n",
    "        return s[::-1]\n",
    "    except Exception as e :\n",
    "        print(\"String ya da list tipinde deger giriniz\")"
   ]
  },
  {
   "cell_type": "code",
   "execution_count": null,
   "id": "8e928693-a5c0-4ee1-a10b-274d403648c8",
   "metadata": {},
   "outputs": [],
   "source": [
    "terscevir(222)"
   ]
  },
  {
   "cell_type": "code",
   "execution_count": null,
   "id": "13d46ca2-d562-4538-bad7-f1873da1ff28",
   "metadata": {},
   "outputs": [],
   "source": [
    "terscevir(\"Ayse\")"
   ]
  },
  {
   "cell_type": "code",
   "execution_count": null,
   "id": "40a38b1b-728b-4a97-a674-c52d7dbdcd2d",
   "metadata": {},
   "outputs": [],
   "source": [
    "if True :\n",
    "    raise Exception(\"True olmasin\")\n",
    "# ben kodumun True olmasini istemezsem bu sekilde yapabilirim\n",
    "# Raise - kurallari manipule edip yeni kurallara gore kontrol etmek\n",
    "# Exception - genel kurallara tabi tutmak"
   ]
  },
  {
   "cell_type": "code",
   "execution_count": null,
   "id": "32ebcfdd-8ce1-47f0-8a25-6627e74623e1",
   "metadata": {},
   "outputs": [],
   "source": [
    "bool = False\n",
    "if bool : # burasi degeri True olursa calisir\n",
    "    raise Exception(\"Evet\")\n",
    "else :\n",
    "    print(\"Hayir\")"
   ]
  },
  {
   "cell_type": "code",
   "execution_count": null,
   "id": "e3fc06ee-6ce9-428c-bd19-ec4e1c922bf7",
   "metadata": {},
   "outputs": [],
   "source": [
    "# \n",
    "yasakli_kelime_list = [\"kotu\", \"cirkin\", \"berbat\"]\n",
    "def temizle(s):\n",
    "    for kelime in yasakli_kelime_list:\n",
    "        if kelime in s.lower():\n",
    "            raise Exception(\"Kelime yasakli\")\n",
    "            #raise ile local Exception() olusturup icine istedigimiz hata mesajini yazabiliriz\n",
    "    return s  "
   ]
  },
  {
   "cell_type": "code",
   "execution_count": null,
   "id": "4bd1d1e4-3bab-45ce-a0ad-6b57ca91d934",
   "metadata": {},
   "outputs": [],
   "source": [
    "#buyuk harfi atlamamasi icin\n",
    "#datayi alinca hepsini upper ya da lower yapiyoruz"
   ]
  },
  {
   "cell_type": "code",
   "execution_count": null,
   "id": "81f0ef55-f23a-438b-9337-dd72aab1956e",
   "metadata": {},
   "outputs": [],
   "source": [
    "temizle(\"kotu\")"
   ]
  },
  {
   "cell_type": "code",
   "execution_count": null,
   "id": "a514128e-3ad2-4574-962e-41e4bcea865f",
   "metadata": {},
   "outputs": [],
   "source": [
    "temizle(\"Hayat cok guzel\")"
   ]
  },
  {
   "cell_type": "code",
   "execution_count": null,
   "id": "e7ce7eea-0403-4b31-8c09-eea1c15fb817",
   "metadata": {},
   "outputs": [],
   "source": [
    "print(\"Kelime yasakli!!!\")"
   ]
  },
  {
   "cell_type": "code",
   "execution_count": null,
   "id": "b3b9527d-df0f-4c71-b455-9be0360a60d0",
   "metadata": {},
   "outputs": [],
   "source": [
    "try :\n",
    "    temizle(\"hayat Berbat\")\n",
    "except Exception as e:# temizle() fonksiyonundan gelen hatayi yakaladi ve icine yazdigimiz mesaji yazdirdi\n",
    "    print(e)"
   ]
  },
  {
   "cell_type": "code",
   "execution_count": null,
   "id": "78c65e26-c8fd-469e-88d1-f40c22559c26",
   "metadata": {},
   "outputs": [],
   "source": []
  },
  {
   "cell_type": "markdown",
   "id": "f7be1185-37a2-4f18-80d5-acbe32a74cb5",
   "metadata": {},
   "source": [
    "### Assert\n",
    "**assert** ifadesi, bir koşul ifadesinin 'doğru' olduğunu denetler. Doğru olduğu takdirde, program devam eder. Doğru olmadığı takdirde, bir hata mesajı görüntülenir ve program durur. assert ifadesinin koşulu sadece 'True' değer alabilir"
   ]
  },
  {
   "cell_type": "code",
   "execution_count": null,
   "id": "d4710283-1ebc-4067-92ab-357c1f7fb6cd",
   "metadata": {},
   "outputs": [],
   "source": [
    "#raise'de bir kosula bagliyorduk. True yada False olmasi farketmezdi\n",
    "#Assert'de ise False oldugu zaman hata kodu donduruyor."
   ]
  },
  {
   "cell_type": "code",
   "execution_count": 1,
   "id": "3e191e1a-7c09-40ab-b7af-993fc2756e99",
   "metadata": {},
   "outputs": [
    {
     "ename": "AssertionError",
     "evalue": "Eleman sayisi yeterli degil!",
     "output_type": "error",
     "traceback": [
      "\u001b[1;31m---------------------------------------------------------------------------\u001b[0m",
      "\u001b[1;31mAssertionError\u001b[0m                            Traceback (most recent call last)",
      "Cell \u001b[1;32mIn[1], line 3\u001b[0m\n\u001b[0;32m      1\u001b[0m \u001b[38;5;66;03m# assert\u001b[39;00m\n\u001b[0;32m      2\u001b[0m example \u001b[38;5;241m=\u001b[39m[\u001b[38;5;241m1\u001b[39m,\u001b[38;5;241m2\u001b[39m,\u001b[38;5;241m3\u001b[39m]\n\u001b[1;32m----> 3\u001b[0m \u001b[38;5;28;01massert\u001b[39;00m \u001b[38;5;28mlen\u001b[39m(example) \u001b[38;5;241m==\u001b[39m \u001b[38;5;241m6\u001b[39m, \u001b[38;5;124m\"\u001b[39m\u001b[38;5;124mEleman sayisi yeterli degil!\u001b[39m\u001b[38;5;124m\"\u001b[39m\n",
      "\u001b[1;31mAssertionError\u001b[0m: Eleman sayisi yeterli degil!"
     ]
    }
   ],
   "source": [
    "# assert\n",
    "example =[1,2,3]\n",
    "assert len(example) == 6, \"Eleman sayisi yeterli degil!\""
   ]
  },
  {
   "cell_type": "code",
   "execution_count": 7,
   "id": "7aed3a5f-9a4e-45b1-9b24-8f536bc27399",
   "metadata": {},
   "outputs": [
    {
     "ename": "AssertionError",
     "evalue": "Eleman sayisi yeterli degil!",
     "output_type": "error",
     "traceback": [
      "\u001b[1;31m---------------------------------------------------------------------------\u001b[0m",
      "\u001b[1;31mAssertionError\u001b[0m                            Traceback (most recent call last)",
      "Cell \u001b[1;32mIn[7], line 3\u001b[0m\n\u001b[0;32m      1\u001b[0m \u001b[38;5;66;03m#assert \u001b[39;00m\n\u001b[0;32m      2\u001b[0m example \u001b[38;5;241m=\u001b[39m[\u001b[38;5;241m1\u001b[39m,\u001b[38;5;241m2\u001b[39m,\u001b[38;5;241m3\u001b[39m]\n\u001b[1;32m----> 3\u001b[0m \u001b[38;5;28;01massert\u001b[39;00m \u001b[38;5;28mlen\u001b[39m(example) \u001b[38;5;241m==\u001b[39m \u001b[38;5;241m4\u001b[39m, \u001b[38;5;124m\"\u001b[39m\u001b[38;5;124mEleman sayisi yeterli degil!\u001b[39m\u001b[38;5;124m\"\u001b[39m\n\u001b[0;32m      4\u001b[0m \u001b[38;5;28mprint\u001b[39m(\u001b[38;5;124m\"\u001b[39m\u001b[38;5;124mkosul saglandigi icin hata vermedi\u001b[39m\u001b[38;5;124m\"\u001b[39m)\n",
      "\u001b[1;31mAssertionError\u001b[0m: Eleman sayisi yeterli degil!"
     ]
    }
   ],
   "source": [
    "#assert \n",
    "example =[1,2,3]\n",
    "assert len(example) == 4, \"Eleman sayisi yeterli degil!\"\n",
    "print(\"kosul saglandigi icin hata vermedi\")"
   ]
  },
  {
   "cell_type": "code",
   "execution_count": 20,
   "id": "d0f2205a-07e4-4e1d-8819-98364eb04afd",
   "metadata": {},
   "outputs": [],
   "source": [
    "#assert \n",
    "example =[1,2,3]\n",
    "assert len(example) == 3, \"Eleman sayisi yeterli degil!\""
   ]
  },
  {
   "cell_type": "code",
   "execution_count": 10,
   "id": "3170f3bf-4047-41c2-8b73-bb127c2afef9",
   "metadata": {},
   "outputs": [
    {
     "name": "stdout",
     "output_type": "stream",
     "text": [
      "Hata yok\n"
     ]
    }
   ],
   "source": [
    "if len(example) > 5:# len 5 ten buyuk olmadigi icin burasi calismadi\n",
    "    raise Exception (\"Hata\")\n",
    "else:\n",
    "    print(\"Hata yok\")\n",
    "# raise'de istedigimizi belirleyebiliyoruz. \n",
    "# adina Exception da diyebilirsin, TypeError da diyebilirsin.    "
   ]
  },
  {
   "cell_type": "code",
   "execution_count": 3,
   "id": "a9bbb82f-4512-4ca4-b3bc-71102b3e51ea",
   "metadata": {},
   "outputs": [
    {
     "ename": "Exception",
     "evalue": "Hata",
     "output_type": "error",
     "traceback": [
      "\u001b[1;31m---------------------------------------------------------------------------\u001b[0m",
      "\u001b[1;31mException\u001b[0m                                 Traceback (most recent call last)",
      "Cell \u001b[1;32mIn[3], line 4\u001b[0m\n\u001b[0;32m      2\u001b[0m     \u001b[38;5;28mprint\u001b[39m(\u001b[38;5;124m\"\u001b[39m\u001b[38;5;124mHata yok\u001b[39m\u001b[38;5;124m\"\u001b[39m)\n\u001b[0;32m      3\u001b[0m \u001b[38;5;28;01melse\u001b[39;00m: \n\u001b[1;32m----> 4\u001b[0m     \u001b[38;5;28;01mraise\u001b[39;00m \u001b[38;5;167;01mException\u001b[39;00m (\u001b[38;5;124m\"\u001b[39m\u001b[38;5;124mHata\u001b[39m\u001b[38;5;124m\"\u001b[39m)\n",
      "\u001b[1;31mException\u001b[0m: Hata"
     ]
    }
   ],
   "source": [
    "if len(example) > 5: # len 5 ten buyuk olmadigi icin burasi calismadi\n",
    "    print(\"Hata yok\")\n",
    "else: \n",
    "    raise Exception (\"Hata\")"
   ]
  },
  {
   "cell_type": "code",
   "execution_count": 9,
   "id": "cb02974d-e071-418c-b262-a232ea41307e",
   "metadata": {},
   "outputs": [],
   "source": [
    "def square(num):\n",
    "    assert num > 0, \"Sayi Pozitif olmalidir\" #buradaki mesaji assert kosulununa uymazsa yazdiriyor\n",
    "    return num**2\n",
    "    print(\"Sayinin karesi alindi\") #print() calismaz return den sonra old.icin"
   ]
  },
  {
   "cell_type": "code",
   "execution_count": 10,
   "id": "880a344f-d4be-413b-b77a-abf7e4a7eb81",
   "metadata": {},
   "outputs": [
    {
     "data": {
      "text/plain": [
       "4"
      ]
     },
     "execution_count": 10,
     "metadata": {},
     "output_type": "execute_result"
    }
   ],
   "source": [
    "square(2)"
   ]
  },
  {
   "cell_type": "code",
   "execution_count": 14,
   "id": "b2a77acc-841c-453f-adc1-dab7e01161b9",
   "metadata": {},
   "outputs": [
    {
     "ename": "AssertionError",
     "evalue": "Sayi Pozitif olmalidir",
     "output_type": "error",
     "traceback": [
      "\u001b[1;31m---------------------------------------------------------------------------\u001b[0m",
      "\u001b[1;31mAssertionError\u001b[0m                            Traceback (most recent call last)",
      "Cell \u001b[1;32mIn[14], line 1\u001b[0m\n\u001b[1;32m----> 1\u001b[0m \u001b[43msquare\u001b[49m\u001b[43m(\u001b[49m\u001b[38;5;241;43m-\u001b[39;49m\u001b[38;5;241;43m2\u001b[39;49m\u001b[43m)\u001b[49m\n",
      "Cell \u001b[1;32mIn[12], line 2\u001b[0m, in \u001b[0;36msquare\u001b[1;34m(num)\u001b[0m\n\u001b[0;32m      1\u001b[0m \u001b[38;5;28;01mdef\u001b[39;00m \u001b[38;5;21msquare\u001b[39m(num):\n\u001b[1;32m----> 2\u001b[0m     \u001b[38;5;28;01massert\u001b[39;00m num \u001b[38;5;241m>\u001b[39m \u001b[38;5;241m0\u001b[39m, \u001b[38;5;124m\"\u001b[39m\u001b[38;5;124mSayi Pozitif olmalidir\u001b[39m\u001b[38;5;124m\"\u001b[39m\n\u001b[0;32m      3\u001b[0m     \u001b[38;5;28;01mreturn\u001b[39;00m num\u001b[38;5;241m*\u001b[39m\u001b[38;5;241m*\u001b[39m\u001b[38;5;241m2\u001b[39m\n\u001b[0;32m      4\u001b[0m     \u001b[38;5;28mprint\u001b[39m(\u001b[38;5;124m\"\u001b[39m\u001b[38;5;124mSayinin karesi alindi\u001b[39m\u001b[38;5;124m\"\u001b[39m)\n",
      "\u001b[1;31mAssertionError\u001b[0m: Sayi Pozitif olmalidir"
     ]
    }
   ],
   "source": [
    "square(-2) # assert kosuluna uymadigi icin AssertionError"
   ]
  },
  {
   "cell_type": "code",
   "execution_count": 18,
   "id": "ed90bdb3-f50f-4150-b339-fa66fec0a68f",
   "metadata": {},
   "outputs": [
    {
     "name": "stdin",
     "output_type": "stream",
     "text": [
      "num: aa\n"
     ]
    },
    {
     "name": "stdout",
     "output_type": "stream",
     "text": [
      "Lutfen gecerli bir numerik deger giriniz\n",
      "Finally her kosulda calisti\n"
     ]
    },
    {
     "name": "stdin",
     "output_type": "stream",
     "text": [
      "num: *//\n"
     ]
    },
    {
     "name": "stdout",
     "output_type": "stream",
     "text": [
      "Lutfen gecerli bir numerik deger giriniz\n",
      "Finally her kosulda calisti\n"
     ]
    },
    {
     "name": "stdin",
     "output_type": "stream",
     "text": [
      "num: 3\n"
     ]
    },
    {
     "name": "stdout",
     "output_type": "stream",
     "text": [
      "girdiginiz sayi: 3\n",
      "programdan cikiliyor\n",
      "Finally her kosulda calisti\n"
     ]
    }
   ],
   "source": [
    "while True:\n",
    "    try:\n",
    "        num = int(input(\"num:\"))\n",
    "        print(\"girdiginiz sayi:\", num)\n",
    "    except Exception as e:\n",
    "        print(\"Lutfen gecerli bir numerik deger giriniz\")\n",
    "        print(\"Hata : \", e)\n",
    "    else:\n",
    "        print(\"else calisti ve programdan cikiliyor\")\n",
    "        break\n",
    "    finally:\n",
    "        print(\"Finally her kosulda calisti\")"
   ]
  },
  {
   "cell_type": "code",
   "execution_count": 25,
   "id": "21cb8485-07e1-49ef-8fa4-c47a0f490085",
   "metadata": {},
   "outputs": [
    {
     "name": "stdin",
     "output_type": "stream",
     "text": [
      "num: a\n"
     ]
    },
    {
     "name": "stdout",
     "output_type": "stream",
     "text": [
      "Lutfen gecerli bir numerik deger giriniz\n",
      "Hata :  invalid literal for int() with base 10: 'a'\n",
      "Finally her kosulda calisti\n"
     ]
    },
    {
     "name": "stdin",
     "output_type": "stream",
     "text": [
      "num: g\n"
     ]
    },
    {
     "name": "stdout",
     "output_type": "stream",
     "text": [
      "Lutfen gecerli bir numerik deger giriniz\n",
      "Hata :  invalid literal for int() with base 10: 'g'\n",
      "Finally her kosulda calisti\n"
     ]
    },
    {
     "name": "stdin",
     "output_type": "stream",
     "text": [
      "num: t\n"
     ]
    },
    {
     "name": "stdout",
     "output_type": "stream",
     "text": [
      "Lutfen gecerli bir numerik deger giriniz\n",
      "Hata :  invalid literal for int() with base 10: 't'\n",
      "Finally her kosulda calisti\n"
     ]
    }
   ],
   "source": [
    "count = 1\n",
    "while True:\n",
    "    try:\n",
    "        num = int(input(\"num:\"))\n",
    "        print(\"girdiginiz sayi:\", num)\n",
    "    except Exception as e:\n",
    "        print(\"Lutfen gecerli bir numerik deger giriniz\")\n",
    "        print(\"Hata : \", e)\n",
    "        count+=1\n",
    "        if count > 3:\n",
    "            break\n",
    "    else:\n",
    "        print(\"else calisti ve programdan cikiliyor\")\n",
    "        break\n",
    "    finally:\n",
    "        print(\"Finally her kosulda calisti\")"
   ]
  },
  {
   "cell_type": "code",
   "execution_count": null,
   "id": "77610f63-405f-4c67-8af2-75459a05af43",
   "metadata": {},
   "outputs": [],
   "source": []
  },
  {
   "cell_type": "code",
   "execution_count": null,
   "id": "cba52917-8fb4-4aa0-a0b3-e8de62608798",
   "metadata": {},
   "outputs": [],
   "source": []
  }
 ],
 "metadata": {
  "hide_input": false,
  "kernelspec": {
   "display_name": "Python 3 (ipykernel)",
   "language": "python",
   "name": "python3"
  },
  "language_info": {
   "codemirror_mode": {
    "name": "ipython",
    "version": 3
   },
   "file_extension": ".py",
   "mimetype": "text/x-python",
   "name": "python",
   "nbconvert_exporter": "python",
   "pygments_lexer": "ipython3",
   "version": "3.10.9"
  },
  "nbTranslate": {
   "displayLangs": [
    "*"
   ],
   "hotkey": "alt-t",
   "langInMainMenu": true,
   "sourceLang": "en",
   "targetLang": "fr",
   "useGoogleTranslate": true
  },
  "toc": {
   "base_numbering": 1,
   "nav_menu": {},
   "number_sections": true,
   "sideBar": true,
   "skip_h1_title": false,
   "title_cell": "Table of Contents",
   "title_sidebar": "Contents",
   "toc_cell": false,
   "toc_position": {
    "height": "calc(100% - 180px)",
    "left": "10px",
    "top": "150px",
    "width": "165px"
   },
   "toc_section_display": true,
   "toc_window_display": true
  },
  "varInspector": {
   "cols": {
    "lenName": 16,
    "lenType": 16,
    "lenVar": 40
   },
   "kernels_config": {
    "python": {
     "delete_cmd_postfix": "",
     "delete_cmd_prefix": "del ",
     "library": "var_list.py",
     "varRefreshCmd": "print(var_dic_list())"
    },
    "r": {
     "delete_cmd_postfix": ") ",
     "delete_cmd_prefix": "rm(",
     "library": "var_list.r",
     "varRefreshCmd": "cat(var_dic_list()) "
    }
   },
   "types_to_exclude": [
    "module",
    "function",
    "builtin_function_or_method",
    "instance",
    "_Feature"
   ],
   "window_display": false
  }
 },
 "nbformat": 4,
 "nbformat_minor": 5
}
