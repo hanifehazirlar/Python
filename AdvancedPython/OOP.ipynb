{
 "cells": [
  {
   "cell_type": "markdown",
   "id": "490c6c2e-2138-4375-a42e-dbc2506897f7",
   "metadata": {},
   "source": [
    "# OOP_Object-Oriented Programming(Nesne Yonelimli Programlama)\n",
    "* Sınıfların amacı, bir nesnenin özelliklerini ve işlevlerini tanımlamak ve bu nesnelerin birbirleriyle nasıl etkileşimde bulunabileceğini belirlemektir. Sınıf, bir şablon gibi düşünülebilir. Bir sınıf oluşturduğunuzda, bir nesne oluşturmak için kullanabileceğiniz özellikleri ve işlevleri belirlersiniz.\n",
    "* Sınıfların kullanımı, kodun daha düzenli ve organize bir şekilde yazılmasını sağlar. Ayrıca, nesne yönelimli programlama yaklaşımı, karmaşık sistemlerin modellemesini daha kolay hale getirir ve kodun tekrar kullanılabilirliğini artırır.\n"
   ]
  },
  {
   "cell_type": "code",
   "execution_count": 111,
   "id": "725db356-6337-453b-85e1-3ba0db0411bf",
   "metadata": {},
   "outputs": [],
   "source": [
    "# classlari adlandirirken camelcase(kelimelerin ilk harfleri buyuk) yazim yontemini kullniriz(underscore degil)\n",
    "class MyFirstClass :\n",
    "    pass\n",
    "# class olusturma yontemi bu sekilde, parantezde kullanbiliriz ama burada gerek yok gerektigi durumlar ileride gelecek"
   ]
  },
  {
   "cell_type": "code",
   "execution_count": 112,
   "id": "c2f11be1-35df-45e3-affb-c2bb1ab74a2e",
   "metadata": {},
   "outputs": [
    {
     "name": "stdout",
     "output_type": "stream",
     "text": [
      "<class 'type'>\n"
     ]
    }
   ],
   "source": [
    "print(type(MyFirstClass))\n",
    "#kullandigimiz veririnin turunu bilirsek daha iyi anlariz ve isimiz daha kolay olur, "
   ]
  },
  {
   "cell_type": "code",
   "execution_count": 113,
   "id": "f6d12176-2f66-443e-b079-717612d53c49",
   "metadata": {},
   "outputs": [
    {
     "name": "stdout",
     "output_type": "stream",
     "text": [
      "<class 'int'>\n",
      "<class 'str'>\n",
      "<class 'list'>\n",
      "<class '__main__.MyFirstClass'>\n"
     ]
    }
   ],
   "source": [
    "print(int)\n",
    "print(str)\n",
    "print(list)\n",
    "print(MyFirstClass)"
   ]
  },
  {
   "cell_type": "code",
   "execution_count": 114,
   "id": "152e39b1-9b39-4359-80e5-f7412aa22e63",
   "metadata": {},
   "outputs": [],
   "source": [
    "class MyFirstClass :\n",
    "    pass\n",
    "# classlar bos sablonlar gibidir"
   ]
  },
  {
   "cell_type": "code",
   "execution_count": 115,
   "id": "5469a0b6-0d88-4942-8919-89e840a42b2c",
   "metadata": {},
   "outputs": [],
   "source": [
    "my_class = MyFirstClass()"
   ]
  },
  {
   "cell_type": "code",
   "execution_count": 116,
   "id": "e1e28864-b334-417d-80b3-8ef841d9abe2",
   "metadata": {},
   "outputs": [
    {
     "data": {
      "text/plain": [
       "<__main__.MyFirstClass at 0x2dc4beaf2b0>"
      ]
     },
     "execution_count": 116,
     "metadata": {},
     "output_type": "execute_result"
    }
   ],
   "source": [
    "my_class"
   ]
  },
  {
   "cell_type": "code",
   "execution_count": 117,
   "id": "2828e0cf-a408-48a4-8dfa-775376dac074",
   "metadata": {},
   "outputs": [
    {
     "name": "stdout",
     "output_type": "stream",
     "text": [
      "<__main__.Person object at 0x000002DC4BEAEB90>\n",
      "<__main__.Person object at 0x000002DC4BEA04F0>\n"
     ]
    }
   ],
   "source": [
    "class Person :#burada class i olusturduk\n",
    "    pass\n",
    "p1 = Person() #buradaki p1 p2 lere instance variable denir (java daki obje olusturma)\n",
    "print(p1)\n",
    "p2 = Person()\n",
    "print(p2)\n",
    "p3 = Person()"
   ]
  },
  {
   "cell_type": "code",
   "execution_count": 118,
   "id": "f84b8fa6-fead-4778-80fe-184120bed6ad",
   "metadata": {},
   "outputs": [],
   "source": [
    "p1.name = \"Ahmet\"  #burada Person classindan olusturdugumuz instance a ozellikler(attribute) ekliyoruz\n",
    "p1.surname = \"Yilmaz\"\n",
    "p1.age = 25\n",
    "p1.job = \"Engineer\""
   ]
  },
  {
   "cell_type": "code",
   "execution_count": 119,
   "id": "cff61a90-9382-46b1-b0cf-80fcfdcbdc0b",
   "metadata": {},
   "outputs": [],
   "source": [
    "p2 = Person() # p2 instance olusturduk\n",
    "p2.name = \"Mehmet\" # p2 instance ina ozellikler(attributeler) ekledik. Bu ozellikler diger instancelarla ayni da olabilir farkli da\n",
    "p2.surname = \"Yilmaz\"\n",
    "p2.age = 30\n",
    "p2.job = \"Teacher\"\n",
    "p2.country = \"Turkiye\""
   ]
  },
  {
   "cell_type": "code",
   "execution_count": 120,
   "id": "fadec808-1394-4444-a76f-36723a787e8e",
   "metadata": {},
   "outputs": [
    {
     "name": "stdout",
     "output_type": "stream",
     "text": [
      "Ahmet Yilmaz 25 Engineer\n"
     ]
    }
   ],
   "source": [
    "# olusturdugumuz instance in attribute lere ulasma\n",
    "print(p1.name, p1.surname, p1.age, p1.job)"
   ]
  },
  {
   "cell_type": "code",
   "execution_count": 121,
   "id": "d943ce5a-b938-4131-8a97-074e2d301e9a",
   "metadata": {},
   "outputs": [
    {
     "name": "stdout",
     "output_type": "stream",
     "text": [
      "Mehmet Yilmaz 30 Teacher Turkiye\n"
     ]
    }
   ],
   "source": [
    "print(p2.name, p2.surname, p2.age, p2.job, p2.country)"
   ]
  },
  {
   "cell_type": "code",
   "execution_count": 1,
   "id": "2d816dd6-b1cc-4ce9-b883-3261f2f75a6b",
   "metadata": {},
   "outputs": [],
   "source": [
    "class Person:\n",
    "    def __init__(self): #class i cagirdigimiz an bu fonksiyon calismaya baslar.Yapici fonksiyon(constructor)\n",
    "        # buradaki self instance in kendisidir\n",
    "        # buradaki __init__ injilize ilk tanimlama\n",
    "        self.name = \"No name\"\n",
    "        self.surname = \"No Surname\"\n",
    "        self.age = \"No age\"\n",
    "        self.job = \"No job\""
   ]
  },
  {
   "cell_type": "code",
   "execution_count": 123,
   "id": "547dea65-3a57-48b8-8f39-d8a88bafbb1c",
   "metadata": {},
   "outputs": [],
   "source": [
    "p1 = Person()"
   ]
  },
  {
   "cell_type": "code",
   "execution_count": 124,
   "id": "5dbf3149-6f13-4419-bd54-4241b6e6685d",
   "metadata": {},
   "outputs": [
    {
     "data": {
      "text/plain": [
       "('No name', 'No Surname', 'No age', 'No job')"
      ]
     },
     "execution_count": 124,
     "metadata": {},
     "output_type": "execute_result"
    }
   ],
   "source": [
    "p1.name, p1.surname, p1.age, p1.job"
   ]
  },
  {
   "cell_type": "code",
   "execution_count": 125,
   "id": "67eb9c48-b5e0-4ac2-9bd1-d4d1d32ff615",
   "metadata": {},
   "outputs": [
    {
     "ename": "AttributeError",
     "evalue": "'Person' object has no attribute 'country'",
     "output_type": "error",
     "traceback": [
      "\u001b[1;31m---------------------------------------------------------------------------\u001b[0m",
      "\u001b[1;31mAttributeError\u001b[0m                            Traceback (most recent call last)",
      "Cell \u001b[1;32mIn[125], line 1\u001b[0m\n\u001b[1;32m----> 1\u001b[0m \u001b[43mp1\u001b[49m\u001b[38;5;241;43m.\u001b[39;49m\u001b[43mcountry\u001b[49m\n",
      "\u001b[1;31mAttributeError\u001b[0m: 'Person' object has no attribute 'country'"
     ]
    }
   ],
   "source": [
    "p1.country\n",
    "# p1 instance inda olmayan bir attribute u cagirmaya calistigimiz icin hata verdi"
   ]
  },
  {
   "cell_type": "code",
   "execution_count": 2,
   "id": "01c0f39e-2357-474f-9d28-478be9c857c0",
   "metadata": {},
   "outputs": [
    {
     "name": "stdout",
     "output_type": "stream",
     "text": [
      "No name\n",
      "Ahmet\n"
     ]
    }
   ],
   "source": [
    "p1 = Person()\n",
    "print(p1.name) # default deger\n",
    "p1.name = \"Ahmet\" # default deger uzerine override(gecersiz kilma) yaptik\n",
    "print(p1.name)"
   ]
  },
  {
   "cell_type": "code",
   "execution_count": 4,
   "id": "4734fa24-44f1-43b3-952e-e2abd9af3abf",
   "metadata": {},
   "outputs": [],
   "source": [
    "class Person:\n",
    "    def __init__(self,name,surname,age,job): #buradaki self instance in kendisi, digerleri parametre yani parametreli constructor olusturduk\n",
    "       self.name    = name\n",
    "       self.surname = surname\n",
    "       self.age     = age\n",
    "       self.job     = job"
   ]
  },
  {
   "cell_type": "code",
   "execution_count": 5,
   "id": "57fba46a-387d-44a1-ab50-c4e367e9c9df",
   "metadata": {},
   "outputs": [
    {
     "ename": "TypeError",
     "evalue": "Person.__init__() missing 4 required positional arguments: 'name', 'surname', 'age', and 'job'",
     "output_type": "error",
     "traceback": [
      "\u001b[1;31m---------------------------------------------------------------------------\u001b[0m",
      "\u001b[1;31mTypeError\u001b[0m                                 Traceback (most recent call last)",
      "Cell \u001b[1;32mIn[5], line 1\u001b[0m\n\u001b[1;32m----> 1\u001b[0m p1 \u001b[38;5;241m=\u001b[39m \u001b[43mPerson\u001b[49m\u001b[43m(\u001b[49m\u001b[43m)\u001b[49m\n",
      "\u001b[1;31mTypeError\u001b[0m: Person.__init__() missing 4 required positional arguments: 'name', 'surname', 'age', and 'job'"
     ]
    }
   ],
   "source": [
    "p1 = Person()\n",
    "# parametreli method olusturdugumuz icin icindeki parametre kadar parametere yazmadigimiz icin hata verdi"
   ]
  },
  {
   "cell_type": "code",
   "execution_count": 7,
   "id": "0b901a9d-327a-409d-8fb9-fd05f7bd93b7",
   "metadata": {},
   "outputs": [],
   "source": [
    "p1 = Person(\"Ayse\",\"Gul\",25,\"IT\") # parametreli constructor\n",
    "# burada self ile ilgili bir sey yazmiyoruz cunku self p1 in kendisi"
   ]
  },
  {
   "cell_type": "code",
   "execution_count": 8,
   "id": "b3756f6a-48c8-4dd3-a83b-b65b9f145c29",
   "metadata": {},
   "outputs": [
    {
     "name": "stdout",
     "output_type": "stream",
     "text": [
      "Ayse\n",
      "Gul\n",
      "25\n",
      "IT\n"
     ]
    }
   ],
   "source": [
    "print(p1.name)\n",
    "print(p1.surname)\n",
    "print(p1.age)\n",
    "print(p1.job)"
   ]
  },
  {
   "cell_type": "code",
   "execution_count": 9,
   "id": "ed1578d3-6610-4253-b9b4-e64140ad25a1",
   "metadata": {},
   "outputs": [
    {
     "data": {
      "text/plain": [
       "(10, 'serdar')"
      ]
     },
     "execution_count": 9,
     "metadata": {},
     "output_type": "execute_result"
    }
   ],
   "source": [
    "p2 = Person(10,20,\"serdar\",100)\n",
    "p2.name,p2.age"
   ]
  },
  {
   "cell_type": "code",
   "execution_count": 11,
   "id": "11d9452f-d38a-4797-8b51-b6e33d99fbcd",
   "metadata": {},
   "outputs": [],
   "source": [
    "class Person:\n",
    "    def __init__(self,a,b,c,d): #buradaki argumantlarin ne oldugunun onemi yok bunlar positonal(yer) argumant\n",
    "       self.name    = a\n",
    "       self.surname = b\n",
    "       self.age     = c\n",
    "       self.job     = d"
   ]
  },
  {
   "cell_type": "code",
   "execution_count": 12,
   "id": "bc5d89d3-99ff-495c-90a4-20a2b3962089",
   "metadata": {},
   "outputs": [
    {
     "data": {
      "text/plain": [
       "['Developer', 'Teacher', 'Lawyer']"
      ]
     },
     "execution_count": 12,
     "metadata": {},
     "output_type": "execute_result"
    }
   ],
   "source": [
    "p3 = Person(\"Ali\",\"Veli\", 30,[\"Developer\", \"Teacher\", \"Lawyer\" ])\n",
    "p3.job"
   ]
  },
  {
   "cell_type": "code",
   "execution_count": 13,
   "id": "86aaee3d-4405-4268-94b6-f34254dc1fdc",
   "metadata": {},
   "outputs": [],
   "source": [
    "class Person:\n",
    "    def __init__(self,name,surname,age,job): #buradaki self instance in kendisi, digerleri parametre yani parametreli constructor olusturduk\n",
    "       self.name    = name\n",
    "       self.surname = surname\n",
    "       self.age     = age\n",
    "       self.job     = job\n",
    "    def fullname(self): #fulname() methodu olusturduk.# instance method-nesne(obje) oluşturmadan bu methodu kullanamayız\n",
    "        return f\"isim: {self.name} soyisim: {self.surname}\"\n",
    "# kullandigimiz fonksiyon bir class in icinde tanimli ise artik fonksiyon demeyiz method deriz.\n",
    "# Icinde bulundugu classin methodu olur"
   ]
  },
  {
   "cell_type": "code",
   "execution_count": 15,
   "id": "e604358f-0464-4e72-851b-b91f57eabc0e",
   "metadata": {},
   "outputs": [
    {
     "data": {
      "text/plain": [
       "<bound method Person.fullname of <__main__.Person object at 0x0000028ED9833940>>"
      ]
     },
     "execution_count": 15,
     "metadata": {},
     "output_type": "execute_result"
    }
   ],
   "source": [
    "p1.fullname"
   ]
  },
  {
   "cell_type": "code",
   "execution_count": 14,
   "id": "4a4ee0c0-384b-46ef-b415-59bf1dcef336",
   "metadata": {},
   "outputs": [
    {
     "data": {
      "text/plain": [
       "'isim: Ayse soyisim: Gul'"
      ]
     },
     "execution_count": 14,
     "metadata": {},
     "output_type": "execute_result"
    }
   ],
   "source": [
    "p1 = Person(\"Ayse\",\"Gul\",30,\"Teacher\")\n",
    "p1.fullname()"
   ]
  },
  {
   "cell_type": "code",
   "execution_count": 16,
   "id": "ff463bb7-43d7-4e5f-bf62-3f2b4e162058",
   "metadata": {},
   "outputs": [],
   "source": [
    "class Person:\n",
    "    def __init__(self,name,surname,age,job): #buradaki self instance in kendisi, digerleri parametre yani parametreli constructor olusturduk\n",
    "       self.name    = name\n",
    "       self.surname = surname\n",
    "       self.age     = age\n",
    "       self.job     = job\n",
    "    def fullname(self):\n",
    "        return f\"isim: {self.name} soyisim: {self.surname}\"\n",
    "    def info(self) :\n",
    "        return f\"name: {self.name} surname: {self.surname} age: {self.age}\"\n",
    "    "
   ]
  },
  {
   "cell_type": "code",
   "execution_count": 17,
   "id": "a3b99162-2b30-43d3-9dda-e893490468f5",
   "metadata": {},
   "outputs": [
    {
     "name": "stdout",
     "output_type": "stream",
     "text": [
      "isim: Fatma soyisim: Nur\n",
      "name: Fatma surname: Nur age: 27\n"
     ]
    }
   ],
   "source": [
    "p1 = Person(\"Fatma\", \"Nur\",27,\"IT\")\n",
    "print(p1.fullname())\n",
    "print(p1.info())"
   ]
  },
  {
   "cell_type": "markdown",
   "id": "7db40d3b-c09c-4117-a065-75bc3df23b36",
   "metadata": {},
   "source": [
    "# Class Attribute & Instance Attribute"
   ]
  },
  {
   "cell_type": "code",
   "execution_count": 20,
   "id": "7682a948-e88a-4899-bfb6-9e60b024043f",
   "metadata": {},
   "outputs": [],
   "source": [
    "class Employee : # bu hucre bir class\n",
    "    \"\"\" Employee Class : name, surname, pay \"\"\"\n",
    "    raise_amount = 1.2 \n",
    "    # raise_amount u  class level da olusturduk bu sekilde kullanima class attribute denir\n",
    "    # class attribute butun methodlarda gecerlidir, daha ozeli olmadigi muddetce\n",
    "    def __init__(self,name,surname,pay):\n",
    "        self.name = name\n",
    "        self.surname = surname\n",
    "        self.pay = pay\n",
    "    def fullname(self):\n",
    "        print(self.name, self.surname)\n",
    "    def pay_raise(self) :\n",
    "        self.pay = int(self.pay*self.raise_amount)\n",
    "        print(self.pay)\n",
    "        #return self.pay de yazabiliriz\n",
    "   "
   ]
  },
  {
   "cell_type": "code",
   "execution_count": 21,
   "id": "7ac06340-9aa9-4226-b3cd-aa0a45e2a0bf",
   "metadata": {},
   "outputs": [
    {
     "data": {
      "text/plain": [
       "1.2"
      ]
     },
     "execution_count": 21,
     "metadata": {},
     "output_type": "execute_result"
    }
   ],
   "source": [
    "Employee.raise_amount #Employee class indan raise_amount attribute unu cagirdik"
   ]
  },
  {
   "cell_type": "code",
   "execution_count": 24,
   "id": "3f9dfd19-350c-4cd1-9d0f-feb4ca7148cc",
   "metadata": {},
   "outputs": [],
   "source": [
    "e1 = Employee(\"Ahmet\", \"Yilmaz\", 5000)\n",
    "e2 = Employee(\"Mehmet\", \"Erdemir\", 5000)"
   ]
  },
  {
   "cell_type": "code",
   "execution_count": 25,
   "id": "6459a940-2b17-4471-9e44-24edef7c1283",
   "metadata": {},
   "outputs": [
    {
     "name": "stdout",
     "output_type": "stream",
     "text": [
      "Ahmet Yilmaz\n"
     ]
    }
   ],
   "source": [
    "Employee.fullname(e1) # yaygin olmayan bir kullanim"
   ]
  },
  {
   "cell_type": "code",
   "execution_count": 26,
   "id": "4dab0df3-135d-4f27-b609-7687b3d76ffd",
   "metadata": {},
   "outputs": [
    {
     "data": {
      "text/plain": [
       "{'name': 'Ahmet', 'surname': 'Yilmaz', 'pay': 5000}"
      ]
     },
     "execution_count": 26,
     "metadata": {},
     "output_type": "execute_result"
    }
   ],
   "source": [
    "e1.__dict__ # __dict__ ile instance in sahip oldugu attribute leri gorebiliyoruz"
   ]
  },
  {
   "cell_type": "code",
   "execution_count": 27,
   "id": "7e409ecb-deb4-4bbe-be10-4e34010f674e",
   "metadata": {},
   "outputs": [
    {
     "data": {
      "text/plain": [
       "{'name': 'Mehmet', 'surname': 'Erdemir', 'pay': 5000}"
      ]
     },
     "execution_count": 27,
     "metadata": {},
     "output_type": "execute_result"
    }
   ],
   "source": [
    "e2.__dict__"
   ]
  },
  {
   "cell_type": "code",
   "execution_count": 28,
   "id": "488b9400-7d2e-48b3-9a76-f30fae2fb9d6",
   "metadata": {},
   "outputs": [
    {
     "data": {
      "text/plain": [
       "1.2"
      ]
     },
     "execution_count": 28,
     "metadata": {},
     "output_type": "execute_result"
    }
   ],
   "source": [
    "e1.raise_amount\n",
    "# raise_amount class attribute oldugu icin Employee.raise_amount dedigimizde de sonucu alabiliyoruz"
   ]
  },
  {
   "cell_type": "code",
   "execution_count": 29,
   "id": "385de33a-9754-432b-92e7-10d77cb8f30d",
   "metadata": {},
   "outputs": [
    {
     "name": "stdout",
     "output_type": "stream",
     "text": [
      "Ahmet Yilmaz\n"
     ]
    }
   ],
   "source": [
    "e1.fullname()"
   ]
  },
  {
   "cell_type": "code",
   "execution_count": 30,
   "id": "24c1946e-ec8f-40f9-a195-0baa5a0984ec",
   "metadata": {},
   "outputs": [
    {
     "name": "stdout",
     "output_type": "stream",
     "text": [
      "6000\n"
     ]
    }
   ],
   "source": [
    "e1.pay_raise()"
   ]
  },
  {
   "cell_type": "code",
   "execution_count": 31,
   "id": "88bd846c-6b33-4efb-be72-ab1a586559c9",
   "metadata": {},
   "outputs": [
    {
     "data": {
      "text/plain": [
       "6000"
      ]
     },
     "execution_count": 31,
     "metadata": {},
     "output_type": "execute_result"
    }
   ],
   "source": [
    "e1.pay\n",
    "# pay_raise() methodundan dolayi pay in uzerine override yapti ve kalici degisiklik oldu"
   ]
  },
  {
   "cell_type": "code",
   "execution_count": 33,
   "id": "af3d0309-bdfc-4485-9a22-1778276810ed",
   "metadata": {},
   "outputs": [],
   "source": [
    "e3 = Employee(\"Veli\", \"Erdemir\", 5000)"
   ]
  },
  {
   "cell_type": "code",
   "execution_count": 34,
   "id": "02c0e114-04c2-4d49-8dd4-536d34f09e4e",
   "metadata": {},
   "outputs": [
    {
     "data": {
      "text/plain": [
       "(6000, 5000, 5000)"
      ]
     },
     "execution_count": 34,
     "metadata": {},
     "output_type": "execute_result"
    }
   ],
   "source": [
    "e1.pay, e2.pay, e3.pay"
   ]
  },
  {
   "cell_type": "code",
   "execution_count": 35,
   "id": "6d8c9e01-7c3e-4388-890a-653e31a2ae49",
   "metadata": {},
   "outputs": [
    {
     "name": "stdout",
     "output_type": "stream",
     "text": [
      "6000\n"
     ]
    }
   ],
   "source": [
    "e2.pay_raise()"
   ]
  },
  {
   "cell_type": "code",
   "execution_count": 36,
   "id": "10047967-4290-48b8-8298-168bea3c0e80",
   "metadata": {},
   "outputs": [
    {
     "data": {
      "text/plain": [
       "6000"
      ]
     },
     "execution_count": 36,
     "metadata": {},
     "output_type": "execute_result"
    }
   ],
   "source": [
    "e2.pay"
   ]
  },
  {
   "cell_type": "code",
   "execution_count": 37,
   "id": "70e2476d-af4a-46b6-889c-aea35a70ec4f",
   "metadata": {},
   "outputs": [
    {
     "data": {
      "text/plain": [
       "(6000, 6000, 5000)"
      ]
     },
     "execution_count": 37,
     "metadata": {},
     "output_type": "execute_result"
    }
   ],
   "source": [
    "e1.pay, e2.pay, e3.pay"
   ]
  },
  {
   "cell_type": "code",
   "execution_count": 38,
   "id": "b8144cdb-172e-4718-84f4-91b68fcae03e",
   "metadata": {},
   "outputs": [
    {
     "data": {
      "text/plain": [
       "(1.2, 1.2, 1.2, 1.2)"
      ]
     },
     "execution_count": 38,
     "metadata": {},
     "output_type": "execute_result"
    }
   ],
   "source": [
    "Employee.raise_amount, e1.raise_amount,e2.raise_amount,e3.raise_amount"
   ]
  },
  {
   "cell_type": "code",
   "execution_count": 39,
   "id": "dd28b905-ecbd-473f-bef8-7ab1b7167d7b",
   "metadata": {},
   "outputs": [
    {
     "data": {
      "text/plain": [
       "({'name': 'Ahmet', 'surname': 'Yilmaz', 'pay': 6000},\n",
       " {'name': 'Mehmet', 'surname': 'Erdemir', 'pay': 6000},\n",
       " {'name': 'Veli', 'surname': 'Erdemir', 'pay': 5000})"
      ]
     },
     "execution_count": 39,
     "metadata": {},
     "output_type": "execute_result"
    }
   ],
   "source": [
    "e1.__dict__,e2.__dict__,e3.__dict__"
   ]
  },
  {
   "cell_type": "code",
   "execution_count": 40,
   "id": "1a292509-e3c4-4baa-b6db-c16db360f772",
   "metadata": {},
   "outputs": [],
   "source": [
    "e3.raise_amount = 2\n",
    "# burada raise_amount attribute unu ozellestirdik e3 instance ina ozel deger atadik(override) yaptik.\n",
    "# artik e3 un raise_amount attribute olusmus oldu\n",
    "# bu sekilde disaridan atamalar saglikli bulunmuyor"
   ]
  },
  {
   "cell_type": "code",
   "execution_count": 41,
   "id": "d5b1a7d7-7572-4de8-8d69-0e12b49f509d",
   "metadata": {},
   "outputs": [
    {
     "data": {
      "text/plain": [
       "(1.2, 1.2, 1.2, 2)"
      ]
     },
     "execution_count": 41,
     "metadata": {},
     "output_type": "execute_result"
    }
   ],
   "source": [
    "Employee.raise_amount, e1.raise_amount,e2.raise_amount,e3.raise_amount\n",
    "# e3.raise_amount un degeri degisti"
   ]
  },
  {
   "cell_type": "code",
   "execution_count": 42,
   "id": "cab9eef1-4adb-4da4-a8e4-2b5896abb888",
   "metadata": {},
   "outputs": [
    {
     "name": "stdout",
     "output_type": "stream",
     "text": [
      "10000\n"
     ]
    }
   ],
   "source": [
    "e3.pay_raise()"
   ]
  },
  {
   "cell_type": "code",
   "execution_count": 43,
   "id": "916224ef-f22e-44dc-a332-93bd6f632527",
   "metadata": {},
   "outputs": [
    {
     "data": {
      "text/plain": [
       "({'name': 'Ahmet', 'surname': 'Yilmaz', 'pay': 6000},\n",
       " {'name': 'Mehmet', 'surname': 'Erdemir', 'pay': 6000},\n",
       " {'name': 'Veli', 'surname': 'Erdemir', 'pay': 10000, 'raise_amount': 2})"
      ]
     },
     "execution_count": 43,
     "metadata": {},
     "output_type": "execute_result"
    }
   ],
   "source": [
    "e1.__dict__,e2.__dict__,e3.__dict__"
   ]
  },
  {
   "cell_type": "code",
   "execution_count": 44,
   "id": "ca483133-1f04-4ec2-875a-431cf093a004",
   "metadata": {},
   "outputs": [],
   "source": [
    "class Employee : # bu hucre bir class\n",
    "    \"\"\" Employee Class : name, surname, pay \"\"\"\n",
    "    raise_amount = 1.2 \n",
    "    # raise_amount u  class level da olusturduk bu sekilde kullanima class attribute denir\n",
    "    # class attribute butun methodlarda gecerlidir, daha ozeli olmadigi muddetce\n",
    "    def __init__(self,name,surname,pay):\n",
    "        self.name = name\n",
    "        self.surname = surname\n",
    "        self.pay = pay\n",
    "    def fullname(self):\n",
    "        print(self.name, self.surname)\n",
    "    def pay_raise(self) :\n",
    "        self.pay = int(self.pay*Employee.raise_amount) # self yazmadigimiz icin her zaman class attribute degerini kullanacak\n",
    "        return self.pay "
   ]
  },
  {
   "cell_type": "code",
   "execution_count": 45,
   "id": "cf47a971-f441-40d1-9ef8-63f6d2fca076",
   "metadata": {},
   "outputs": [],
   "source": [
    "e1 = Employee(\"Ahmet\", \"Yilmaz\", 5000)\n",
    "e2 = Employee(\"Mehmet\", \"Erdemir\", 5000)"
   ]
  },
  {
   "cell_type": "code",
   "execution_count": 46,
   "id": "fffc88fb-c123-4b1d-a0fd-ea7c4eb8d849",
   "metadata": {},
   "outputs": [
    {
     "data": {
      "text/plain": [
       "(1.2, 1.2, 1.2)"
      ]
     },
     "execution_count": 46,
     "metadata": {},
     "output_type": "execute_result"
    }
   ],
   "source": [
    "Employee.raise_amount, e1.raise_amount,e2.raise_amount"
   ]
  },
  {
   "cell_type": "code",
   "execution_count": 47,
   "id": "5c48276a-cdec-41d1-b947-1a2d027ff87b",
   "metadata": {},
   "outputs": [
    {
     "data": {
      "text/plain": [
       "({'name': 'Ahmet', 'surname': 'Yilmaz', 'pay': 5000},\n",
       " {'name': 'Mehmet', 'surname': 'Erdemir', 'pay': 5000})"
      ]
     },
     "execution_count": 47,
     "metadata": {},
     "output_type": "execute_result"
    }
   ],
   "source": [
    "e1.__dict__,e2.__dict__"
   ]
  },
  {
   "cell_type": "code",
   "execution_count": 48,
   "id": "d4ede7cb-f425-4235-ac36-77df5db619e8",
   "metadata": {},
   "outputs": [
    {
     "data": {
      "text/plain": [
       "(6000, 6000)"
      ]
     },
     "execution_count": 48,
     "metadata": {},
     "output_type": "execute_result"
    }
   ],
   "source": [
    "e1.pay_raise(),e2.pay_raise()"
   ]
  },
  {
   "cell_type": "code",
   "execution_count": 49,
   "id": "ef7910cf-572a-4cca-9e0c-a30422c73b12",
   "metadata": {},
   "outputs": [],
   "source": [
    "e2.raise_amount = 2"
   ]
  },
  {
   "cell_type": "code",
   "execution_count": 50,
   "id": "c54f7f2b-6ea8-42b3-a389-0a0d8bd21f6e",
   "metadata": {},
   "outputs": [
    {
     "data": {
      "text/plain": [
       "(1.2, 1.2, 2)"
      ]
     },
     "execution_count": 50,
     "metadata": {},
     "output_type": "execute_result"
    }
   ],
   "source": [
    "Employee.raise_amount, e1.raise_amount,e2.raise_amount"
   ]
  },
  {
   "cell_type": "code",
   "execution_count": 51,
   "id": "34484ead-72c1-4d05-a0ee-ca88958b9a74",
   "metadata": {},
   "outputs": [
    {
     "data": {
      "text/plain": [
       "({'name': 'Ahmet', 'surname': 'Yilmaz', 'pay': 6000},\n",
       " {'name': 'Mehmet', 'surname': 'Erdemir', 'pay': 6000, 'raise_amount': 2})"
      ]
     },
     "execution_count": 51,
     "metadata": {},
     "output_type": "execute_result"
    }
   ],
   "source": [
    "e1.__dict__,e2.__dict__"
   ]
  },
  {
   "cell_type": "code",
   "execution_count": 52,
   "id": "98e4b48b-6fc7-4fb6-8be1-00a137b76fcb",
   "metadata": {},
   "outputs": [
    {
     "data": {
      "text/plain": [
       "(7200, 7200)"
      ]
     },
     "execution_count": 52,
     "metadata": {},
     "output_type": "execute_result"
    }
   ],
   "source": [
    "e1.pay_raise(),e2.pay_raise()\n",
    "# pay_raise() methodunun icinde self.pay = int(self.pay*Employee.raise_amount) old.icin Employee.raise_amount u kullandi\n",
    "# yani raise_amount = 1.2 yi kullandi bu yuzden ikisi de ayni geldi"
   ]
  },
  {
   "cell_type": "code",
   "execution_count": 53,
   "id": "6a426abd-04b8-4cff-94cd-cb270739266f",
   "metadata": {},
   "outputs": [],
   "source": [
    "class Employee : # bu hucre bir class\n",
    "    \"\"\" Employee Class : name, surname, pay \"\"\"\n",
    "    employee_count = 0\n",
    "    def __init__(self,name,surname,pay):\n",
    "        self.name = name\n",
    "        self.surname = surname\n",
    "        self.pay = pay\n",
    "        Employee.employee_count +=1\n",
    "   "
   ]
  },
  {
   "cell_type": "code",
   "execution_count": 54,
   "id": "149a7341-d605-46c0-bdbb-33199e5c18d5",
   "metadata": {},
   "outputs": [
    {
     "data": {
      "text/plain": [
       "0"
      ]
     },
     "execution_count": 54,
     "metadata": {},
     "output_type": "execute_result"
    }
   ],
   "source": [
    "Employee.employee_count\n",
    "# class dan cagirdigimiz icin degeri class daki degeri 0"
   ]
  },
  {
   "cell_type": "code",
   "execution_count": 58,
   "id": "18bd09ee-da69-45c7-8ac6-2abf2c56b56b",
   "metadata": {},
   "outputs": [
    {
     "data": {
      "text/plain": [
       "4"
      ]
     },
     "execution_count": 58,
     "metadata": {},
     "output_type": "execute_result"
    }
   ],
   "source": [
    "e1 = Employee(\"Ali\",\"Veli\",5000)\n",
    "Employee.employee_count"
   ]
  },
  {
   "cell_type": "code",
   "execution_count": 56,
   "id": "642ac358-d607-45c4-afbd-8a0db1b264c2",
   "metadata": {},
   "outputs": [
    {
     "data": {
      "text/plain": [
       "2"
      ]
     },
     "execution_count": 56,
     "metadata": {},
     "output_type": "execute_result"
    }
   ],
   "source": [
    "e2 = Employee(\"Fatma\",\"Gul\",5000)\n",
    "Employee.employee_count"
   ]
  },
  {
   "cell_type": "code",
   "execution_count": 57,
   "id": "3ff0adee-f25a-4427-b990-b9eff5bf02e2",
   "metadata": {},
   "outputs": [
    {
     "data": {
      "text/plain": [
       "3"
      ]
     },
     "execution_count": 57,
     "metadata": {},
     "output_type": "execute_result"
    }
   ],
   "source": [
    "Ayse = Employee(\"Ayse\",\"Gul\",5000)\n",
    "Employee.employee_count"
   ]
  },
  {
   "cell_type": "markdown",
   "id": "75e1914f-d578-42d3-95aa-74218895da46",
   "metadata": {},
   "source": [
    "# Class Method & Instance Method\n",
    "* sınıfın herhangi bir instance ina bağlı olmayan bir işlem yapan, ama anlamsal olarak da sınıfla ilişkili olduğu için sınıf dışında bırakmak istemediğiniz fonksiyonları birer sınıf metodu olarak tanımlayabilirsiniz.\n",
    "* **class method** nesneye bağlı olmayan method'tur, parametre olarak otomatik sınıfın kendisiyle başlar \"cls\"\n",
    "* **instance method** oluşturulmuş nesnelerle ile ilgili çalışma yapar, parametre olarak \"self\"ile başlar"
   ]
  },
  {
   "cell_type": "code",
   "execution_count": 59,
   "id": "86fc6228-e6d6-41fe-8780-fb7dffdf440f",
   "metadata": {},
   "outputs": [],
   "source": [
    "class Person:\n",
    "    def __init__(self,name,surname,age): #buradaki self instance in kendisi, digerleri parametre yani parametreli constructor olusturduk\n",
    "       self.name    = name\n",
    "       self.surname = surname\n",
    "       self.age     = age\n",
    "    def fullname(self): # instance method\n",
    "        return f\"isim: {self.name} soyisim: {self.surname}\"\n",
    "    def info(self) :# instance method\n",
    "        return f\"name: {self.name} surname: {self.surname} age: {self.age}\"\n",
    "    "
   ]
  },
  {
   "cell_type": "code",
   "execution_count": 60,
   "id": "d0918286-4644-4a1c-a9f3-e89fd517b3e5",
   "metadata": {},
   "outputs": [],
   "source": [
    "p1 = Person(\"Ahmet\",\"Yilmaz\",18)"
   ]
  },
  {
   "cell_type": "code",
   "execution_count": 61,
   "id": "65617d55-278e-4f7e-8339-7efe35b96f82",
   "metadata": {},
   "outputs": [
    {
     "data": {
      "text/plain": [
       "'name: Ahmet surname: Yilmaz age: 18'"
      ]
     },
     "execution_count": 61,
     "metadata": {},
     "output_type": "execute_result"
    }
   ],
   "source": [
    "p1.info()"
   ]
  },
  {
   "cell_type": "code",
   "execution_count": 62,
   "id": "d949bc21-253d-487b-9801-45b9ccf3d48f",
   "metadata": {},
   "outputs": [
    {
     "data": {
      "text/plain": [
       "'name: Ahmet surname: Yilmaz age: 18'"
      ]
     },
     "execution_count": 62,
     "metadata": {},
     "output_type": "execute_result"
    }
   ],
   "source": [
    "Person.info(p1) # bu kullanim yaygin degil"
   ]
  },
  {
   "cell_type": "code",
   "execution_count": 63,
   "id": "25e4b187-0445-44f7-9f6c-d77f2ae9d776",
   "metadata": {},
   "outputs": [],
   "source": [
    "# class method tanımlayalım\n",
    "class Person:\n",
    "        employee_count = 0 # class attribute\n",
    "        \n",
    "        def __init__(self, name, surname, age):\n",
    "            self.name = name\n",
    "            self.surname = surname\n",
    "            self.age = age\n",
    "            Person.employee_count += 1 # class variable, instance oluşturulduğunda artacak, \n",
    "                                       # self kullanmadık. Çünkü class variable\n",
    "            \n",
    "        def fullname(self): # instance method\n",
    "            return f\"{self.name} {self.surname}\"\n",
    "        \n",
    "        def info(self): # instance method\n",
    "            return f\"name: {self.name} surname: {self.surname} nage: {self.age}\"        \n",
    "        #Python’da isminin önünde @ işareti olan bu tür öğelere ‘bezeyici’ (decorator) adı verilir.\n",
    "        #@classmethod decorator bir fonksiyonu sınıf metoduna dönüştürme işlevi görüyor.\n",
    "        @classmethod  # class method\n",
    "        def number_of_employee(cls): # class i temsil etmesi icin cls kullniyoruz istedigimiz adi verebiliriz\n",
    "            return f\"Number of employee: {cls.employee_count}\""
   ]
  },
  {
   "cell_type": "code",
   "execution_count": 64,
   "id": "ce4d823f-666a-4f7d-b9b3-5326b014b871",
   "metadata": {},
   "outputs": [
    {
     "data": {
      "text/plain": [
       "0"
      ]
     },
     "execution_count": 64,
     "metadata": {},
     "output_type": "execute_result"
    }
   ],
   "source": [
    "Person.employee_count"
   ]
  },
  {
   "cell_type": "code",
   "execution_count": 65,
   "id": "3bf205e3-45aa-4391-99d1-46d6b4f3efbe",
   "metadata": {},
   "outputs": [
    {
     "data": {
      "text/plain": [
       "'Number of employee: 0'"
      ]
     },
     "execution_count": 65,
     "metadata": {},
     "output_type": "execute_result"
    }
   ],
   "source": [
    "Person.number_of_employee() # nesne oluşturmadan da class methodu çalıştırabiliriz"
   ]
  },
  {
   "cell_type": "code",
   "execution_count": 67,
   "id": "b5a3e91e-0920-413c-a8df-f5c57ea36155",
   "metadata": {},
   "outputs": [
    {
     "ename": "TypeError",
     "evalue": "Person.fullname() missing 1 required positional argument: 'self'",
     "output_type": "error",
     "traceback": [
      "\u001b[1;31m---------------------------------------------------------------------------\u001b[0m",
      "\u001b[1;31mTypeError\u001b[0m                                 Traceback (most recent call last)",
      "Cell \u001b[1;32mIn[67], line 1\u001b[0m\n\u001b[1;32m----> 1\u001b[0m \u001b[43mPerson\u001b[49m\u001b[38;5;241;43m.\u001b[39;49m\u001b[43mfullname\u001b[49m\u001b[43m(\u001b[49m\u001b[43m)\u001b[49m\n",
      "\u001b[1;31mTypeError\u001b[0m: Person.fullname() missing 1 required positional argument: 'self'"
     ]
    }
   ],
   "source": [
    "Person.fullname()  # nesne oluşturmadan da instance methodu calistiramadik"
   ]
  },
  {
   "cell_type": "code",
   "execution_count": 68,
   "id": "a0710fc7-441b-420f-9b6a-78b2a3479a4c",
   "metadata": {},
   "outputs": [],
   "source": [
    "p1 = Person(\"Ahmet\",\"Yilmaz\",18)\n",
    "p2 =Person(\"Ayse\",\"Yilmaz\",30)"
   ]
  },
  {
   "cell_type": "code",
   "execution_count": 69,
   "id": "8f823203-54e6-46f1-bb6a-3dc50fc1125c",
   "metadata": {},
   "outputs": [
    {
     "data": {
      "text/plain": [
       "'Ahmet Yilmaz'"
      ]
     },
     "execution_count": 69,
     "metadata": {},
     "output_type": "execute_result"
    }
   ],
   "source": [
    "Person.fullname(p1) ## nesne olusturarak instance methodu calistirabildik"
   ]
  },
  {
   "cell_type": "code",
   "execution_count": 70,
   "id": "ee1510ad-4660-4d5c-aa45-9b0face6a8bb",
   "metadata": {},
   "outputs": [
    {
     "data": {
      "text/plain": [
       "'Number of employee: 2'"
      ]
     },
     "execution_count": 70,
     "metadata": {},
     "output_type": "execute_result"
    }
   ],
   "source": [
    "Person.number_of_employee()"
   ]
  },
  {
   "cell_type": "code",
   "execution_count": 177,
   "id": "232630f8-c7e9-4329-a589-df75c62de79a",
   "metadata": {},
   "outputs": [],
   "source": [
    "# class method tanımlayalım\n",
    "class Person:\n",
    "        \n",
    "        def __init__(self, name, surname, age):\n",
    "            self.name = name\n",
    "            self.surname = surname\n",
    "            self.age = age\n",
    "            \n",
    "        @classmethod  # class method\n",
    "        def from_string(cls,string): \n",
    "            name,surname,age = string.split(\"-\")\n",
    "            return cls(name,surname,age) \n",
    "        # class method dan return yaparken yazim biraz farkli cls(name,surname,age) seklinde yazdik"
   ]
  },
  {
   "cell_type": "code",
   "execution_count": null,
   "id": "7cf960c6-b619-4a1b-b0f8-b6cb4b83eac7",
   "metadata": {},
   "outputs": [],
   "source": [
    "# peki nesne üretmeden bir methodu(class method) çalıştırabilmek ne işimize yaricak?\n",
    "# örneğin dışarıdan bir string formatında kişi listesi geldi bu listeyi tek tek girmektense class method ile istediğimiz formata \n",
    "# dönüştürüp nesne üretebiliriz"
   ]
  },
  {
   "cell_type": "code",
   "execution_count": 178,
   "id": "c66be683-be85-40a9-860a-aa490ff8f50e",
   "metadata": {},
   "outputs": [],
   "source": [
    "p1 = Person.from_string(\"Ahmet-Yilmaz-25\")"
   ]
  },
  {
   "cell_type": "code",
   "execution_count": 181,
   "id": "45f85213-88b1-4fef-a6b9-dfab71a14098",
   "metadata": {},
   "outputs": [
    {
     "data": {
      "text/plain": [
       "('Ahmet', 'Yilmaz')"
      ]
     },
     "execution_count": 181,
     "metadata": {},
     "output_type": "execute_result"
    }
   ],
   "source": [
    "p1.name, p1.surname"
   ]
  },
  {
   "cell_type": "code",
   "execution_count": 180,
   "id": "38dadcbe-e19e-4f92-be22-161517a76058",
   "metadata": {},
   "outputs": [
    {
     "data": {
      "text/plain": [
       "{'name': 'Ahmet', 'surname': 'Yilmaz', 'age': '25'}"
      ]
     },
     "execution_count": 180,
     "metadata": {},
     "output_type": "execute_result"
    }
   ],
   "source": [
    "p1.__dict__"
   ]
  },
  {
   "cell_type": "code",
   "execution_count": 184,
   "id": "8db29e1e-a23c-47c8-ba95-33b1096b4d32",
   "metadata": {},
   "outputs": [
    {
     "data": {
      "text/plain": [
       "('Ahmet', 'Yilmaz', 18)"
      ]
     },
     "execution_count": 184,
     "metadata": {},
     "output_type": "execute_result"
    }
   ],
   "source": [
    "p1 = Person(\"Ahmet\",\"Yilmaz\",18)\n",
    "p1.name,p1.surname,p1.age"
   ]
  },
  {
   "cell_type": "code",
   "execution_count": null,
   "id": "4834f1ae-f7e7-4423-adde-ec84c295275a",
   "metadata": {},
   "outputs": [],
   "source": []
  }
 ],
 "metadata": {
  "kernelspec": {
   "display_name": "Python 3 (ipykernel)",
   "language": "python",
   "name": "python3"
  },
  "language_info": {
   "codemirror_mode": {
    "name": "ipython",
    "version": 3
   },
   "file_extension": ".py",
   "mimetype": "text/x-python",
   "name": "python",
   "nbconvert_exporter": "python",
   "pygments_lexer": "ipython3",
   "version": "3.10.9"
  }
 },
 "nbformat": 4,
 "nbformat_minor": 5
}
