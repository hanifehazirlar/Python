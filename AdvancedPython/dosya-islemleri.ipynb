{
 "cells": [
  {
   "cell_type": "markdown",
   "id": "5bb00005-6197-415b-9a76-9627f60a4ed4",
   "metadata": {},
   "source": [
    "# Dosya Islemleri"
   ]
  },
  {
   "cell_type": "code",
   "execution_count": 1,
   "id": "90369b75-6b85-4a84-906f-8d6bb35a56bb",
   "metadata": {},
   "outputs": [],
   "source": [
    "import os"
   ]
  },
  {
   "cell_type": "code",
   "execution_count": 2,
   "id": "9b380e19-6808-4c99-9f31-8c3fe729ca50",
   "metadata": {},
   "outputs": [
    {
     "data": {
      "text/plain": [
       "'C:\\\\Users\\\\lenovo\\\\Desktop\\\\IT_Course\\\\DataScience\\\\Python\\\\AdvancedPython'"
      ]
     },
     "execution_count": 2,
     "metadata": {},
     "output_type": "execute_result"
    }
   ],
   "source": [
    "os.getcwd()"
   ]
  },
  {
   "cell_type": "code",
   "execution_count": 3,
   "id": "29b624ad-7065-4b68-aca0-457559f6a0df",
   "metadata": {},
   "outputs": [
    {
     "data": {
      "text/plain": [
       "['.ipynb_checkpoints',\n",
       " 'Advantage of Python.txt',\n",
       " 'dizin-os',\n",
       " 'dizin3-os',\n",
       " 'dosya-islemleri.ipynb',\n",
       " 'dosya-islemlerii.ipynb',\n",
       " 'Exceptions.ipynb',\n",
       " 'files',\n",
       " 'ListComprehension.ipynb',\n",
       " 'os-module.ipynb',\n",
       " 'test',\n",
       " 'test.txt']"
      ]
     },
     "execution_count": 3,
     "metadata": {},
     "output_type": "execute_result"
    }
   ],
   "source": [
    "os.listdir()"
   ]
  },
  {
   "cell_type": "code",
   "execution_count": 4,
   "id": "50ed581d-d0f5-4f33-b3f7-8d0067d3b252",
   "metadata": {},
   "outputs": [],
   "source": [
    "f = open('Advantage of Python.txt', mode = \"r\") \n",
    "# open() bir dosyayi notebook da istedigimiz modda acmamizi saglar\n",
    "# mode = \"r\"  parametresi acmak istedigimiz dosyayi hangi modda acacagimizi belirtir\n",
    "# mode = \"rw\" bu sekilde birlestirme yapabiliriz read writing\n",
    "# 'r'       open for reading (default)\n",
    "# 'w'       open for writing, truncating the file first\n",
    "# 'x'       create a new file and open it for writing\n",
    "# 'a'       open for writing, appending to the end of the file if it exists\n",
    "# 'b'       binary mode\n",
    "# 't'       text mode (default)\n",
    "# '+'       open a disk file for updating (reading and writing)\n",
    "# 'U'       universal newline mode (deprecated)\n",
    "# mode = \"r\" dosyayı okuma modunda açar\n",
    "# mode = \"w\" yazmak için dosya oluşturur\n",
    "# mode = \"a\" append \n",
    "# mode = \"r+\"\n",
    "# mode = \"w+\""
   ]
  },
  {
   "cell_type": "code",
   "execution_count": 5,
   "id": "0f1d7e15-749e-487c-b941-c94e65322de7",
   "metadata": {},
   "outputs": [
    {
     "name": "stdout",
     "output_type": "stream",
     "text": [
      "Kolay Okunabilirlik ve Sadelik\n",
      "Python, okunmasÄ± ve anlaÅŸÄ±lmasÄ± kolay olan bir dildir. Bu dil, insan diline yakÄ±n bir sÃ¶z dizimine sahiptir ve aÃ§Ä±k bir yapÄ±ya sahiptir. Yani, baÅŸka bir Python programcÄ±sÄ±nÄ±n yazdÄ±ÄŸÄ± kodlarÄ± kolayca anlayabilirsiniz.\n",
      "\n",
      "AyrÄ±ca, Python'un basit ve sade sÃ¶z dizimi, programcÄ±larÄ±n hÄ±zlÄ± bir ÅŸekilde kod yazmalarÄ±nÄ± saÄŸlar. Kodun anlaÅŸÄ±lmasÄ± ve yazÄ±lmasÄ± daha kolay olduÄŸundan, programcÄ±lar daha az zaman harcayarak daha fazla iÅŸ yapabilirler.\n",
      "\n",
      "Ã‡ok YÃ¶nlÃ¼lÃ¼k\n",
      "Python, birÃ§ok farklÄ± alanda kullanÄ±labilen bir dil olarak tanÄ±nÄ±r. Veri bilimi, yapay zeka, makine Ã¶ÄŸrenmesi, web geliÅŸtirme, otomasyon ve daha pek Ã§ok alanda kullanÄ±labilir.\n",
      "\n",
      "Python, Ã§eÅŸitli kÃ¼tÃ¼phaneleri ve modÃ¼lleri ile birlikte gelir. Bu kÃ¼tÃ¼phaneler, birÃ§ok farklÄ± alanda kullanÄ±labilecek araÃ§lar sunar ve Python'u daha da Ã§ok yÃ¶nlÃ¼ bir hale getirir.\n",
      "\n",
      "BÃ¼yÃ¼k Topluluk ve KapsamlÄ± Belgelendirme\n",
      "Python'un en bÃ¼yÃ¼k avantajlarÄ±ndan biri, dÃ¼nya Ã§apÄ±nda bÃ¼yÃ¼k bir topluluÄŸa sahip olmasÄ±dÄ±r. Bu topluluk, Python'u kullanan programcÄ±lara yardÄ±mcÄ± olmak iÃ§in birÃ§ok kaynak sunar. AyrÄ±ca, Python'un kapsamlÄ± bir belgelendirmesi vardÄ±r ve programcÄ±lar, ihtiyaÃ§ duyduklarÄ± herhangi bir konuda bilgi edinmek iÃ§in belgelendirmeyi kullanabilirler.\n",
      "\n",
      "Ãœcretsiz ve AÃ§Ä±k KaynaklÄ±\n",
      "Python, Ã¼cretsiz ve aÃ§Ä±k kaynaklÄ± bir dildir. Bu, programcÄ±larÄ±n Python'u kullanarak projelerine baÅŸlamalarÄ± iÃ§in herhangi bir Ã¼cret Ã¶demelerine gerek olmadÄ±ÄŸÄ± anlamÄ±na gelir. Python, tÃ¼m dÃ¼nyadaki programcÄ±lar tarafÄ±ndan geliÅŸtirilmeye aÃ§Ä±ktÄ±r ve bu da Python topluluÄŸunun bÃ¼yÃ¼mesine ve geliÅŸmesine katkÄ±da bulunur.\n",
      "\n",
      "SonuÃ§\n",
      "Python, kolay okunabilirlik, Ã§ok yÃ¶nlÃ¼lÃ¼k, bÃ¼yÃ¼k topluluk ve kapsamlÄ± belgelendirme, Ã¼cretsiz ve aÃ§Ä±k kaynaklÄ± olma gibi birÃ§ok avantajÄ±yla Ã¶ne Ã§Ä±kar. Bu nedenle, Python son yÄ±llarda birÃ§ok farklÄ± alanda kullanÄ±lan en popÃ¼ler dillerden biri haline gelmiÅŸtir.\n",
      "\n"
     ]
    }
   ],
   "source": [
    "contents = f.read() # read() ile actigimiz dosyayi okutuyoruz\n",
    "print(contents) # contents=icerik"
   ]
  },
  {
   "cell_type": "code",
   "execution_count": 6,
   "id": "f2314b93-7e2e-4b26-8fc3-5208763bbc33",
   "metadata": {},
   "outputs": [
    {
     "data": {
      "text/plain": [
       "str"
      ]
     },
     "execution_count": 6,
     "metadata": {},
     "output_type": "execute_result"
    }
   ],
   "source": [
    "# elimizdeki verinin type ni bilirsek kabiliyetimiz artar\n",
    "type(contents)"
   ]
  },
  {
   "cell_type": "code",
   "execution_count": 7,
   "id": "d2ed8f4f-279f-451b-ad8a-c99762f60fdf",
   "metadata": {},
   "outputs": [
    {
     "data": {
      "text/plain": [
       "str"
      ]
     },
     "execution_count": 7,
     "metadata": {},
     "output_type": "execute_result"
    }
   ],
   "source": [
    "type(f.read())"
   ]
  },
  {
   "cell_type": "code",
   "execution_count": 8,
   "id": "ea08bbdd-6f61-4f9f-bb79-06e88638743b",
   "metadata": {},
   "outputs": [
    {
     "data": {
      "text/plain": [
       "'Kolay Okunabilirlik ve Sadelik\\nPython, okunmasÄ± ve anlaÅŸÄ±lmasÄ± kolay olan bir dildir. Bu dil, in'"
      ]
     },
     "execution_count": 8,
     "metadata": {},
     "output_type": "execute_result"
    }
   ],
   "source": [
    "f = open('Advantage of Python.txt', mode = \"r\") \n",
    "f.read()[:100] #str da indexleme ile istedigimiz kadar veriyi getirebiliriz"
   ]
  },
  {
   "cell_type": "code",
   "execution_count": 9,
   "id": "6bf5a41d-70b8-40e1-b9f7-002b68a8cfc0",
   "metadata": {},
   "outputs": [],
   "source": [
    "f.close() # actigimiz dosyayi kapatiyoruz, bellekte surekli yer kaplamamasi icin kapatiyoruz"
   ]
  },
  {
   "cell_type": "code",
   "execution_count": 10,
   "id": "18e18f6e-12a3-4a56-9c46-9e943237f1f7",
   "metadata": {},
   "outputs": [
    {
     "name": "stdout",
     "output_type": "stream",
     "text": [
      "Kolay Okunabilirlik ve Sadelik\n",
      "Python, okunmasÄ± ve anlaÅÄ±lmasÄ± kolay olan bir dildir. Bu dil, in\n"
     ]
    }
   ],
   "source": [
    "f = open('Advantage of Python.txt', mode = \"r\", encoding=\"latin-1\")\n",
    "# enconding parametresi yazim dili ile alakali parametre\n",
    "contents=f.read()\n",
    "f.close()\n",
    "print(contents[:100])"
   ]
  },
  {
   "cell_type": "code",
   "execution_count": 3,
   "id": "3d173dca-a649-460a-ac65-0fb584c1cb02",
   "metadata": {},
   "outputs": [
    {
     "name": "stdout",
     "output_type": "stream",
     "text": [
      "Kolay Okunabilirlik ve Sadelik\n",
      "Python, okunması ve anlaşılması kolay olan bir dildir. Bu dil, insan \n"
     ]
    }
   ],
   "source": [
    "f = open('Advantage of Python.txt', mode = \"r\", encoding=\"utf-8\")\n",
    "#okuyamadigimiz karakterleri okumak icin utf-8 kullaniriz\n",
    "contents=f.read() # burada tum dosyayi okur buyuk dosyalarda RAM i yorar hatta cokertebilir\n",
    "f.close()\n",
    "print(contents[:100])"
   ]
  },
  {
   "cell_type": "code",
   "execution_count": 4,
   "id": "11dbe692-a6d3-402a-b9e8-b3b4459d6598",
   "metadata": {},
   "outputs": [
    {
     "name": "stdout",
     "output_type": "stream",
     "text": [
      "Kolay Okunabilirlik ve Sadelik\n",
      "Python, okunması ve anlaşılması kolay olan bir dildir. Bu dil, insan \n"
     ]
    }
   ],
   "source": [
    "f = open('Advantage of Python.txt', mode = \"r\", encoding=\"utf-8\")\n",
    "contents=f.read(100) # bu sekilde tum dosyayi okumaz sadece 100 karakteri okur \n",
    "# boylece buyuk dosyalarda RAM i yormamis oluruz\n",
    "f.close()\n",
    "print(contents)"
   ]
  },
  {
   "cell_type": "code",
   "execution_count": null,
   "id": "7328411e-09e8-4414-8827-85f2e3c8b19b",
   "metadata": {},
   "outputs": [],
   "source": [
    "f = open(\"Advantage of Python.txt\",mode=\"r\",encoding=\"utf8\")\n",
    "contents1 = f.read(100)\n",
    "contents2 = f.read(100)\n",
    "contents3 = f.read(100)\n",
    "f.close()\n",
    "print(contents1)\n",
    "print(contents2)\n",
    "print(contents3)\n",
    "print(contents1+contents2+contents3) "
   ]
  },
  {
   "cell_type": "code",
   "execution_count": null,
   "id": "05be5ea7-93c0-474c-9ba0-cbc5bee53e20",
   "metadata": {},
   "outputs": [],
   "source": [
    "contents = contents1+contents2+contents3\n",
    "len(contents)"
   ]
  },
  {
   "cell_type": "code",
   "execution_count": null,
   "id": "4498d5ed-588a-440f-9bd3-41b1a28f2ac1",
   "metadata": {},
   "outputs": [],
   "source": [
    "with  open(\"Advantage of Python.txt\",encoding=\"utf8\") as f : # with open() ile f atamayi as ile yaptik\n",
    "    metin = f.read()\n",
    "print(metin[:10])\n",
    "f.closed #bu yazim kapandigini gostermek icin True donduruyor"
   ]
  },
  {
   "cell_type": "code",
   "execution_count": null,
   "id": "a082b16c-1f38-4fce-8044-3102cde50f5e",
   "metadata": {},
   "outputs": [],
   "source": [
    "f = open(\"Advantage of Python.txt\",mode=\"r\",encoding=\"utf8\")\n",
    "contents1 = f.read(100)\n",
    "contents2 = f.read(100)\n",
    "contents3 = f.read(100)\n",
    "print(\"dosya durumu \", f.closed)\n",
    "f.close()\n",
    "print(\"dosya durumu \", f.closed)\n"
   ]
  },
  {
   "cell_type": "code",
   "execution_count": null,
   "id": "d681c981-180c-4afd-ba82-8a8fc18d7e86",
   "metadata": {},
   "outputs": [],
   "source": [
    "with  open(\"Advantage of Python.txt\",encoding=\"utf8\") as f :\n",
    "    metin = f.readlines() \n",
    "    # readlines bize bir list donduruyor, satir satir elemanlara ayiriyor\n",
    "    # txt uzerinde islem yapabilmek(manipulasyon) daha kolay oluyor\n",
    "print(metin[:10])\n",
    "print()\n",
    "f.closed"
   ]
  },
  {
   "cell_type": "code",
   "execution_count": null,
   "id": "72a8f3e5-0585-4bc1-b948-a8f1e67df770",
   "metadata": {},
   "outputs": [],
   "source": [
    "\" \".join(metin[0:3]).replace(\"\\n\",\" \")\n",
    "# burada metin[0:3] list old. icin join ile herbir elemani bosluk ile birlestirip str a donusturmus olduk\n",
    "# replace(\"\\n\",\" \") ile de \\n leri bosluk ile degistirdik"
   ]
  },
  {
   "cell_type": "code",
   "execution_count": null,
   "id": "d8987cde-aa32-4e54-8462-93afae4b5c05",
   "metadata": {},
   "outputs": [],
   "source": [
    "with  open(\"Advantage of Python.txt\",encoding=\"utf8\") as f :\n",
    "   for i in f :\n",
    "    print(i)\n",
    "    break"
   ]
  },
  {
   "cell_type": "code",
   "execution_count": null,
   "id": "99f199bc-699a-4344-9820-db11e1332337",
   "metadata": {},
   "outputs": [],
   "source": [
    "with  open(\"Advantage of Python.txt\",encoding=\"utf8\") as f :\n",
    "   metin = f.readline() # readline() ilk satiri getirir\n",
    "print(metin)"
   ]
  },
  {
   "cell_type": "code",
   "execution_count": null,
   "id": "2c65b553-d153-4f71-9373-c6b8f7b20c76",
   "metadata": {},
   "outputs": [],
   "source": [
    "with  open(\"Advantage of Python.txt\",encoding=\"utf8\") as f :\n",
    "   satir = 0 \n",
    "   for i in f :\n",
    "        print(i)\n",
    "        satir += 1\n",
    "        if satir == 3 :\n",
    "            break\n",
    "# bu sekilde for ile istedigimiz kadar satiri getirebiliriz"
   ]
  },
  {
   "cell_type": "code",
   "execution_count": null,
   "id": "db2d5bd2-3ed3-4831-acc3-ded1e25ac119",
   "metadata": {},
   "outputs": [],
   "source": [
    "with open('Advantage of Python.txt', mode = \"r\", encoding = \"utf-8\") as f:\n",
    "    for i in range(3):\n",
    "        print(f.readline())\n",
    "# bu sekilde istedigimiz kadar satiri daha kolay getirebiliriz"
   ]
  },
  {
   "cell_type": "code",
   "execution_count": null,
   "id": "5e5b0e92-d6dc-428d-b7b7-b08d9ce502fa",
   "metadata": {},
   "outputs": [],
   "source": [
    "f = open(\"Advantage of Python.txt\",encoding=\"utf8\")\n",
    "metin = f.read(10)\n",
    "print(f.tell()) # f.tell() txt dosyasinda imlecin pozisyonunu bize doner. hangi indexde olduğunu bildirir\n",
    "metin +=f.read(10)\n",
    "print(f.tell())"
   ]
  },
  {
   "cell_type": "markdown",
   "id": "db4fef83-3551-4946-b616-e21063b28219",
   "metadata": {},
   "source": [
    "# dosya olusturma ve dosya yazma"
   ]
  },
  {
   "cell_type": "code",
   "execution_count": 5,
   "id": "1b2a114d-2625-4460-a12f-b7ccaeb28a70",
   "metadata": {},
   "outputs": [
    {
     "name": "stdout",
     "output_type": "stream",
     "text": [
      "C:\\Users\\lenovo\\Desktop\\IT_Course\\DataScience\\Python\\AdvancedPython\n"
     ]
    }
   ],
   "source": [
    "# mode = \"w\"\n",
    "print(os.getcwd())"
   ]
  },
  {
   "cell_type": "code",
   "execution_count": 6,
   "id": "805d9be4-0425-45d8-94c6-8fbd62fb87d2",
   "metadata": {},
   "outputs": [
    {
     "name": "stdout",
     "output_type": "stream",
     "text": [
      "C:\\Users\\lenovo\\Desktop\\IT_Course\\DataScience\\Python\\AdvancedPython\\files1\n"
     ]
    }
   ],
   "source": [
    "os.mkdir(\"files1\") # mkdir() ayni dizin icinde istedigimiz isimde bir folder olusturmami saglar\n",
    "os.chdir(\"files1\") # files folderinin icine tasindik\n",
    "print(os.getcwd())"
   ]
  },
  {
   "cell_type": "code",
   "execution_count": 7,
   "id": "1648edcc-3bf6-4b49-977d-c790591db3b1",
   "metadata": {},
   "outputs": [],
   "source": [
    "with open(\"test.txt\", mode= \"w\", encoding = \"utf-8\") as f :\n",
    "    f.write(\"Hello World\")"
   ]
  },
  {
   "cell_type": "code",
   "execution_count": 11,
   "id": "6864e245-5b41-4e93-b9bf-9821c45a3f71",
   "metadata": {},
   "outputs": [],
   "source": [
    "with open(\"test.txt\", mode= \"w\", encoding = \"utf-8\") as f :\n",
    "    f.write(\"Tum veriler silindi!! Dosya yeniden olusturuldu!\")\n",
    "    # mode=\"w\" oldugunda txt dosyasindaki eski verileri siler ve yeni yazdiklarimizi yazar\n",
    "    # bu yuzden bu mode kullanilirken dikkatli olunmali eski bilgilerimizi siler"
   ]
  },
  {
   "cell_type": "code",
   "execution_count": 16,
   "id": "d3c7a88b-86dc-4ef6-942b-767d8644ef35",
   "metadata": {},
   "outputs": [],
   "source": [
    "with open(\"test.txt\", mode= \"a\", encoding = \"utf-8\") as f :\n",
    "    f.write(\"mode a olarak belirlendi. Dosyanin sonuna bilgiler eklendi.\")\n",
    "    # mode=\"a\" oldugunda txt dosyasindaki eski verilerimizi silmez yeni yazdiklarimizi sonuna ekler."
   ]
  },
  {
   "cell_type": "code",
   "execution_count": 18,
   "id": "a0f49652-8d8b-4a23-925c-cec57f132ba2",
   "metadata": {},
   "outputs": [
    {
     "name": "stdout",
     "output_type": "stream",
     "text": [
      "Tum veriler silindi!! Dosya yeniden olusturuldu!mode a olarak belirlendi. Dosyanin sonuna bilgiler eklendi.mode a olarak belirlendi. Dosyanin sonuna bilgiler eklendi.\n"
     ]
    }
   ],
   "source": [
    "with open(\"test.txt\", mode= \"r+\", encoding = \"utf-8\") as f :\n",
    "    metin=f.read()\n",
    "    print(metin)"
   ]
  },
  {
   "cell_type": "code",
   "execution_count": null,
   "id": "cf33c91e-56d0-4cfd-8dd4-fdcdffabdb86",
   "metadata": {},
   "outputs": [],
   "source": [
    "''"
   ]
  }
 ],
 "metadata": {
  "kernelspec": {
   "display_name": "Python 3 (ipykernel)",
   "language": "python",
   "name": "python3"
  },
  "language_info": {
   "codemirror_mode": {
    "name": "ipython",
    "version": 3
   },
   "file_extension": ".py",
   "mimetype": "text/x-python",
   "name": "python",
   "nbconvert_exporter": "python",
   "pygments_lexer": "ipython3",
   "version": "3.10.9"
  }
 },
 "nbformat": 4,
 "nbformat_minor": 5
}
