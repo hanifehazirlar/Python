{
 "cells": [
  {
   "attachments": {},
   "cell_type": "markdown",
   "metadata": {},
   "source": [
    "# If-Elif-Else"
   ]
  },
  {
   "cell_type": "code",
   "execution_count": 1,
   "metadata": {},
   "outputs": [
    {
     "name": "stdout",
     "output_type": "stream",
     "text": [
      "5, 4'ten kucuk ve esit degil\n"
     ]
    }
   ],
   "source": [
    "if 5 < 4 :\n",
    "    print(\"5 , 4'ten kucuktur\")\n",
    "elif 5 == 4 :\n",
    "    print(\"5 , 4'e esittir\")\n",
    "else :\n",
    "    print(\"5, 4'ten kucuk ve esit degil\")\n"
   ]
  },
  {
   "cell_type": "code",
   "execution_count": 13,
   "metadata": {},
   "outputs": [
    {
     "name": "stdout",
     "output_type": "stream",
     "text": [
      "Please enter a grade between 0 and 100\n"
     ]
    }
   ],
   "source": [
    "# Kullanicidan aldigi notu harflik sisteme ceviren kodu yaziniz\n",
    "grade =int(input(\"Please enter your grade\"))\n",
    "if 0 < grade <=100  : \n",
    "    if grade >=90  :\n",
    "        letter_grade = \"A\"\n",
    "    elif grade >=75 :\n",
    "        letter_grade = \"B\"\n",
    "    elif grade>=60:\n",
    "        letter_grade = \"C\"\n",
    "    elif grade >= 45:\n",
    "        letter_grade = \"D\"\n",
    "    elif grade < 45 :\n",
    "        letter_grade = \"F\"\n",
    "    print(f\"Your exam grade {letter_grade}\")\n",
    "else :\n",
    "     print(\"Please enter a grade between 0 and 100\")\n"
   ]
  }
 ],
 "metadata": {
  "kernelspec": {
   "display_name": "Python 3",
   "language": "python",
   "name": "python3"
  },
  "language_info": {
   "codemirror_mode": {
    "name": "ipython",
    "version": 3
   },
   "file_extension": ".py",
   "mimetype": "text/x-python",
   "name": "python",
   "nbconvert_exporter": "python",
   "pygments_lexer": "ipython3",
   "version": "3.11.1"
  },
  "orig_nbformat": 4,
  "vscode": {
   "interpreter": {
    "hash": "74cc819deff76c29e4928f7ff26e3eddcbba8fed33adfaaa19de16534a73accc"
   }
  }
 },
 "nbformat": 4,
 "nbformat_minor": 2
}
