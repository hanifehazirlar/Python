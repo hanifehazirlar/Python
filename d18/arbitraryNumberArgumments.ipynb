{
 "cells": [
  {
   "attachments": {},
   "cell_type": "markdown",
   "metadata": {},
   "source": [
    "### Arbitrary Number of Arguments (*args, **kwordsargs)"
   ]
  },
  {
   "cell_type": "code",
   "execution_count": 3,
   "metadata": {},
   "outputs": [],
   "source": [
    "def odd_numbers(*numbers): # buradaki * fonksiyonun icine istedigimiz kadar parametre koymamizi saglar\n",
    "    \"\"\"Bu fonksiyon girilen sayilar icerisindeki tek sayilari dondurur\"\"\"\n",
    "    odd_list =[]\n",
    "    for i in numbers:\n",
    "        if i % 2 == 1 :\n",
    "            odd_list.append(i)\n",
    "    return odd_list"
   ]
  },
  {
   "cell_type": "code",
   "execution_count": 4,
   "metadata": {},
   "outputs": [
    {
     "data": {
      "text/plain": [
       "[5]"
      ]
     },
     "execution_count": 4,
     "metadata": {},
     "output_type": "execute_result"
    }
   ],
   "source": [
    "odd_numbers(2,5,8,4,0,12)"
   ]
  },
  {
   "cell_type": "code",
   "execution_count": 5,
   "metadata": {},
   "outputs": [
    {
     "data": {
      "text/plain": [
       "[9, 3, 13, 11]"
      ]
     },
     "execution_count": 5,
     "metadata": {},
     "output_type": "execute_result"
    }
   ],
   "source": [
    "odd_numbers(9,6,3,13,11)"
   ]
  },
  {
   "cell_type": "code",
   "execution_count": 6,
   "metadata": {},
   "outputs": [],
   "source": [
    "def ters_yazdir(*kelimeler):\n",
    "    list_1 = []\n",
    "    list_1.append(kelimeler[::-1])\n",
    "    return list_1"
   ]
  },
  {
   "cell_type": "code",
   "execution_count": 7,
   "metadata": {},
   "outputs": [
    {
     "data": {
      "text/plain": [
       "[('gul', 'ayse', 'ahmet')]"
      ]
     },
     "execution_count": 7,
     "metadata": {},
     "output_type": "execute_result"
    }
   ],
   "source": [
    "ters_yazdir(\"ahmet\",\"ayse\",\"gul\") # kelimelerin sirasini tersten yazdirdi ve \n",
    "                                  # fonksiyonun icine yazacagimiz parametere sayisi sinirli degil"
   ]
  },
  {
   "cell_type": "code",
   "execution_count": 8,
   "metadata": {},
   "outputs": [
    {
     "data": {
      "text/plain": [
       "[(123, 'jale')]"
      ]
     },
     "execution_count": 8,
     "metadata": {},
     "output_type": "execute_result"
    }
   ],
   "source": [
    "ters_yazdir(\"jale\",123)"
   ]
  },
  {
   "attachments": {},
   "cell_type": "markdown",
   "metadata": {},
   "source": [
    "### kwargs --> key words args"
   ]
  },
  {
   "cell_type": "code",
   "execution_count": 9,
   "metadata": {},
   "outputs": [],
   "source": [
    "def urun_stogu(**kwargs): # ** fonksiyonun icine istedigimiz kadar key=value seklinde dict ler yazmamizi saglar\n",
    "    for i, j in kwargs.items():\n",
    "        print(f\"urun : {i}, sayisi : {j}\")"
   ]
  },
  {
   "cell_type": "code",
   "execution_count": 10,
   "metadata": {},
   "outputs": [
    {
     "name": "stdout",
     "output_type": "stream",
     "text": [
      "urun : apple, sayisi : 3\n",
      "urun : orange, sayisi : 5\n",
      "urun : cherry, sayisi : 10\n"
     ]
    }
   ],
   "source": [
    "urun_stogu(apple = 3, orange = 5 , cherry = 10)"
   ]
  },
  {
   "cell_type": "code",
   "execution_count": 11,
   "metadata": {},
   "outputs": [
    {
     "name": "stdout",
     "output_type": "stream",
     "text": [
      "urun : pencil, sayisi : 11\n",
      "urun : eraser, sayisi : 0\n"
     ]
    }
   ],
   "source": [
    "urun_stogu(pencil = 11, eraser = 0)"
   ]
  },
  {
   "cell_type": "code",
   "execution_count": 14,
   "metadata": {},
   "outputs": [],
   "source": [
    "def personel(** personels):\n",
    "    for i, j in personels.items():\n",
    "        print(f\"name: {i} age :{j}\")\n"
   ]
  },
  {
   "cell_type": "code",
   "execution_count": 15,
   "metadata": {},
   "outputs": [
    {
     "name": "stdout",
     "output_type": "stream",
     "text": [
      "name: name age :ayse\n",
      "name: age age :12\n"
     ]
    }
   ],
   "source": [
    "dict_1 ={\"name\":\"ayse\",\"age\":12}\n",
    "personel(** dict_1)"
   ]
  }
 ],
 "metadata": {
  "kernelspec": {
   "display_name": "Python 3",
   "language": "python",
   "name": "python3"
  },
  "language_info": {
   "codemirror_mode": {
    "name": "ipython",
    "version": 3
   },
   "file_extension": ".py",
   "mimetype": "text/x-python",
   "name": "python",
   "nbconvert_exporter": "python",
   "pygments_lexer": "ipython3",
   "version": "3.11.1"
  },
  "orig_nbformat": 4
 },
 "nbformat": 4,
 "nbformat_minor": 2
}
